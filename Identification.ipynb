{
 "cells": [
  {
   "cell_type": "code",
   "execution_count": 1,
   "id": "7a10acbf-f806-4749-b89f-09de7a245c60",
   "metadata": {},
   "outputs": [],
   "source": [
    "import pandas as pd\n",
    "import numpy as np\n",
    "import plotly.express as px\n",
    "import matplotlib.pyplot as plt"
   ]
  },
  {
   "cell_type": "code",
   "execution_count": 2,
   "id": "306f353a-8853-4d60-956e-5de67922e7e7",
   "metadata": {},
   "outputs": [
    {
     "data": {
      "text/html": [
       "<div>\n",
       "<style scoped>\n",
       "    .dataframe tbody tr th:only-of-type {\n",
       "        vertical-align: middle;\n",
       "    }\n",
       "\n",
       "    .dataframe tbody tr th {\n",
       "        vertical-align: top;\n",
       "    }\n",
       "\n",
       "    .dataframe thead th {\n",
       "        text-align: right;\n",
       "    }\n",
       "</style>\n",
       "<table border=\"1\" class=\"dataframe\">\n",
       "  <thead>\n",
       "    <tr style=\"text-align: right;\">\n",
       "      <th></th>\n",
       "      <th>CUST_ID</th>\n",
       "      <th>CHNL</th>\n",
       "      <th>STS_DBSS</th>\n",
       "      <th>STS_DWH_DT</th>\n",
       "      <th>ACT_DT</th>\n",
       "      <th>FC_DT</th>\n",
       "      <th>LC_DT</th>\n",
       "      <th>TER_DT</th>\n",
       "      <th>&lt;CASE  expression&gt;</th>\n",
       "      <th>POS_ID_</th>\n",
       "      <th>...</th>\n",
       "      <th>DOC_VAL_3G</th>\n",
       "      <th>DOC_VAL_4G</th>\n",
       "      <th>DOC_VAL_DT</th>\n",
       "      <th>BRNG_STS</th>\n",
       "      <th>DOC_STMP</th>\n",
       "      <th>DOC_SCN_DT</th>\n",
       "      <th>DOC_SCN_SRC_ID</th>\n",
       "      <th>RSLR_</th>\n",
       "      <th>REVENUE_LAST_2_MONTHS</th>\n",
       "      <th>REVENUE_LAST_12_MONTHS</th>\n",
       "    </tr>\n",
       "  </thead>\n",
       "  <tbody>\n",
       "    <tr>\n",
       "      <th>0</th>\n",
       "      <td>338024444</td>\n",
       "      <td>POS</td>\n",
       "      <td>TER</td>\n",
       "      <td>2021-11-03</td>\n",
       "      <td>2021-05-30 13:42:49</td>\n",
       "      <td>2021-06-03 20:30:17</td>\n",
       "      <td>2021-07-05 20:00:17</td>\n",
       "      <td>2021-11-03 06:14:30</td>\n",
       "      <td>USIM</td>\n",
       "      <td>8004200</td>\n",
       "      <td>...</td>\n",
       "      <td>NO</td>\n",
       "      <td>YES</td>\n",
       "      <td>2021-05-30 12:42:46</td>\n",
       "      <td>OFF</td>\n",
       "      <td>YES</td>\n",
       "      <td>2021-05-30 13:42:45</td>\n",
       "      <td>CSRTOOLBOX</td>\n",
       "      <td>\\N</td>\n",
       "      <td>250.0</td>\n",
       "      <td>250.0</td>\n",
       "    </tr>\n",
       "    <tr>\n",
       "      <th>1</th>\n",
       "      <td>337522281</td>\n",
       "      <td>POS</td>\n",
       "      <td>TER</td>\n",
       "      <td>2021-11-04</td>\n",
       "      <td>2021-04-10 09:24:01</td>\n",
       "      <td>2021-04-10 11:53:39</td>\n",
       "      <td>2021-07-27 22:25:26</td>\n",
       "      <td>2021-11-04 15:44:20</td>\n",
       "      <td>USIM</td>\n",
       "      <td>H218000</td>\n",
       "      <td>...</td>\n",
       "      <td>NO</td>\n",
       "      <td>YES</td>\n",
       "      <td>2021-04-10 08:23:23</td>\n",
       "      <td>OFF</td>\n",
       "      <td>YES</td>\n",
       "      <td>2021-04-10 09:23:23</td>\n",
       "      <td>CSRTOOLBOX</td>\n",
       "      <td>\\N</td>\n",
       "      <td>250.0</td>\n",
       "      <td>250.0</td>\n",
       "    </tr>\n",
       "    <tr>\n",
       "      <th>2</th>\n",
       "      <td>329619296</td>\n",
       "      <td>POS</td>\n",
       "      <td>TER</td>\n",
       "      <td>2019-12-13</td>\n",
       "      <td>2019-09-12 14:42:12</td>\n",
       "      <td>2019-09-12 22:45:46</td>\n",
       "      <td>2019-09-13 20:21:10</td>\n",
       "      <td>2019-12-13 05:09:39</td>\n",
       "      <td>USIM</td>\n",
       "      <td>C906000</td>\n",
       "      <td>...</td>\n",
       "      <td>NO</td>\n",
       "      <td>YES</td>\n",
       "      <td>2019-09-12 14:42:09</td>\n",
       "      <td>OFF</td>\n",
       "      <td>YES</td>\n",
       "      <td>2019-09-12 14:42:09</td>\n",
       "      <td>CSRTOOLBOX</td>\n",
       "      <td>C906000</td>\n",
       "      <td>250.0</td>\n",
       "      <td>250.0</td>\n",
       "    </tr>\n",
       "    <tr>\n",
       "      <th>3</th>\n",
       "      <td>324989629</td>\n",
       "      <td>SMS888</td>\n",
       "      <td>TER</td>\n",
       "      <td>2019-08-29</td>\n",
       "      <td>2019-02-12 17:59:16</td>\n",
       "      <td>2019-02-13 15:38:50</td>\n",
       "      <td>2019-03-26 19:32:08</td>\n",
       "      <td>2019-08-29 15:47:02</td>\n",
       "      <td>USIM</td>\n",
       "      <td>40540525000</td>\n",
       "      <td>...</td>\n",
       "      <td>NO</td>\n",
       "      <td>YES</td>\n",
       "      <td>2019-03-18 10:35:38</td>\n",
       "      <td>OFF</td>\n",
       "      <td>YES</td>\n",
       "      <td>2019-06-19 18:03:33</td>\n",
       "      <td>FILENET (DBSS)</td>\n",
       "      <td>40540525000</td>\n",
       "      <td>250.0</td>\n",
       "      <td>250.0</td>\n",
       "    </tr>\n",
       "    <tr>\n",
       "      <th>4</th>\n",
       "      <td>230792674</td>\n",
       "      <td>SNOC</td>\n",
       "      <td>TER</td>\n",
       "      <td>2019-01-06</td>\n",
       "      <td>2018-01-24 01:00:00</td>\n",
       "      <td>2018-01-24 19:36:22</td>\n",
       "      <td>2018-10-07 15:23:20</td>\n",
       "      <td>2019-01-06 05:19:53</td>\n",
       "      <td>USIM</td>\n",
       "      <td>43760534012</td>\n",
       "      <td>...</td>\n",
       "      <td>NO</td>\n",
       "      <td>NO</td>\n",
       "      <td>NaN</td>\n",
       "      <td>OFF</td>\n",
       "      <td>NO</td>\n",
       "      <td>NaT</td>\n",
       "      <td>NaN</td>\n",
       "      <td>NaN</td>\n",
       "      <td>250.0</td>\n",
       "      <td>250.0</td>\n",
       "    </tr>\n",
       "  </tbody>\n",
       "</table>\n",
       "<p>5 rows × 32 columns</p>\n",
       "</div>"
      ],
      "text/plain": [
       "     CUST_ID    CHNL STS_DBSS STS_DWH_DT              ACT_DT  \\\n",
       "0  338024444     POS      TER 2021-11-03 2021-05-30 13:42:49   \n",
       "1  337522281     POS      TER 2021-11-04 2021-04-10 09:24:01   \n",
       "2  329619296     POS      TER 2019-12-13 2019-09-12 14:42:12   \n",
       "3  324989629  SMS888      TER 2019-08-29 2019-02-12 17:59:16   \n",
       "4  230792674    SNOC      TER 2019-01-06 2018-01-24 01:00:00   \n",
       "\n",
       "                FC_DT               LC_DT               TER_DT  \\\n",
       "0 2021-06-03 20:30:17 2021-07-05 20:00:17  2021-11-03 06:14:30   \n",
       "1 2021-04-10 11:53:39 2021-07-27 22:25:26  2021-11-04 15:44:20   \n",
       "2 2019-09-12 22:45:46 2019-09-13 20:21:10  2019-12-13 05:09:39   \n",
       "3 2019-02-13 15:38:50 2019-03-26 19:32:08  2019-08-29 15:47:02   \n",
       "4 2018-01-24 19:36:22 2018-10-07 15:23:20  2019-01-06 05:19:53   \n",
       "\n",
       "  <CASE  expression>      POS_ID_  ... DOC_VAL_3G DOC_VAL_4G  \\\n",
       "0               USIM      8004200  ...         NO        YES   \n",
       "1               USIM      H218000  ...         NO        YES   \n",
       "2               USIM      C906000  ...         NO        YES   \n",
       "3               USIM  40540525000  ...         NO        YES   \n",
       "4               USIM  43760534012  ...         NO         NO   \n",
       "\n",
       "            DOC_VAL_DT BRNG_STS DOC_STMP          DOC_SCN_DT  DOC_SCN_SRC_ID  \\\n",
       "0  2021-05-30 12:42:46      OFF      YES 2021-05-30 13:42:45      CSRTOOLBOX   \n",
       "1  2021-04-10 08:23:23      OFF      YES 2021-04-10 09:23:23      CSRTOOLBOX   \n",
       "2  2019-09-12 14:42:09      OFF      YES 2019-09-12 14:42:09      CSRTOOLBOX   \n",
       "3  2019-03-18 10:35:38      OFF      YES 2019-06-19 18:03:33  FILENET (DBSS)   \n",
       "4                  NaN      OFF       NO                 NaT             NaN   \n",
       "\n",
       "         RSLR_ REVENUE_LAST_2_MONTHS REVENUE_LAST_12_MONTHS  \n",
       "0           \\N                 250.0                  250.0  \n",
       "1           \\N                 250.0                  250.0  \n",
       "2      C906000                 250.0                  250.0  \n",
       "3  40540525000                 250.0                  250.0  \n",
       "4          NaN                 250.0                  250.0  \n",
       "\n",
       "[5 rows x 32 columns]"
      ]
     },
     "execution_count": 2,
     "metadata": {},
     "output_type": "execute_result"
    }
   ],
   "source": [
    "df = pd.read_excel('POS_IDENTIFCIATION_CAMPAGNE_STAT.xlsx')\n",
    "df.head()"
   ]
  },
  {
   "cell_type": "code",
   "execution_count": 3,
   "id": "535311a9-cb48-41fc-a23b-e04886ff8a72",
   "metadata": {},
   "outputs": [
    {
     "name": "stdout",
     "output_type": "stream",
     "text": [
      "<class 'pandas.core.frame.DataFrame'>\n",
      "RangeIndex: 100000 entries, 0 to 99999\n",
      "Data columns (total 32 columns):\n",
      " #   Column                  Non-Null Count   Dtype         \n",
      "---  ------                  --------------   -----         \n",
      " 0   CUST_ID                 100000 non-null  int64         \n",
      " 1   CHNL                    95358 non-null   object        \n",
      " 2   STS_DBSS                100000 non-null  object        \n",
      " 3   STS_DWH_DT              100000 non-null  datetime64[ns]\n",
      " 4   ACT_DT                  100000 non-null  datetime64[ns]\n",
      " 5   FC_DT                   97927 non-null   datetime64[ns]\n",
      " 6   LC_DT                   97927 non-null   datetime64[ns]\n",
      " 7   TER_DT                  100000 non-null  object        \n",
      " 8   <CASE  expression>      99971 non-null   object        \n",
      " 9   POS_ID_                 97869 non-null   object        \n",
      " 10  DOB                     99681 non-null   object        \n",
      " 11  GNDR                    100000 non-null  object        \n",
      " 12  ID_TYPE                 99659 non-null   object        \n",
      " 13  CITY                    99999 non-null   object        \n",
      " 14  PRVC                    99952 non-null   object        \n",
      " 15  PSTL_ID                 100000 non-null  int64         \n",
      " 16  BU                      98548 non-null   object        \n",
      " 17  OFFNG_CUST_TYP          100000 non-null  object        \n",
      " 18  OFFNG_CUST_TYP.1        100000 non-null  object        \n",
      " 19  OFFNG_TRF_PRFL          100000 non-null  object        \n",
      " 20  CON_TYPE_ID             100000 non-null  object        \n",
      " 21  DOC_VAL_2G              100000 non-null  object        \n",
      " 22  DOC_VAL_3G              100000 non-null  object        \n",
      " 23  DOC_VAL_4G              100000 non-null  object        \n",
      " 24  DOC_VAL_DT              91875 non-null   object        \n",
      " 25  BRNG_STS                100000 non-null  object        \n",
      " 26  DOC_STMP                100000 non-null  object        \n",
      " 27  DOC_SCN_DT              89676 non-null   datetime64[ns]\n",
      " 28  DOC_SCN_SRC_ID          89676 non-null   object        \n",
      " 29  RSLR_                   94980 non-null   object        \n",
      " 30  REVENUE_LAST_2_MONTHS   100000 non-null  float64       \n",
      " 31  REVENUE_LAST_12_MONTHS  100000 non-null  float64       \n",
      "dtypes: datetime64[ns](5), float64(2), int64(2), object(23)\n",
      "memory usage: 24.4+ MB\n"
     ]
    }
   ],
   "source": [
    "df.info()"
   ]
  },
  {
   "cell_type": "code",
   "execution_count": 4,
   "id": "2836b4db-7cbe-4830-814c-433f1306c1c0",
   "metadata": {},
   "outputs": [
    {
     "data": {
      "text/html": [
       "<div>\n",
       "<style scoped>\n",
       "    .dataframe tbody tr th:only-of-type {\n",
       "        vertical-align: middle;\n",
       "    }\n",
       "\n",
       "    .dataframe tbody tr th {\n",
       "        vertical-align: top;\n",
       "    }\n",
       "\n",
       "    .dataframe thead th {\n",
       "        text-align: right;\n",
       "    }\n",
       "</style>\n",
       "<table border=\"1\" class=\"dataframe\">\n",
       "  <thead>\n",
       "    <tr style=\"text-align: right;\">\n",
       "      <th></th>\n",
       "      <th>BU</th>\n",
       "      <th>Revenue par region</th>\n",
       "    </tr>\n",
       "  </thead>\n",
       "  <tbody>\n",
       "    <tr>\n",
       "      <th>0</th>\n",
       "      <td>ALGER</td>\n",
       "      <td>44065976.07</td>\n",
       "    </tr>\n",
       "    <tr>\n",
       "      <th>1</th>\n",
       "      <td>CENTRE</td>\n",
       "      <td>47288367.94</td>\n",
       "    </tr>\n",
       "    <tr>\n",
       "      <th>2</th>\n",
       "      <td>CONSTANTINE</td>\n",
       "      <td>44469821.00</td>\n",
       "    </tr>\n",
       "    <tr>\n",
       "      <th>3</th>\n",
       "      <td>ORAN</td>\n",
       "      <td>57705164.07</td>\n",
       "    </tr>\n",
       "    <tr>\n",
       "      <th>4</th>\n",
       "      <td>SETIF</td>\n",
       "      <td>44015476.86</td>\n",
       "    </tr>\n",
       "    <tr>\n",
       "      <th>5</th>\n",
       "      <td>SUD</td>\n",
       "      <td>13888221.62</td>\n",
       "    </tr>\n",
       "    <tr>\n",
       "      <th>6</th>\n",
       "      <td>TLEMCEN</td>\n",
       "      <td>16839132.73</td>\n",
       "    </tr>\n",
       "  </tbody>\n",
       "</table>\n",
       "</div>"
      ],
      "text/plain": [
       "            BU  Revenue par region\n",
       "0        ALGER         44065976.07\n",
       "1       CENTRE         47288367.94\n",
       "2  CONSTANTINE         44469821.00\n",
       "3         ORAN         57705164.07\n",
       "4        SETIF         44015476.86\n",
       "5          SUD         13888221.62\n",
       "6      TLEMCEN         16839132.73"
      ]
     },
     "execution_count": 4,
     "metadata": {},
     "output_type": "execute_result"
    }
   ],
   "source": [
    "revenue_parRegion = df.groupby('BU')['REVENUE_LAST_12_MONTHS'].agg('sum').reset_index(name='Revenue par region')\n",
    "revenue_parRegion"
   ]
  },
  {
   "cell_type": "code",
   "execution_count": 5,
   "id": "84324b33-11bd-42c9-9a78-1e298cac8718",
   "metadata": {},
   "outputs": [
    {
     "data": {
      "application/vnd.plotly.v1+json": {
       "config": {
        "plotlyServerURL": "https://plot.ly"
       },
       "data": [
        {
         "alignmentgroup": "True",
         "hovertemplate": "BU=%{y}<br>Revenue par region=%{x}<extra></extra>",
         "legendgroup": "ALGER",
         "marker": {
          "color": "#636efa",
          "pattern": {
           "shape": ""
          }
         },
         "name": "ALGER",
         "offsetgroup": "ALGER",
         "orientation": "h",
         "showlegend": true,
         "textposition": "auto",
         "type": "bar",
         "x": [
          44065976.07
         ],
         "xaxis": "x",
         "y": [
          "ALGER"
         ],
         "yaxis": "y"
        },
        {
         "alignmentgroup": "True",
         "hovertemplate": "BU=%{y}<br>Revenue par region=%{x}<extra></extra>",
         "legendgroup": "CENTRE",
         "marker": {
          "color": "#EF553B",
          "pattern": {
           "shape": ""
          }
         },
         "name": "CENTRE",
         "offsetgroup": "CENTRE",
         "orientation": "h",
         "showlegend": true,
         "textposition": "auto",
         "type": "bar",
         "x": [
          47288367.94
         ],
         "xaxis": "x",
         "y": [
          "CENTRE"
         ],
         "yaxis": "y"
        },
        {
         "alignmentgroup": "True",
         "hovertemplate": "BU=%{y}<br>Revenue par region=%{x}<extra></extra>",
         "legendgroup": "CONSTANTINE",
         "marker": {
          "color": "#00cc96",
          "pattern": {
           "shape": ""
          }
         },
         "name": "CONSTANTINE",
         "offsetgroup": "CONSTANTINE",
         "orientation": "h",
         "showlegend": true,
         "textposition": "auto",
         "type": "bar",
         "x": [
          44469821
         ],
         "xaxis": "x",
         "y": [
          "CONSTANTINE"
         ],
         "yaxis": "y"
        },
        {
         "alignmentgroup": "True",
         "hovertemplate": "BU=%{y}<br>Revenue par region=%{x}<extra></extra>",
         "legendgroup": "ORAN",
         "marker": {
          "color": "#ab63fa",
          "pattern": {
           "shape": ""
          }
         },
         "name": "ORAN",
         "offsetgroup": "ORAN",
         "orientation": "h",
         "showlegend": true,
         "textposition": "auto",
         "type": "bar",
         "x": [
          57705164.07
         ],
         "xaxis": "x",
         "y": [
          "ORAN"
         ],
         "yaxis": "y"
        },
        {
         "alignmentgroup": "True",
         "hovertemplate": "BU=%{y}<br>Revenue par region=%{x}<extra></extra>",
         "legendgroup": "SETIF",
         "marker": {
          "color": "#FFA15A",
          "pattern": {
           "shape": ""
          }
         },
         "name": "SETIF",
         "offsetgroup": "SETIF",
         "orientation": "h",
         "showlegend": true,
         "textposition": "auto",
         "type": "bar",
         "x": [
          44015476.86
         ],
         "xaxis": "x",
         "y": [
          "SETIF"
         ],
         "yaxis": "y"
        },
        {
         "alignmentgroup": "True",
         "hovertemplate": "BU=%{y}<br>Revenue par region=%{x}<extra></extra>",
         "legendgroup": "SUD",
         "marker": {
          "color": "#19d3f3",
          "pattern": {
           "shape": ""
          }
         },
         "name": "SUD",
         "offsetgroup": "SUD",
         "orientation": "h",
         "showlegend": true,
         "textposition": "auto",
         "type": "bar",
         "x": [
          13888221.62
         ],
         "xaxis": "x",
         "y": [
          "SUD"
         ],
         "yaxis": "y"
        },
        {
         "alignmentgroup": "True",
         "hovertemplate": "BU=%{y}<br>Revenue par region=%{x}<extra></extra>",
         "legendgroup": "TLEMCEN",
         "marker": {
          "color": "#FF6692",
          "pattern": {
           "shape": ""
          }
         },
         "name": "TLEMCEN",
         "offsetgroup": "TLEMCEN",
         "orientation": "h",
         "showlegend": true,
         "textposition": "auto",
         "type": "bar",
         "x": [
          16839132.73
         ],
         "xaxis": "x",
         "y": [
          "TLEMCEN"
         ],
         "yaxis": "y"
        }
       ],
       "layout": {
        "autosize": true,
        "barmode": "relative",
        "legend": {
         "title": {
          "text": "BU"
         },
         "tracegroupgap": 0
        },
        "template": {
         "data": {
          "bar": [
           {
            "error_x": {
             "color": "#2a3f5f"
            },
            "error_y": {
             "color": "#2a3f5f"
            },
            "marker": {
             "line": {
              "color": "#E5ECF6",
              "width": 0.5
             },
             "pattern": {
              "fillmode": "overlay",
              "size": 10,
              "solidity": 0.2
             }
            },
            "type": "bar"
           }
          ],
          "barpolar": [
           {
            "marker": {
             "line": {
              "color": "#E5ECF6",
              "width": 0.5
             },
             "pattern": {
              "fillmode": "overlay",
              "size": 10,
              "solidity": 0.2
             }
            },
            "type": "barpolar"
           }
          ],
          "carpet": [
           {
            "aaxis": {
             "endlinecolor": "#2a3f5f",
             "gridcolor": "white",
             "linecolor": "white",
             "minorgridcolor": "white",
             "startlinecolor": "#2a3f5f"
            },
            "baxis": {
             "endlinecolor": "#2a3f5f",
             "gridcolor": "white",
             "linecolor": "white",
             "minorgridcolor": "white",
             "startlinecolor": "#2a3f5f"
            },
            "type": "carpet"
           }
          ],
          "choropleth": [
           {
            "colorbar": {
             "outlinewidth": 0,
             "ticks": ""
            },
            "type": "choropleth"
           }
          ],
          "contour": [
           {
            "colorbar": {
             "outlinewidth": 0,
             "ticks": ""
            },
            "colorscale": [
             [
              0,
              "#0d0887"
             ],
             [
              0.1111111111111111,
              "#46039f"
             ],
             [
              0.2222222222222222,
              "#7201a8"
             ],
             [
              0.3333333333333333,
              "#9c179e"
             ],
             [
              0.4444444444444444,
              "#bd3786"
             ],
             [
              0.5555555555555556,
              "#d8576b"
             ],
             [
              0.6666666666666666,
              "#ed7953"
             ],
             [
              0.7777777777777778,
              "#fb9f3a"
             ],
             [
              0.8888888888888888,
              "#fdca26"
             ],
             [
              1,
              "#f0f921"
             ]
            ],
            "type": "contour"
           }
          ],
          "contourcarpet": [
           {
            "colorbar": {
             "outlinewidth": 0,
             "ticks": ""
            },
            "type": "contourcarpet"
           }
          ],
          "heatmap": [
           {
            "colorbar": {
             "outlinewidth": 0,
             "ticks": ""
            },
            "colorscale": [
             [
              0,
              "#0d0887"
             ],
             [
              0.1111111111111111,
              "#46039f"
             ],
             [
              0.2222222222222222,
              "#7201a8"
             ],
             [
              0.3333333333333333,
              "#9c179e"
             ],
             [
              0.4444444444444444,
              "#bd3786"
             ],
             [
              0.5555555555555556,
              "#d8576b"
             ],
             [
              0.6666666666666666,
              "#ed7953"
             ],
             [
              0.7777777777777778,
              "#fb9f3a"
             ],
             [
              0.8888888888888888,
              "#fdca26"
             ],
             [
              1,
              "#f0f921"
             ]
            ],
            "type": "heatmap"
           }
          ],
          "heatmapgl": [
           {
            "colorbar": {
             "outlinewidth": 0,
             "ticks": ""
            },
            "colorscale": [
             [
              0,
              "#0d0887"
             ],
             [
              0.1111111111111111,
              "#46039f"
             ],
             [
              0.2222222222222222,
              "#7201a8"
             ],
             [
              0.3333333333333333,
              "#9c179e"
             ],
             [
              0.4444444444444444,
              "#bd3786"
             ],
             [
              0.5555555555555556,
              "#d8576b"
             ],
             [
              0.6666666666666666,
              "#ed7953"
             ],
             [
              0.7777777777777778,
              "#fb9f3a"
             ],
             [
              0.8888888888888888,
              "#fdca26"
             ],
             [
              1,
              "#f0f921"
             ]
            ],
            "type": "heatmapgl"
           }
          ],
          "histogram": [
           {
            "marker": {
             "pattern": {
              "fillmode": "overlay",
              "size": 10,
              "solidity": 0.2
             }
            },
            "type": "histogram"
           }
          ],
          "histogram2d": [
           {
            "colorbar": {
             "outlinewidth": 0,
             "ticks": ""
            },
            "colorscale": [
             [
              0,
              "#0d0887"
             ],
             [
              0.1111111111111111,
              "#46039f"
             ],
             [
              0.2222222222222222,
              "#7201a8"
             ],
             [
              0.3333333333333333,
              "#9c179e"
             ],
             [
              0.4444444444444444,
              "#bd3786"
             ],
             [
              0.5555555555555556,
              "#d8576b"
             ],
             [
              0.6666666666666666,
              "#ed7953"
             ],
             [
              0.7777777777777778,
              "#fb9f3a"
             ],
             [
              0.8888888888888888,
              "#fdca26"
             ],
             [
              1,
              "#f0f921"
             ]
            ],
            "type": "histogram2d"
           }
          ],
          "histogram2dcontour": [
           {
            "colorbar": {
             "outlinewidth": 0,
             "ticks": ""
            },
            "colorscale": [
             [
              0,
              "#0d0887"
             ],
             [
              0.1111111111111111,
              "#46039f"
             ],
             [
              0.2222222222222222,
              "#7201a8"
             ],
             [
              0.3333333333333333,
              "#9c179e"
             ],
             [
              0.4444444444444444,
              "#bd3786"
             ],
             [
              0.5555555555555556,
              "#d8576b"
             ],
             [
              0.6666666666666666,
              "#ed7953"
             ],
             [
              0.7777777777777778,
              "#fb9f3a"
             ],
             [
              0.8888888888888888,
              "#fdca26"
             ],
             [
              1,
              "#f0f921"
             ]
            ],
            "type": "histogram2dcontour"
           }
          ],
          "mesh3d": [
           {
            "colorbar": {
             "outlinewidth": 0,
             "ticks": ""
            },
            "type": "mesh3d"
           }
          ],
          "parcoords": [
           {
            "line": {
             "colorbar": {
              "outlinewidth": 0,
              "ticks": ""
             }
            },
            "type": "parcoords"
           }
          ],
          "pie": [
           {
            "automargin": true,
            "type": "pie"
           }
          ],
          "scatter": [
           {
            "fillpattern": {
             "fillmode": "overlay",
             "size": 10,
             "solidity": 0.2
            },
            "type": "scatter"
           }
          ],
          "scatter3d": [
           {
            "line": {
             "colorbar": {
              "outlinewidth": 0,
              "ticks": ""
             }
            },
            "marker": {
             "colorbar": {
              "outlinewidth": 0,
              "ticks": ""
             }
            },
            "type": "scatter3d"
           }
          ],
          "scattercarpet": [
           {
            "marker": {
             "colorbar": {
              "outlinewidth": 0,
              "ticks": ""
             }
            },
            "type": "scattercarpet"
           }
          ],
          "scattergeo": [
           {
            "marker": {
             "colorbar": {
              "outlinewidth": 0,
              "ticks": ""
             }
            },
            "type": "scattergeo"
           }
          ],
          "scattergl": [
           {
            "marker": {
             "colorbar": {
              "outlinewidth": 0,
              "ticks": ""
             }
            },
            "type": "scattergl"
           }
          ],
          "scattermapbox": [
           {
            "marker": {
             "colorbar": {
              "outlinewidth": 0,
              "ticks": ""
             }
            },
            "type": "scattermapbox"
           }
          ],
          "scatterpolar": [
           {
            "marker": {
             "colorbar": {
              "outlinewidth": 0,
              "ticks": ""
             }
            },
            "type": "scatterpolar"
           }
          ],
          "scatterpolargl": [
           {
            "marker": {
             "colorbar": {
              "outlinewidth": 0,
              "ticks": ""
             }
            },
            "type": "scatterpolargl"
           }
          ],
          "scatterternary": [
           {
            "marker": {
             "colorbar": {
              "outlinewidth": 0,
              "ticks": ""
             }
            },
            "type": "scatterternary"
           }
          ],
          "surface": [
           {
            "colorbar": {
             "outlinewidth": 0,
             "ticks": ""
            },
            "colorscale": [
             [
              0,
              "#0d0887"
             ],
             [
              0.1111111111111111,
              "#46039f"
             ],
             [
              0.2222222222222222,
              "#7201a8"
             ],
             [
              0.3333333333333333,
              "#9c179e"
             ],
             [
              0.4444444444444444,
              "#bd3786"
             ],
             [
              0.5555555555555556,
              "#d8576b"
             ],
             [
              0.6666666666666666,
              "#ed7953"
             ],
             [
              0.7777777777777778,
              "#fb9f3a"
             ],
             [
              0.8888888888888888,
              "#fdca26"
             ],
             [
              1,
              "#f0f921"
             ]
            ],
            "type": "surface"
           }
          ],
          "table": [
           {
            "cells": {
             "fill": {
              "color": "#EBF0F8"
             },
             "line": {
              "color": "white"
             }
            },
            "header": {
             "fill": {
              "color": "#C8D4E3"
             },
             "line": {
              "color": "white"
             }
            },
            "type": "table"
           }
          ]
         },
         "layout": {
          "annotationdefaults": {
           "arrowcolor": "#2a3f5f",
           "arrowhead": 0,
           "arrowwidth": 1
          },
          "autotypenumbers": "strict",
          "coloraxis": {
           "colorbar": {
            "outlinewidth": 0,
            "ticks": ""
           }
          },
          "colorscale": {
           "diverging": [
            [
             0,
             "#8e0152"
            ],
            [
             0.1,
             "#c51b7d"
            ],
            [
             0.2,
             "#de77ae"
            ],
            [
             0.3,
             "#f1b6da"
            ],
            [
             0.4,
             "#fde0ef"
            ],
            [
             0.5,
             "#f7f7f7"
            ],
            [
             0.6,
             "#e6f5d0"
            ],
            [
             0.7,
             "#b8e186"
            ],
            [
             0.8,
             "#7fbc41"
            ],
            [
             0.9,
             "#4d9221"
            ],
            [
             1,
             "#276419"
            ]
           ],
           "sequential": [
            [
             0,
             "#0d0887"
            ],
            [
             0.1111111111111111,
             "#46039f"
            ],
            [
             0.2222222222222222,
             "#7201a8"
            ],
            [
             0.3333333333333333,
             "#9c179e"
            ],
            [
             0.4444444444444444,
             "#bd3786"
            ],
            [
             0.5555555555555556,
             "#d8576b"
            ],
            [
             0.6666666666666666,
             "#ed7953"
            ],
            [
             0.7777777777777778,
             "#fb9f3a"
            ],
            [
             0.8888888888888888,
             "#fdca26"
            ],
            [
             1,
             "#f0f921"
            ]
           ],
           "sequentialminus": [
            [
             0,
             "#0d0887"
            ],
            [
             0.1111111111111111,
             "#46039f"
            ],
            [
             0.2222222222222222,
             "#7201a8"
            ],
            [
             0.3333333333333333,
             "#9c179e"
            ],
            [
             0.4444444444444444,
             "#bd3786"
            ],
            [
             0.5555555555555556,
             "#d8576b"
            ],
            [
             0.6666666666666666,
             "#ed7953"
            ],
            [
             0.7777777777777778,
             "#fb9f3a"
            ],
            [
             0.8888888888888888,
             "#fdca26"
            ],
            [
             1,
             "#f0f921"
            ]
           ]
          },
          "colorway": [
           "#636efa",
           "#EF553B",
           "#00cc96",
           "#ab63fa",
           "#FFA15A",
           "#19d3f3",
           "#FF6692",
           "#B6E880",
           "#FF97FF",
           "#FECB52"
          ],
          "font": {
           "color": "#2a3f5f"
          },
          "geo": {
           "bgcolor": "white",
           "lakecolor": "white",
           "landcolor": "#E5ECF6",
           "showlakes": true,
           "showland": true,
           "subunitcolor": "white"
          },
          "hoverlabel": {
           "align": "left"
          },
          "hovermode": "closest",
          "mapbox": {
           "style": "light"
          },
          "paper_bgcolor": "white",
          "plot_bgcolor": "#E5ECF6",
          "polar": {
           "angularaxis": {
            "gridcolor": "white",
            "linecolor": "white",
            "ticks": ""
           },
           "bgcolor": "#E5ECF6",
           "radialaxis": {
            "gridcolor": "white",
            "linecolor": "white",
            "ticks": ""
           }
          },
          "scene": {
           "xaxis": {
            "backgroundcolor": "#E5ECF6",
            "gridcolor": "white",
            "gridwidth": 2,
            "linecolor": "white",
            "showbackground": true,
            "ticks": "",
            "zerolinecolor": "white"
           },
           "yaxis": {
            "backgroundcolor": "#E5ECF6",
            "gridcolor": "white",
            "gridwidth": 2,
            "linecolor": "white",
            "showbackground": true,
            "ticks": "",
            "zerolinecolor": "white"
           },
           "zaxis": {
            "backgroundcolor": "#E5ECF6",
            "gridcolor": "white",
            "gridwidth": 2,
            "linecolor": "white",
            "showbackground": true,
            "ticks": "",
            "zerolinecolor": "white"
           }
          },
          "shapedefaults": {
           "line": {
            "color": "#2a3f5f"
           }
          },
          "ternary": {
           "aaxis": {
            "gridcolor": "white",
            "linecolor": "white",
            "ticks": ""
           },
           "baxis": {
            "gridcolor": "white",
            "linecolor": "white",
            "ticks": ""
           },
           "bgcolor": "#E5ECF6",
           "caxis": {
            "gridcolor": "white",
            "linecolor": "white",
            "ticks": ""
           }
          },
          "title": {
           "x": 0.05
          },
          "xaxis": {
           "automargin": true,
           "gridcolor": "white",
           "linecolor": "white",
           "ticks": "",
           "title": {
            "standoff": 15
           },
           "zerolinecolor": "white",
           "zerolinewidth": 2
          },
          "yaxis": {
           "automargin": true,
           "gridcolor": "white",
           "linecolor": "white",
           "ticks": "",
           "title": {
            "standoff": 15
           },
           "zerolinecolor": "white",
           "zerolinewidth": 2
          }
         }
        },
        "title": {
         "text": "Total des revenue par region"
        },
        "xaxis": {
         "anchor": "y",
         "autorange": true,
         "domain": [
          0,
          1
         ],
         "range": [
          0,
          60742277.96842106
         ],
         "title": {
          "text": "Revenue par region"
         },
         "type": "linear"
        },
        "yaxis": {
         "anchor": "x",
         "autorange": true,
         "categoryarray": [
          "TLEMCEN",
          "SUD",
          "SETIF",
          "ORAN",
          "CONSTANTINE",
          "CENTRE",
          "ALGER"
         ],
         "categoryorder": "array",
         "domain": [
          0,
          1
         ],
         "range": [
          -0.5,
          6.5
         ],
         "title": {
          "text": "BU"
         },
         "type": "category"
        }
       }
      },
      "image/png": "[encoded data removed]"
     },
     "metadata": {},
     "output_type": "display_data"
    }
   ],
   "source": [
    "## Visualisation du total des revenue par region::\n",
    "bar_fig  = px.bar(\n",
    "    data_frame = revenue_parRegion, x='Revenue par region' , y='BU', color='BU', orientation= 'h', title= 'Total des revenue par region'\n",
    ")\n",
    "#bar_fig.update_layout({'bargap': 0.5})\n",
    "bar_fig.show()"
   ]
  },
  {
   "cell_type": "code",
   "execution_count": 6,
   "id": "c6944e0c-bad5-4e93-83b8-4ec5a70e3847",
   "metadata": {},
   "outputs": [
    {
     "name": "stdout",
     "output_type": "stream",
     "text": [
      "Année d identification\n",
      "1899        1\n",
      "1900     2650\n",
      "1946        1\n",
      "1956        1\n",
      "1964        2\n",
      "1968        1\n",
      "1970        1\n",
      "1971        1\n",
      "1973        1\n",
      "1974        1\n",
      "1976        1\n",
      "1977        1\n",
      "1979        2\n",
      "1980        2\n",
      "1981        1\n",
      "1983        1\n",
      "1984        3\n",
      "1987        1\n",
      "1988        2\n",
      "1990        2\n",
      "1992        1\n",
      "1993        2\n",
      "1994        1\n",
      "2000        1\n",
      "2001        1\n",
      "2002        1\n",
      "2004        4\n",
      "2006        4\n",
      "2007        1\n",
      "2008        1\n",
      "2009      249\n",
      "2010     1856\n",
      "2011     2246\n",
      "2012     1670\n",
      "2013     1651\n",
      "2014     1521\n",
      "2015     2455\n",
      "2016     3087\n",
      "2017     5061\n",
      "2018    12348\n",
      "2019    19415\n",
      "2020    10082\n",
      "2021     9862\n",
      "2022    10038\n",
      "2023     7623\n",
      "2106        1\n",
      "2107        1\n",
      "Name: CUST_ID, dtype: int64\n"
     ]
    }
   ],
   "source": [
    "## Nombre des clients identifiés par an::\n",
    "\n",
    "df['DOC_VAL_DT'] = pd.to_datetime(df['DOC_VAL_DT'], errors='coerce')\n",
    "##Netoyage::\n",
    "invalid_dates = df[pd.isnull(df['DOC_VAL_DT'])]\n",
    "##print(\"Dates invalides :\")\n",
    "#print(df.head())\n",
    "\n",
    "df.dropna(subset=['DOC_VAL_DT'], inplace=True)\n",
    "\n",
    "df['Année d identification'] = df['DOC_VAL_DT'].dt.year\n",
    "clients_par_année = df.groupby('Année d identification')['CUST_ID'].count()\n",
    "print(clients_par_année)"
   ]
  },
  {
   "cell_type": "code",
   "execution_count": 7,
   "id": "c004cdb5-694e-4d3f-a219-57d1e52ae981",
   "metadata": {},
   "outputs": [
    {
     "data": {
      "application/vnd.plotly.v1+json": {
       "config": {
        "plotlyServerURL": "https://plot.ly"
       },
       "data": [
        {
         "alignmentgroup": "True",
         "hovertemplate": "Année=%{x}<br>Nombre de clients identifiés=%{y}<extra></extra>",
         "legendgroup": "",
         "marker": {
          "color": "#636efa",
          "pattern": {
           "shape": ""
          }
         },
         "name": "",
         "offsetgroup": "",
         "orientation": "v",
         "showlegend": false,
         "textposition": "auto",
         "type": "bar",
         "x": [
          1899,
          1900,
          1946,
          1956,
          1964,
          1968,
          1970,
          1971,
          1973,
          1974,
          1976,
          1977,
          1979,
          1980,
          1981,
          1983,
          1984,
          1987,
          1988,
          1990,
          1992,
          1993,
          1994,
          2000,
          2001,
          2002,
          2004,
          2006,
          2007,
          2008,
          2009,
          2010,
          2011,
          2012,
          2013,
          2014,
          2015,
          2016,
          2017,
          2018,
          2019,
          2020,
          2021,
          2022,
          2023,
          2106,
          2107
         ],
         "xaxis": "x",
         "y": [
          1,
          2650,
          1,
          1,
          2,
          1,
          1,
          1,
          1,
          1,
          1,
          1,
          2,
          2,
          1,
          1,
          3,
          1,
          2,
          2,
          1,
          2,
          1,
          1,
          1,
          1,
          4,
          4,
          1,
          1,
          249,
          1856,
          2246,
          1670,
          1651,
          1521,
          2455,
          3087,
          5061,
          12348,
          19415,
          10082,
          9862,
          10038,
          7623,
          1,
          1
         ],
         "yaxis": "y"
        }
       ],
       "layout": {
        "autosize": true,
        "barmode": "relative",
        "legend": {
         "tracegroupgap": 0
        },
        "template": {
         "data": {
          "bar": [
           {
            "error_x": {
             "color": "#2a3f5f"
            },
            "error_y": {
             "color": "#2a3f5f"
            },
            "marker": {
             "line": {
              "color": "#E5ECF6",
              "width": 0.5
             },
             "pattern": {
              "fillmode": "overlay",
              "size": 10,
              "solidity": 0.2
             }
            },
            "type": "bar"
           }
          ],
          "barpolar": [
           {
            "marker": {
             "line": {
              "color": "#E5ECF6",
              "width": 0.5
             },
             "pattern": {
              "fillmode": "overlay",
              "size": 10,
              "solidity": 0.2
             }
            },
            "type": "barpolar"
           }
          ],
          "carpet": [
           {
            "aaxis": {
             "endlinecolor": "#2a3f5f",
             "gridcolor": "white",
             "linecolor": "white",
             "minorgridcolor": "white",
             "startlinecolor": "#2a3f5f"
            },
            "baxis": {
             "endlinecolor": "#2a3f5f",
             "gridcolor": "white",
             "linecolor": "white",
             "minorgridcolor": "white",
             "startlinecolor": "#2a3f5f"
            },
            "type": "carpet"
           }
          ],
          "choropleth": [
           {
            "colorbar": {
             "outlinewidth": 0,
             "ticks": ""
            },
            "type": "choropleth"
           }
          ],
          "contour": [
           {
            "colorbar": {
             "outlinewidth": 0,
             "ticks": ""
            },
            "colorscale": [
             [
              0,
              "#0d0887"
             ],
             [
              0.1111111111111111,
              "#46039f"
             ],
             [
              0.2222222222222222,
              "#7201a8"
             ],
             [
              0.3333333333333333,
              "#9c179e"
             ],
             [
              0.4444444444444444,
              "#bd3786"
             ],
             [
              0.5555555555555556,
              "#d8576b"
             ],
             [
              0.6666666666666666,
              "#ed7953"
             ],
             [
              0.7777777777777778,
              "#fb9f3a"
             ],
             [
              0.8888888888888888,
              "#fdca26"
             ],
             [
              1,
              "#f0f921"
             ]
            ],
            "type": "contour"
           }
          ],
          "contourcarpet": [
           {
            "colorbar": {
             "outlinewidth": 0,
             "ticks": ""
            },
            "type": "contourcarpet"
           }
          ],
          "heatmap": [
           {
            "colorbar": {
             "outlinewidth": 0,
             "ticks": ""
            },
            "colorscale": [
             [
              0,
              "#0d0887"
             ],
             [
              0.1111111111111111,
              "#46039f"
             ],
             [
              0.2222222222222222,
              "#7201a8"
             ],
             [
              0.3333333333333333,
              "#9c179e"
             ],
             [
              0.4444444444444444,
              "#bd3786"
             ],
             [
              0.5555555555555556,
              "#d8576b"
             ],
             [
              0.6666666666666666,
              "#ed7953"
             ],
             [
              0.7777777777777778,
              "#fb9f3a"
             ],
             [
              0.8888888888888888,
              "#fdca26"
             ],
             [
              1,
              "#f0f921"
             ]
            ],
            "type": "heatmap"
           }
          ],
          "heatmapgl": [
           {
            "colorbar": {
             "outlinewidth": 0,
             "ticks": ""
            },
            "colorscale": [
             [
              0,
              "#0d0887"
             ],
             [
              0.1111111111111111,
              "#46039f"
             ],
             [
              0.2222222222222222,
              "#7201a8"
             ],
             [
              0.3333333333333333,
              "#9c179e"
             ],
             [
              0.4444444444444444,
              "#bd3786"
             ],
             [
              0.5555555555555556,
              "#d8576b"
             ],
             [
              0.6666666666666666,
              "#ed7953"
             ],
             [
              0.7777777777777778,
              "#fb9f3a"
             ],
             [
              0.8888888888888888,
              "#fdca26"
             ],
             [
              1,
              "#f0f921"
             ]
            ],
            "type": "heatmapgl"
           }
          ],
          "histogram": [
           {
            "marker": {
             "pattern": {
              "fillmode": "overlay",
              "size": 10,
              "solidity": 0.2
             }
            },
            "type": "histogram"
           }
          ],
          "histogram2d": [
           {
            "colorbar": {
             "outlinewidth": 0,
             "ticks": ""
            },
            "colorscale": [
             [
              0,
              "#0d0887"
             ],
             [
              0.1111111111111111,
              "#46039f"
             ],
             [
              0.2222222222222222,
              "#7201a8"
             ],
             [
              0.3333333333333333,
              "#9c179e"
             ],
             [
              0.4444444444444444,
              "#bd3786"
             ],
             [
              0.5555555555555556,
              "#d8576b"
             ],
             [
              0.6666666666666666,
              "#ed7953"
             ],
             [
              0.7777777777777778,
              "#fb9f3a"
             ],
             [
              0.8888888888888888,
              "#fdca26"
             ],
             [
              1,
              "#f0f921"
             ]
            ],
            "type": "histogram2d"
           }
          ],
          "histogram2dcontour": [
           {
            "colorbar": {
             "outlinewidth": 0,
             "ticks": ""
            },
            "colorscale": [
             [
              0,
              "#0d0887"
             ],
             [
              0.1111111111111111,
              "#46039f"
             ],
             [
              0.2222222222222222,
              "#7201a8"
             ],
             [
              0.3333333333333333,
              "#9c179e"
             ],
             [
              0.4444444444444444,
              "#bd3786"
             ],
             [
              0.5555555555555556,
              "#d8576b"
             ],
             [
              0.6666666666666666,
              "#ed7953"
             ],
             [
              0.7777777777777778,
              "#fb9f3a"
             ],
             [
              0.8888888888888888,
              "#fdca26"
             ],
             [
              1,
              "#f0f921"
             ]
            ],
            "type": "histogram2dcontour"
           }
          ],
          "mesh3d": [
           {
            "colorbar": {
             "outlinewidth": 0,
             "ticks": ""
            },
            "type": "mesh3d"
           }
          ],
          "parcoords": [
           {
            "line": {
             "colorbar": {
              "outlinewidth": 0,
              "ticks": ""
             }
            },
            "type": "parcoords"
           }
          ],
          "pie": [
           {
            "automargin": true,
            "type": "pie"
           }
          ],
          "scatter": [
           {
            "fillpattern": {
             "fillmode": "overlay",
             "size": 10,
             "solidity": 0.2
            },
            "type": "scatter"
           }
          ],
          "scatter3d": [
           {
            "line": {
             "colorbar": {
              "outlinewidth": 0,
              "ticks": ""
             }
            },
            "marker": {
             "colorbar": {
              "outlinewidth": 0,
              "ticks": ""
             }
            },
            "type": "scatter3d"
           }
          ],
          "scattercarpet": [
           {
            "marker": {
             "colorbar": {
              "outlinewidth": 0,
              "ticks": ""
             }
            },
            "type": "scattercarpet"
           }
          ],
          "scattergeo": [
           {
            "marker": {
             "colorbar": {
              "outlinewidth": 0,
              "ticks": ""
             }
            },
            "type": "scattergeo"
           }
          ],
          "scattergl": [
           {
            "marker": {
             "colorbar": {
              "outlinewidth": 0,
              "ticks": ""
             }
            },
            "type": "scattergl"
           }
          ],
          "scattermapbox": [
           {
            "marker": {
             "colorbar": {
              "outlinewidth": 0,
              "ticks": ""
             }
            },
            "type": "scattermapbox"
           }
          ],
          "scatterpolar": [
           {
            "marker": {
             "colorbar": {
              "outlinewidth": 0,
              "ticks": ""
             }
            },
            "type": "scatterpolar"
           }
          ],
          "scatterpolargl": [
           {
            "marker": {
             "colorbar": {
              "outlinewidth": 0,
              "ticks": ""
             }
            },
            "type": "scatterpolargl"
           }
          ],
          "scatterternary": [
           {
            "marker": {
             "colorbar": {
              "outlinewidth": 0,
              "ticks": ""
             }
            },
            "type": "scatterternary"
           }
          ],
          "surface": [
           {
            "colorbar": {
             "outlinewidth": 0,
             "ticks": ""
            },
            "colorscale": [
             [
              0,
              "#0d0887"
             ],
             [
              0.1111111111111111,
              "#46039f"
             ],
             [
              0.2222222222222222,
              "#7201a8"
             ],
             [
              0.3333333333333333,
              "#9c179e"
             ],
             [
              0.4444444444444444,
              "#bd3786"
             ],
             [
              0.5555555555555556,
              "#d8576b"
             ],
             [
              0.6666666666666666,
              "#ed7953"
             ],
             [
              0.7777777777777778,
              "#fb9f3a"
             ],
             [
              0.8888888888888888,
              "#fdca26"
             ],
             [
              1,
              "#f0f921"
             ]
            ],
            "type": "surface"
           }
          ],
          "table": [
           {
            "cells": {
             "fill": {
              "color": "#EBF0F8"
             },
             "line": {
              "color": "white"
             }
            },
            "header": {
             "fill": {
              "color": "#C8D4E3"
             },
             "line": {
              "color": "white"
             }
            },
            "type": "table"
           }
          ]
         },
         "layout": {
          "annotationdefaults": {
           "arrowcolor": "#2a3f5f",
           "arrowhead": 0,
           "arrowwidth": 1
          },
          "autotypenumbers": "strict",
          "coloraxis": {
           "colorbar": {
            "outlinewidth": 0,
            "ticks": ""
           }
          },
          "colorscale": {
           "diverging": [
            [
             0,
             "#8e0152"
            ],
            [
             0.1,
             "#c51b7d"
            ],
            [
             0.2,
             "#de77ae"
            ],
            [
             0.3,
             "#f1b6da"
            ],
            [
             0.4,
             "#fde0ef"
            ],
            [
             0.5,
             "#f7f7f7"
            ],
            [
             0.6,
             "#e6f5d0"
            ],
            [
             0.7,
             "#b8e186"
            ],
            [
             0.8,
             "#7fbc41"
            ],
            [
             0.9,
             "#4d9221"
            ],
            [
             1,
             "#276419"
            ]
           ],
           "sequential": [
            [
             0,
             "#0d0887"
            ],
            [
             0.1111111111111111,
             "#46039f"
            ],
            [
             0.2222222222222222,
             "#7201a8"
            ],
            [
             0.3333333333333333,
             "#9c179e"
            ],
            [
             0.4444444444444444,
             "#bd3786"
            ],
            [
             0.5555555555555556,
             "#d8576b"
            ],
            [
             0.6666666666666666,
             "#ed7953"
            ],
            [
             0.7777777777777778,
             "#fb9f3a"
            ],
            [
             0.8888888888888888,
             "#fdca26"
            ],
            [
             1,
             "#f0f921"
            ]
           ],
           "sequentialminus": [
            [
             0,
             "#0d0887"
            ],
            [
             0.1111111111111111,
             "#46039f"
            ],
            [
             0.2222222222222222,
             "#7201a8"
            ],
            [
             0.3333333333333333,
             "#9c179e"
            ],
            [
             0.4444444444444444,
             "#bd3786"
            ],
            [
             0.5555555555555556,
             "#d8576b"
            ],
            [
             0.6666666666666666,
             "#ed7953"
            ],
            [
             0.7777777777777778,
             "#fb9f3a"
            ],
            [
             0.8888888888888888,
             "#fdca26"
            ],
            [
             1,
             "#f0f921"
            ]
           ]
          },
          "colorway": [
           "#636efa",
           "#EF553B",
           "#00cc96",
           "#ab63fa",
           "#FFA15A",
           "#19d3f3",
           "#FF6692",
           "#B6E880",
           "#FF97FF",
           "#FECB52"
          ],
          "font": {
           "color": "#2a3f5f"
          },
          "geo": {
           "bgcolor": "white",
           "lakecolor": "white",
           "landcolor": "#E5ECF6",
           "showlakes": true,
           "showland": true,
           "subunitcolor": "white"
          },
          "hoverlabel": {
           "align": "left"
          },
          "hovermode": "closest",
          "mapbox": {
           "style": "light"
          },
          "paper_bgcolor": "white",
          "plot_bgcolor": "#E5ECF6",
          "polar": {
           "angularaxis": {
            "gridcolor": "white",
            "linecolor": "white",
            "ticks": ""
           },
           "bgcolor": "#E5ECF6",
           "radialaxis": {
            "gridcolor": "white",
            "linecolor": "white",
            "ticks": ""
           }
          },
          "scene": {
           "xaxis": {
            "backgroundcolor": "#E5ECF6",
            "gridcolor": "white",
            "gridwidth": 2,
            "linecolor": "white",
            "showbackground": true,
            "ticks": "",
            "zerolinecolor": "white"
           },
           "yaxis": {
            "backgroundcolor": "#E5ECF6",
            "gridcolor": "white",
            "gridwidth": 2,
            "linecolor": "white",
            "showbackground": true,
            "ticks": "",
            "zerolinecolor": "white"
           },
           "zaxis": {
            "backgroundcolor": "#E5ECF6",
            "gridcolor": "white",
            "gridwidth": 2,
            "linecolor": "white",
            "showbackground": true,
            "ticks": "",
            "zerolinecolor": "white"
           }
          },
          "shapedefaults": {
           "line": {
            "color": "#2a3f5f"
           }
          },
          "ternary": {
           "aaxis": {
            "gridcolor": "white",
            "linecolor": "white",
            "ticks": ""
           },
           "baxis": {
            "gridcolor": "white",
            "linecolor": "white",
            "ticks": ""
           },
           "bgcolor": "#E5ECF6",
           "caxis": {
            "gridcolor": "white",
            "linecolor": "white",
            "ticks": ""
           }
          },
          "title": {
           "x": 0.05
          },
          "xaxis": {
           "automargin": true,
           "gridcolor": "white",
           "linecolor": "white",
           "ticks": "",
           "title": {
            "standoff": 15
           },
           "zerolinecolor": "white",
           "zerolinewidth": 2
          },
          "yaxis": {
           "automargin": true,
           "gridcolor": "white",
           "linecolor": "white",
           "ticks": "",
           "title": {
            "standoff": 15
           },
           "zerolinecolor": "white",
           "zerolinewidth": 2
          }
         }
        },
        "title": {
         "text": "Nombre de clients identifiés par année"
        },
        "xaxis": {
         "anchor": "y",
         "autorange": true,
         "domain": [
          0,
          1
         ],
         "range": [
          -0.5,
          46.5
         ],
         "title": {
          "text": "Année"
         },
         "type": "category"
        },
        "yaxis": {
         "anchor": "x",
         "autorange": true,
         "domain": [
          0,
          1
         ],
         "range": [
          0,
          20436.842105263157
         ],
         "title": {
          "text": "Nombre de clients identifiés"
         },
         "type": "linear"
        }
       }
      },
      "image/png": "[encoded data removed]"
     },
     "metadata": {},
     "output_type": "display_data"
    }
   ],
   "source": [
    "bar_fig2  = px.bar(\n",
    "    x= clients_par_année.index,\n",
    "    y=clients_par_année.values,\n",
    "    labels={'x':'Année', 'y':'Nombre de clients identifiés'},\n",
    "    title= 'Nombre de clients identifiés par année'\n",
    ")\n",
    "bar_fig2.update_xaxes(type='category')\n",
    "bar_fig2.show()"
   ]
  },
  {
   "cell_type": "code",
   "execution_count": 8,
   "id": "1103109b-2a6c-4b60-b49e-993ba08750a7",
   "metadata": {},
   "outputs": [
    {
     "name": "stderr",
     "output_type": "stream",
     "text": [
      "Une tentative d’accès à un socket de manière interdite par ses autorisations d’accès a été tentée\n"
     ]
    },
    {
     "ename": "AttributeError",
     "evalue": "'tuple' object has no attribute 'tb_frame'",
     "output_type": "error",
     "traceback": [
      "\u001b[1;31m---------------------------------------------------------------------------\u001b[0m",
      "\u001b[1;31mOSError\u001b[0m                                   Traceback (most recent call last)",
      "File \u001b[1;32mc:\\Python\\Python39\\lib\\site-packages\\werkzeug\\serving.py:710\u001b[0m, in \u001b[0;36mBaseWSGIServer.__init__\u001b[1;34m(self, host, port, app, handler, passthrough_errors, ssl_context, fd)\u001b[0m\n\u001b[0;32m    709\u001b[0m \u001b[39mtry\u001b[39;00m:\n\u001b[1;32m--> 710\u001b[0m     \u001b[39mself\u001b[39;49m\u001b[39m.\u001b[39;49mserver_bind()\n\u001b[0;32m    711\u001b[0m     \u001b[39mself\u001b[39m\u001b[39m.\u001b[39mserver_activate()\n",
      "File \u001b[1;32mc:\\Python\\Python39\\lib\\http\\server.py:138\u001b[0m, in \u001b[0;36mHTTPServer.server_bind\u001b[1;34m(self)\u001b[0m\n\u001b[0;32m    137\u001b[0m \u001b[39m\u001b[39m\u001b[39m\"\"\"Override server_bind to store the server name.\"\"\"\u001b[39;00m\n\u001b[1;32m--> 138\u001b[0m socketserver\u001b[39m.\u001b[39;49mTCPServer\u001b[39m.\u001b[39;49mserver_bind(\u001b[39mself\u001b[39;49m)\n\u001b[0;32m    139\u001b[0m host, port \u001b[39m=\u001b[39m \u001b[39mself\u001b[39m\u001b[39m.\u001b[39mserver_address[:\u001b[39m2\u001b[39m]\n",
      "File \u001b[1;32mc:\\Python\\Python39\\lib\\socketserver.py:466\u001b[0m, in \u001b[0;36mTCPServer.server_bind\u001b[1;34m(self)\u001b[0m\n\u001b[0;32m    465\u001b[0m     \u001b[39mself\u001b[39m\u001b[39m.\u001b[39msocket\u001b[39m.\u001b[39msetsockopt(socket\u001b[39m.\u001b[39mSOL_SOCKET, socket\u001b[39m.\u001b[39mSO_REUSEADDR, \u001b[39m1\u001b[39m)\n\u001b[1;32m--> 466\u001b[0m \u001b[39mself\u001b[39;49m\u001b[39m.\u001b[39;49msocket\u001b[39m.\u001b[39;49mbind(\u001b[39mself\u001b[39;49m\u001b[39m.\u001b[39;49mserver_address)\n\u001b[0;32m    467\u001b[0m \u001b[39mself\u001b[39m\u001b[39m.\u001b[39mserver_address \u001b[39m=\u001b[39m \u001b[39mself\u001b[39m\u001b[39m.\u001b[39msocket\u001b[39m.\u001b[39mgetsockname()\n",
      "\u001b[1;31mOSError\u001b[0m: [WinError 10013] Une tentative d’accès à un socket de manière interdite par ses autorisations d’accès a été tentée",
      "\nDuring handling of the above exception, another exception occurred:\n",
      "\u001b[1;31mSystemExit\u001b[0m                                Traceback (most recent call last)",
      "    \u001b[1;31m[... skipping hidden 1 frame]\u001b[0m\n",
      "\u001b[1;32mc:\\Users\\della\\OneDrive\\Bureau\\Untitled (3).ipynb Cell 8\u001b[0m line \u001b[0;36m1\n\u001b[0;32m     <a href='vscode-notebook-cell:/c%3A/Users/della/OneDrive/Bureau/Untitled%20%283%29.ipynb#X10sZmlsZQ%3D%3D?line=16'>17</a>\u001b[0m \u001b[39mif\u001b[39;00m \u001b[39m__name__\u001b[39m \u001b[39m==\u001b[39m \u001b[39m'\u001b[39m\u001b[39m__main__\u001b[39m\u001b[39m'\u001b[39m:\n\u001b[1;32m---> <a href='vscode-notebook-cell:/c%3A/Users/della/OneDrive/Bureau/Untitled%20%283%29.ipynb#X10sZmlsZQ%3D%3D?line=17'>18</a>\u001b[0m     app\u001b[39m.\u001b[39;49mrun_server(debug\u001b[39m=\u001b[39;49m\u001b[39mTrue\u001b[39;49;00m, mode\u001b[39m=\u001b[39;49m\u001b[39m'\u001b[39;49m\u001b[39mexternal\u001b[39;49m\u001b[39m'\u001b[39;49m, port\u001b[39m=\u001b[39;49m\u001b[39m8080\u001b[39;49m)\n",
      "File \u001b[1;32mc:\\Python\\Python39\\lib\\site-packages\\dash\\dash.py:2155\u001b[0m, in \u001b[0;36mDash.run_server\u001b[1;34m(self, *args, **kwargs)\u001b[0m\n\u001b[0;32m   2150\u001b[0m \u001b[39m\u001b[39m\u001b[39m\"\"\"`run_server` is a deprecated alias of `run` and may be removed in a\u001b[39;00m\n\u001b[0;32m   2151\u001b[0m \u001b[39mfuture version. We recommend using `app.run` instead.\u001b[39;00m\n\u001b[0;32m   2152\u001b[0m \n\u001b[0;32m   2153\u001b[0m \u001b[39mSee `app.run` for usage information.\u001b[39;00m\n\u001b[0;32m   2154\u001b[0m \u001b[39m\"\"\"\u001b[39;00m\n\u001b[1;32m-> 2155\u001b[0m \u001b[39mself\u001b[39m\u001b[39m.\u001b[39mrun(\u001b[39m*\u001b[39margs, \u001b[39m*\u001b[39m\u001b[39m*\u001b[39mkwargs)\n",
      "File \u001b[1;32mc:\\Python\\Python39\\lib\\site-packages\\dash\\dash.py:2053\u001b[0m, in \u001b[0;36mDash.run\u001b[1;34m(self, host, port, proxy, debug, jupyter_mode, jupyter_width, jupyter_height, jupyter_server_url, dev_tools_ui, dev_tools_props_check, dev_tools_serve_dev_bundles, dev_tools_hot_reload, dev_tools_hot_reload_interval, dev_tools_hot_reload_watch_interval, dev_tools_hot_reload_max_retry, dev_tools_silence_routes_logging, dev_tools_prune_errors, **flask_run_options)\u001b[0m\n\u001b[0;32m   2052\u001b[0m \u001b[39mif\u001b[39;00m jupyter_dash\u001b[39m.\u001b[39mactive:\n\u001b[1;32m-> 2053\u001b[0m     jupyter_dash\u001b[39m.\u001b[39;49mrun_app(\n\u001b[0;32m   2054\u001b[0m         \u001b[39mself\u001b[39;49m,\n\u001b[0;32m   2055\u001b[0m         mode\u001b[39m=\u001b[39;49mjupyter_mode,\n\u001b[0;32m   2056\u001b[0m         width\u001b[39m=\u001b[39;49mjupyter_width,\n\u001b[0;32m   2057\u001b[0m         height\u001b[39m=\u001b[39;49mjupyter_height,\n\u001b[0;32m   2058\u001b[0m         host\u001b[39m=\u001b[39;49mhost,\n\u001b[0;32m   2059\u001b[0m         port\u001b[39m=\u001b[39;49mport,\n\u001b[0;32m   2060\u001b[0m         server_url\u001b[39m=\u001b[39;49mjupyter_server_url,\n\u001b[0;32m   2061\u001b[0m     )\n\u001b[0;32m   2062\u001b[0m \u001b[39melse\u001b[39;00m:\n",
      "File \u001b[1;32mc:\\Python\\Python39\\lib\\site-packages\\dash\\_jupyter.py:329\u001b[0m, in \u001b[0;36mJupyterDash.run_app\u001b[1;34m(self, app, mode, width, height, host, port, server_url)\u001b[0m\n\u001b[0;32m    327\u001b[0m err_q \u001b[39m=\u001b[39m queue\u001b[39m.\u001b[39mQueue()\n\u001b[1;32m--> 329\u001b[0m server \u001b[39m=\u001b[39m make_server(host, port, app\u001b[39m.\u001b[39;49mserver, threaded\u001b[39m=\u001b[39;49m\u001b[39mTrue\u001b[39;49;00m, processes\u001b[39m=\u001b[39;49m\u001b[39m0\u001b[39;49m)\n\u001b[0;32m    330\u001b[0m logging\u001b[39m.\u001b[39mgetLogger(\u001b[39m\"\u001b[39m\u001b[39mwerkzeug\u001b[39m\u001b[39m\"\u001b[39m)\u001b[39m.\u001b[39msetLevel(logging\u001b[39m.\u001b[39mERROR)\n",
      "File \u001b[1;32mc:\\Python\\Python39\\lib\\site-packages\\werkzeug\\serving.py:877\u001b[0m, in \u001b[0;36mmake_server\u001b[1;34m(host, port, app, threaded, processes, request_handler, passthrough_errors, ssl_context, fd)\u001b[0m\n\u001b[0;32m    876\u001b[0m \u001b[39mif\u001b[39;00m threaded:\n\u001b[1;32m--> 877\u001b[0m     \u001b[39mreturn\u001b[39;00m ThreadedWSGIServer(\n\u001b[0;32m    878\u001b[0m         host, port, app, request_handler, passthrough_errors, ssl_context, fd\u001b[39m=\u001b[39;49mfd\n\u001b[0;32m    879\u001b[0m     )\n\u001b[0;32m    881\u001b[0m \u001b[39mif\u001b[39;00m processes \u001b[39m>\u001b[39m \u001b[39m1\u001b[39m:\n",
      "File \u001b[1;32mc:\\Python\\Python39\\lib\\site-packages\\werkzeug\\serving.py:733\u001b[0m, in \u001b[0;36mBaseWSGIServer.__init__\u001b[1;34m(self, host, port, app, handler, passthrough_errors, ssl_context, fd)\u001b[0m\n\u001b[0;32m    727\u001b[0m             \u001b[39mprint\u001b[39m(\n\u001b[0;32m    728\u001b[0m                 \u001b[39m\"\u001b[39m\u001b[39mOn macOS, try disabling the \u001b[39m\u001b[39m'\u001b[39m\u001b[39mAirPlay Receiver\u001b[39m\u001b[39m'\u001b[39m\u001b[39m service\u001b[39m\u001b[39m\"\u001b[39m\n\u001b[0;32m    729\u001b[0m                 \u001b[39m\"\u001b[39m\u001b[39m from System Preferences -> Sharing.\u001b[39m\u001b[39m\"\u001b[39m,\n\u001b[0;32m    730\u001b[0m                 file\u001b[39m=\u001b[39msys\u001b[39m.\u001b[39mstderr,\n\u001b[0;32m    731\u001b[0m             )\n\u001b[1;32m--> 733\u001b[0m     sys\u001b[39m.\u001b[39;49mexit(\u001b[39m1\u001b[39;49m)\n\u001b[0;32m    734\u001b[0m \u001b[39mexcept\u001b[39;00m \u001b[39mBaseException\u001b[39;00m:\n",
      "\u001b[1;31mSystemExit\u001b[0m: 1",
      "\nDuring handling of the above exception, another exception occurred:\n",
      "\u001b[1;31mAttributeError\u001b[0m                            Traceback (most recent call last)",
      "    \u001b[1;31m[... skipping hidden 1 frame]\u001b[0m\n",
      "File \u001b[1;32m~\\AppData\\Roaming\\Python\\Python39\\site-packages\\IPython\\core\\interactiveshell.py:2047\u001b[0m, in \u001b[0;36mInteractiveShell.showtraceback\u001b[1;34m(self, exc_tuple, filename, tb_offset, exception_only, running_compiled_code)\u001b[0m\n\u001b[0;32m   2044\u001b[0m \u001b[39mif\u001b[39;00m exception_only:\n\u001b[0;32m   2045\u001b[0m     stb \u001b[39m=\u001b[39m [\u001b[39m'\u001b[39m\u001b[39mAn exception has occurred, use \u001b[39m\u001b[39m%\u001b[39m\u001b[39mtb to see \u001b[39m\u001b[39m'\u001b[39m\n\u001b[0;32m   2046\u001b[0m            \u001b[39m'\u001b[39m\u001b[39mthe full traceback.\u001b[39m\u001b[39m\\n\u001b[39;00m\u001b[39m'\u001b[39m]\n\u001b[1;32m-> 2047\u001b[0m     stb\u001b[39m.\u001b[39mextend(\u001b[39mself\u001b[39;49m\u001b[39m.\u001b[39;49mInteractiveTB\u001b[39m.\u001b[39;49mget_exception_only(etype,\n\u001b[0;32m   2048\u001b[0m                                                      value))\n\u001b[0;32m   2049\u001b[0m \u001b[39melse\u001b[39;00m:\n\u001b[0;32m   2050\u001b[0m     \u001b[39mtry\u001b[39;00m:\n\u001b[0;32m   2051\u001b[0m         \u001b[39m# Exception classes can customise their traceback - we\u001b[39;00m\n\u001b[0;32m   2052\u001b[0m         \u001b[39m# use this in IPython.parallel for exceptions occurring\u001b[39;00m\n\u001b[0;32m   2053\u001b[0m         \u001b[39m# in the engines. This should return a list of strings.\u001b[39;00m\n",
      "File \u001b[1;32m~\\AppData\\Roaming\\Python\\Python39\\site-packages\\IPython\\core\\ultratb.py:636\u001b[0m, in \u001b[0;36mListTB.get_exception_only\u001b[1;34m(self, etype, value)\u001b[0m\n\u001b[0;32m    628\u001b[0m \u001b[39mdef\u001b[39;00m \u001b[39mget_exception_only\u001b[39m(\u001b[39mself\u001b[39m, etype, value):\n\u001b[0;32m    629\u001b[0m \u001b[39m    \u001b[39m\u001b[39m\"\"\"Only print the exception type and message, without a traceback.\u001b[39;00m\n\u001b[0;32m    630\u001b[0m \n\u001b[0;32m    631\u001b[0m \u001b[39m    Parameters\u001b[39;00m\n\u001b[1;32m   (...)\u001b[0m\n\u001b[0;32m    634\u001b[0m \u001b[39m    value : exception value\u001b[39;00m\n\u001b[0;32m    635\u001b[0m \u001b[39m    \"\"\"\u001b[39;00m\n\u001b[1;32m--> 636\u001b[0m     \u001b[39mreturn\u001b[39;00m ListTB\u001b[39m.\u001b[39;49mstructured_traceback(\u001b[39mself\u001b[39;49m, etype, value)\n",
      "File \u001b[1;32m~\\AppData\\Roaming\\Python\\Python39\\site-packages\\IPython\\core\\ultratb.py:503\u001b[0m, in \u001b[0;36mListTB.structured_traceback\u001b[1;34m(self, etype, evalue, etb, tb_offset, context)\u001b[0m\n\u001b[0;32m    500\u001b[0m     chained_exc_ids\u001b[39m.\u001b[39madd(\u001b[39mid\u001b[39m(exception[\u001b[39m1\u001b[39m]))\n\u001b[0;32m    501\u001b[0m     chained_exceptions_tb_offset \u001b[39m=\u001b[39m \u001b[39m0\u001b[39m\n\u001b[0;32m    502\u001b[0m     out_list \u001b[39m=\u001b[39m (\n\u001b[1;32m--> 503\u001b[0m         \u001b[39mself\u001b[39;49m\u001b[39m.\u001b[39;49mstructured_traceback(\n\u001b[0;32m    504\u001b[0m             etype, evalue, (etb, chained_exc_ids),\n\u001b[0;32m    505\u001b[0m             chained_exceptions_tb_offset, context)\n\u001b[0;32m    506\u001b[0m         \u001b[39m+\u001b[39m chained_exception_message\n\u001b[0;32m    507\u001b[0m         \u001b[39m+\u001b[39m out_list)\n\u001b[0;32m    509\u001b[0m \u001b[39mreturn\u001b[39;00m out_list\n",
      "File \u001b[1;32m~\\AppData\\Roaming\\Python\\Python39\\site-packages\\IPython\\core\\ultratb.py:1288\u001b[0m, in \u001b[0;36mAutoFormattedTB.structured_traceback\u001b[1;34m(self, etype, value, tb, tb_offset, number_of_lines_of_context)\u001b[0m\n\u001b[0;32m   1286\u001b[0m \u001b[39melse\u001b[39;00m:\n\u001b[0;32m   1287\u001b[0m     \u001b[39mself\u001b[39m\u001b[39m.\u001b[39mtb \u001b[39m=\u001b[39m tb\n\u001b[1;32m-> 1288\u001b[0m \u001b[39mreturn\u001b[39;00m FormattedTB\u001b[39m.\u001b[39;49mstructured_traceback(\n\u001b[0;32m   1289\u001b[0m     \u001b[39mself\u001b[39;49m, etype, value, tb, tb_offset, number_of_lines_of_context)\n",
      "File \u001b[1;32m~\\AppData\\Roaming\\Python\\Python39\\site-packages\\IPython\\core\\ultratb.py:1177\u001b[0m, in \u001b[0;36mFormattedTB.structured_traceback\u001b[1;34m(self, etype, value, tb, tb_offset, number_of_lines_of_context)\u001b[0m\n\u001b[0;32m   1174\u001b[0m mode \u001b[39m=\u001b[39m \u001b[39mself\u001b[39m\u001b[39m.\u001b[39mmode\n\u001b[0;32m   1175\u001b[0m \u001b[39mif\u001b[39;00m mode \u001b[39min\u001b[39;00m \u001b[39mself\u001b[39m\u001b[39m.\u001b[39mverbose_modes:\n\u001b[0;32m   1176\u001b[0m     \u001b[39m# Verbose modes need a full traceback\u001b[39;00m\n\u001b[1;32m-> 1177\u001b[0m     \u001b[39mreturn\u001b[39;00m VerboseTB\u001b[39m.\u001b[39;49mstructured_traceback(\n\u001b[0;32m   1178\u001b[0m         \u001b[39mself\u001b[39;49m, etype, value, tb, tb_offset, number_of_lines_of_context\n\u001b[0;32m   1179\u001b[0m     )\n\u001b[0;32m   1180\u001b[0m \u001b[39melif\u001b[39;00m mode \u001b[39m==\u001b[39m \u001b[39m'\u001b[39m\u001b[39mMinimal\u001b[39m\u001b[39m'\u001b[39m:\n\u001b[0;32m   1181\u001b[0m     \u001b[39mreturn\u001b[39;00m ListTB\u001b[39m.\u001b[39mget_exception_only(\u001b[39mself\u001b[39m, etype, value)\n",
      "File \u001b[1;32m~\\AppData\\Roaming\\Python\\Python39\\site-packages\\IPython\\core\\ultratb.py:1030\u001b[0m, in \u001b[0;36mVerboseTB.structured_traceback\u001b[1;34m(self, etype, evalue, etb, tb_offset, number_of_lines_of_context)\u001b[0m\n\u001b[0;32m   1021\u001b[0m \u001b[39mdef\u001b[39;00m \u001b[39mstructured_traceback\u001b[39m(\n\u001b[0;32m   1022\u001b[0m     \u001b[39mself\u001b[39m,\n\u001b[0;32m   1023\u001b[0m     etype: \u001b[39mtype\u001b[39m,\n\u001b[1;32m   (...)\u001b[0m\n\u001b[0;32m   1027\u001b[0m     number_of_lines_of_context: \u001b[39mint\u001b[39m \u001b[39m=\u001b[39m \u001b[39m5\u001b[39m,\n\u001b[0;32m   1028\u001b[0m ):\n\u001b[0;32m   1029\u001b[0m \u001b[39m    \u001b[39m\u001b[39m\"\"\"Return a nice text document describing the traceback.\"\"\"\u001b[39;00m\n\u001b[1;32m-> 1030\u001b[0m     formatted_exception \u001b[39m=\u001b[39m \u001b[39mself\u001b[39;49m\u001b[39m.\u001b[39;49mformat_exception_as_a_whole(etype, evalue, etb, number_of_lines_of_context,\n\u001b[0;32m   1031\u001b[0m                                                            tb_offset)\n\u001b[0;32m   1033\u001b[0m     colors \u001b[39m=\u001b[39m \u001b[39mself\u001b[39m\u001b[39m.\u001b[39mColors  \u001b[39m# just a shorthand + quicker name lookup\u001b[39;00m\n\u001b[0;32m   1034\u001b[0m     colorsnormal \u001b[39m=\u001b[39m colors\u001b[39m.\u001b[39mNormal  \u001b[39m# used a lot\u001b[39;00m\n",
      "File \u001b[1;32m~\\AppData\\Roaming\\Python\\Python39\\site-packages\\IPython\\core\\ultratb.py:935\u001b[0m, in \u001b[0;36mVerboseTB.format_exception_as_a_whole\u001b[1;34m(self, etype, evalue, etb, number_of_lines_of_context, tb_offset)\u001b[0m\n\u001b[0;32m    932\u001b[0m \u001b[39massert\u001b[39;00m \u001b[39misinstance\u001b[39m(tb_offset, \u001b[39mint\u001b[39m)\n\u001b[0;32m    933\u001b[0m head \u001b[39m=\u001b[39m \u001b[39mself\u001b[39m\u001b[39m.\u001b[39mprepare_header(etype, \u001b[39mself\u001b[39m\u001b[39m.\u001b[39mlong_header)\n\u001b[0;32m    934\u001b[0m records \u001b[39m=\u001b[39m (\n\u001b[1;32m--> 935\u001b[0m     \u001b[39mself\u001b[39;49m\u001b[39m.\u001b[39;49mget_records(etb, number_of_lines_of_context, tb_offset) \u001b[39mif\u001b[39;00m etb \u001b[39melse\u001b[39;00m []\n\u001b[0;32m    936\u001b[0m )\n\u001b[0;32m    938\u001b[0m frames \u001b[39m=\u001b[39m []\n\u001b[0;32m    939\u001b[0m skipped \u001b[39m=\u001b[39m \u001b[39m0\u001b[39m\n",
      "File \u001b[1;32m~\\AppData\\Roaming\\Python\\Python39\\site-packages\\IPython\\core\\ultratb.py:1002\u001b[0m, in \u001b[0;36mVerboseTB.get_records\u001b[1;34m(self, etb, number_of_lines_of_context, tb_offset)\u001b[0m\n\u001b[0;32m   1000\u001b[0m tbs \u001b[39m=\u001b[39m []\n\u001b[0;32m   1001\u001b[0m \u001b[39mwhile\u001b[39;00m cf \u001b[39mis\u001b[39;00m \u001b[39mnot\u001b[39;00m \u001b[39mNone\u001b[39;00m:\n\u001b[1;32m-> 1002\u001b[0m     source_file \u001b[39m=\u001b[39m inspect\u001b[39m.\u001b[39mgetsourcefile(etb\u001b[39m.\u001b[39;49mtb_frame)\n\u001b[0;32m   1003\u001b[0m     lines, first \u001b[39m=\u001b[39m inspect\u001b[39m.\u001b[39mgetsourcelines(etb\u001b[39m.\u001b[39mtb_frame)\n\u001b[0;32m   1004\u001b[0m     max_len \u001b[39m=\u001b[39m \u001b[39mmax\u001b[39m(max_len, first \u001b[39m+\u001b[39m \u001b[39mlen\u001b[39m(lines))\n",
      "\u001b[1;31mAttributeError\u001b[0m: 'tuple' object has no attribute 'tb_frame'"
     ]
    }
   ],
   "source": [
    "import webbrowser\n",
    "webbrowser.open_new('http://127.0.0.1:8080/')\n",
    "\n",
    "import dash\n",
    "from dash import dcc\n",
    "from dash import html\n",
    "app = dash.Dash(__name__)\n",
    "app.layout = html.Div(\n",
    "children = [\n",
    "    html.H1(\"Total des revenue par region\"),\n",
    "    html.Div( dcc.Graph(figure=bar_fig)),\n",
    "\n",
    "    html.H2(\"Nombre de clients identifiés par année\"),\n",
    "    html.Div(dcc.Graph(figure=bar_fig2)),\n",
    "]\n",
    ")\n",
    "if __name__ == '__main__':\n",
    "    app.run_server(debug=True, mode='external', port=8080)"
   ]
  },
  {
   "cell_type": "code",
   "execution_count": null,
   "id": "71c5a800-222f-49d5-a250-6085dae7fbe4",
   "metadata": {},
   "outputs": [],
   "source": []
  },
  {
   "cell_type": "code",
   "execution_count": null,
   "id": "42f5117e-6b4b-411a-a199-d301b87675ba",
   "metadata": {},
   "outputs": [],
   "source": []
  },
  {
   "cell_type": "code",
   "execution_count": null,
   "id": "4cc4aa34-6ac2-440e-a1db-545e36837032",
   "metadata": {},
   "outputs": [],
   "source": []
  },
  {
   "cell_type": "code",
   "execution_count": null,
   "id": "60f29fac-6dd9-4fc4-b078-bcc4b89e7e15",
   "metadata": {},
   "outputs": [],
   "source": []
  },
  {
   "cell_type": "code",
   "execution_count": 2,
   "id": "3bd15cb3-9679-40c3-ad77-1a987c1ef0eb",
   "metadata": {},
   "outputs": [
    {
     "name": "stdout",
     "output_type": "stream",
     "text": [
      "Le nombre de personnes non identifiés est : 11708\n"
     ]
    },
    {
     "data": {
      "text/html": [
       "<div style=\"width:100%;\"><div style=\"position:relative;width:100%;height:0;padding-bottom:60%;\"><span style=\"color:#565656\">Make this Notebook Trusted to load map: File -> Trust Notebook</span><iframe srcdoc=\"&lt;!DOCTYPE html&gt;\n",
       "&lt;html&gt;\n",
       "&lt;head&gt;\n",
       "    \n",
       "    &lt;meta http-equiv=&quot;content-type&quot; content=&quot;text/html; charset=UTF-8&quot; /&gt;\n",
       "    \n",
       "        &lt;script&gt;\n",
       "            L_NO_TOUCH = false;\n",
       "            L_DISABLE_3D = false;\n",
       "        &lt;/script&gt;\n",
       "    \n",
       "    &lt;style&gt;html, body {width: 100%;height: 100%;margin: 0;padding: 0;}&lt;/style&gt;\n",
       "    &lt;style&gt;#map {position:absolute;top:0;bottom:0;right:0;left:0;}&lt;/style&gt;\n",
       "    &lt;script src=&quot;https://cdn.jsdelivr.net/npm/leaflet@1.9.3/dist/leaflet.js&quot;&gt;&lt;/script&gt;\n",
       "    &lt;script src=&quot;https://code.jquery.com/jquery-1.12.4.min.js&quot;&gt;&lt;/script&gt;\n",
       "    &lt;script src=&quot;https://cdn.jsdelivr.net/npm/bootstrap@5.2.2/dist/js/bootstrap.bundle.min.js&quot;&gt;&lt;/script&gt;\n",
       "    &lt;script src=&quot;https://cdnjs.cloudflare.com/ajax/libs/Leaflet.awesome-markers/2.0.2/leaflet.awesome-markers.js&quot;&gt;&lt;/script&gt;\n",
       "    &lt;link rel=&quot;stylesheet&quot; href=&quot;https://cdn.jsdelivr.net/npm/leaflet@1.9.3/dist/leaflet.css&quot;/&gt;\n",
       "    &lt;link rel=&quot;stylesheet&quot; href=&quot;https://cdn.jsdelivr.net/npm/bootstrap@5.2.2/dist/css/bootstrap.min.css&quot;/&gt;\n",
       "    &lt;link rel=&quot;stylesheet&quot; href=&quot;https://netdna.bootstrapcdn.com/bootstrap/3.0.0/css/bootstrap.min.css&quot;/&gt;\n",
       "    &lt;link rel=&quot;stylesheet&quot; href=&quot;https://cdn.jsdelivr.net/npm/@fortawesome/fontawesome-free@6.2.0/css/all.min.css&quot;/&gt;\n",
       "    &lt;link rel=&quot;stylesheet&quot; href=&quot;https://cdnjs.cloudflare.com/ajax/libs/Leaflet.awesome-markers/2.0.2/leaflet.awesome-markers.css&quot;/&gt;\n",
       "    &lt;link rel=&quot;stylesheet&quot; href=&quot;https://cdn.jsdelivr.net/gh/python-visualization/folium/folium/templates/leaflet.awesome.rotate.min.css&quot;/&gt;\n",
       "    \n",
       "            &lt;meta name=&quot;viewport&quot; content=&quot;width=device-width,\n",
       "                initial-scale=1.0, maximum-scale=1.0, user-scalable=no&quot; /&gt;\n",
       "            &lt;style&gt;\n",
       "                #map_9939f789a7c7cd7600d06daf240f4ab4 {\n",
       "                    position: relative;\n",
       "                    width: 100.0%;\n",
       "                    height: 100.0%;\n",
       "                    left: 0.0%;\n",
       "                    top: 0.0%;\n",
       "                }\n",
       "                .leaflet-container { font-size: 1rem; }\n",
       "            &lt;/style&gt;\n",
       "        \n",
       "&lt;/head&gt;\n",
       "&lt;body&gt;\n",
       "    \n",
       "    \n",
       "            &lt;div class=&quot;folium-map&quot; id=&quot;map_9939f789a7c7cd7600d06daf240f4ab4&quot; &gt;&lt;/div&gt;\n",
       "        \n",
       "&lt;/body&gt;\n",
       "&lt;script&gt;\n",
       "    \n",
       "    \n",
       "            var map_9939f789a7c7cd7600d06daf240f4ab4 = L.map(\n",
       "                &quot;map_9939f789a7c7cd7600d06daf240f4ab4&quot;,\n",
       "                {\n",
       "                    center: [28.0339, 1.6596],\n",
       "                    crs: L.CRS.EPSG3857,\n",
       "                    zoom: 6,\n",
       "                    zoomControl: true,\n",
       "                    preferCanvas: false,\n",
       "                }\n",
       "            );\n",
       "\n",
       "            \n",
       "\n",
       "        \n",
       "    \n",
       "            var tile_layer_36788667bfc57f300396fa154c65979a = L.tileLayer(\n",
       "                &quot;https://{s}.tile.openstreetmap.org/{z}/{x}/{y}.png&quot;,\n",
       "                {&quot;attribution&quot;: &quot;Data by \\u0026copy; \\u003ca target=\\&quot;_blank\\&quot; href=\\&quot;http://openstreetmap.org\\&quot;\\u003eOpenStreetMap\\u003c/a\\u003e, under \\u003ca target=\\&quot;_blank\\&quot; href=\\&quot;http://www.openstreetmap.org/copyright\\&quot;\\u003eODbL\\u003c/a\\u003e.&quot;, &quot;detectRetina&quot;: false, &quot;maxNativeZoom&quot;: 18, &quot;maxZoom&quot;: 18, &quot;minZoom&quot;: 0, &quot;noWrap&quot;: false, &quot;opacity&quot;: 1, &quot;subdomains&quot;: &quot;abc&quot;, &quot;tms&quot;: false}\n",
       "            ).addTo(map_9939f789a7c7cd7600d06daf240f4ab4);\n",
       "        \n",
       "    \n",
       "\n",
       "        function geo_json_4e4f26f8927c55d8697eaf51c917e116_onEachFeature(feature, layer) {\n",
       "            layer.on({\n",
       "            });\n",
       "        };\n",
       "        var geo_json_4e4f26f8927c55d8697eaf51c917e116 = L.geoJson(null, {\n",
       "                onEachFeature: geo_json_4e4f26f8927c55d8697eaf51c917e116_onEachFeature,\n",
       "            \n",
       "        });\n",
       "\n",
       "        function geo_json_4e4f26f8927c55d8697eaf51c917e116_add (data) {\n",
       "            geo_json_4e4f26f8927c55d8697eaf51c917e116\n",
       "                .addData(data)\n",
       "                .addTo(map_9939f789a7c7cd7600d06daf240f4ab4);\n",
       "        }\n",
       "            geo_json_4e4f26f8927c55d8697eaf51c917e116_add({&quot;features&quot;: [{&quot;geometry&quot;: {&quot;coordinates&quot;: [[[8.576562500000023, 36.93720703125], [8.59765625, 36.88388671875], [8.601269531250011, 36.833935546875], [8.506738281250023, 36.7875], [8.444238281250023, 36.7607421875], [8.36962890625, 36.63251953125], [8.230761718750017, 36.545263671875], [8.207617187500006, 36.518945312499994], [8.208789062500017, 36.4951171875], [8.302734375, 36.455615234374996], [8.333984375, 36.4181640625], [8.348730468750006, 36.36796875], [8.306738281250006, 36.18876953124999], [8.2802734375, 36.0509765625], [8.245703125, 35.870556640625], [8.2470703125, 35.801806640624996], [8.282910156250011, 35.719287109374996], [8.318066406250011, 35.654931640624994], [8.329003906250021, 35.5822265625], [8.31640625, 35.403125], [8.35986328125, 35.299609375], [8.394238281250011, 35.203857421875], [8.312109375, 35.084619140624994], [8.27685546875, 34.9794921875], [8.254687500000017, 34.828955078125], [8.24560546875, 34.73408203125], [8.192773437500023, 34.646289062499996], [8.123437500000023, 34.563916015625], [8.045605468750011, 34.51269531249999], [7.949414062500011, 34.468701171875], [7.838281250000022, 34.410302734374994], [7.74853515625, 34.2544921875], [7.554492187500017, 34.125], [7.513867187500011, 34.080517578125], [7.495605468749999, 33.976513671875], [7.500195312500011, 33.832470703125], [7.534375, 33.717919921874994], [7.627539062500006, 33.548632812499996], [7.70917968750001, 33.3623046875], [7.731347656250022, 33.268505859375], [7.7626953125, 33.23310546875], [7.877246093750017, 33.172119140625], [8.075585937500023, 33.0890625], [8.1125, 33.055322265624994], [8.2109375, 32.926708984375], [8.30419921875, 32.6962890625], [8.333398437500023, 32.543603515624994], [8.51513671875, 32.422314453125], [8.682910156250017, 32.310449218749994], [8.844042968750017, 32.212109375], [9.018945312500023, 32.105371093749994], [9.044042968750006, 32.07236328125], [9.102343750000015, 31.846142578124997], [9.160253906250006, 31.621337890625], [9.224023437500021, 31.373681640624998], [9.287890625000017, 31.125341796874995], [9.36328125, 30.83291015624999], [9.406054687500017, 30.666796875], [9.4580078125, 30.465380859374992], [9.51875, 30.22939453124999], [9.420996093750006, 30.179296875], [9.310253906250011, 30.115234375], [9.391015625000023, 29.993652343749996], [9.546191406250017, 29.795947265624992], [9.64013671875, 29.636425781249994], [9.672656250000017, 29.566992187499995], [9.745898437500015, 29.368945312499992], [9.805273437500006, 29.17695312499999], [9.820703125000023, 29.114794921874996], [9.842578125000017, 28.966992187499994], [9.815625, 28.56020507812499], [9.858203125000015, 28.043310546875], [9.916015625, 27.785693359374996], [9.825292968750006, 27.552978515625], [9.747558593749998, 27.330859375], [9.752539062500006, 27.2193359375], [9.79541015625, 27.044775390625], [9.837109375000011, 26.915820312499996], [9.894433593750021, 26.847949218749996], [9.883203125000023, 26.630810546874994], [9.859375, 26.551953125], [9.684960937500023, 26.438232421875], [9.491406250000011, 26.333740234375], [9.437890625000021, 26.24550781249999], [9.42236328125, 26.147070312499995], [9.448242187499998, 26.067138671875], [9.58125, 25.89013671875], [9.781054687500017, 25.624267578125], [10.00068359375001, 25.332080078125003], [10.01904296875, 25.258544921875], [10.028125, 25.051025390625], [10.119531250000023, 24.790234375], [10.218652343750023, 24.676220703124994], [10.255859375, 24.591015625], [10.32578125, 24.530224609374997], [10.395898437500021, 24.485595703125], [10.43896484375, 24.480224609375], [10.686132812500004, 24.55136718749999], [11.108203125000015, 24.434033203124997], [11.507617187500017, 24.31435546874999], [11.536914062500015, 24.290820312500003], [11.624218750000011, 24.139697265625003], [11.766992187500023, 23.892578125], [11.873046875, 23.69482421875], [11.967871093750006, 23.517871093750003], [11.45, 23.212597656249994], [10.932226562500006, 22.907275390625003], [10.414355468750017, 22.602001953124994], [9.896484375, 22.29672851562499], [9.378710937500017, 21.99140625], [8.8609375, 21.68613281249999], [8.343066406250017, 21.380859375], [7.825195312500001, 21.075585937499994], [7.481738281250017, 20.873095703125003], [7.26337890625001, 20.694482421874994], [6.989355468750006, 20.470507812500003], [6.73066406250001, 20.248046875], [6.527050781250011, 20.072949218749997], [6.26337890625001, 19.846142578124997], [6.130664062500016, 19.731982421875003], [5.836621093750011, 19.479150390624994], [5.748339843750017, 19.434228515624994], [5.358691406250016, 19.359521484374994], [5.001367187500022, 19.291064453125003], [4.671289062500023, 19.227783203125], [4.445703125000023, 19.184521484374997], [4.227636718750006, 19.142773437499997], [3.91015625, 19.083740234375], [3.683496093750022, 19.041601562499988], [3.438769531250017, 18.996142578125003], [3.40087890625, 18.98842773437499], [3.3564453125, 18.986621093750003], [3.323437500000011, 18.98837890624999], [3.255957031250006, 19.01328125], [3.174218750000023, 19.072900390624994], [3.119726562500006, 19.103173828124994], [3.106054687500005, 19.150097656249997], [3.137890625000011, 19.212158203125], [3.17724609375, 19.268164062499988], [3.1923828125, 19.312060546875003], [3.219628906250022, 19.345410156249997], [3.25439453125, 19.372607421875003], [3.255859375, 19.4109375], [3.22705078125, 19.473583984374997], [3.20166015625, 19.56040039062499], [3.202734375, 19.718310546875003], [3.203417968750017, 19.770751953125], [3.203710937500006, 19.789697265624994], [3.130273437500023, 19.85019531249999], [2.992480468750017, 19.91660156249999], [2.86572265625, 19.955957031249994], [2.807910156250017, 19.969433593749997], [2.667773437500017, 19.992919921875], [2.47421875, 20.035009765624988], [2.406152343750023, 20.063867187499994], [2.280859375, 20.210302734374988], [2.219335937500006, 20.247802734375], [1.928808593750005, 20.272705078125], [1.832421875000023, 20.296875], [1.753222656250017, 20.331591796875003], [1.685449218750023, 20.378369140624997], [1.647363281250023, 20.45883789062499], [1.636035156250017, 20.524365234374997], [1.610644531250017, 20.555566406249994], [1.290234375000011, 20.713574218749997], [1.208886718750023, 20.767285156249997], [1.165722656250011, 20.817431640625003], [1.1640625, 20.891308593749997], [1.172753906250023, 20.981982421875], [1.1591796875, 21.0625], [1.1455078125, 21.102246093749997], [0.999414062500023, 21.19775390625], [0.671875, 21.411865234375], [0.344433593750011, 21.6259765625], [0.016992187500023, 21.840136718750003], [-0.310546875, 22.05419921875], [-0.637988281249989, 22.268310546875], [-0.965478515624994, 22.482470703125003], [-1.29296875, 22.696533203125], [-1.620410156249989, 22.91064453125], [-1.947900390624994, 23.124804687500003], [-2.275390625, 23.3388671875], [-2.602929687499994, 23.553027343750003], [-2.930371093749983, 23.767138671875003], [-3.257861328124989, 23.98125], [-3.585351562499994, 24.195361328125003], [-3.912792968749983, 24.409472656250003], [-4.240332031249977, 24.62353515625], [-4.516992187499994, 24.8044921875], [-4.822607421874977, 24.99560546875], [-5.049511718749983, 25.135449218749997], [-5.275, 25.27451171874999], [-5.516943359374977, 25.423779296874997], [-5.674511718749983, 25.51640625], [-5.862548828125, 25.627001953125003], [-6.050585937499989, 25.737597656250003], [-6.23867187499999, 25.848193359375003], [-6.426708984374983, 25.958789062500003], [-6.61474609375, 26.06943359375], [-6.802832031249976, 26.179980468749992], [-6.990869140624994, 26.290576171874996], [-7.178906249999984, 26.401171875], [-7.366992187499989, 26.511767578124996], [-7.55507812499999, 26.622363281249992], [-7.743115234374982, 26.732958984374996], [-7.93115234375, 26.843554687499996], [-8.119238281249977, 26.954150390624996], [-8.307275390624994, 27.064746093749996], [-8.495312499999983, 27.175341796874992], [-8.683349609375, 27.2859375], [-8.683349609375, 27.490234375], [-8.683349609375, 27.656445312499997], [-8.683349609375, 27.900390625], [-8.683349609375, 28.112011718749997], [-8.683349609375, 28.323681640624997], [-8.683349609375, 28.46923828125], [-8.683349609375, 28.620751953124994], [-8.678417968749983, 28.689404296874997], [-8.659912109375, 28.718603515624995], [-8.558349609375, 28.767871093749992], [-8.399316406249994, 28.88017578125], [-8.340478515624994, 28.93017578125], [-8.265185546874989, 28.980517578124996], [-7.998925781249994, 29.132421875], [-7.943847656249999, 29.174755859375], [-7.685156249999977, 29.34951171874999], [-7.624609374999976, 29.375195312499997], [-7.485742187499994, 29.39223632812499], [-7.427685546874982, 29.425], [-7.349755859374994, 29.494726562499995], [-7.234912109374989, 29.574902343749997], [-7.160205078124988, 29.612646484375], [-7.142431640624977, 29.619580078124997], [-7.094921874999983, 29.625195312499997], [-6.855566406249977, 29.601611328124996], [-6.755126953124999, 29.583837890624995], [-6.635351562499977, 29.568798828124994], [-6.597753906249977, 29.578955078124995], [-6.565673828125, 29.603857421875], [-6.520556640624989, 29.659863281249997], [-6.510693359374983, 29.726025390624997], [-6.507910156249977, 29.7837890625], [-6.500878906249994, 29.809130859374996], [-6.479736328124999, 29.820361328124992], [-6.427636718749994, 29.816113281249994], [-6.357617187499983, 29.808300781249994], [-6.214794921874983, 29.810693359374998], [-6.166503906249999, 29.818945312499995], [-6.00429687499999, 29.83125], [-5.775, 29.869042968749994], [-5.593310546874989, 29.91796875], [-5.448779296874989, 29.956933593749998], [-5.293652343749983, 30.058642578124996], [-5.180126953124982, 30.166162109374994], [-5.061914062499994, 30.326416015625], [-4.96826171875, 30.465380859374992], [-4.778515624999983, 30.55239257812499], [-4.61962890625, 30.604785156249996], [-4.529150390624976, 30.625537109374996], [-4.322851562499976, 30.698876953124994], [-4.148779296874977, 30.8095703125], [-3.9853515625, 30.913525390624997], [-3.860058593749983, 30.92724609375], [-3.702001953124977, 30.944482421874994], [-3.666796874999989, 30.96401367187499], [-3.626904296874983, 31.000927734375], [-3.62451171875, 31.065771484374995], [-3.672509765624994, 31.111376953124996], [-3.730175781249983, 31.135400390624994], [-3.77099609375, 31.161816406249997], [-3.811816406249988, 31.166601562499995], [-3.833398437499994, 31.197802734374996], [-3.821386718749978, 31.25546875], [-3.815136718749983, 31.308837890625], [-3.789160156249977, 31.361816406249996], [-3.796435546874989, 31.437109375], [-3.837109374999983, 31.512353515624994], [-3.849560546874983, 31.56640625], [-3.8466796875, 31.619873046875], [-3.826757812499978, 31.661914062499992], [-3.768164062499977, 31.68955078125], [-3.700244140624989, 31.700097656249994], [-3.604589843749977, 31.686767578125], [-3.439794921874977, 31.704541015625], [-3.017382812499989, 31.834277343749992], [-2.988232421874983, 31.87421875], [-2.961132812499983, 31.963964843749995], [-2.930859374999983, 32.042529296874996], [-2.88720703125, 32.06884765625], [-2.863427734374994, 32.07470703125], [-2.722607421874983, 32.095751953124996], [-2.523242187499989, 32.12568359375], [-2.448388671874994, 32.12998046875], [-2.23125, 32.121337890625], [-2.072802734374989, 32.11503906249999], [-1.816992187499977, 32.104785156249996], [-1.63515625, 32.099560546875], [-1.47705078125, 32.094873046874994], [-1.275341796874983, 32.089013671874994], [-1.225927734374977, 32.107226562499996], [-1.225927734374977, 32.16455078125], [-1.26210937499999, 32.271142578124994], [-1.240332031249977, 32.33759765625], [-1.16259765625, 32.399169921875], [-1.065527343749977, 32.468310546874996], [-1.111035156249983, 32.55229492187499], [-1.188232421875, 32.60849609375], [-1.29638671875, 32.675683593749994], [-1.352148437499977, 32.703369140625], [-1.45, 32.78481445312499], [-1.510009765625, 32.87763671875], [-1.550732421874983, 33.073583984375], [-1.625097656249977, 33.18334960937499], [-1.67919921875, 33.318652343749996], [-1.63125, 33.566748046875], [-1.702978515624977, 33.716845703124996], [-1.714111328125, 33.7818359375], [-1.714697265624977, 33.858203125], [-1.692675781249989, 33.990283203124996], [-1.706933593749994, 34.176074218749996], [-1.791796874999989, 34.36791992187499], [-1.751855468749994, 34.433251953124994], [-1.733300781249994, 34.467041015625], [-1.739453124999983, 34.49609375], [-1.816601562499983, 34.55708007812499], [-1.849658203124988, 34.607324218749994], [-1.83242187499999, 34.654638671875], [-1.792187499999983, 34.723193359374996], [-1.795605468749983, 34.751904296875], [-1.9208984375, 34.835546875], [-2.131787109374983, 34.970849609374994], [-2.190771484374977, 35.02978515625], [-2.219628906249994, 35.10419921875], [-2.017773437499983, 35.08505859375], [-1.913281249999983, 35.09423828125], [-1.673632812499988, 35.18310546875], [-1.483740234374977, 35.303076171875], [-1.335839843749994, 35.3642578125], [-1.205371093749989, 35.495751953124994], [-1.087695312499989, 35.578857421875], [-0.91748046875, 35.668408203125], [-0.426123046874977, 35.8615234375], [-0.350781249999983, 35.86318359374999], [-0.189160156249983, 35.819091796875], [-0.048242187499994, 35.8328125], [0.047949218750006, 35.90053710937499], [0.151660156250017, 36.063134765624994], [0.312207031250011, 36.16235351562499], [0.514941406250017, 36.26181640625], [0.790820312500017, 36.35654296875], [0.9716796875, 36.4439453125], [1.257226562500023, 36.519580078124996], [1.974511718750023, 36.567578125], [2.342871093750005, 36.610302734375], [2.593359375, 36.60068359375], [2.846484375000017, 36.7388671875], [2.972851562500011, 36.784472656249996], [3.5205078125, 36.7951171875], [3.779003906250011, 36.89619140625], [4.758105468750017, 36.896337890625], [4.877832031250022, 36.86240234375], [4.995410156250017, 36.808056640625], [5.195605468750016, 36.676806640624996], [5.29541015625, 36.648242187499996], [5.424609375000017, 36.675439453124994], [5.725488281250023, 36.799609375], [6.064746093750017, 36.8642578125], [6.249121093750005, 36.938330078125], [6.327832031250011, 37.046044921874994], [6.486523437500011, 37.085742187499996], [6.575878906250011, 37.00302734374999], [6.927539062500017, 36.91943359375], [7.143457031250023, 36.943359375], [7.238476562500011, 36.96850585937499], [7.20429687500001, 37.0923828125], [7.432421875000017, 37.05927734375], [7.607714843750017, 36.999755859375], [7.791601562500005, 36.880273437499994], [7.910449218750017, 36.856347656249994], [8.127148437500011, 36.91035156249999], [8.576562500000023, 36.93720703125]]], &quot;type&quot;: &quot;Polygon&quot;}, &quot;properties&quot;: {}, &quot;type&quot;: &quot;Feature&quot;}], &quot;type&quot;: &quot;FeatureCollection&quot;});\n",
       "\n",
       "        \n",
       "    \n",
       "            var marker_406acb9238344e50445a80a8b0dab977 = L.marker(\n",
       "                [36.7753606, 3.0601882],\n",
       "                {}\n",
       "            ).addTo(map_9939f789a7c7cd7600d06daf240f4ab4);\n",
       "        \n",
       "    \n",
       "            var icon_e972a0f348df29d7554a33641ded8efd = L.AwesomeMarkers.icon(\n",
       "                {&quot;extraClasses&quot;: &quot;fa-rotate-0&quot;, &quot;icon&quot;: &quot;info-sign&quot;, &quot;iconColor&quot;: &quot;white&quot;, &quot;markerColor&quot;: &quot;green&quot;, &quot;prefix&quot;: &quot;glyphicon&quot;}\n",
       "            );\n",
       "            marker_406acb9238344e50445a80a8b0dab977.setIcon(icon_e972a0f348df29d7554a33641ded8efd);\n",
       "        \n",
       "    \n",
       "        var popup_f95b77ca43ec3bed88539e55e1eddbb0 = L.popup({&quot;maxWidth&quot;: 300});\n",
       "\n",
       "        \n",
       "            \n",
       "                var html_5e687b4b68950c5a0ebd82c1c8d90be9 = $(`&lt;div id=&quot;html_5e687b4b68950c5a0ebd82c1c8d90be9&quot; style=&quot;width: 100.0%; height: 100.0%;&quot;&gt; &lt;div style=&quot;text-align: center;&quot;&gt; &lt;h2&gt;Infos sur la Wilaya&lt;/h2&gt;   &lt;div style=&quot;text-align: center; font-family: Arial, sans-serif;&quot;&gt; &lt;h2 style=&quot;color: blue; font-size: 18px;&quot;&gt;16-ALGER&lt;/h2&gt; &lt;p style=&quot;color: green; font-size: 14px;&quot;&gt;Nombre de Personnes Identifiés : nan&lt;/p&gt; &lt;p style=&quot;color: red; font-size: 14px;&quot;&gt;Nombre de Personnes Non Identifiés : 1.0&lt;/p&gt; &lt;strong&gt;&lt;p&gt;% Points de Vente : 100.00%&lt;/p&gt;&lt;/strong&gt; &lt;strong&gt;&lt;p&gt;% Boutiques : nan%&lt;/p&gt;&lt;/strong&gt;&lt;strong&gt; &lt;p&gt;% Boutique B2B : nan%&lt;/p&gt;&lt;/strong&gt; &lt;strong&gt; &lt;p&gt;%N/A : nan%&lt;/p&gt;&lt;/strong&gt; &lt;/div&gt;  &lt;/div&gt; &lt;/div&gt;`)[0];\n",
       "                popup_f95b77ca43ec3bed88539e55e1eddbb0.setContent(html_5e687b4b68950c5a0ebd82c1c8d90be9);\n",
       "            \n",
       "        \n",
       "\n",
       "        marker_406acb9238344e50445a80a8b0dab977.bindPopup(popup_f95b77ca43ec3bed88539e55e1eddbb0)\n",
       "        ;\n",
       "\n",
       "        \n",
       "    \n",
       "    \n",
       "            marker_406acb9238344e50445a80a8b0dab977.bindTooltip(\n",
       "                `&lt;div&gt;\n",
       "                     16-ALGER\n",
       "                 &lt;/div&gt;`,\n",
       "                {&quot;sticky&quot;: true}\n",
       "            );\n",
       "        \n",
       "    \n",
       "            var marker_c3b28c8aa01370b95eaa6309e08d667e = L.marker(\n",
       "                [26.4888155, -1.3582442169365363],\n",
       "                {}\n",
       "            ).addTo(map_9939f789a7c7cd7600d06daf240f4ab4);\n",
       "        \n",
       "    \n",
       "            var icon_3dc3a7d8a0820673a34fae055f6502ab = L.AwesomeMarkers.icon(\n",
       "                {&quot;extraClasses&quot;: &quot;fa-rotate-0&quot;, &quot;icon&quot;: &quot;info-sign&quot;, &quot;iconColor&quot;: &quot;white&quot;, &quot;markerColor&quot;: &quot;red&quot;, &quot;prefix&quot;: &quot;glyphicon&quot;}\n",
       "            );\n",
       "            marker_c3b28c8aa01370b95eaa6309e08d667e.setIcon(icon_3dc3a7d8a0820673a34fae055f6502ab);\n",
       "        \n",
       "    \n",
       "        var popup_bf9e0ebbee9e2026d88cd5853a154b28 = L.popup({&quot;maxWidth&quot;: 300});\n",
       "\n",
       "        \n",
       "            \n",
       "                var html_06487b648c3eabc685eca8e1ddc11d8d = $(`&lt;div id=&quot;html_06487b648c3eabc685eca8e1ddc11d8d&quot; style=&quot;width: 100.0%; height: 100.0%;&quot;&gt; &lt;div style=&quot;text-align: center;&quot;&gt; &lt;h2&gt;Infos sur la Wilaya&lt;/h2&gt;   &lt;div style=&quot;text-align: center; font-family: Arial, sans-serif;&quot;&gt; &lt;h2 style=&quot;color: blue; font-size: 18px;&quot;&gt;ADRAR&lt;/h2&gt; &lt;p style=&quot;color: green; font-size: 14px;&quot;&gt;Nombre de Personnes Identifiés : 395.0&lt;/p&gt; &lt;p style=&quot;color: red; font-size: 14px;&quot;&gt;Nombre de Personnes Non Identifiés : 1867.0&lt;/p&gt; &lt;strong&gt;&lt;p&gt;% Points de Vente : 99.73%&lt;/p&gt;&lt;/strong&gt; &lt;strong&gt;&lt;p&gt;% Boutiques : 0.11%&lt;/p&gt;&lt;/strong&gt;&lt;strong&gt; &lt;p&gt;% Boutique B2B : nan%&lt;/p&gt;&lt;/strong&gt; &lt;strong&gt; &lt;p&gt;%N/A : 0.16%&lt;/p&gt;&lt;/strong&gt; &lt;/div&gt;  &lt;/div&gt; &lt;/div&gt;`)[0];\n",
       "                popup_bf9e0ebbee9e2026d88cd5853a154b28.setContent(html_06487b648c3eabc685eca8e1ddc11d8d);\n",
       "            \n",
       "        \n",
       "\n",
       "        marker_c3b28c8aa01370b95eaa6309e08d667e.bindPopup(popup_bf9e0ebbee9e2026d88cd5853a154b28)\n",
       "        ;\n",
       "\n",
       "        \n",
       "    \n",
       "    \n",
       "            marker_c3b28c8aa01370b95eaa6309e08d667e.bindTooltip(\n",
       "                `&lt;div&gt;\n",
       "                     ADRAR\n",
       "                 &lt;/div&gt;`,\n",
       "                {&quot;sticky&quot;: true}\n",
       "            );\n",
       "        \n",
       "    \n",
       "            var marker_57a6ede04c9e43684391bc4e336bbd5f = L.marker(\n",
       "                [36.15868425, 2.084281730358365],\n",
       "                {}\n",
       "            ).addTo(map_9939f789a7c7cd7600d06daf240f4ab4);\n",
       "        \n",
       "    \n",
       "            var icon_2abb1fe8f580b6ac5a3b6bb39485ff6d = L.AwesomeMarkers.icon(\n",
       "                {&quot;extraClasses&quot;: &quot;fa-rotate-0&quot;, &quot;icon&quot;: &quot;info-sign&quot;, &quot;iconColor&quot;: &quot;white&quot;, &quot;markerColor&quot;: &quot;green&quot;, &quot;prefix&quot;: &quot;glyphicon&quot;}\n",
       "            );\n",
       "            marker_57a6ede04c9e43684391bc4e336bbd5f.setIcon(icon_2abb1fe8f580b6ac5a3b6bb39485ff6d);\n",
       "        \n",
       "    \n",
       "        var popup_dc757bb66d8507128448401256534cd8 = L.popup({&quot;maxWidth&quot;: 300});\n",
       "\n",
       "        \n",
       "            \n",
       "                var html_498bb767502aee6ae162af357d578185 = $(`&lt;div id=&quot;html_498bb767502aee6ae162af357d578185&quot; style=&quot;width: 100.0%; height: 100.0%;&quot;&gt; &lt;div style=&quot;text-align: center;&quot;&gt; &lt;h2&gt;Infos sur la Wilaya&lt;/h2&gt;   &lt;div style=&quot;text-align: center; font-family: Arial, sans-serif;&quot;&gt; &lt;h2 style=&quot;color: blue; font-size: 18px;&quot;&gt;AIN DEFLA&lt;/h2&gt; &lt;p style=&quot;color: green; font-size: 14px;&quot;&gt;Nombre de Personnes Identifiés : 6.0&lt;/p&gt; &lt;p style=&quot;color: red; font-size: 14px;&quot;&gt;Nombre de Personnes Non Identifiés : 3.0&lt;/p&gt; &lt;strong&gt;&lt;p&gt;% Points de Vente : nan%&lt;/p&gt;&lt;/strong&gt; &lt;strong&gt;&lt;p&gt;% Boutiques : 100.00%&lt;/p&gt;&lt;/strong&gt;&lt;strong&gt; &lt;p&gt;% Boutique B2B : nan%&lt;/p&gt;&lt;/strong&gt; &lt;strong&gt; &lt;p&gt;%N/A : nan%&lt;/p&gt;&lt;/strong&gt; &lt;/div&gt;  &lt;/div&gt; &lt;/div&gt;`)[0];\n",
       "                popup_dc757bb66d8507128448401256534cd8.setContent(html_498bb767502aee6ae162af357d578185);\n",
       "            \n",
       "        \n",
       "\n",
       "        marker_57a6ede04c9e43684391bc4e336bbd5f.bindPopup(popup_dc757bb66d8507128448401256534cd8)\n",
       "        ;\n",
       "\n",
       "        \n",
       "    \n",
       "    \n",
       "            marker_57a6ede04c9e43684391bc4e336bbd5f.bindTooltip(\n",
       "                `&lt;div&gt;\n",
       "                     AIN DEFLA\n",
       "                 &lt;/div&gt;`,\n",
       "                {&quot;sticky&quot;: true}\n",
       "            );\n",
       "        \n",
       "    \n",
       "            var marker_4e7a7b664deae9783bc4cee1c588fb39 = L.marker(\n",
       "                [35.36512965, -0.9452170664335665],\n",
       "                {}\n",
       "            ).addTo(map_9939f789a7c7cd7600d06daf240f4ab4);\n",
       "        \n",
       "    \n",
       "            var icon_d0f7826c30e1ce541a9b216ce87385fc = L.AwesomeMarkers.icon(\n",
       "                {&quot;extraClasses&quot;: &quot;fa-rotate-0&quot;, &quot;icon&quot;: &quot;info-sign&quot;, &quot;iconColor&quot;: &quot;white&quot;, &quot;markerColor&quot;: &quot;green&quot;, &quot;prefix&quot;: &quot;glyphicon&quot;}\n",
       "            );\n",
       "            marker_4e7a7b664deae9783bc4cee1c588fb39.setIcon(icon_d0f7826c30e1ce541a9b216ce87385fc);\n",
       "        \n",
       "    \n",
       "        var popup_f203bfb832238a00606e0f0c8271ff2e = L.popup({&quot;maxWidth&quot;: 300});\n",
       "\n",
       "        \n",
       "            \n",
       "                var html_738ef4faa3bcdd6b05539cd6b9a95490 = $(`&lt;div id=&quot;html_738ef4faa3bcdd6b05539cd6b9a95490&quot; style=&quot;width: 100.0%; height: 100.0%;&quot;&gt; &lt;div style=&quot;text-align: center;&quot;&gt; &lt;h2&gt;Infos sur la Wilaya&lt;/h2&gt;   &lt;div style=&quot;text-align: center; font-family: Arial, sans-serif;&quot;&gt; &lt;h2 style=&quot;color: blue; font-size: 18px;&quot;&gt;AIN TEMOUCHENT&lt;/h2&gt; &lt;p style=&quot;color: green; font-size: 14px;&quot;&gt;Nombre de Personnes Identifiés : 8.0&lt;/p&gt; &lt;p style=&quot;color: red; font-size: 14px;&quot;&gt;Nombre de Personnes Non Identifiés : 3.0&lt;/p&gt; &lt;strong&gt;&lt;p&gt;% Points de Vente : nan%&lt;/p&gt;&lt;/strong&gt; &lt;strong&gt;&lt;p&gt;% Boutiques : 100.00%&lt;/p&gt;&lt;/strong&gt;&lt;strong&gt; &lt;p&gt;% Boutique B2B : nan%&lt;/p&gt;&lt;/strong&gt; &lt;strong&gt; &lt;p&gt;%N/A : nan%&lt;/p&gt;&lt;/strong&gt; &lt;/div&gt;  &lt;/div&gt; &lt;/div&gt;`)[0];\n",
       "                popup_f203bfb832238a00606e0f0c8271ff2e.setContent(html_738ef4faa3bcdd6b05539cd6b9a95490);\n",
       "            \n",
       "        \n",
       "\n",
       "        marker_4e7a7b664deae9783bc4cee1c588fb39.bindPopup(popup_f203bfb832238a00606e0f0c8271ff2e)\n",
       "        ;\n",
       "\n",
       "        \n",
       "    \n",
       "    \n",
       "            marker_4e7a7b664deae9783bc4cee1c588fb39.bindTooltip(\n",
       "                `&lt;div&gt;\n",
       "                     AIN TEMOUCHENT\n",
       "                 &lt;/div&gt;`,\n",
       "                {&quot;sticky&quot;: true}\n",
       "            );\n",
       "        \n",
       "    \n",
       "            var marker_004a77bd5961776db8238a079428a0c0 = L.marker(\n",
       "                [36.15868425, 2.084281730358365],\n",
       "                {}\n",
       "            ).addTo(map_9939f789a7c7cd7600d06daf240f4ab4);\n",
       "        \n",
       "    \n",
       "            var icon_b781798e785db5f7e11a3777c70719c6 = L.AwesomeMarkers.icon(\n",
       "                {&quot;extraClasses&quot;: &quot;fa-rotate-0&quot;, &quot;icon&quot;: &quot;info-sign&quot;, &quot;iconColor&quot;: &quot;white&quot;, &quot;markerColor&quot;: &quot;red&quot;, &quot;prefix&quot;: &quot;glyphicon&quot;}\n",
       "            );\n",
       "            marker_004a77bd5961776db8238a079428a0c0.setIcon(icon_b781798e785db5f7e11a3777c70719c6);\n",
       "        \n",
       "    \n",
       "        var popup_07885f0481a23786d3465e105d776198 = L.popup({&quot;maxWidth&quot;: 300});\n",
       "\n",
       "        \n",
       "            \n",
       "                var html_95434d6a395f3efbe4039d797d26a1aa = $(`&lt;div id=&quot;html_95434d6a395f3efbe4039d797d26a1aa&quot; style=&quot;width: 100.0%; height: 100.0%;&quot;&gt; &lt;div style=&quot;text-align: center;&quot;&gt; &lt;h2&gt;Infos sur la Wilaya&lt;/h2&gt;   &lt;div style=&quot;text-align: center; font-family: Arial, sans-serif;&quot;&gt; &lt;h2 style=&quot;color: blue; font-size: 18px;&quot;&gt;AIN-DEFLA&lt;/h2&gt; &lt;p style=&quot;color: green; font-size: 14px;&quot;&gt;Nombre de Personnes Identifiés : 2602.0&lt;/p&gt; &lt;p style=&quot;color: red; font-size: 14px;&quot;&gt;Nombre de Personnes Non Identifiés : 161.0&lt;/p&gt; &lt;strong&gt;&lt;p&gt;% Points de Vente : 72.05%&lt;/p&gt;&lt;/strong&gt; &lt;strong&gt;&lt;p&gt;% Boutiques : 9.94%&lt;/p&gt;&lt;/strong&gt;&lt;strong&gt; &lt;p&gt;% Boutique B2B : 1.24%&lt;/p&gt;&lt;/strong&gt; &lt;strong&gt; &lt;p&gt;%N/A : 16.77%&lt;/p&gt;&lt;/strong&gt; &lt;/div&gt;  &lt;/div&gt; &lt;/div&gt;`)[0];\n",
       "                popup_07885f0481a23786d3465e105d776198.setContent(html_95434d6a395f3efbe4039d797d26a1aa);\n",
       "            \n",
       "        \n",
       "\n",
       "        marker_004a77bd5961776db8238a079428a0c0.bindPopup(popup_07885f0481a23786d3465e105d776198)\n",
       "        ;\n",
       "\n",
       "        \n",
       "    \n",
       "    \n",
       "            marker_004a77bd5961776db8238a079428a0c0.bindTooltip(\n",
       "                `&lt;div&gt;\n",
       "                     AIN-DEFLA\n",
       "                 &lt;/div&gt;`,\n",
       "                {&quot;sticky&quot;: true}\n",
       "            );\n",
       "        \n",
       "    \n",
       "            var marker_800ca4aeb8d8bce4af5a6d662f1276a6 = L.marker(\n",
       "                [35.36512965, -0.9452170664335665],\n",
       "                {}\n",
       "            ).addTo(map_9939f789a7c7cd7600d06daf240f4ab4);\n",
       "        \n",
       "    \n",
       "            var icon_ea2e8cc7b2064f52f0ef8328afde3fe1 = L.AwesomeMarkers.icon(\n",
       "                {&quot;extraClasses&quot;: &quot;fa-rotate-0&quot;, &quot;icon&quot;: &quot;info-sign&quot;, &quot;iconColor&quot;: &quot;white&quot;, &quot;markerColor&quot;: &quot;orange&quot;, &quot;prefix&quot;: &quot;glyphicon&quot;}\n",
       "            );\n",
       "            marker_800ca4aeb8d8bce4af5a6d662f1276a6.setIcon(icon_ea2e8cc7b2064f52f0ef8328afde3fe1);\n",
       "        \n",
       "    \n",
       "        var popup_52b13d93de753fc1e4ecd0b58ac7321c = L.popup({&quot;maxWidth&quot;: 300});\n",
       "\n",
       "        \n",
       "            \n",
       "                var html_e4c923030a7732c281cb427908f0de4b = $(`&lt;div id=&quot;html_e4c923030a7732c281cb427908f0de4b&quot; style=&quot;width: 100.0%; height: 100.0%;&quot;&gt; &lt;div style=&quot;text-align: center;&quot;&gt; &lt;h2&gt;Infos sur la Wilaya&lt;/h2&gt;   &lt;div style=&quot;text-align: center; font-family: Arial, sans-serif;&quot;&gt; &lt;h2 style=&quot;color: blue; font-size: 18px;&quot;&gt;AIN-TEMOUCHENT&lt;/h2&gt; &lt;p style=&quot;color: green; font-size: 14px;&quot;&gt;Nombre de Personnes Identifiés : 1140.0&lt;/p&gt; &lt;p style=&quot;color: red; font-size: 14px;&quot;&gt;Nombre de Personnes Non Identifiés : 98.0&lt;/p&gt; &lt;strong&gt;&lt;p&gt;% Points de Vente : 66.33%&lt;/p&gt;&lt;/strong&gt; &lt;strong&gt;&lt;p&gt;% Boutiques : 15.31%&lt;/p&gt;&lt;/strong&gt;&lt;strong&gt; &lt;p&gt;% Boutique B2B : 3.06%&lt;/p&gt;&lt;/strong&gt; &lt;strong&gt; &lt;p&gt;%N/A : 15.31%&lt;/p&gt;&lt;/strong&gt; &lt;/div&gt;  &lt;/div&gt; &lt;/div&gt;`)[0];\n",
       "                popup_52b13d93de753fc1e4ecd0b58ac7321c.setContent(html_e4c923030a7732c281cb427908f0de4b);\n",
       "            \n",
       "        \n",
       "\n",
       "        marker_800ca4aeb8d8bce4af5a6d662f1276a6.bindPopup(popup_52b13d93de753fc1e4ecd0b58ac7321c)\n",
       "        ;\n",
       "\n",
       "        \n",
       "    \n",
       "    \n",
       "            marker_800ca4aeb8d8bce4af5a6d662f1276a6.bindTooltip(\n",
       "                `&lt;div&gt;\n",
       "                     AIN-TEMOUCHENT\n",
       "                 &lt;/div&gt;`,\n",
       "                {&quot;sticky&quot;: true}\n",
       "            );\n",
       "        \n",
       "    \n",
       "            var marker_c25bdb6b9aee2ed83cca247f02b05fd9 = L.marker(\n",
       "                [36.4274761, 2.5628267],\n",
       "                {}\n",
       "            ).addTo(map_9939f789a7c7cd7600d06daf240f4ab4);\n",
       "        \n",
       "    \n",
       "            var icon_bde5a5c008b93a10b99122d6575e6c53 = L.AwesomeMarkers.icon(\n",
       "                {&quot;extraClasses&quot;: &quot;fa-rotate-0&quot;, &quot;icon&quot;: &quot;info-sign&quot;, &quot;iconColor&quot;: &quot;white&quot;, &quot;markerColor&quot;: &quot;green&quot;, &quot;prefix&quot;: &quot;glyphicon&quot;}\n",
       "            );\n",
       "            marker_c25bdb6b9aee2ed83cca247f02b05fd9.setIcon(icon_bde5a5c008b93a10b99122d6575e6c53);\n",
       "        \n",
       "    \n",
       "        var popup_030784938bf5fe7951ed2933a3e85e6f = L.popup({&quot;maxWidth&quot;: 300});\n",
       "\n",
       "        \n",
       "            \n",
       "                var html_c9e9996927d43fa335d30fe17564e4e8 = $(`&lt;div id=&quot;html_c9e9996927d43fa335d30fe17564e4e8&quot; style=&quot;width: 100.0%; height: 100.0%;&quot;&gt; &lt;div style=&quot;text-align: center;&quot;&gt; &lt;h2&gt;Infos sur la Wilaya&lt;/h2&gt;   &lt;div style=&quot;text-align: center; font-family: Arial, sans-serif;&quot;&gt; &lt;h2 style=&quot;color: blue; font-size: 18px;&quot;&gt;AL AFFROUN&lt;/h2&gt; &lt;p style=&quot;color: green; font-size: 14px;&quot;&gt;Nombre de Personnes Identifiés : 2.0&lt;/p&gt; &lt;p style=&quot;color: red; font-size: 14px;&quot;&gt;Nombre de Personnes Non Identifiés : 2.0&lt;/p&gt; &lt;strong&gt;&lt;p&gt;% Points de Vente : nan%&lt;/p&gt;&lt;/strong&gt; &lt;strong&gt;&lt;p&gt;% Boutiques : nan%&lt;/p&gt;&lt;/strong&gt;&lt;strong&gt; &lt;p&gt;% Boutique B2B : 100.00%&lt;/p&gt;&lt;/strong&gt; &lt;strong&gt; &lt;p&gt;%N/A : nan%&lt;/p&gt;&lt;/strong&gt; &lt;/div&gt;  &lt;/div&gt; &lt;/div&gt;`)[0];\n",
       "                popup_030784938bf5fe7951ed2933a3e85e6f.setContent(html_c9e9996927d43fa335d30fe17564e4e8);\n",
       "            \n",
       "        \n",
       "\n",
       "        marker_c25bdb6b9aee2ed83cca247f02b05fd9.bindPopup(popup_030784938bf5fe7951ed2933a3e85e6f)\n",
       "        ;\n",
       "\n",
       "        \n",
       "    \n",
       "    \n",
       "            marker_c25bdb6b9aee2ed83cca247f02b05fd9.bindTooltip(\n",
       "                `&lt;div&gt;\n",
       "                     AL AFFROUN\n",
       "                 &lt;/div&gt;`,\n",
       "                {&quot;sticky&quot;: true}\n",
       "            );\n",
       "        \n",
       "    \n",
       "            var marker_bd5ae650b4f4a3f7352f83568c475568 = L.marker(\n",
       "                [36.7753606, 3.0601882],\n",
       "                {}\n",
       "            ).addTo(map_9939f789a7c7cd7600d06daf240f4ab4);\n",
       "        \n",
       "    \n",
       "            var icon_7ae01316fac47e94d9199c56c2458296 = L.AwesomeMarkers.icon(\n",
       "                {&quot;extraClasses&quot;: &quot;fa-rotate-0&quot;, &quot;icon&quot;: &quot;info-sign&quot;, &quot;iconColor&quot;: &quot;white&quot;, &quot;markerColor&quot;: &quot;red&quot;, &quot;prefix&quot;: &quot;glyphicon&quot;}\n",
       "            );\n",
       "            marker_bd5ae650b4f4a3f7352f83568c475568.setIcon(icon_7ae01316fac47e94d9199c56c2458296);\n",
       "        \n",
       "    \n",
       "        var popup_c4f7d8c8722afe4115f139e87b26163d = L.popup({&quot;maxWidth&quot;: 300});\n",
       "\n",
       "        \n",
       "            \n",
       "                var html_8afb19f471bf249cf6f09db8d04748c4 = $(`&lt;div id=&quot;html_8afb19f471bf249cf6f09db8d04748c4&quot; style=&quot;width: 100.0%; height: 100.0%;&quot;&gt; &lt;div style=&quot;text-align: center;&quot;&gt; &lt;h2&gt;Infos sur la Wilaya&lt;/h2&gt;   &lt;div style=&quot;text-align: center; font-family: Arial, sans-serif;&quot;&gt; &lt;h2 style=&quot;color: blue; font-size: 18px;&quot;&gt;ALGER&lt;/h2&gt; &lt;p style=&quot;color: green; font-size: 14px;&quot;&gt;Nombre de Personnes Identifiés : 12955.0&lt;/p&gt; &lt;p style=&quot;color: red; font-size: 14px;&quot;&gt;Nombre de Personnes Non Identifiés : 2409.0&lt;/p&gt; &lt;strong&gt;&lt;p&gt;% Points de Vente : 55.17%&lt;/p&gt;&lt;/strong&gt; &lt;strong&gt;&lt;p&gt;% Boutiques : 10.71%&lt;/p&gt;&lt;/strong&gt;&lt;strong&gt; &lt;p&gt;% Boutique B2B : 6.68%&lt;/p&gt;&lt;/strong&gt; &lt;strong&gt; &lt;p&gt;%N/A : 27.44%&lt;/p&gt;&lt;/strong&gt; &lt;/div&gt;  &lt;/div&gt; &lt;/div&gt;`)[0];\n",
       "                popup_c4f7d8c8722afe4115f139e87b26163d.setContent(html_8afb19f471bf249cf6f09db8d04748c4);\n",
       "            \n",
       "        \n",
       "\n",
       "        marker_bd5ae650b4f4a3f7352f83568c475568.bindPopup(popup_c4f7d8c8722afe4115f139e87b26163d)\n",
       "        ;\n",
       "\n",
       "        \n",
       "    \n",
       "    \n",
       "            marker_bd5ae650b4f4a3f7352f83568c475568.bindTooltip(\n",
       "                `&lt;div&gt;\n",
       "                     ALGER\n",
       "                 &lt;/div&gt;`,\n",
       "                {&quot;sticky&quot;: true}\n",
       "            );\n",
       "        \n",
       "    \n",
       "            var marker_bb87bb03268649ec80bc8206470ddd96 = L.marker(\n",
       "                [36.7761881, 3.0583128],\n",
       "                {}\n",
       "            ).addTo(map_9939f789a7c7cd7600d06daf240f4ab4);\n",
       "        \n",
       "    \n",
       "            var icon_69966d2508f8fb280771c5f74e85e25e = L.AwesomeMarkers.icon(\n",
       "                {&quot;extraClasses&quot;: &quot;fa-rotate-0&quot;, &quot;icon&quot;: &quot;info-sign&quot;, &quot;iconColor&quot;: &quot;white&quot;, &quot;markerColor&quot;: &quot;green&quot;, &quot;prefix&quot;: &quot;glyphicon&quot;}\n",
       "            );\n",
       "            marker_bb87bb03268649ec80bc8206470ddd96.setIcon(icon_69966d2508f8fb280771c5f74e85e25e);\n",
       "        \n",
       "    \n",
       "        var popup_0d0f6ae004c32e8413918bbc334086b4 = L.popup({&quot;maxWidth&quot;: 300});\n",
       "\n",
       "        \n",
       "            \n",
       "                var html_7b5b8d507d606f7ce2cc9b522d68f978 = $(`&lt;div id=&quot;html_7b5b8d507d606f7ce2cc9b522d68f978&quot; style=&quot;width: 100.0%; height: 100.0%;&quot;&gt; &lt;div style=&quot;text-align: center;&quot;&gt; &lt;h2&gt;Infos sur la Wilaya&lt;/h2&gt;   &lt;div style=&quot;text-align: center; font-family: Arial, sans-serif;&quot;&gt; &lt;h2 style=&quot;color: blue; font-size: 18px;&quot;&gt;ALGER CENTRE&lt;/h2&gt; &lt;p style=&quot;color: green; font-size: 14px;&quot;&gt;Nombre de Personnes Identifiés : 4.0&lt;/p&gt; &lt;p style=&quot;color: red; font-size: 14px;&quot;&gt;Nombre de Personnes Non Identifiés : 2.0&lt;/p&gt; &lt;strong&gt;&lt;p&gt;% Points de Vente : nan%&lt;/p&gt;&lt;/strong&gt; &lt;strong&gt;&lt;p&gt;% Boutiques : nan%&lt;/p&gt;&lt;/strong&gt;&lt;strong&gt; &lt;p&gt;% Boutique B2B : 100.00%&lt;/p&gt;&lt;/strong&gt; &lt;strong&gt; &lt;p&gt;%N/A : nan%&lt;/p&gt;&lt;/strong&gt; &lt;/div&gt;  &lt;/div&gt; &lt;/div&gt;`)[0];\n",
       "                popup_0d0f6ae004c32e8413918bbc334086b4.setContent(html_7b5b8d507d606f7ce2cc9b522d68f978);\n",
       "            \n",
       "        \n",
       "\n",
       "        marker_bb87bb03268649ec80bc8206470ddd96.bindPopup(popup_0d0f6ae004c32e8413918bbc334086b4)\n",
       "        ;\n",
       "\n",
       "        \n",
       "    \n",
       "    \n",
       "            marker_bb87bb03268649ec80bc8206470ddd96.bindTooltip(\n",
       "                `&lt;div&gt;\n",
       "                     ALGER CENTRE\n",
       "                 &lt;/div&gt;`,\n",
       "                {&quot;sticky&quot;: true}\n",
       "            );\n",
       "        \n",
       "    \n",
       "            var marker_d627694a39b80586bf1dc3148043b423 = L.marker(\n",
       "                [36.8982165, 7.7549272],\n",
       "                {}\n",
       "            ).addTo(map_9939f789a7c7cd7600d06daf240f4ab4);\n",
       "        \n",
       "    \n",
       "            var icon_6545a070f2f311eb1202991cd46bfa14 = L.AwesomeMarkers.icon(\n",
       "                {&quot;extraClasses&quot;: &quot;fa-rotate-0&quot;, &quot;icon&quot;: &quot;info-sign&quot;, &quot;iconColor&quot;: &quot;white&quot;, &quot;markerColor&quot;: &quot;red&quot;, &quot;prefix&quot;: &quot;glyphicon&quot;}\n",
       "            );\n",
       "            marker_d627694a39b80586bf1dc3148043b423.setIcon(icon_6545a070f2f311eb1202991cd46bfa14);\n",
       "        \n",
       "    \n",
       "        var popup_7a6414047896dfa39f556decdb014231 = L.popup({&quot;maxWidth&quot;: 300});\n",
       "\n",
       "        \n",
       "            \n",
       "                var html_d21f87e722ca7e1b3e58aed145a296be = $(`&lt;div id=&quot;html_d21f87e722ca7e1b3e58aed145a296be&quot; style=&quot;width: 100.0%; height: 100.0%;&quot;&gt; &lt;div style=&quot;text-align: center;&quot;&gt; &lt;h2&gt;Infos sur la Wilaya&lt;/h2&gt;   &lt;div style=&quot;text-align: center; font-family: Arial, sans-serif;&quot;&gt; &lt;h2 style=&quot;color: blue; font-size: 18px;&quot;&gt;ANNABA&lt;/h2&gt; &lt;p style=&quot;color: green; font-size: 14px;&quot;&gt;Nombre de Personnes Identifiés : 1122.0&lt;/p&gt; &lt;p style=&quot;color: red; font-size: 14px;&quot;&gt;Nombre de Personnes Non Identifiés : 130.0&lt;/p&gt; &lt;strong&gt;&lt;p&gt;% Points de Vente : 40.77%&lt;/p&gt;&lt;/strong&gt; &lt;strong&gt;&lt;p&gt;% Boutiques : 20.00%&lt;/p&gt;&lt;/strong&gt;&lt;strong&gt; &lt;p&gt;% Boutique B2B : 11.54%&lt;/p&gt;&lt;/strong&gt; &lt;strong&gt; &lt;p&gt;%N/A : 27.69%&lt;/p&gt;&lt;/strong&gt; &lt;/div&gt;  &lt;/div&gt; &lt;/div&gt;`)[0];\n",
       "                popup_7a6414047896dfa39f556decdb014231.setContent(html_d21f87e722ca7e1b3e58aed145a296be);\n",
       "            \n",
       "        \n",
       "\n",
       "        marker_d627694a39b80586bf1dc3148043b423.bindPopup(popup_7a6414047896dfa39f556decdb014231)\n",
       "        ;\n",
       "\n",
       "        \n",
       "    \n",
       "    \n",
       "            marker_d627694a39b80586bf1dc3148043b423.bindTooltip(\n",
       "                `&lt;div&gt;\n",
       "                     ANNABA\n",
       "                 &lt;/div&gt;`,\n",
       "                {&quot;sticky&quot;: true}\n",
       "            );\n",
       "        \n",
       "    \n",
       "            var marker_949b674fed14a076778f837db73374c7 = L.marker(\n",
       "                [35.3384291, 5.731545299000572],\n",
       "                {}\n",
       "            ).addTo(map_9939f789a7c7cd7600d06daf240f4ab4);\n",
       "        \n",
       "    \n",
       "            var icon_bd0076df4f933e0bdeb8f21da058587e = L.AwesomeMarkers.icon(\n",
       "                {&quot;extraClasses&quot;: &quot;fa-rotate-0&quot;, &quot;icon&quot;: &quot;info-sign&quot;, &quot;iconColor&quot;: &quot;white&quot;, &quot;markerColor&quot;: &quot;red&quot;, &quot;prefix&quot;: &quot;glyphicon&quot;}\n",
       "            );\n",
       "            marker_949b674fed14a076778f837db73374c7.setIcon(icon_bd0076df4f933e0bdeb8f21da058587e);\n",
       "        \n",
       "    \n",
       "        var popup_b0f85abe21571c5672beb15261b81288 = L.popup({&quot;maxWidth&quot;: 300});\n",
       "\n",
       "        \n",
       "            \n",
       "                var html_b4d8cbc8dbcdf6b1430f19413604dc04 = $(`&lt;div id=&quot;html_b4d8cbc8dbcdf6b1430f19413604dc04&quot; style=&quot;width: 100.0%; height: 100.0%;&quot;&gt; &lt;div style=&quot;text-align: center;&quot;&gt; &lt;h2&gt;Infos sur la Wilaya&lt;/h2&gt;   &lt;div style=&quot;text-align: center; font-family: Arial, sans-serif;&quot;&gt; &lt;h2 style=&quot;color: blue; font-size: 18px;&quot;&gt;BATNA&lt;/h2&gt; &lt;p style=&quot;color: green; font-size: 14px;&quot;&gt;Nombre de Personnes Identifiés : 2148.0&lt;/p&gt; &lt;p style=&quot;color: red; font-size: 14px;&quot;&gt;Nombre de Personnes Non Identifiés : 206.0&lt;/p&gt; &lt;strong&gt;&lt;p&gt;% Points de Vente : 57.77%&lt;/p&gt;&lt;/strong&gt; &lt;strong&gt;&lt;p&gt;% Boutiques : 21.36%&lt;/p&gt;&lt;/strong&gt;&lt;strong&gt; &lt;p&gt;% Boutique B2B : 1.46%&lt;/p&gt;&lt;/strong&gt; &lt;strong&gt; &lt;p&gt;%N/A : 19.42%&lt;/p&gt;&lt;/strong&gt; &lt;/div&gt;  &lt;/div&gt; &lt;/div&gt;`)[0];\n",
       "                popup_b0f85abe21571c5672beb15261b81288.setContent(html_b4d8cbc8dbcdf6b1430f19413604dc04);\n",
       "            \n",
       "        \n",
       "\n",
       "        marker_949b674fed14a076778f837db73374c7.bindPopup(popup_b0f85abe21571c5672beb15261b81288)\n",
       "        ;\n",
       "\n",
       "        \n",
       "    \n",
       "    \n",
       "            marker_949b674fed14a076778f837db73374c7.bindTooltip(\n",
       "                `&lt;div&gt;\n",
       "                     BATNA\n",
       "                 &lt;/div&gt;`,\n",
       "                {&quot;sticky&quot;: true}\n",
       "            );\n",
       "        \n",
       "    \n",
       "            var marker_a10b25bf688125d11f4563f6473dabc2 = L.marker(\n",
       "                [31.385726, -2.011595847987405],\n",
       "                {}\n",
       "            ).addTo(map_9939f789a7c7cd7600d06daf240f4ab4);\n",
       "        \n",
       "    \n",
       "            var icon_48b20a65785841a0fdee5fb467ece7de = L.AwesomeMarkers.icon(\n",
       "                {&quot;extraClasses&quot;: &quot;fa-rotate-0&quot;, &quot;icon&quot;: &quot;info-sign&quot;, &quot;iconColor&quot;: &quot;white&quot;, &quot;markerColor&quot;: &quot;green&quot;, &quot;prefix&quot;: &quot;glyphicon&quot;}\n",
       "            );\n",
       "            marker_a10b25bf688125d11f4563f6473dabc2.setIcon(icon_48b20a65785841a0fdee5fb467ece7de);\n",
       "        \n",
       "    \n",
       "        var popup_fbae2875710c44b2c90416e3dc896157 = L.popup({&quot;maxWidth&quot;: 300});\n",
       "\n",
       "        \n",
       "            \n",
       "                var html_1c2a8d0449872b597406d3db2def185f = $(`&lt;div id=&quot;html_1c2a8d0449872b597406d3db2def185f&quot; style=&quot;width: 100.0%; height: 100.0%;&quot;&gt; &lt;div style=&quot;text-align: center;&quot;&gt; &lt;h2&gt;Infos sur la Wilaya&lt;/h2&gt;   &lt;div style=&quot;text-align: center; font-family: Arial, sans-serif;&quot;&gt; &lt;h2 style=&quot;color: blue; font-size: 18px;&quot;&gt;BECHAR&lt;/h2&gt; &lt;p style=&quot;color: green; font-size: 14px;&quot;&gt;Nombre de Personnes Identifiés : 232.0&lt;/p&gt; &lt;p style=&quot;color: red; font-size: 14px;&quot;&gt;Nombre de Personnes Non Identifiés : 30.0&lt;/p&gt; &lt;strong&gt;&lt;p&gt;% Points de Vente : 36.67%&lt;/p&gt;&lt;/strong&gt; &lt;strong&gt;&lt;p&gt;% Boutiques : 40.00%&lt;/p&gt;&lt;/strong&gt;&lt;strong&gt; &lt;p&gt;% Boutique B2B : nan%&lt;/p&gt;&lt;/strong&gt; &lt;strong&gt; &lt;p&gt;%N/A : 23.33%&lt;/p&gt;&lt;/strong&gt; &lt;/div&gt;  &lt;/div&gt; &lt;/div&gt;`)[0];\n",
       "                popup_fbae2875710c44b2c90416e3dc896157.setContent(html_1c2a8d0449872b597406d3db2def185f);\n",
       "            \n",
       "        \n",
       "\n",
       "        marker_a10b25bf688125d11f4563f6473dabc2.bindPopup(popup_fbae2875710c44b2c90416e3dc896157)\n",
       "        ;\n",
       "\n",
       "        \n",
       "    \n",
       "    \n",
       "            marker_a10b25bf688125d11f4563f6473dabc2.bindTooltip(\n",
       "                `&lt;div&gt;\n",
       "                     BECHAR\n",
       "                 &lt;/div&gt;`,\n",
       "                {&quot;sticky&quot;: true}\n",
       "            );\n",
       "        \n",
       "    \n",
       "            var marker_6487dbb03aaf05e390fe1e16c8338813 = L.marker(\n",
       "                [35.8917726, 5.6687029],\n",
       "                {}\n",
       "            ).addTo(map_9939f789a7c7cd7600d06daf240f4ab4);\n",
       "        \n",
       "    \n",
       "            var icon_647e138ae573ce8ba5115c71f500d7e4 = L.AwesomeMarkers.icon(\n",
       "                {&quot;extraClasses&quot;: &quot;fa-rotate-0&quot;, &quot;icon&quot;: &quot;info-sign&quot;, &quot;iconColor&quot;: &quot;white&quot;, &quot;markerColor&quot;: &quot;green&quot;, &quot;prefix&quot;: &quot;glyphicon&quot;}\n",
       "            );\n",
       "            marker_6487dbb03aaf05e390fe1e16c8338813.setIcon(icon_647e138ae573ce8ba5115c71f500d7e4);\n",
       "        \n",
       "    \n",
       "        var popup_93568a60e159e650061073ab5c4ebd8e = L.popup({&quot;maxWidth&quot;: 300});\n",
       "\n",
       "        \n",
       "            \n",
       "                var html_f3b6303ec74d73dd7139314b845fae89 = $(`&lt;div id=&quot;html_f3b6303ec74d73dd7139314b845fae89&quot; style=&quot;width: 100.0%; height: 100.0%;&quot;&gt; &lt;div style=&quot;text-align: center;&quot;&gt; &lt;h2&gt;Infos sur la Wilaya&lt;/h2&gt;   &lt;div style=&quot;text-align: center; font-family: Arial, sans-serif;&quot;&gt; &lt;h2 style=&quot;color: blue; font-size: 18px;&quot;&gt;BEIDA BORDJ&lt;/h2&gt; &lt;p style=&quot;color: green; font-size: 14px;&quot;&gt;Nombre de Personnes Identifiés : nan&lt;/p&gt; &lt;p style=&quot;color: red; font-size: 14px;&quot;&gt;Nombre de Personnes Non Identifiés : 1.0&lt;/p&gt; &lt;strong&gt;&lt;p&gt;% Points de Vente : nan%&lt;/p&gt;&lt;/strong&gt; &lt;strong&gt;&lt;p&gt;% Boutiques : 100.00%&lt;/p&gt;&lt;/strong&gt;&lt;strong&gt; &lt;p&gt;% Boutique B2B : nan%&lt;/p&gt;&lt;/strong&gt; &lt;strong&gt; &lt;p&gt;%N/A : nan%&lt;/p&gt;&lt;/strong&gt; &lt;/div&gt;  &lt;/div&gt; &lt;/div&gt;`)[0];\n",
       "                popup_93568a60e159e650061073ab5c4ebd8e.setContent(html_f3b6303ec74d73dd7139314b845fae89);\n",
       "            \n",
       "        \n",
       "\n",
       "        marker_6487dbb03aaf05e390fe1e16c8338813.bindPopup(popup_93568a60e159e650061073ab5c4ebd8e)\n",
       "        ;\n",
       "\n",
       "        \n",
       "    \n",
       "    \n",
       "            marker_6487dbb03aaf05e390fe1e16c8338813.bindTooltip(\n",
       "                `&lt;div&gt;\n",
       "                     BEIDA BORDJ\n",
       "                 &lt;/div&gt;`,\n",
       "                {&quot;sticky&quot;: true}\n",
       "            );\n",
       "        \n",
       "    \n",
       "            var marker_3b5019b2ec793ad1f31620068f9128ac = L.marker(\n",
       "                [36.7511783, 5.0643687],\n",
       "                {}\n",
       "            ).addTo(map_9939f789a7c7cd7600d06daf240f4ab4);\n",
       "        \n",
       "    \n",
       "            var icon_04382cc845bbbefec9cf2364e2468433 = L.AwesomeMarkers.icon(\n",
       "                {&quot;extraClasses&quot;: &quot;fa-rotate-0&quot;, &quot;icon&quot;: &quot;info-sign&quot;, &quot;iconColor&quot;: &quot;white&quot;, &quot;markerColor&quot;: &quot;red&quot;, &quot;prefix&quot;: &quot;glyphicon&quot;}\n",
       "            );\n",
       "            marker_3b5019b2ec793ad1f31620068f9128ac.setIcon(icon_04382cc845bbbefec9cf2364e2468433);\n",
       "        \n",
       "    \n",
       "        var popup_d1f641e95a19394ac90b21d8dfbb3095 = L.popup({&quot;maxWidth&quot;: 300});\n",
       "\n",
       "        \n",
       "            \n",
       "                var html_8ed383bc055f717029e54d93628ca881 = $(`&lt;div id=&quot;html_8ed383bc055f717029e54d93628ca881&quot; style=&quot;width: 100.0%; height: 100.0%;&quot;&gt; &lt;div style=&quot;text-align: center;&quot;&gt; &lt;h2&gt;Infos sur la Wilaya&lt;/h2&gt;   &lt;div style=&quot;text-align: center; font-family: Arial, sans-serif;&quot;&gt; &lt;h2 style=&quot;color: blue; font-size: 18px;&quot;&gt;BEJAIA&lt;/h2&gt; &lt;p style=&quot;color: green; font-size: 14px;&quot;&gt;Nombre de Personnes Identifiés : 2362.0&lt;/p&gt; &lt;p style=&quot;color: red; font-size: 14px;&quot;&gt;Nombre de Personnes Non Identifiés : 159.0&lt;/p&gt; &lt;strong&gt;&lt;p&gt;% Points de Vente : 55.97%&lt;/p&gt;&lt;/strong&gt; &lt;strong&gt;&lt;p&gt;% Boutiques : 16.98%&lt;/p&gt;&lt;/strong&gt;&lt;strong&gt; &lt;p&gt;% Boutique B2B : 4.40%&lt;/p&gt;&lt;/strong&gt; &lt;strong&gt; &lt;p&gt;%N/A : 22.64%&lt;/p&gt;&lt;/strong&gt; &lt;/div&gt;  &lt;/div&gt; &lt;/div&gt;`)[0];\n",
       "                popup_d1f641e95a19394ac90b21d8dfbb3095.setContent(html_8ed383bc055f717029e54d93628ca881);\n",
       "            \n",
       "        \n",
       "\n",
       "        marker_3b5019b2ec793ad1f31620068f9128ac.bindPopup(popup_d1f641e95a19394ac90b21d8dfbb3095)\n",
       "        ;\n",
       "\n",
       "        \n",
       "    \n",
       "    \n",
       "            marker_3b5019b2ec793ad1f31620068f9128ac.bindTooltip(\n",
       "                `&lt;div&gt;\n",
       "                     BEJAIA\n",
       "                 &lt;/div&gt;`,\n",
       "                {&quot;sticky&quot;: true}\n",
       "            );\n",
       "        \n",
       "    \n",
       "            var marker_1d9889345b5b39ff669934c6da37eb86 = L.marker(\n",
       "                [36.5374705, 2.8206529],\n",
       "                {}\n",
       "            ).addTo(map_9939f789a7c7cd7600d06daf240f4ab4);\n",
       "        \n",
       "    \n",
       "            var icon_4d828f89a597ec18cfe3a181a998506e = L.AwesomeMarkers.icon(\n",
       "                {&quot;extraClasses&quot;: &quot;fa-rotate-0&quot;, &quot;icon&quot;: &quot;info-sign&quot;, &quot;iconColor&quot;: &quot;white&quot;, &quot;markerColor&quot;: &quot;green&quot;, &quot;prefix&quot;: &quot;glyphicon&quot;}\n",
       "            );\n",
       "            marker_1d9889345b5b39ff669934c6da37eb86.setIcon(icon_4d828f89a597ec18cfe3a181a998506e);\n",
       "        \n",
       "    \n",
       "        var popup_943d8a2ea963efdeaccc8147f30b85e4 = L.popup({&quot;maxWidth&quot;: 300});\n",
       "\n",
       "        \n",
       "            \n",
       "                var html_c10647290c96e0a63f2d121906809ebf = $(`&lt;div id=&quot;html_c10647290c96e0a63f2d121906809ebf&quot; style=&quot;width: 100.0%; height: 100.0%;&quot;&gt; &lt;div style=&quot;text-align: center;&quot;&gt; &lt;h2&gt;Infos sur la Wilaya&lt;/h2&gt;   &lt;div style=&quot;text-align: center; font-family: Arial, sans-serif;&quot;&gt; &lt;h2 style=&quot;color: blue; font-size: 18px;&quot;&gt;BENI TAMOU&lt;/h2&gt; &lt;p style=&quot;color: green; font-size: 14px;&quot;&gt;Nombre de Personnes Identifiés : 1.0&lt;/p&gt; &lt;p style=&quot;color: red; font-size: 14px;&quot;&gt;Nombre de Personnes Non Identifiés : 1.0&lt;/p&gt; &lt;strong&gt;&lt;p&gt;% Points de Vente : nan%&lt;/p&gt;&lt;/strong&gt; &lt;strong&gt;&lt;p&gt;% Boutiques : nan%&lt;/p&gt;&lt;/strong&gt;&lt;strong&gt; &lt;p&gt;% Boutique B2B : 100.00%&lt;/p&gt;&lt;/strong&gt; &lt;strong&gt; &lt;p&gt;%N/A : nan%&lt;/p&gt;&lt;/strong&gt; &lt;/div&gt;  &lt;/div&gt; &lt;/div&gt;`)[0];\n",
       "                popup_943d8a2ea963efdeaccc8147f30b85e4.setContent(html_c10647290c96e0a63f2d121906809ebf);\n",
       "            \n",
       "        \n",
       "\n",
       "        marker_1d9889345b5b39ff669934c6da37eb86.bindPopup(popup_943d8a2ea963efdeaccc8147f30b85e4)\n",
       "        ;\n",
       "\n",
       "        \n",
       "    \n",
       "    \n",
       "            marker_1d9889345b5b39ff669934c6da37eb86.bindTooltip(\n",
       "                `&lt;div&gt;\n",
       "                     BENI TAMOU\n",
       "                 &lt;/div&gt;`,\n",
       "                {&quot;sticky&quot;: true}\n",
       "            );\n",
       "        \n",
       "    \n",
       "            var marker_e167549acf01c319d3a8711bc2c8b063 = L.marker(\n",
       "                [36.7393938, 3.0500748],\n",
       "                {}\n",
       "            ).addTo(map_9939f789a7c7cd7600d06daf240f4ab4);\n",
       "        \n",
       "    \n",
       "            var icon_b806687a2af406651cf92eff37b6ed72 = L.AwesomeMarkers.icon(\n",
       "                {&quot;extraClasses&quot;: &quot;fa-rotate-0&quot;, &quot;icon&quot;: &quot;info-sign&quot;, &quot;iconColor&quot;: &quot;white&quot;, &quot;markerColor&quot;: &quot;green&quot;, &quot;prefix&quot;: &quot;glyphicon&quot;}\n",
       "            );\n",
       "            marker_e167549acf01c319d3a8711bc2c8b063.setIcon(icon_b806687a2af406651cf92eff37b6ed72);\n",
       "        \n",
       "    \n",
       "        var popup_45635cb4a16c0d633f0c8eeb79bae403 = L.popup({&quot;maxWidth&quot;: 300});\n",
       "\n",
       "        \n",
       "            \n",
       "                var html_f8a4fece186b08b3a5600a59874283f2 = $(`&lt;div id=&quot;html_f8a4fece186b08b3a5600a59874283f2&quot; style=&quot;width: 100.0%; height: 100.0%;&quot;&gt; &lt;div style=&quot;text-align: center;&quot;&gt; &lt;h2&gt;Infos sur la Wilaya&lt;/h2&gt;   &lt;div style=&quot;text-align: center; font-family: Arial, sans-serif;&quot;&gt; &lt;h2 style=&quot;color: blue; font-size: 18px;&quot;&gt;BIR MOURAD RAIS&lt;/h2&gt; &lt;p style=&quot;color: green; font-size: 14px;&quot;&gt;Nombre de Personnes Identifiés : 4.0&lt;/p&gt; &lt;p style=&quot;color: red; font-size: 14px;&quot;&gt;Nombre de Personnes Non Identifiés : 4.0&lt;/p&gt; &lt;strong&gt;&lt;p&gt;% Points de Vente : nan%&lt;/p&gt;&lt;/strong&gt; &lt;strong&gt;&lt;p&gt;% Boutiques : nan%&lt;/p&gt;&lt;/strong&gt;&lt;strong&gt; &lt;p&gt;% Boutique B2B : 100.00%&lt;/p&gt;&lt;/strong&gt; &lt;strong&gt; &lt;p&gt;%N/A : nan%&lt;/p&gt;&lt;/strong&gt; &lt;/div&gt;  &lt;/div&gt; &lt;/div&gt;`)[0];\n",
       "                popup_45635cb4a16c0d633f0c8eeb79bae403.setContent(html_f8a4fece186b08b3a5600a59874283f2);\n",
       "            \n",
       "        \n",
       "\n",
       "        marker_e167549acf01c319d3a8711bc2c8b063.bindPopup(popup_45635cb4a16c0d633f0c8eeb79bae403)\n",
       "        ;\n",
       "\n",
       "        \n",
       "    \n",
       "    \n",
       "            marker_e167549acf01c319d3a8711bc2c8b063.bindTooltip(\n",
       "                `&lt;div&gt;\n",
       "                     BIR MOURAD RAIS\n",
       "                 &lt;/div&gt;`,\n",
       "                {&quot;sticky&quot;: true}\n",
       "            );\n",
       "        \n",
       "    \n",
       "            var marker_e7748fc972ec37ce3c3755f910c30197 = L.marker(\n",
       "                [36.716075, 3.0497361],\n",
       "                {}\n",
       "            ).addTo(map_9939f789a7c7cd7600d06daf240f4ab4);\n",
       "        \n",
       "    \n",
       "            var icon_a5c5b9e9b02a082a93f676b3c6a8b0fd = L.AwesomeMarkers.icon(\n",
       "                {&quot;extraClasses&quot;: &quot;fa-rotate-0&quot;, &quot;icon&quot;: &quot;info-sign&quot;, &quot;iconColor&quot;: &quot;white&quot;, &quot;markerColor&quot;: &quot;green&quot;, &quot;prefix&quot;: &quot;glyphicon&quot;}\n",
       "            );\n",
       "            marker_e7748fc972ec37ce3c3755f910c30197.setIcon(icon_a5c5b9e9b02a082a93f676b3c6a8b0fd);\n",
       "        \n",
       "    \n",
       "        var popup_14a152a713521f34df117725f0245d3a = L.popup({&quot;maxWidth&quot;: 300});\n",
       "\n",
       "        \n",
       "            \n",
       "                var html_fd7c5b5d8d8f30b83aedd5a96c8c4324 = $(`&lt;div id=&quot;html_fd7c5b5d8d8f30b83aedd5a96c8c4324&quot; style=&quot;width: 100.0%; height: 100.0%;&quot;&gt; &lt;div style=&quot;text-align: center;&quot;&gt; &lt;h2&gt;Infos sur la Wilaya&lt;/h2&gt;   &lt;div style=&quot;text-align: center; font-family: Arial, sans-serif;&quot;&gt; &lt;h2 style=&quot;color: blue; font-size: 18px;&quot;&gt;BIRKHADEM&lt;/h2&gt; &lt;p style=&quot;color: green; font-size: 14px;&quot;&gt;Nombre de Personnes Identifiés : 2.0&lt;/p&gt; &lt;p style=&quot;color: red; font-size: 14px;&quot;&gt;Nombre de Personnes Non Identifiés : 2.0&lt;/p&gt; &lt;strong&gt;&lt;p&gt;% Points de Vente : nan%&lt;/p&gt;&lt;/strong&gt; &lt;strong&gt;&lt;p&gt;% Boutiques : nan%&lt;/p&gt;&lt;/strong&gt;&lt;strong&gt; &lt;p&gt;% Boutique B2B : 100.00%&lt;/p&gt;&lt;/strong&gt; &lt;strong&gt; &lt;p&gt;%N/A : nan%&lt;/p&gt;&lt;/strong&gt; &lt;/div&gt;  &lt;/div&gt; &lt;/div&gt;`)[0];\n",
       "                popup_14a152a713521f34df117725f0245d3a.setContent(html_fd7c5b5d8d8f30b83aedd5a96c8c4324);\n",
       "            \n",
       "        \n",
       "\n",
       "        marker_e7748fc972ec37ce3c3755f910c30197.bindPopup(popup_14a152a713521f34df117725f0245d3a)\n",
       "        ;\n",
       "\n",
       "        \n",
       "    \n",
       "    \n",
       "            marker_e7748fc972ec37ce3c3755f910c30197.bindTooltip(\n",
       "                `&lt;div&gt;\n",
       "                     BIRKHADEM\n",
       "                 &lt;/div&gt;`,\n",
       "                {&quot;sticky&quot;: true}\n",
       "            );\n",
       "        \n",
       "    \n",
       "            var marker_b1cbc10c37ae2a1a9d20bdc2f302c9e8 = L.marker(\n",
       "                [34.784563500000004, 5.812435334419206],\n",
       "                {}\n",
       "            ).addTo(map_9939f789a7c7cd7600d06daf240f4ab4);\n",
       "        \n",
       "    \n",
       "            var icon_1690a9c29cecb209f5bbb88fe938f831 = L.AwesomeMarkers.icon(\n",
       "                {&quot;extraClasses&quot;: &quot;fa-rotate-0&quot;, &quot;icon&quot;: &quot;info-sign&quot;, &quot;iconColor&quot;: &quot;white&quot;, &quot;markerColor&quot;: &quot;red&quot;, &quot;prefix&quot;: &quot;glyphicon&quot;}\n",
       "            );\n",
       "            marker_b1cbc10c37ae2a1a9d20bdc2f302c9e8.setIcon(icon_1690a9c29cecb209f5bbb88fe938f831);\n",
       "        \n",
       "    \n",
       "        var popup_4523a699a54e3fc3569f80ca59878f4c = L.popup({&quot;maxWidth&quot;: 300});\n",
       "\n",
       "        \n",
       "            \n",
       "                var html_fe5d080fef27c4be0bc2a3a5d4cd802b = $(`&lt;div id=&quot;html_fe5d080fef27c4be0bc2a3a5d4cd802b&quot; style=&quot;width: 100.0%; height: 100.0%;&quot;&gt; &lt;div style=&quot;text-align: center;&quot;&gt; &lt;h2&gt;Infos sur la Wilaya&lt;/h2&gt;   &lt;div style=&quot;text-align: center; font-family: Arial, sans-serif;&quot;&gt; &lt;h2 style=&quot;color: blue; font-size: 18px;&quot;&gt;BISKRA&lt;/h2&gt; &lt;p style=&quot;color: green; font-size: 14px;&quot;&gt;Nombre de Personnes Identifiés : 1348.0&lt;/p&gt; &lt;p style=&quot;color: red; font-size: 14px;&quot;&gt;Nombre de Personnes Non Identifiés : 110.0&lt;/p&gt; &lt;strong&gt;&lt;p&gt;% Points de Vente : 40.91%&lt;/p&gt;&lt;/strong&gt; &lt;strong&gt;&lt;p&gt;% Boutiques : 22.73%&lt;/p&gt;&lt;/strong&gt;&lt;strong&gt; &lt;p&gt;% Boutique B2B : 6.36%&lt;/p&gt;&lt;/strong&gt; &lt;strong&gt; &lt;p&gt;%N/A : 30.00%&lt;/p&gt;&lt;/strong&gt; &lt;/div&gt;  &lt;/div&gt; &lt;/div&gt;`)[0];\n",
       "                popup_4523a699a54e3fc3569f80ca59878f4c.setContent(html_fe5d080fef27c4be0bc2a3a5d4cd802b);\n",
       "            \n",
       "        \n",
       "\n",
       "        marker_b1cbc10c37ae2a1a9d20bdc2f302c9e8.bindPopup(popup_4523a699a54e3fc3569f80ca59878f4c)\n",
       "        ;\n",
       "\n",
       "        \n",
       "    \n",
       "    \n",
       "            marker_b1cbc10c37ae2a1a9d20bdc2f302c9e8.bindTooltip(\n",
       "                `&lt;div&gt;\n",
       "                     BISKRA\n",
       "                 &lt;/div&gt;`,\n",
       "                {&quot;sticky&quot;: true}\n",
       "            );\n",
       "        \n",
       "    \n",
       "            var marker_16bc645bda07b4970d3e04c2da77f68d = L.marker(\n",
       "                [36.4705658, 2.8274937],\n",
       "                {}\n",
       "            ).addTo(map_9939f789a7c7cd7600d06daf240f4ab4);\n",
       "        \n",
       "    \n",
       "            var icon_ee20dbccb04ce921c7fc8c972653518c = L.AwesomeMarkers.icon(\n",
       "                {&quot;extraClasses&quot;: &quot;fa-rotate-0&quot;, &quot;icon&quot;: &quot;info-sign&quot;, &quot;iconColor&quot;: &quot;white&quot;, &quot;markerColor&quot;: &quot;red&quot;, &quot;prefix&quot;: &quot;glyphicon&quot;}\n",
       "            );\n",
       "            marker_16bc645bda07b4970d3e04c2da77f68d.setIcon(icon_ee20dbccb04ce921c7fc8c972653518c);\n",
       "        \n",
       "    \n",
       "        var popup_b0a97d53885cdda00dceccacd4321a98 = L.popup({&quot;maxWidth&quot;: 300});\n",
       "\n",
       "        \n",
       "            \n",
       "                var html_dd2c4a2ee91328626f260d2a83bb88fb = $(`&lt;div id=&quot;html_dd2c4a2ee91328626f260d2a83bb88fb&quot; style=&quot;width: 100.0%; height: 100.0%;&quot;&gt; &lt;div style=&quot;text-align: center;&quot;&gt; &lt;h2&gt;Infos sur la Wilaya&lt;/h2&gt;   &lt;div style=&quot;text-align: center; font-family: Arial, sans-serif;&quot;&gt; &lt;h2 style=&quot;color: blue; font-size: 18px;&quot;&gt;BLIDA&lt;/h2&gt; &lt;p style=&quot;color: green; font-size: 14px;&quot;&gt;Nombre de Personnes Identifiés : 3132.0&lt;/p&gt; &lt;p style=&quot;color: red; font-size: 14px;&quot;&gt;Nombre de Personnes Non Identifiés : 270.0&lt;/p&gt; &lt;strong&gt;&lt;p&gt;% Points de Vente : 64.81%&lt;/p&gt;&lt;/strong&gt; &lt;strong&gt;&lt;p&gt;% Boutiques : 17.41%&lt;/p&gt;&lt;/strong&gt;&lt;strong&gt; &lt;p&gt;% Boutique B2B : 4.07%&lt;/p&gt;&lt;/strong&gt; &lt;strong&gt; &lt;p&gt;%N/A : 13.70%&lt;/p&gt;&lt;/strong&gt; &lt;/div&gt;  &lt;/div&gt; &lt;/div&gt;`)[0];\n",
       "                popup_b0a97d53885cdda00dceccacd4321a98.setContent(html_dd2c4a2ee91328626f260d2a83bb88fb);\n",
       "            \n",
       "        \n",
       "\n",
       "        marker_16bc645bda07b4970d3e04c2da77f68d.bindPopup(popup_b0a97d53885cdda00dceccacd4321a98)\n",
       "        ;\n",
       "\n",
       "        \n",
       "    \n",
       "    \n",
       "            marker_16bc645bda07b4970d3e04c2da77f68d.bindTooltip(\n",
       "                `&lt;div&gt;\n",
       "                     BLIDA\n",
       "                 &lt;/div&gt;`,\n",
       "                {&quot;sticky&quot;: true}\n",
       "            );\n",
       "        \n",
       "    \n",
       "            var marker_93de775f89abe2a1f066bd6b164c40d5 = L.marker(\n",
       "                [36.09620285, 4.660274234539607],\n",
       "                {}\n",
       "            ).addTo(map_9939f789a7c7cd7600d06daf240f4ab4);\n",
       "        \n",
       "    \n",
       "            var icon_2118b57d117f3bc4406095aa761882b7 = L.AwesomeMarkers.icon(\n",
       "                {&quot;extraClasses&quot;: &quot;fa-rotate-0&quot;, &quot;icon&quot;: &quot;info-sign&quot;, &quot;iconColor&quot;: &quot;white&quot;, &quot;markerColor&quot;: &quot;red&quot;, &quot;prefix&quot;: &quot;glyphicon&quot;}\n",
       "            );\n",
       "            marker_93de775f89abe2a1f066bd6b164c40d5.setIcon(icon_2118b57d117f3bc4406095aa761882b7);\n",
       "        \n",
       "    \n",
       "        var popup_04cb1ecae289ca2a7a67fb30dc5d11ff = L.popup({&quot;maxWidth&quot;: 300});\n",
       "\n",
       "        \n",
       "            \n",
       "                var html_7abb2fb0c1a2b2ece5fd7d79bd2d8146 = $(`&lt;div id=&quot;html_7abb2fb0c1a2b2ece5fd7d79bd2d8146&quot; style=&quot;width: 100.0%; height: 100.0%;&quot;&gt; &lt;div style=&quot;text-align: center;&quot;&gt; &lt;h2&gt;Infos sur la Wilaya&lt;/h2&gt;   &lt;div style=&quot;text-align: center; font-family: Arial, sans-serif;&quot;&gt; &lt;h2 style=&quot;color: blue; font-size: 18px;&quot;&gt;BORDJ-BOU-ARRERIDJ&lt;/h2&gt; &lt;p style=&quot;color: green; font-size: 14px;&quot;&gt;Nombre de Personnes Identifiés : 1742.0&lt;/p&gt; &lt;p style=&quot;color: red; font-size: 14px;&quot;&gt;Nombre de Personnes Non Identifiés : 142.0&lt;/p&gt; &lt;strong&gt;&lt;p&gt;% Points de Vente : 49.30%&lt;/p&gt;&lt;/strong&gt; &lt;strong&gt;&lt;p&gt;% Boutiques : 16.90%&lt;/p&gt;&lt;/strong&gt;&lt;strong&gt; &lt;p&gt;% Boutique B2B : 7.75%&lt;/p&gt;&lt;/strong&gt; &lt;strong&gt; &lt;p&gt;%N/A : 26.06%&lt;/p&gt;&lt;/strong&gt; &lt;/div&gt;  &lt;/div&gt; &lt;/div&gt;`)[0];\n",
       "                popup_04cb1ecae289ca2a7a67fb30dc5d11ff.setContent(html_7abb2fb0c1a2b2ece5fd7d79bd2d8146);\n",
       "            \n",
       "        \n",
       "\n",
       "        marker_93de775f89abe2a1f066bd6b164c40d5.bindPopup(popup_04cb1ecae289ca2a7a67fb30dc5d11ff)\n",
       "        ;\n",
       "\n",
       "        \n",
       "    \n",
       "    \n",
       "            marker_93de775f89abe2a1f066bd6b164c40d5.bindTooltip(\n",
       "                `&lt;div&gt;\n",
       "                     BORDJ-BOU-ARRERIDJ\n",
       "                 &lt;/div&gt;`,\n",
       "                {&quot;sticky&quot;: true}\n",
       "            );\n",
       "        \n",
       "    \n",
       "            var marker_24da707ad9ebf5a42d825d4dcd438511 = L.marker(\n",
       "                [36.3322264, 5.0895897],\n",
       "                {}\n",
       "            ).addTo(map_9939f789a7c7cd7600d06daf240f4ab4);\n",
       "        \n",
       "    \n",
       "            var icon_66d4c598913a3c1405ba73aeb862f241 = L.AwesomeMarkers.icon(\n",
       "                {&quot;extraClasses&quot;: &quot;fa-rotate-0&quot;, &quot;icon&quot;: &quot;info-sign&quot;, &quot;iconColor&quot;: &quot;white&quot;, &quot;markerColor&quot;: &quot;green&quot;, &quot;prefix&quot;: &quot;glyphicon&quot;}\n",
       "            );\n",
       "            marker_24da707ad9ebf5a42d825d4dcd438511.setIcon(icon_66d4c598913a3c1405ba73aeb862f241);\n",
       "        \n",
       "    \n",
       "        var popup_ac379fff143dd066500206de0fdcfc68 = L.popup({&quot;maxWidth&quot;: 300});\n",
       "\n",
       "        \n",
       "            \n",
       "                var html_c8f16fda625f114a606cc2009e2f23d8 = $(`&lt;div id=&quot;html_c8f16fda625f114a606cc2009e2f23d8&quot; style=&quot;width: 100.0%; height: 100.0%;&quot;&gt; &lt;div style=&quot;text-align: center;&quot;&gt; &lt;h2&gt;Infos sur la Wilaya&lt;/h2&gt;   &lt;div style=&quot;text-align: center; font-family: Arial, sans-serif;&quot;&gt; &lt;h2 style=&quot;color: blue; font-size: 18px;&quot;&gt;BOUGAA&lt;/h2&gt; &lt;p style=&quot;color: green; font-size: 14px;&quot;&gt;Nombre de Personnes Identifiés : nan&lt;/p&gt; &lt;p style=&quot;color: red; font-size: 14px;&quot;&gt;Nombre de Personnes Non Identifiés : 1.0&lt;/p&gt; &lt;strong&gt;&lt;p&gt;% Points de Vente : nan%&lt;/p&gt;&lt;/strong&gt; &lt;strong&gt;&lt;p&gt;% Boutiques : 100.00%&lt;/p&gt;&lt;/strong&gt;&lt;strong&gt; &lt;p&gt;% Boutique B2B : nan%&lt;/p&gt;&lt;/strong&gt; &lt;strong&gt; &lt;p&gt;%N/A : nan%&lt;/p&gt;&lt;/strong&gt; &lt;/div&gt;  &lt;/div&gt; &lt;/div&gt;`)[0];\n",
       "                popup_ac379fff143dd066500206de0fdcfc68.setContent(html_c8f16fda625f114a606cc2009e2f23d8);\n",
       "            \n",
       "        \n",
       "\n",
       "        marker_24da707ad9ebf5a42d825d4dcd438511.bindPopup(popup_ac379fff143dd066500206de0fdcfc68)\n",
       "        ;\n",
       "\n",
       "        \n",
       "    \n",
       "    \n",
       "            marker_24da707ad9ebf5a42d825d4dcd438511.bindTooltip(\n",
       "                `&lt;div&gt;\n",
       "                     BOUGAA\n",
       "                 &lt;/div&gt;`,\n",
       "                {&quot;sticky&quot;: true}\n",
       "            );\n",
       "        \n",
       "    \n",
       "            var marker_3d60d0835174333f2d5d2dd5e953fb2b = L.marker(\n",
       "                [36.2316481, 3.9082579191011253],\n",
       "                {}\n",
       "            ).addTo(map_9939f789a7c7cd7600d06daf240f4ab4);\n",
       "        \n",
       "    \n",
       "            var icon_ca56bd5eaf901d2b729d4a8dfd2e78c1 = L.AwesomeMarkers.icon(\n",
       "                {&quot;extraClasses&quot;: &quot;fa-rotate-0&quot;, &quot;icon&quot;: &quot;info-sign&quot;, &quot;iconColor&quot;: &quot;white&quot;, &quot;markerColor&quot;: &quot;red&quot;, &quot;prefix&quot;: &quot;glyphicon&quot;}\n",
       "            );\n",
       "            marker_3d60d0835174333f2d5d2dd5e953fb2b.setIcon(icon_ca56bd5eaf901d2b729d4a8dfd2e78c1);\n",
       "        \n",
       "    \n",
       "        var popup_8bd09995aabd3e14e831daac41b0e596 = L.popup({&quot;maxWidth&quot;: 300});\n",
       "\n",
       "        \n",
       "            \n",
       "                var html_db43410c964e9de8eb6e38a80a40bc32 = $(`&lt;div id=&quot;html_db43410c964e9de8eb6e38a80a40bc32&quot; style=&quot;width: 100.0%; height: 100.0%;&quot;&gt; &lt;div style=&quot;text-align: center;&quot;&gt; &lt;h2&gt;Infos sur la Wilaya&lt;/h2&gt;   &lt;div style=&quot;text-align: center; font-family: Arial, sans-serif;&quot;&gt; &lt;h2 style=&quot;color: blue; font-size: 18px;&quot;&gt;BOUIRA&lt;/h2&gt; &lt;p style=&quot;color: green; font-size: 14px;&quot;&gt;Nombre de Personnes Identifiés : 2004.0&lt;/p&gt; &lt;p style=&quot;color: red; font-size: 14px;&quot;&gt;Nombre de Personnes Non Identifiés : 196.0&lt;/p&gt; &lt;strong&gt;&lt;p&gt;% Points de Vente : 41.84%&lt;/p&gt;&lt;/strong&gt; &lt;strong&gt;&lt;p&gt;% Boutiques : 13.78%&lt;/p&gt;&lt;/strong&gt;&lt;strong&gt; &lt;p&gt;% Boutique B2B : 2.04%&lt;/p&gt;&lt;/strong&gt; &lt;strong&gt; &lt;p&gt;%N/A : 42.35%&lt;/p&gt;&lt;/strong&gt; &lt;/div&gt;  &lt;/div&gt; &lt;/div&gt;`)[0];\n",
       "                popup_8bd09995aabd3e14e831daac41b0e596.setContent(html_db43410c964e9de8eb6e38a80a40bc32);\n",
       "            \n",
       "        \n",
       "\n",
       "        marker_3d60d0835174333f2d5d2dd5e953fb2b.bindPopup(popup_8bd09995aabd3e14e831daac41b0e596)\n",
       "        ;\n",
       "\n",
       "        \n",
       "    \n",
       "    \n",
       "            marker_3d60d0835174333f2d5d2dd5e953fb2b.bindTooltip(\n",
       "                `&lt;div&gt;\n",
       "                     BOUIRA\n",
       "                 &lt;/div&gt;`,\n",
       "                {&quot;sticky&quot;: true}\n",
       "            );\n",
       "        \n",
       "    \n",
       "            var marker_55a1f20e0819e5ce1aae51b40ab0cb26 = L.marker(\n",
       "                [36.7358032, 3.6163045700585252],\n",
       "                {}\n",
       "            ).addTo(map_9939f789a7c7cd7600d06daf240f4ab4);\n",
       "        \n",
       "    \n",
       "            var icon_f39e5c6aed862cf5b1a93974593b2c60 = L.AwesomeMarkers.icon(\n",
       "                {&quot;extraClasses&quot;: &quot;fa-rotate-0&quot;, &quot;icon&quot;: &quot;info-sign&quot;, &quot;iconColor&quot;: &quot;white&quot;, &quot;markerColor&quot;: &quot;red&quot;, &quot;prefix&quot;: &quot;glyphicon&quot;}\n",
       "            );\n",
       "            marker_55a1f20e0819e5ce1aae51b40ab0cb26.setIcon(icon_f39e5c6aed862cf5b1a93974593b2c60);\n",
       "        \n",
       "    \n",
       "        var popup_45de6249560c02ff54f7aea9d9663e1d = L.popup({&quot;maxWidth&quot;: 300});\n",
       "\n",
       "        \n",
       "            \n",
       "                var html_ae4818e9796f8d7cd81c6078a5874001 = $(`&lt;div id=&quot;html_ae4818e9796f8d7cd81c6078a5874001&quot; style=&quot;width: 100.0%; height: 100.0%;&quot;&gt; &lt;div style=&quot;text-align: center;&quot;&gt; &lt;h2&gt;Infos sur la Wilaya&lt;/h2&gt;   &lt;div style=&quot;text-align: center; font-family: Arial, sans-serif;&quot;&gt; &lt;h2 style=&quot;color: blue; font-size: 18px;&quot;&gt;BOUMERDES&lt;/h2&gt; &lt;p style=&quot;color: green; font-size: 14px;&quot;&gt;Nombre de Personnes Identifiés : 2162.0&lt;/p&gt; &lt;p style=&quot;color: red; font-size: 14px;&quot;&gt;Nombre de Personnes Non Identifiés : 187.0&lt;/p&gt; &lt;strong&gt;&lt;p&gt;% Points de Vente : 61.50%&lt;/p&gt;&lt;/strong&gt; &lt;strong&gt;&lt;p&gt;% Boutiques : 9.63%&lt;/p&gt;&lt;/strong&gt;&lt;strong&gt; &lt;p&gt;% Boutique B2B : 1.60%&lt;/p&gt;&lt;/strong&gt; &lt;strong&gt; &lt;p&gt;%N/A : 27.27%&lt;/p&gt;&lt;/strong&gt; &lt;/div&gt;  &lt;/div&gt; &lt;/div&gt;`)[0];\n",
       "                popup_45de6249560c02ff54f7aea9d9663e1d.setContent(html_ae4818e9796f8d7cd81c6078a5874001);\n",
       "            \n",
       "        \n",
       "\n",
       "        marker_55a1f20e0819e5ce1aae51b40ab0cb26.bindPopup(popup_45de6249560c02ff54f7aea9d9663e1d)\n",
       "        ;\n",
       "\n",
       "        \n",
       "    \n",
       "    \n",
       "            marker_55a1f20e0819e5ce1aae51b40ab0cb26.bindTooltip(\n",
       "                `&lt;div&gt;\n",
       "                     BOUMERDES\n",
       "                 &lt;/div&gt;`,\n",
       "                {&quot;sticky&quot;: true}\n",
       "            );\n",
       "        \n",
       "    \n",
       "            var marker_85b5eb1df6061faebc33db7e93a7e4b3 = L.marker(\n",
       "                [36.203419999999994, 1.2680696005416272],\n",
       "                {}\n",
       "            ).addTo(map_9939f789a7c7cd7600d06daf240f4ab4);\n",
       "        \n",
       "    \n",
       "            var icon_10cdb147ed574471b3f33234053a4f58 = L.AwesomeMarkers.icon(\n",
       "                {&quot;extraClasses&quot;: &quot;fa-rotate-0&quot;, &quot;icon&quot;: &quot;info-sign&quot;, &quot;iconColor&quot;: &quot;white&quot;, &quot;markerColor&quot;: &quot;red&quot;, &quot;prefix&quot;: &quot;glyphicon&quot;}\n",
       "            );\n",
       "            marker_85b5eb1df6061faebc33db7e93a7e4b3.setIcon(icon_10cdb147ed574471b3f33234053a4f58);\n",
       "        \n",
       "    \n",
       "        var popup_1b5580b2150b434abf7157387b6ef417 = L.popup({&quot;maxWidth&quot;: 300});\n",
       "\n",
       "        \n",
       "            \n",
       "                var html_0fe3e3502082c14f79963155f3ae48b4 = $(`&lt;div id=&quot;html_0fe3e3502082c14f79963155f3ae48b4&quot; style=&quot;width: 100.0%; height: 100.0%;&quot;&gt; &lt;div style=&quot;text-align: center;&quot;&gt; &lt;h2&gt;Infos sur la Wilaya&lt;/h2&gt;   &lt;div style=&quot;text-align: center; font-family: Arial, sans-serif;&quot;&gt; &lt;h2 style=&quot;color: blue; font-size: 18px;&quot;&gt;CHLEF&lt;/h2&gt; &lt;p style=&quot;color: green; font-size: 14px;&quot;&gt;Nombre de Personnes Identifiés : 2735.0&lt;/p&gt; &lt;p style=&quot;color: red; font-size: 14px;&quot;&gt;Nombre de Personnes Non Identifiés : 199.0&lt;/p&gt; &lt;strong&gt;&lt;p&gt;% Points de Vente : 60.30%&lt;/p&gt;&lt;/strong&gt; &lt;strong&gt;&lt;p&gt;% Boutiques : 11.56%&lt;/p&gt;&lt;/strong&gt;&lt;strong&gt; &lt;p&gt;% Boutique B2B : 1.01%&lt;/p&gt;&lt;/strong&gt; &lt;strong&gt; &lt;p&gt;%N/A : 27.14%&lt;/p&gt;&lt;/strong&gt; &lt;/div&gt;  &lt;/div&gt; &lt;/div&gt;`)[0];\n",
       "                popup_1b5580b2150b434abf7157387b6ef417.setContent(html_0fe3e3502082c14f79963155f3ae48b4);\n",
       "            \n",
       "        \n",
       "\n",
       "        marker_85b5eb1df6061faebc33db7e93a7e4b3.bindPopup(popup_1b5580b2150b434abf7157387b6ef417)\n",
       "        ;\n",
       "\n",
       "        \n",
       "    \n",
       "    \n",
       "            marker_85b5eb1df6061faebc33db7e93a7e4b3.bindTooltip(\n",
       "                `&lt;div&gt;\n",
       "                     CHLEF\n",
       "                 &lt;/div&gt;`,\n",
       "                {&quot;sticky&quot;: true}\n",
       "            );\n",
       "        \n",
       "    \n",
       "            var marker_cad37dd7837a97e668f16266b959e70f = L.marker(\n",
       "                [36.3641642, 6.6084281],\n",
       "                {}\n",
       "            ).addTo(map_9939f789a7c7cd7600d06daf240f4ab4);\n",
       "        \n",
       "    \n",
       "            var icon_89ee42979271c65d178d96156a6d931e = L.AwesomeMarkers.icon(\n",
       "                {&quot;extraClasses&quot;: &quot;fa-rotate-0&quot;, &quot;icon&quot;: &quot;info-sign&quot;, &quot;iconColor&quot;: &quot;white&quot;, &quot;markerColor&quot;: &quot;red&quot;, &quot;prefix&quot;: &quot;glyphicon&quot;}\n",
       "            );\n",
       "            marker_cad37dd7837a97e668f16266b959e70f.setIcon(icon_89ee42979271c65d178d96156a6d931e);\n",
       "        \n",
       "    \n",
       "        var popup_e05b244a994a9c4ff30cb0d6e6407653 = L.popup({&quot;maxWidth&quot;: 300});\n",
       "\n",
       "        \n",
       "            \n",
       "                var html_02f2fb9a84a1180c28ebcd4db0f81c95 = $(`&lt;div id=&quot;html_02f2fb9a84a1180c28ebcd4db0f81c95&quot; style=&quot;width: 100.0%; height: 100.0%;&quot;&gt; &lt;div style=&quot;text-align: center;&quot;&gt; &lt;h2&gt;Infos sur la Wilaya&lt;/h2&gt;   &lt;div style=&quot;text-align: center; font-family: Arial, sans-serif;&quot;&gt; &lt;h2 style=&quot;color: blue; font-size: 18px;&quot;&gt;CONSTANTINE&lt;/h2&gt; &lt;p style=&quot;color: green; font-size: 14px;&quot;&gt;Nombre de Personnes Identifiés : 3531.0&lt;/p&gt; &lt;p style=&quot;color: red; font-size: 14px;&quot;&gt;Nombre de Personnes Non Identifiés : 220.0&lt;/p&gt; &lt;strong&gt;&lt;p&gt;% Points de Vente : 54.09%&lt;/p&gt;&lt;/strong&gt; &lt;strong&gt;&lt;p&gt;% Boutiques : 24.09%&lt;/p&gt;&lt;/strong&gt;&lt;strong&gt; &lt;p&gt;% Boutique B2B : 3.64%&lt;/p&gt;&lt;/strong&gt; &lt;strong&gt; &lt;p&gt;%N/A : 18.18%&lt;/p&gt;&lt;/strong&gt; &lt;/div&gt;  &lt;/div&gt; &lt;/div&gt;`)[0];\n",
       "                popup_e05b244a994a9c4ff30cb0d6e6407653.setContent(html_02f2fb9a84a1180c28ebcd4db0f81c95);\n",
       "            \n",
       "        \n",
       "\n",
       "        marker_cad37dd7837a97e668f16266b959e70f.bindPopup(popup_e05b244a994a9c4ff30cb0d6e6407653)\n",
       "        ;\n",
       "\n",
       "        \n",
       "    \n",
       "    \n",
       "            marker_cad37dd7837a97e668f16266b959e70f.bindTooltip(\n",
       "                `&lt;div&gt;\n",
       "                     CONSTANTINE\n",
       "                 &lt;/div&gt;`,\n",
       "                {&quot;sticky&quot;: true}\n",
       "            );\n",
       "        \n",
       "    \n",
       "            var marker_6f475e7d273dbb4199c2ad52b584eed4 = L.marker(\n",
       "                [36.727973, 3.21014],\n",
       "                {}\n",
       "            ).addTo(map_9939f789a7c7cd7600d06daf240f4ab4);\n",
       "        \n",
       "    \n",
       "            var icon_72a995467081e8e9fa4a3f0542c07dc3 = L.AwesomeMarkers.icon(\n",
       "                {&quot;extraClasses&quot;: &quot;fa-rotate-0&quot;, &quot;icon&quot;: &quot;info-sign&quot;, &quot;iconColor&quot;: &quot;white&quot;, &quot;markerColor&quot;: &quot;green&quot;, &quot;prefix&quot;: &quot;glyphicon&quot;}\n",
       "            );\n",
       "            marker_6f475e7d273dbb4199c2ad52b584eed4.setIcon(icon_72a995467081e8e9fa4a3f0542c07dc3);\n",
       "        \n",
       "    \n",
       "        var popup_f12c481ee6f8855f44e00163e4f91962 = L.popup({&quot;maxWidth&quot;: 300});\n",
       "\n",
       "        \n",
       "            \n",
       "                var html_ace928a4d3c85010a2a50646d50c3739 = $(`&lt;div id=&quot;html_ace928a4d3c85010a2a50646d50c3739&quot; style=&quot;width: 100.0%; height: 100.0%;&quot;&gt; &lt;div style=&quot;text-align: center;&quot;&gt; &lt;h2&gt;Infos sur la Wilaya&lt;/h2&gt;   &lt;div style=&quot;text-align: center; font-family: Arial, sans-serif;&quot;&gt; &lt;h2 style=&quot;color: blue; font-size: 18px;&quot;&gt;DAR EL BAIDA&lt;/h2&gt; &lt;p style=&quot;color: green; font-size: 14px;&quot;&gt;Nombre de Personnes Identifiés : 1.0&lt;/p&gt; &lt;p style=&quot;color: red; font-size: 14px;&quot;&gt;Nombre de Personnes Non Identifiés : 1.0&lt;/p&gt; &lt;strong&gt;&lt;p&gt;% Points de Vente : nan%&lt;/p&gt;&lt;/strong&gt; &lt;strong&gt;&lt;p&gt;% Boutiques : nan%&lt;/p&gt;&lt;/strong&gt;&lt;strong&gt; &lt;p&gt;% Boutique B2B : 100.00%&lt;/p&gt;&lt;/strong&gt; &lt;strong&gt; &lt;p&gt;%N/A : nan%&lt;/p&gt;&lt;/strong&gt; &lt;/div&gt;  &lt;/div&gt; &lt;/div&gt;`)[0];\n",
       "                popup_f12c481ee6f8855f44e00163e4f91962.setContent(html_ace928a4d3c85010a2a50646d50c3739);\n",
       "            \n",
       "        \n",
       "\n",
       "        marker_6f475e7d273dbb4199c2ad52b584eed4.bindPopup(popup_f12c481ee6f8855f44e00163e4f91962)\n",
       "        ;\n",
       "\n",
       "        \n",
       "    \n",
       "    \n",
       "            marker_6f475e7d273dbb4199c2ad52b584eed4.bindTooltip(\n",
       "                `&lt;div&gt;\n",
       "                     DAR EL BAIDA\n",
       "                 &lt;/div&gt;`,\n",
       "                {&quot;sticky&quot;: true}\n",
       "            );\n",
       "        \n",
       "    \n",
       "            var marker_bd7bcf0dc57a7d66618624a6c3763195 = L.marker(\n",
       "                [34.342841, 3.217253079090331],\n",
       "                {}\n",
       "            ).addTo(map_9939f789a7c7cd7600d06daf240f4ab4);\n",
       "        \n",
       "    \n",
       "            var icon_7e01cc3e899776aaeb87d9eef4d50918 = L.AwesomeMarkers.icon(\n",
       "                {&quot;extraClasses&quot;: &quot;fa-rotate-0&quot;, &quot;icon&quot;: &quot;info-sign&quot;, &quot;iconColor&quot;: &quot;white&quot;, &quot;markerColor&quot;: &quot;red&quot;, &quot;prefix&quot;: &quot;glyphicon&quot;}\n",
       "            );\n",
       "            marker_bd7bcf0dc57a7d66618624a6c3763195.setIcon(icon_7e01cc3e899776aaeb87d9eef4d50918);\n",
       "        \n",
       "    \n",
       "        var popup_905666a0a9165e1839276016e9c0114f = L.popup({&quot;maxWidth&quot;: 300});\n",
       "\n",
       "        \n",
       "            \n",
       "                var html_737056c3d6e0270fee90f4220a10d656 = $(`&lt;div id=&quot;html_737056c3d6e0270fee90f4220a10d656&quot; style=&quot;width: 100.0%; height: 100.0%;&quot;&gt; &lt;div style=&quot;text-align: center;&quot;&gt; &lt;h2&gt;Infos sur la Wilaya&lt;/h2&gt;   &lt;div style=&quot;text-align: center; font-family: Arial, sans-serif;&quot;&gt; &lt;h2 style=&quot;color: blue; font-size: 18px;&quot;&gt;DJELFA&lt;/h2&gt; &lt;p style=&quot;color: green; font-size: 14px;&quot;&gt;Nombre de Personnes Identifiés : 2653.0&lt;/p&gt; &lt;p style=&quot;color: red; font-size: 14px;&quot;&gt;Nombre de Personnes Non Identifiés : 186.0&lt;/p&gt; &lt;strong&gt;&lt;p&gt;% Points de Vente : 70.43%&lt;/p&gt;&lt;/strong&gt; &lt;strong&gt;&lt;p&gt;% Boutiques : 13.44%&lt;/p&gt;&lt;/strong&gt;&lt;strong&gt; &lt;p&gt;% Boutique B2B : nan%&lt;/p&gt;&lt;/strong&gt; &lt;strong&gt; &lt;p&gt;%N/A : 16.13%&lt;/p&gt;&lt;/strong&gt; &lt;/div&gt;  &lt;/div&gt; &lt;/div&gt;`)[0];\n",
       "                popup_905666a0a9165e1839276016e9c0114f.setContent(html_737056c3d6e0270fee90f4220a10d656);\n",
       "            \n",
       "        \n",
       "\n",
       "        marker_bd7bcf0dc57a7d66618624a6c3763195.bindPopup(popup_905666a0a9165e1839276016e9c0114f)\n",
       "        ;\n",
       "\n",
       "        \n",
       "    \n",
       "    \n",
       "            marker_bd7bcf0dc57a7d66618624a6c3763195.bindTooltip(\n",
       "                `&lt;div&gt;\n",
       "                     DJELFA\n",
       "                 &lt;/div&gt;`,\n",
       "                {&quot;sticky&quot;: true}\n",
       "            );\n",
       "        \n",
       "    \n",
       "            var marker_7353908c6661148c9c6428ea8da6b06f = L.marker(\n",
       "                [36.2244328, 1.6725159],\n",
       "                {}\n",
       "            ).addTo(map_9939f789a7c7cd7600d06daf240f4ab4);\n",
       "        \n",
       "    \n",
       "            var icon_291a36134abbd27d1ee431491c2a8232 = L.AwesomeMarkers.icon(\n",
       "                {&quot;extraClasses&quot;: &quot;fa-rotate-0&quot;, &quot;icon&quot;: &quot;info-sign&quot;, &quot;iconColor&quot;: &quot;white&quot;, &quot;markerColor&quot;: &quot;green&quot;, &quot;prefix&quot;: &quot;glyphicon&quot;}\n",
       "            );\n",
       "            marker_7353908c6661148c9c6428ea8da6b06f.setIcon(icon_291a36134abbd27d1ee431491c2a8232);\n",
       "        \n",
       "    \n",
       "        var popup_910140b6ed950a01b594db5854fb8f96 = L.popup({&quot;maxWidth&quot;: 300});\n",
       "\n",
       "        \n",
       "            \n",
       "                var html_3fd2928dd1dd5639f6aac19aa5bae94e = $(`&lt;div id=&quot;html_3fd2928dd1dd5639f6aac19aa5bae94e&quot; style=&quot;width: 100.0%; height: 100.0%;&quot;&gt; &lt;div style=&quot;text-align: center;&quot;&gt; &lt;h2&gt;Infos sur la Wilaya&lt;/h2&gt;   &lt;div style=&quot;text-align: center; font-family: Arial, sans-serif;&quot;&gt; &lt;h2 style=&quot;color: blue; font-size: 18px;&quot;&gt;EL ATTAF&lt;/h2&gt; &lt;p style=&quot;color: green; font-size: 14px;&quot;&gt;Nombre de Personnes Identifiés : 1.0&lt;/p&gt; &lt;p style=&quot;color: red; font-size: 14px;&quot;&gt;Nombre de Personnes Non Identifiés : 1.0&lt;/p&gt; &lt;strong&gt;&lt;p&gt;% Points de Vente : nan%&lt;/p&gt;&lt;/strong&gt; &lt;strong&gt;&lt;p&gt;% Boutiques : nan%&lt;/p&gt;&lt;/strong&gt;&lt;strong&gt; &lt;p&gt;% Boutique B2B : 100.00%&lt;/p&gt;&lt;/strong&gt; &lt;strong&gt; &lt;p&gt;%N/A : nan%&lt;/p&gt;&lt;/strong&gt; &lt;/div&gt;  &lt;/div&gt; &lt;/div&gt;`)[0];\n",
       "                popup_910140b6ed950a01b594db5854fb8f96.setContent(html_3fd2928dd1dd5639f6aac19aa5bae94e);\n",
       "            \n",
       "        \n",
       "\n",
       "        marker_7353908c6661148c9c6428ea8da6b06f.bindPopup(popup_910140b6ed950a01b594db5854fb8f96)\n",
       "        ;\n",
       "\n",
       "        \n",
       "    \n",
       "    \n",
       "            marker_7353908c6661148c9c6428ea8da6b06f.bindTooltip(\n",
       "                `&lt;div&gt;\n",
       "                     EL ATTAF\n",
       "                 &lt;/div&gt;`,\n",
       "                {&quot;sticky&quot;: true}\n",
       "            );\n",
       "        \n",
       "    \n",
       "            var marker_622b15e9a976817edc3b225079df3251 = L.marker(\n",
       "                [36.7474963, 3.0500935],\n",
       "                {}\n",
       "            ).addTo(map_9939f789a7c7cd7600d06daf240f4ab4);\n",
       "        \n",
       "    \n",
       "            var icon_86a9b45b92864605dbe3fe11c0c24dd6 = L.AwesomeMarkers.icon(\n",
       "                {&quot;extraClasses&quot;: &quot;fa-rotate-0&quot;, &quot;icon&quot;: &quot;info-sign&quot;, &quot;iconColor&quot;: &quot;white&quot;, &quot;markerColor&quot;: &quot;green&quot;, &quot;prefix&quot;: &quot;glyphicon&quot;}\n",
       "            );\n",
       "            marker_622b15e9a976817edc3b225079df3251.setIcon(icon_86a9b45b92864605dbe3fe11c0c24dd6);\n",
       "        \n",
       "    \n",
       "        var popup_ab270ac126a9238163839db74a823e20 = L.popup({&quot;maxWidth&quot;: 300});\n",
       "\n",
       "        \n",
       "            \n",
       "                var html_811631f4feb93ae563db6cc58c691e9c = $(`&lt;div id=&quot;html_811631f4feb93ae563db6cc58c691e9c&quot; style=&quot;width: 100.0%; height: 100.0%;&quot;&gt; &lt;div style=&quot;text-align: center;&quot;&gt; &lt;h2&gt;Infos sur la Wilaya&lt;/h2&gt;   &lt;div style=&quot;text-align: center; font-family: Arial, sans-serif;&quot;&gt; &lt;h2 style=&quot;color: blue; font-size: 18px;&quot;&gt;EL MOURADIA&lt;/h2&gt; &lt;p style=&quot;color: green; font-size: 14px;&quot;&gt;Nombre de Personnes Identifiés : 1.0&lt;/p&gt; &lt;p style=&quot;color: red; font-size: 14px;&quot;&gt;Nombre de Personnes Non Identifiés : 1.0&lt;/p&gt; &lt;strong&gt;&lt;p&gt;% Points de Vente : nan%&lt;/p&gt;&lt;/strong&gt; &lt;strong&gt;&lt;p&gt;% Boutiques : nan%&lt;/p&gt;&lt;/strong&gt;&lt;strong&gt; &lt;p&gt;% Boutique B2B : 100.00%&lt;/p&gt;&lt;/strong&gt; &lt;strong&gt; &lt;p&gt;%N/A : nan%&lt;/p&gt;&lt;/strong&gt; &lt;/div&gt;  &lt;/div&gt; &lt;/div&gt;`)[0];\n",
       "                popup_ab270ac126a9238163839db74a823e20.setContent(html_811631f4feb93ae563db6cc58c691e9c);\n",
       "            \n",
       "        \n",
       "\n",
       "        marker_622b15e9a976817edc3b225079df3251.bindPopup(popup_ab270ac126a9238163839db74a823e20)\n",
       "        ;\n",
       "\n",
       "        \n",
       "    \n",
       "    \n",
       "            marker_622b15e9a976817edc3b225079df3251.bindTooltip(\n",
       "                `&lt;div&gt;\n",
       "                     EL MOURADIA\n",
       "                 &lt;/div&gt;`,\n",
       "                {&quot;sticky&quot;: true}\n",
       "            );\n",
       "        \n",
       "    \n",
       "            var marker_30ea7b698d6df3818aabef0dd7da4dc5 = L.marker(\n",
       "                [32.570302999999996, 1.1259581442818078],\n",
       "                {}\n",
       "            ).addTo(map_9939f789a7c7cd7600d06daf240f4ab4);\n",
       "        \n",
       "    \n",
       "            var icon_dc6fb4d774eaf24054dcdd1896035853 = L.AwesomeMarkers.icon(\n",
       "                {&quot;extraClasses&quot;: &quot;fa-rotate-0&quot;, &quot;icon&quot;: &quot;info-sign&quot;, &quot;iconColor&quot;: &quot;white&quot;, &quot;markerColor&quot;: &quot;green&quot;, &quot;prefix&quot;: &quot;glyphicon&quot;}\n",
       "            );\n",
       "            marker_30ea7b698d6df3818aabef0dd7da4dc5.setIcon(icon_dc6fb4d774eaf24054dcdd1896035853);\n",
       "        \n",
       "    \n",
       "        var popup_3aa1208d0ddc90c77703a22d8f1bd2e7 = L.popup({&quot;maxWidth&quot;: 300});\n",
       "\n",
       "        \n",
       "            \n",
       "                var html_5678cd8f7983f242ee3244c04ed93991 = $(`&lt;div id=&quot;html_5678cd8f7983f242ee3244c04ed93991&quot; style=&quot;width: 100.0%; height: 100.0%;&quot;&gt; &lt;div style=&quot;text-align: center;&quot;&gt; &lt;h2&gt;Infos sur la Wilaya&lt;/h2&gt;   &lt;div style=&quot;text-align: center; font-family: Arial, sans-serif;&quot;&gt; &lt;h2 style=&quot;color: blue; font-size: 18px;&quot;&gt;EL-BAYADH&lt;/h2&gt; &lt;p style=&quot;color: green; font-size: 14px;&quot;&gt;Nombre de Personnes Identifiés : 438.0&lt;/p&gt; &lt;p style=&quot;color: red; font-size: 14px;&quot;&gt;Nombre de Personnes Non Identifiés : 27.0&lt;/p&gt; &lt;strong&gt;&lt;p&gt;% Points de Vente : 62.96%&lt;/p&gt;&lt;/strong&gt; &lt;strong&gt;&lt;p&gt;% Boutiques : 18.52%&lt;/p&gt;&lt;/strong&gt;&lt;strong&gt; &lt;p&gt;% Boutique B2B : nan%&lt;/p&gt;&lt;/strong&gt; &lt;strong&gt; &lt;p&gt;%N/A : 18.52%&lt;/p&gt;&lt;/strong&gt; &lt;/div&gt;  &lt;/div&gt; &lt;/div&gt;`)[0];\n",
       "                popup_3aa1208d0ddc90c77703a22d8f1bd2e7.setContent(html_5678cd8f7983f242ee3244c04ed93991);\n",
       "            \n",
       "        \n",
       "\n",
       "        marker_30ea7b698d6df3818aabef0dd7da4dc5.bindPopup(popup_3aa1208d0ddc90c77703a22d8f1bd2e7)\n",
       "        ;\n",
       "\n",
       "        \n",
       "    \n",
       "    \n",
       "            marker_30ea7b698d6df3818aabef0dd7da4dc5.bindTooltip(\n",
       "                `&lt;div&gt;\n",
       "                     EL-BAYADH\n",
       "                 &lt;/div&gt;`,\n",
       "                {&quot;sticky&quot;: true}\n",
       "            );\n",
       "        \n",
       "    \n",
       "            var marker_845266c049276957e841f59d9e4d2fdc = L.marker(\n",
       "                [30.7071885, 3.048062480049727],\n",
       "                {}\n",
       "            ).addTo(map_9939f789a7c7cd7600d06daf240f4ab4);\n",
       "        \n",
       "    \n",
       "            var icon_ff9d194c3ffbfec6df46b6a66e8f7176 = L.AwesomeMarkers.icon(\n",
       "                {&quot;extraClasses&quot;: &quot;fa-rotate-0&quot;, &quot;icon&quot;: &quot;info-sign&quot;, &quot;iconColor&quot;: &quot;white&quot;, &quot;markerColor&quot;: &quot;green&quot;, &quot;prefix&quot;: &quot;glyphicon&quot;}\n",
       "            );\n",
       "            marker_845266c049276957e841f59d9e4d2fdc.setIcon(icon_ff9d194c3ffbfec6df46b6a66e8f7176);\n",
       "        \n",
       "    \n",
       "        var popup_e7bd3b60cde21b7f402331a29d5bcb51 = L.popup({&quot;maxWidth&quot;: 300});\n",
       "\n",
       "        \n",
       "            \n",
       "                var html_b873b6e82163c5169e03354d22c6b8b3 = $(`&lt;div id=&quot;html_b873b6e82163c5169e03354d22c6b8b3&quot; style=&quot;width: 100.0%; height: 100.0%;&quot;&gt; &lt;div style=&quot;text-align: center;&quot;&gt; &lt;h2&gt;Infos sur la Wilaya&lt;/h2&gt;   &lt;div style=&quot;text-align: center; font-family: Arial, sans-serif;&quot;&gt; &lt;h2 style=&quot;color: blue; font-size: 18px;&quot;&gt;EL-MENIAA&lt;/h2&gt; &lt;p style=&quot;color: green; font-size: 14px;&quot;&gt;Nombre de Personnes Identifiés : 6.0&lt;/p&gt; &lt;p style=&quot;color: red; font-size: 14px;&quot;&gt;Nombre de Personnes Non Identifiés : 1.0&lt;/p&gt; &lt;strong&gt;&lt;p&gt;% Points de Vente : 100.00%&lt;/p&gt;&lt;/strong&gt; &lt;strong&gt;&lt;p&gt;% Boutiques : nan%&lt;/p&gt;&lt;/strong&gt;&lt;strong&gt; &lt;p&gt;% Boutique B2B : nan%&lt;/p&gt;&lt;/strong&gt; &lt;strong&gt; &lt;p&gt;%N/A : nan%&lt;/p&gt;&lt;/strong&gt; &lt;/div&gt;  &lt;/div&gt; &lt;/div&gt;`)[0];\n",
       "                popup_e7bd3b60cde21b7f402331a29d5bcb51.setContent(html_b873b6e82163c5169e03354d22c6b8b3);\n",
       "            \n",
       "        \n",
       "\n",
       "        marker_845266c049276957e841f59d9e4d2fdc.bindPopup(popup_e7bd3b60cde21b7f402331a29d5bcb51)\n",
       "        ;\n",
       "\n",
       "        \n",
       "    \n",
       "    \n",
       "            marker_845266c049276957e841f59d9e4d2fdc.bindTooltip(\n",
       "                `&lt;div&gt;\n",
       "                     EL-MENIAA\n",
       "                 &lt;/div&gt;`,\n",
       "                {&quot;sticky&quot;: true}\n",
       "            );\n",
       "        \n",
       "    \n",
       "            var marker_fc9cbf061ceedd8c7b362d9aba2bc7b7 = L.marker(\n",
       "                [33.215441, 7.155321399098325],\n",
       "                {}\n",
       "            ).addTo(map_9939f789a7c7cd7600d06daf240f4ab4);\n",
       "        \n",
       "    \n",
       "            var icon_7178e3a5742ebfb2214f7139961219c4 = L.AwesomeMarkers.icon(\n",
       "                {&quot;extraClasses&quot;: &quot;fa-rotate-0&quot;, &quot;icon&quot;: &quot;info-sign&quot;, &quot;iconColor&quot;: &quot;white&quot;, &quot;markerColor&quot;: &quot;orange&quot;, &quot;prefix&quot;: &quot;glyphicon&quot;}\n",
       "            );\n",
       "            marker_fc9cbf061ceedd8c7b362d9aba2bc7b7.setIcon(icon_7178e3a5742ebfb2214f7139961219c4);\n",
       "        \n",
       "    \n",
       "        var popup_173553b8768b537391809bb8d837ae45 = L.popup({&quot;maxWidth&quot;: 300});\n",
       "\n",
       "        \n",
       "            \n",
       "                var html_a3a76e54c35b0036167dfd77a0312cec = $(`&lt;div id=&quot;html_a3a76e54c35b0036167dfd77a0312cec&quot; style=&quot;width: 100.0%; height: 100.0%;&quot;&gt; &lt;div style=&quot;text-align: center;&quot;&gt; &lt;h2&gt;Infos sur la Wilaya&lt;/h2&gt;   &lt;div style=&quot;text-align: center; font-family: Arial, sans-serif;&quot;&gt; &lt;h2 style=&quot;color: blue; font-size: 18px;&quot;&gt;EL-OUED&lt;/h2&gt; &lt;p style=&quot;color: green; font-size: 14px;&quot;&gt;Nombre de Personnes Identifiés : 760.0&lt;/p&gt; &lt;p style=&quot;color: red; font-size: 14px;&quot;&gt;Nombre de Personnes Non Identifiés : 74.0&lt;/p&gt; &lt;strong&gt;&lt;p&gt;% Points de Vente : 60.81%&lt;/p&gt;&lt;/strong&gt; &lt;strong&gt;&lt;p&gt;% Boutiques : 14.86%&lt;/p&gt;&lt;/strong&gt;&lt;strong&gt; &lt;p&gt;% Boutique B2B : 1.35%&lt;/p&gt;&lt;/strong&gt; &lt;strong&gt; &lt;p&gt;%N/A : 22.97%&lt;/p&gt;&lt;/strong&gt; &lt;/div&gt;  &lt;/div&gt; &lt;/div&gt;`)[0];\n",
       "                popup_173553b8768b537391809bb8d837ae45.setContent(html_a3a76e54c35b0036167dfd77a0312cec);\n",
       "            \n",
       "        \n",
       "\n",
       "        marker_fc9cbf061ceedd8c7b362d9aba2bc7b7.bindPopup(popup_173553b8768b537391809bb8d837ae45)\n",
       "        ;\n",
       "\n",
       "        \n",
       "    \n",
       "    \n",
       "            marker_fc9cbf061ceedd8c7b362d9aba2bc7b7.bindTooltip(\n",
       "                `&lt;div&gt;\n",
       "                     EL-OUED\n",
       "                 &lt;/div&gt;`,\n",
       "                {&quot;sticky&quot;: true}\n",
       "            );\n",
       "        \n",
       "    \n",
       "            var marker_2e097f6353caaedfed9d5980837e28f3 = L.marker(\n",
       "                [36.67135625, 8.070134002053635],\n",
       "                {}\n",
       "            ).addTo(map_9939f789a7c7cd7600d06daf240f4ab4);\n",
       "        \n",
       "    \n",
       "            var icon_f95d2c3c81fe13da7b819ec3ded1a777 = L.AwesomeMarkers.icon(\n",
       "                {&quot;extraClasses&quot;: &quot;fa-rotate-0&quot;, &quot;icon&quot;: &quot;info-sign&quot;, &quot;iconColor&quot;: &quot;white&quot;, &quot;markerColor&quot;: &quot;green&quot;, &quot;prefix&quot;: &quot;glyphicon&quot;}\n",
       "            );\n",
       "            marker_2e097f6353caaedfed9d5980837e28f3.setIcon(icon_f95d2c3c81fe13da7b819ec3ded1a777);\n",
       "        \n",
       "    \n",
       "        var popup_db84d4d639d36c81ab3aa90c6977a118 = L.popup({&quot;maxWidth&quot;: 300});\n",
       "\n",
       "        \n",
       "            \n",
       "                var html_000c88c7b393dc09930f6e1baa455db7 = $(`&lt;div id=&quot;html_000c88c7b393dc09930f6e1baa455db7&quot; style=&quot;width: 100.0%; height: 100.0%;&quot;&gt; &lt;div style=&quot;text-align: center;&quot;&gt; &lt;h2&gt;Infos sur la Wilaya&lt;/h2&gt;   &lt;div style=&quot;text-align: center; font-family: Arial, sans-serif;&quot;&gt; &lt;h2 style=&quot;color: blue; font-size: 18px;&quot;&gt;EL-TAREF&lt;/h2&gt; &lt;p style=&quot;color: green; font-size: 14px;&quot;&gt;Nombre de Personnes Identifiés : 127.0&lt;/p&gt; &lt;p style=&quot;color: red; font-size: 14px;&quot;&gt;Nombre de Personnes Non Identifiés : 6.0&lt;/p&gt; &lt;strong&gt;&lt;p&gt;% Points de Vente : 50.00%&lt;/p&gt;&lt;/strong&gt; &lt;strong&gt;&lt;p&gt;% Boutiques : nan%&lt;/p&gt;&lt;/strong&gt;&lt;strong&gt; &lt;p&gt;% Boutique B2B : nan%&lt;/p&gt;&lt;/strong&gt; &lt;strong&gt; &lt;p&gt;%N/A : 50.00%&lt;/p&gt;&lt;/strong&gt; &lt;/div&gt;  &lt;/div&gt; &lt;/div&gt;`)[0];\n",
       "                popup_db84d4d639d36c81ab3aa90c6977a118.setContent(html_000c88c7b393dc09930f6e1baa455db7);\n",
       "            \n",
       "        \n",
       "\n",
       "        marker_2e097f6353caaedfed9d5980837e28f3.bindPopup(popup_db84d4d639d36c81ab3aa90c6977a118)\n",
       "        ;\n",
       "\n",
       "        \n",
       "    \n",
       "    \n",
       "            marker_2e097f6353caaedfed9d5980837e28f3.bindTooltip(\n",
       "                `&lt;div&gt;\n",
       "                     EL-TAREF\n",
       "                 &lt;/div&gt;`,\n",
       "                {&quot;sticky&quot;: true}\n",
       "            );\n",
       "        \n",
       "    \n",
       "            var marker_36ff73a138d4befe7ada673b6231c077 = L.marker(\n",
       "                [36.67135625, 8.070134002053635],\n",
       "                {}\n",
       "            ).addTo(map_9939f789a7c7cd7600d06daf240f4ab4);\n",
       "        \n",
       "    \n",
       "            var icon_956f4a94e02c4e1b26aed0c75c9857df = L.AwesomeMarkers.icon(\n",
       "                {&quot;extraClasses&quot;: &quot;fa-rotate-0&quot;, &quot;icon&quot;: &quot;info-sign&quot;, &quot;iconColor&quot;: &quot;white&quot;, &quot;markerColor&quot;: &quot;green&quot;, &quot;prefix&quot;: &quot;glyphicon&quot;}\n",
       "            );\n",
       "            marker_36ff73a138d4befe7ada673b6231c077.setIcon(icon_956f4a94e02c4e1b26aed0c75c9857df);\n",
       "        \n",
       "    \n",
       "        var popup_1b6e0e70c13b462c5b0b8f8c10d114d1 = L.popup({&quot;maxWidth&quot;: 300});\n",
       "\n",
       "        \n",
       "            \n",
       "                var html_70dd9803489a491bbe0c9a619324084b = $(`&lt;div id=&quot;html_70dd9803489a491bbe0c9a619324084b&quot; style=&quot;width: 100.0%; height: 100.0%;&quot;&gt; &lt;div style=&quot;text-align: center;&quot;&gt; &lt;h2&gt;Infos sur la Wilaya&lt;/h2&gt;   &lt;div style=&quot;text-align: center; font-family: Arial, sans-serif;&quot;&gt; &lt;h2 style=&quot;color: blue; font-size: 18px;&quot;&gt;EL-TARF&lt;/h2&gt; &lt;p style=&quot;color: green; font-size: 14px;&quot;&gt;Nombre de Personnes Identifiés : 320.0&lt;/p&gt; &lt;p style=&quot;color: red; font-size: 14px;&quot;&gt;Nombre de Personnes Non Identifiés : 32.0&lt;/p&gt; &lt;strong&gt;&lt;p&gt;% Points de Vente : 62.50%&lt;/p&gt;&lt;/strong&gt; &lt;strong&gt;&lt;p&gt;% Boutiques : 3.12%&lt;/p&gt;&lt;/strong&gt;&lt;strong&gt; &lt;p&gt;% Boutique B2B : nan%&lt;/p&gt;&lt;/strong&gt; &lt;strong&gt; &lt;p&gt;%N/A : 34.38%&lt;/p&gt;&lt;/strong&gt; &lt;/div&gt;  &lt;/div&gt; &lt;/div&gt;`)[0];\n",
       "                popup_1b6e0e70c13b462c5b0b8f8c10d114d1.setContent(html_70dd9803489a491bbe0c9a619324084b);\n",
       "            \n",
       "        \n",
       "\n",
       "        marker_36ff73a138d4befe7ada673b6231c077.bindPopup(popup_1b6e0e70c13b462c5b0b8f8c10d114d1)\n",
       "        ;\n",
       "\n",
       "        \n",
       "    \n",
       "    \n",
       "            marker_36ff73a138d4befe7ada673b6231c077.bindTooltip(\n",
       "                `&lt;div&gt;\n",
       "                     EL-TARF\n",
       "                 &lt;/div&gt;`,\n",
       "                {&quot;sticky&quot;: true}\n",
       "            );\n",
       "        \n",
       "    \n",
       "            var marker_456ab27c1fa34697c9fa36ca12ab5f38 = L.marker(\n",
       "                [33.5598325, 0.7736971],\n",
       "                {}\n",
       "            ).addTo(map_9939f789a7c7cd7600d06daf240f4ab4);\n",
       "        \n",
       "    \n",
       "            var icon_3d2b9cc71a1824189786ecc2e8bfa2e2 = L.AwesomeMarkers.icon(\n",
       "                {&quot;extraClasses&quot;: &quot;fa-rotate-0&quot;, &quot;icon&quot;: &quot;info-sign&quot;, &quot;iconColor&quot;: &quot;white&quot;, &quot;markerColor&quot;: &quot;green&quot;, &quot;prefix&quot;: &quot;glyphicon&quot;}\n",
       "            );\n",
       "            marker_456ab27c1fa34697c9fa36ca12ab5f38.setIcon(icon_3d2b9cc71a1824189786ecc2e8bfa2e2);\n",
       "        \n",
       "    \n",
       "        var popup_02ce2efd4929578719e9ca468bd78f14 = L.popup({&quot;maxWidth&quot;: 300});\n",
       "\n",
       "        \n",
       "            \n",
       "                var html_06cf35ac98021bcf2f7ab6d7d0310002 = $(`&lt;div id=&quot;html_06cf35ac98021bcf2f7ab6d7d0310002&quot; style=&quot;width: 100.0%; height: 100.0%;&quot;&gt; &lt;div style=&quot;text-align: center;&quot;&gt; &lt;h2&gt;Infos sur la Wilaya&lt;/h2&gt;   &lt;div style=&quot;text-align: center; font-family: Arial, sans-serif;&quot;&gt; &lt;h2 style=&quot;color: blue; font-size: 18px;&quot;&gt;ELBAYADH&lt;/h2&gt; &lt;p style=&quot;color: green; font-size: 14px;&quot;&gt;Nombre de Personnes Identifiés : 2.0&lt;/p&gt; &lt;p style=&quot;color: red; font-size: 14px;&quot;&gt;Nombre de Personnes Non Identifiés : 1.0&lt;/p&gt; &lt;strong&gt;&lt;p&gt;% Points de Vente : nan%&lt;/p&gt;&lt;/strong&gt; &lt;strong&gt;&lt;p&gt;% Boutiques : 100.00%&lt;/p&gt;&lt;/strong&gt;&lt;strong&gt; &lt;p&gt;% Boutique B2B : nan%&lt;/p&gt;&lt;/strong&gt; &lt;strong&gt; &lt;p&gt;%N/A : nan%&lt;/p&gt;&lt;/strong&gt; &lt;/div&gt;  &lt;/div&gt; &lt;/div&gt;`)[0];\n",
       "                popup_02ce2efd4929578719e9ca468bd78f14.setContent(html_06cf35ac98021bcf2f7ab6d7d0310002);\n",
       "            \n",
       "        \n",
       "\n",
       "        marker_456ab27c1fa34697c9fa36ca12ab5f38.bindPopup(popup_02ce2efd4929578719e9ca468bd78f14)\n",
       "        ;\n",
       "\n",
       "        \n",
       "    \n",
       "    \n",
       "            marker_456ab27c1fa34697c9fa36ca12ab5f38.bindTooltip(\n",
       "                `&lt;div&gt;\n",
       "                     ELBAYADH\n",
       "                 &lt;/div&gt;`,\n",
       "                {&quot;sticky&quot;: true}\n",
       "            );\n",
       "        \n",
       "    \n",
       "            var marker_73613f5bd729eb25d2e85f9041b4c76c = L.marker(\n",
       "                [36.5133532, 3.8856598],\n",
       "                {}\n",
       "            ).addTo(map_9939f789a7c7cd7600d06daf240f4ab4);\n",
       "        \n",
       "    \n",
       "            var icon_9c123c655e76d2991b8157a0905f9f23 = L.AwesomeMarkers.icon(\n",
       "                {&quot;extraClasses&quot;: &quot;fa-rotate-0&quot;, &quot;icon&quot;: &quot;info-sign&quot;, &quot;iconColor&quot;: &quot;white&quot;, &quot;markerColor&quot;: &quot;green&quot;, &quot;prefix&quot;: &quot;glyphicon&quot;}\n",
       "            );\n",
       "            marker_73613f5bd729eb25d2e85f9041b4c76c.setIcon(icon_9c123c655e76d2991b8157a0905f9f23);\n",
       "        \n",
       "    \n",
       "        var popup_545524397f5d446b3e9ace7a1e6dbbb1 = L.popup({&quot;maxWidth&quot;: 300});\n",
       "\n",
       "        \n",
       "            \n",
       "                var html_49dfd043a46a8607695e621ab7c9fbb4 = $(`&lt;div id=&quot;html_49dfd043a46a8607695e621ab7c9fbb4&quot; style=&quot;width: 100.0%; height: 100.0%;&quot;&gt; &lt;div style=&quot;text-align: center;&quot;&gt; &lt;h2&gt;Infos sur la Wilaya&lt;/h2&gt;   &lt;div style=&quot;text-align: center; font-family: Arial, sans-serif;&quot;&gt; &lt;h2 style=&quot;color: blue; font-size: 18px;&quot;&gt;FRIKAT&lt;/h2&gt; &lt;p style=&quot;color: green; font-size: 14px;&quot;&gt;Nombre de Personnes Identifiés : nan&lt;/p&gt; &lt;p style=&quot;color: red; font-size: 14px;&quot;&gt;Nombre de Personnes Non Identifiés : 1.0&lt;/p&gt; &lt;strong&gt;&lt;p&gt;% Points de Vente : nan%&lt;/p&gt;&lt;/strong&gt; &lt;strong&gt;&lt;p&gt;% Boutiques : 100.00%&lt;/p&gt;&lt;/strong&gt;&lt;strong&gt; &lt;p&gt;% Boutique B2B : nan%&lt;/p&gt;&lt;/strong&gt; &lt;strong&gt; &lt;p&gt;%N/A : nan%&lt;/p&gt;&lt;/strong&gt; &lt;/div&gt;  &lt;/div&gt; &lt;/div&gt;`)[0];\n",
       "                popup_545524397f5d446b3e9ace7a1e6dbbb1.setContent(html_49dfd043a46a8607695e621ab7c9fbb4);\n",
       "            \n",
       "        \n",
       "\n",
       "        marker_73613f5bd729eb25d2e85f9041b4c76c.bindPopup(popup_545524397f5d446b3e9ace7a1e6dbbb1)\n",
       "        ;\n",
       "\n",
       "        \n",
       "    \n",
       "    \n",
       "            marker_73613f5bd729eb25d2e85f9041b4c76c.bindTooltip(\n",
       "                `&lt;div&gt;\n",
       "                     FRIKAT\n",
       "                 &lt;/div&gt;`,\n",
       "                {&quot;sticky&quot;: true}\n",
       "            );\n",
       "        \n",
       "    \n",
       "            var marker_ad3c6fbb5374aa9153c8493470a92ce5 = L.marker(\n",
       "                [32.440827, 3.5618208521628776],\n",
       "                {}\n",
       "            ).addTo(map_9939f789a7c7cd7600d06daf240f4ab4);\n",
       "        \n",
       "    \n",
       "            var icon_c7face95a7636db82e35f06da7038117 = L.AwesomeMarkers.icon(\n",
       "                {&quot;extraClasses&quot;: &quot;fa-rotate-0&quot;, &quot;icon&quot;: &quot;info-sign&quot;, &quot;iconColor&quot;: &quot;white&quot;, &quot;markerColor&quot;: &quot;green&quot;, &quot;prefix&quot;: &quot;glyphicon&quot;}\n",
       "            );\n",
       "            marker_ad3c6fbb5374aa9153c8493470a92ce5.setIcon(icon_c7face95a7636db82e35f06da7038117);\n",
       "        \n",
       "    \n",
       "        var popup_177ff0e76bdb16b74f4b61546d06b8e0 = L.popup({&quot;maxWidth&quot;: 300});\n",
       "\n",
       "        \n",
       "            \n",
       "                var html_de9b675e2d54a89c75aa62d9a581c14c = $(`&lt;div id=&quot;html_de9b675e2d54a89c75aa62d9a581c14c&quot; style=&quot;width: 100.0%; height: 100.0%;&quot;&gt; &lt;div style=&quot;text-align: center;&quot;&gt; &lt;h2&gt;Infos sur la Wilaya&lt;/h2&gt;   &lt;div style=&quot;text-align: center; font-family: Arial, sans-serif;&quot;&gt; &lt;h2 style=&quot;color: blue; font-size: 18px;&quot;&gt;GHARDAIA&lt;/h2&gt; &lt;p style=&quot;color: green; font-size: 14px;&quot;&gt;Nombre de Personnes Identifiés : 392.0&lt;/p&gt; &lt;p style=&quot;color: red; font-size: 14px;&quot;&gt;Nombre de Personnes Non Identifiés : 26.0&lt;/p&gt; &lt;strong&gt;&lt;p&gt;% Points de Vente : 34.62%&lt;/p&gt;&lt;/strong&gt; &lt;strong&gt;&lt;p&gt;% Boutiques : 19.23%&lt;/p&gt;&lt;/strong&gt;&lt;strong&gt; &lt;p&gt;% Boutique B2B : nan%&lt;/p&gt;&lt;/strong&gt; &lt;strong&gt; &lt;p&gt;%N/A : 46.15%&lt;/p&gt;&lt;/strong&gt; &lt;/div&gt;  &lt;/div&gt; &lt;/div&gt;`)[0];\n",
       "                popup_177ff0e76bdb16b74f4b61546d06b8e0.setContent(html_de9b675e2d54a89c75aa62d9a581c14c);\n",
       "            \n",
       "        \n",
       "\n",
       "        marker_ad3c6fbb5374aa9153c8493470a92ce5.bindPopup(popup_177ff0e76bdb16b74f4b61546d06b8e0)\n",
       "        ;\n",
       "\n",
       "        \n",
       "    \n",
       "    \n",
       "            marker_ad3c6fbb5374aa9153c8493470a92ce5.bindTooltip(\n",
       "                `&lt;div&gt;\n",
       "                     GHARDAIA\n",
       "                 &lt;/div&gt;`,\n",
       "                {&quot;sticky&quot;: true}\n",
       "            );\n",
       "        \n",
       "    \n",
       "            var marker_cdde651356c290299b23aa332d01282c = L.marker(\n",
       "                [36.3491635, 7.409498952760461],\n",
       "                {}\n",
       "            ).addTo(map_9939f789a7c7cd7600d06daf240f4ab4);\n",
       "        \n",
       "    \n",
       "            var icon_cbfb0998d2a40878d05f6a4284c7be5f = L.AwesomeMarkers.icon(\n",
       "                {&quot;extraClasses&quot;: &quot;fa-rotate-0&quot;, &quot;icon&quot;: &quot;info-sign&quot;, &quot;iconColor&quot;: &quot;white&quot;, &quot;markerColor&quot;: &quot;orange&quot;, &quot;prefix&quot;: &quot;glyphicon&quot;}\n",
       "            );\n",
       "            marker_cdde651356c290299b23aa332d01282c.setIcon(icon_cbfb0998d2a40878d05f6a4284c7be5f);\n",
       "        \n",
       "    \n",
       "        var popup_49e002f217a651bc400c1664154f1776 = L.popup({&quot;maxWidth&quot;: 300});\n",
       "\n",
       "        \n",
       "            \n",
       "                var html_a131b2211e542ba1774ff8e65196158c = $(`&lt;div id=&quot;html_a131b2211e542ba1774ff8e65196158c&quot; style=&quot;width: 100.0%; height: 100.0%;&quot;&gt; &lt;div style=&quot;text-align: center;&quot;&gt; &lt;h2&gt;Infos sur la Wilaya&lt;/h2&gt;   &lt;div style=&quot;text-align: center; font-family: Arial, sans-serif;&quot;&gt; &lt;h2 style=&quot;color: blue; font-size: 18px;&quot;&gt;GUELMA&lt;/h2&gt; &lt;p style=&quot;color: green; font-size: 14px;&quot;&gt;Nombre de Personnes Identifiés : 930.0&lt;/p&gt; &lt;p style=&quot;color: red; font-size: 14px;&quot;&gt;Nombre de Personnes Non Identifiés : 72.0&lt;/p&gt; &lt;strong&gt;&lt;p&gt;% Points de Vente : 48.61%&lt;/p&gt;&lt;/strong&gt; &lt;strong&gt;&lt;p&gt;% Boutiques : 30.56%&lt;/p&gt;&lt;/strong&gt;&lt;strong&gt; &lt;p&gt;% Boutique B2B : nan%&lt;/p&gt;&lt;/strong&gt; &lt;strong&gt; &lt;p&gt;%N/A : 20.83%&lt;/p&gt;&lt;/strong&gt; &lt;/div&gt;  &lt;/div&gt; &lt;/div&gt;`)[0];\n",
       "                popup_49e002f217a651bc400c1664154f1776.setContent(html_a131b2211e542ba1774ff8e65196158c);\n",
       "            \n",
       "        \n",
       "\n",
       "        marker_cdde651356c290299b23aa332d01282c.bindPopup(popup_49e002f217a651bc400c1664154f1776)\n",
       "        ;\n",
       "\n",
       "        \n",
       "    \n",
       "    \n",
       "            marker_cdde651356c290299b23aa332d01282c.bindTooltip(\n",
       "                `&lt;div&gt;\n",
       "                     GUELMA\n",
       "                 &lt;/div&gt;`,\n",
       "                {&quot;sticky&quot;: true}\n",
       "            );\n",
       "        \n",
       "    \n",
       "            var marker_d20c3481e030f9885e4bda7c95b74516 = L.marker(\n",
       "                [36.5121198, 2.4142888],\n",
       "                {}\n",
       "            ).addTo(map_9939f789a7c7cd7600d06daf240f4ab4);\n",
       "        \n",
       "    \n",
       "            var icon_64be3f21222158ca22dcaba7ebbddf1b = L.AwesomeMarkers.icon(\n",
       "                {&quot;extraClasses&quot;: &quot;fa-rotate-0&quot;, &quot;icon&quot;: &quot;info-sign&quot;, &quot;iconColor&quot;: &quot;white&quot;, &quot;markerColor&quot;: &quot;green&quot;, &quot;prefix&quot;: &quot;glyphicon&quot;}\n",
       "            );\n",
       "            marker_d20c3481e030f9885e4bda7c95b74516.setIcon(icon_64be3f21222158ca22dcaba7ebbddf1b);\n",
       "        \n",
       "    \n",
       "        var popup_ca04a9ad501d5c1b993c503d421da21b = L.popup({&quot;maxWidth&quot;: 300});\n",
       "\n",
       "        \n",
       "            \n",
       "                var html_a7daca687c5c397dac093248aefdc909 = $(`&lt;div id=&quot;html_a7daca687c5c397dac093248aefdc909&quot; style=&quot;width: 100.0%; height: 100.0%;&quot;&gt; &lt;div style=&quot;text-align: center;&quot;&gt; &lt;h2&gt;Infos sur la Wilaya&lt;/h2&gt;   &lt;div style=&quot;text-align: center; font-family: Arial, sans-serif;&quot;&gt; &lt;h2 style=&quot;color: blue; font-size: 18px;&quot;&gt;HADJOUT&lt;/h2&gt; &lt;p style=&quot;color: green; font-size: 14px;&quot;&gt;Nombre de Personnes Identifiés : nan&lt;/p&gt; &lt;p style=&quot;color: red; font-size: 14px;&quot;&gt;Nombre de Personnes Non Identifiés : 1.0&lt;/p&gt; &lt;strong&gt;&lt;p&gt;% Points de Vente : nan%&lt;/p&gt;&lt;/strong&gt; &lt;strong&gt;&lt;p&gt;% Boutiques : 100.00%&lt;/p&gt;&lt;/strong&gt;&lt;strong&gt; &lt;p&gt;% Boutique B2B : nan%&lt;/p&gt;&lt;/strong&gt; &lt;strong&gt; &lt;p&gt;%N/A : nan%&lt;/p&gt;&lt;/strong&gt; &lt;/div&gt;  &lt;/div&gt; &lt;/div&gt;`)[0];\n",
       "                popup_ca04a9ad501d5c1b993c503d421da21b.setContent(html_a7daca687c5c397dac093248aefdc909);\n",
       "            \n",
       "        \n",
       "\n",
       "        marker_d20c3481e030f9885e4bda7c95b74516.bindPopup(popup_ca04a9ad501d5c1b993c503d421da21b)\n",
       "        ;\n",
       "\n",
       "        \n",
       "    \n",
       "    \n",
       "            marker_d20c3481e030f9885e4bda7c95b74516.bindTooltip(\n",
       "                `&lt;div&gt;\n",
       "                     HADJOUT\n",
       "                 &lt;/div&gt;`,\n",
       "                {&quot;sticky&quot;: true}\n",
       "            );\n",
       "        \n",
       "    \n",
       "            var marker_85d56f088b82db798d8c606b8ea5068c = L.marker(\n",
       "                [36.8441177, 6.929106],\n",
       "                {}\n",
       "            ).addTo(map_9939f789a7c7cd7600d06daf240f4ab4);\n",
       "        \n",
       "    \n",
       "            var icon_c9d199725d904cbaac408ee51680119f = L.AwesomeMarkers.icon(\n",
       "                {&quot;extraClasses&quot;: &quot;fa-rotate-0&quot;, &quot;icon&quot;: &quot;info-sign&quot;, &quot;iconColor&quot;: &quot;white&quot;, &quot;markerColor&quot;: &quot;green&quot;, &quot;prefix&quot;: &quot;glyphicon&quot;}\n",
       "            );\n",
       "            marker_85d56f088b82db798d8c606b8ea5068c.setIcon(icon_c9d199725d904cbaac408ee51680119f);\n",
       "        \n",
       "    \n",
       "        var popup_c561cdbd75c81663570688a2786766be = L.popup({&quot;maxWidth&quot;: 300});\n",
       "\n",
       "        \n",
       "            \n",
       "                var html_38a2ca7c230beac81f5c412626f2ebb7 = $(`&lt;div id=&quot;html_38a2ca7c230beac81f5c412626f2ebb7&quot; style=&quot;width: 100.0%; height: 100.0%;&quot;&gt; &lt;div style=&quot;text-align: center;&quot;&gt; &lt;h2&gt;Infos sur la Wilaya&lt;/h2&gt;   &lt;div style=&quot;text-align: center; font-family: Arial, sans-serif;&quot;&gt; &lt;h2 style=&quot;color: blue; font-size: 18px;&quot;&gt;HAMADI KROUMA&lt;/h2&gt; &lt;p style=&quot;color: green; font-size: 14px;&quot;&gt;Nombre de Personnes Identifiés : 1.0&lt;/p&gt; &lt;p style=&quot;color: red; font-size: 14px;&quot;&gt;Nombre de Personnes Non Identifiés : 1.0&lt;/p&gt; &lt;strong&gt;&lt;p&gt;% Points de Vente : nan%&lt;/p&gt;&lt;/strong&gt; &lt;strong&gt;&lt;p&gt;% Boutiques : nan%&lt;/p&gt;&lt;/strong&gt;&lt;strong&gt; &lt;p&gt;% Boutique B2B : 100.00%&lt;/p&gt;&lt;/strong&gt; &lt;strong&gt; &lt;p&gt;%N/A : nan%&lt;/p&gt;&lt;/strong&gt; &lt;/div&gt;  &lt;/div&gt; &lt;/div&gt;`)[0];\n",
       "                popup_c561cdbd75c81663570688a2786766be.setContent(html_38a2ca7c230beac81f5c412626f2ebb7);\n",
       "            \n",
       "        \n",
       "\n",
       "        marker_85d56f088b82db798d8c606b8ea5068c.bindPopup(popup_c561cdbd75c81663570688a2786766be)\n",
       "        ;\n",
       "\n",
       "        \n",
       "    \n",
       "    \n",
       "            marker_85d56f088b82db798d8c606b8ea5068c.bindTooltip(\n",
       "                `&lt;div&gt;\n",
       "                     HAMADI KROUMA\n",
       "                 &lt;/div&gt;`,\n",
       "                {&quot;sticky&quot;: true}\n",
       "            );\n",
       "        \n",
       "    \n",
       "            var marker_078bef76ba2314553cda5fd4aba99544 = L.marker(\n",
       "                [36.72886975, 3.058786576149391],\n",
       "                {}\n",
       "            ).addTo(map_9939f789a7c7cd7600d06daf240f4ab4);\n",
       "        \n",
       "    \n",
       "            var icon_0f4bcd1b6433b1992d8058ab6d60de18 = L.AwesomeMarkers.icon(\n",
       "                {&quot;extraClasses&quot;: &quot;fa-rotate-0&quot;, &quot;icon&quot;: &quot;info-sign&quot;, &quot;iconColor&quot;: &quot;white&quot;, &quot;markerColor&quot;: &quot;green&quot;, &quot;prefix&quot;: &quot;glyphicon&quot;}\n",
       "            );\n",
       "            marker_078bef76ba2314553cda5fd4aba99544.setIcon(icon_0f4bcd1b6433b1992d8058ab6d60de18);\n",
       "        \n",
       "    \n",
       "        var popup_7a0e31fe52e5688627b25a56b97ff004 = L.popup({&quot;maxWidth&quot;: 300});\n",
       "\n",
       "        \n",
       "            \n",
       "                var html_1d2dbc4b1963f1f560ecbc8228809d44 = $(`&lt;div id=&quot;html_1d2dbc4b1963f1f560ecbc8228809d44&quot; style=&quot;width: 100.0%; height: 100.0%;&quot;&gt; &lt;div style=&quot;text-align: center;&quot;&gt; &lt;h2&gt;Infos sur la Wilaya&lt;/h2&gt;   &lt;div style=&quot;text-align: center; font-family: Arial, sans-serif;&quot;&gt; &lt;h2 style=&quot;color: blue; font-size: 18px;&quot;&gt;HUSSEIN DAY&lt;/h2&gt; &lt;p style=&quot;color: green; font-size: 14px;&quot;&gt;Nombre de Personnes Identifiés : 1.0&lt;/p&gt; &lt;p style=&quot;color: red; font-size: 14px;&quot;&gt;Nombre de Personnes Non Identifiés : 1.0&lt;/p&gt; &lt;strong&gt;&lt;p&gt;% Points de Vente : nan%&lt;/p&gt;&lt;/strong&gt; &lt;strong&gt;&lt;p&gt;% Boutiques : nan%&lt;/p&gt;&lt;/strong&gt;&lt;strong&gt; &lt;p&gt;% Boutique B2B : 100.00%&lt;/p&gt;&lt;/strong&gt; &lt;strong&gt; &lt;p&gt;%N/A : nan%&lt;/p&gt;&lt;/strong&gt; &lt;/div&gt;  &lt;/div&gt; &lt;/div&gt;`)[0];\n",
       "                popup_7a0e31fe52e5688627b25a56b97ff004.setContent(html_1d2dbc4b1963f1f560ecbc8228809d44);\n",
       "            \n",
       "        \n",
       "\n",
       "        marker_078bef76ba2314553cda5fd4aba99544.bindPopup(popup_7a0e31fe52e5688627b25a56b97ff004)\n",
       "        ;\n",
       "\n",
       "        \n",
       "    \n",
       "    \n",
       "            marker_078bef76ba2314553cda5fd4aba99544.bindTooltip(\n",
       "                `&lt;div&gt;\n",
       "                     HUSSEIN DAY\n",
       "                 &lt;/div&gt;`,\n",
       "                {&quot;sticky&quot;: true}\n",
       "            );\n",
       "        \n",
       "    \n",
       "            var marker_1b42967b31808426de368548cde202ec = L.marker(\n",
       "                [36.7483971, 3.038184],\n",
       "                {}\n",
       "            ).addTo(map_9939f789a7c7cd7600d06daf240f4ab4);\n",
       "        \n",
       "    \n",
       "            var icon_7001a56d59b8f65a1343c7249fc5ee91 = L.AwesomeMarkers.icon(\n",
       "                {&quot;extraClasses&quot;: &quot;fa-rotate-0&quot;, &quot;icon&quot;: &quot;info-sign&quot;, &quot;iconColor&quot;: &quot;white&quot;, &quot;markerColor&quot;: &quot;green&quot;, &quot;prefix&quot;: &quot;glyphicon&quot;}\n",
       "            );\n",
       "            marker_1b42967b31808426de368548cde202ec.setIcon(icon_7001a56d59b8f65a1343c7249fc5ee91);\n",
       "        \n",
       "    \n",
       "        var popup_04b522b428614a2d483459d281c6c368 = L.popup({&quot;maxWidth&quot;: 300});\n",
       "\n",
       "        \n",
       "            \n",
       "                var html_204b66ed8ccd340d7c6df38b7a1390e6 = $(`&lt;div id=&quot;html_204b66ed8ccd340d7c6df38b7a1390e6&quot; style=&quot;width: 100.0%; height: 100.0%;&quot;&gt; &lt;div style=&quot;text-align: center;&quot;&gt; &lt;h2&gt;Infos sur la Wilaya&lt;/h2&gt;   &lt;div style=&quot;text-align: center; font-family: Arial, sans-serif;&quot;&gt; &lt;h2 style=&quot;color: blue; font-size: 18px;&quot;&gt;HYDRA RHC&lt;/h2&gt; &lt;p style=&quot;color: green; font-size: 14px;&quot;&gt;Nombre de Personnes Identifiés : 2.0&lt;/p&gt; &lt;p style=&quot;color: red; font-size: 14px;&quot;&gt;Nombre de Personnes Non Identifiés : 1.0&lt;/p&gt; &lt;strong&gt;&lt;p&gt;% Points de Vente : nan%&lt;/p&gt;&lt;/strong&gt; &lt;strong&gt;&lt;p&gt;% Boutiques : nan%&lt;/p&gt;&lt;/strong&gt;&lt;strong&gt; &lt;p&gt;% Boutique B2B : 100.00%&lt;/p&gt;&lt;/strong&gt; &lt;strong&gt; &lt;p&gt;%N/A : nan%&lt;/p&gt;&lt;/strong&gt; &lt;/div&gt;  &lt;/div&gt; &lt;/div&gt;`)[0];\n",
       "                popup_04b522b428614a2d483459d281c6c368.setContent(html_204b66ed8ccd340d7c6df38b7a1390e6);\n",
       "            \n",
       "        \n",
       "\n",
       "        marker_1b42967b31808426de368548cde202ec.bindPopup(popup_04b522b428614a2d483459d281c6c368)\n",
       "        ;\n",
       "\n",
       "        \n",
       "    \n",
       "    \n",
       "            marker_1b42967b31808426de368548cde202ec.bindTooltip(\n",
       "                `&lt;div&gt;\n",
       "                     HYDRA RHC\n",
       "                 &lt;/div&gt;`,\n",
       "                {&quot;sticky&quot;: true}\n",
       "            );\n",
       "        \n",
       "    \n",
       "            var marker_4478384e71c8564425a532c834f2defa = L.marker(\n",
       "                [27.852850500000002, 7.8189636047396895],\n",
       "                {}\n",
       "            ).addTo(map_9939f789a7c7cd7600d06daf240f4ab4);\n",
       "        \n",
       "    \n",
       "            var icon_63cb1f84f53f799ba65a6b3c37c61332 = L.AwesomeMarkers.icon(\n",
       "                {&quot;extraClasses&quot;: &quot;fa-rotate-0&quot;, &quot;icon&quot;: &quot;info-sign&quot;, &quot;iconColor&quot;: &quot;white&quot;, &quot;markerColor&quot;: &quot;green&quot;, &quot;prefix&quot;: &quot;glyphicon&quot;}\n",
       "            );\n",
       "            marker_4478384e71c8564425a532c834f2defa.setIcon(icon_63cb1f84f53f799ba65a6b3c37c61332);\n",
       "        \n",
       "    \n",
       "        var popup_7a7883589c70292891f8bd4e8dcf82eb = L.popup({&quot;maxWidth&quot;: 300});\n",
       "\n",
       "        \n",
       "            \n",
       "                var html_793eb233ae659c2fe6858a7d3641c391 = $(`&lt;div id=&quot;html_793eb233ae659c2fe6858a7d3641c391&quot; style=&quot;width: 100.0%; height: 100.0%;&quot;&gt; &lt;div style=&quot;text-align: center;&quot;&gt; &lt;h2&gt;Infos sur la Wilaya&lt;/h2&gt;   &lt;div style=&quot;text-align: center; font-family: Arial, sans-serif;&quot;&gt; &lt;h2 style=&quot;color: blue; font-size: 18px;&quot;&gt;ILLIZI&lt;/h2&gt; &lt;p style=&quot;color: green; font-size: 14px;&quot;&gt;Nombre de Personnes Identifiés : 21.0&lt;/p&gt; &lt;p style=&quot;color: red; font-size: 14px;&quot;&gt;Nombre de Personnes Non Identifiés : 8.0&lt;/p&gt; &lt;strong&gt;&lt;p&gt;% Points de Vente : 87.50%&lt;/p&gt;&lt;/strong&gt; &lt;strong&gt;&lt;p&gt;% Boutiques : 12.50%&lt;/p&gt;&lt;/strong&gt;&lt;strong&gt; &lt;p&gt;% Boutique B2B : nan%&lt;/p&gt;&lt;/strong&gt; &lt;strong&gt; &lt;p&gt;%N/A : nan%&lt;/p&gt;&lt;/strong&gt; &lt;/div&gt;  &lt;/div&gt; &lt;/div&gt;`)[0];\n",
       "                popup_7a7883589c70292891f8bd4e8dcf82eb.setContent(html_793eb233ae659c2fe6858a7d3641c391);\n",
       "            \n",
       "        \n",
       "\n",
       "        marker_4478384e71c8564425a532c834f2defa.bindPopup(popup_7a7883589c70292891f8bd4e8dcf82eb)\n",
       "        ;\n",
       "\n",
       "        \n",
       "    \n",
       "    \n",
       "            marker_4478384e71c8564425a532c834f2defa.bindTooltip(\n",
       "                `&lt;div&gt;\n",
       "                     ILLIZI\n",
       "                 &lt;/div&gt;`,\n",
       "                {&quot;sticky&quot;: true}\n",
       "            );\n",
       "        \n",
       "    \n",
       "            var marker_9094b0f2cb2bea315e4040cbebc7babd = L.marker(\n",
       "                [36.72921875, 5.960777606253644],\n",
       "                {}\n",
       "            ).addTo(map_9939f789a7c7cd7600d06daf240f4ab4);\n",
       "        \n",
       "    \n",
       "            var icon_1eb846bf1c9edbbcb47bf0060857dfa6 = L.AwesomeMarkers.icon(\n",
       "                {&quot;extraClasses&quot;: &quot;fa-rotate-0&quot;, &quot;icon&quot;: &quot;info-sign&quot;, &quot;iconColor&quot;: &quot;white&quot;, &quot;markerColor&quot;: &quot;red&quot;, &quot;prefix&quot;: &quot;glyphicon&quot;}\n",
       "            );\n",
       "            marker_9094b0f2cb2bea315e4040cbebc7babd.setIcon(icon_1eb846bf1c9edbbcb47bf0060857dfa6);\n",
       "        \n",
       "    \n",
       "        var popup_4ec9150a14ae18b6da86a2e786da886c = L.popup({&quot;maxWidth&quot;: 300});\n",
       "\n",
       "        \n",
       "            \n",
       "                var html_142cbd192731077fd63f64810d280220 = $(`&lt;div id=&quot;html_142cbd192731077fd63f64810d280220&quot; style=&quot;width: 100.0%; height: 100.0%;&quot;&gt; &lt;div style=&quot;text-align: center;&quot;&gt; &lt;h2&gt;Infos sur la Wilaya&lt;/h2&gt;   &lt;div style=&quot;text-align: center; font-family: Arial, sans-serif;&quot;&gt; &lt;h2 style=&quot;color: blue; font-size: 18px;&quot;&gt;JIJEL&lt;/h2&gt; &lt;p style=&quot;color: green; font-size: 14px;&quot;&gt;Nombre de Personnes Identifiés : 1651.0&lt;/p&gt; &lt;p style=&quot;color: red; font-size: 14px;&quot;&gt;Nombre de Personnes Non Identifiés : 118.0&lt;/p&gt; &lt;strong&gt;&lt;p&gt;% Points de Vente : 53.39%&lt;/p&gt;&lt;/strong&gt; &lt;strong&gt;&lt;p&gt;% Boutiques : 19.49%&lt;/p&gt;&lt;/strong&gt;&lt;strong&gt; &lt;p&gt;% Boutique B2B : 0.85%&lt;/p&gt;&lt;/strong&gt; &lt;strong&gt; &lt;p&gt;%N/A : 26.27%&lt;/p&gt;&lt;/strong&gt; &lt;/div&gt;  &lt;/div&gt; &lt;/div&gt;`)[0];\n",
       "                popup_4ec9150a14ae18b6da86a2e786da886c.setContent(html_142cbd192731077fd63f64810d280220);\n",
       "            \n",
       "        \n",
       "\n",
       "        marker_9094b0f2cb2bea315e4040cbebc7babd.bindPopup(popup_4ec9150a14ae18b6da86a2e786da886c)\n",
       "        ;\n",
       "\n",
       "        \n",
       "    \n",
       "    \n",
       "            marker_9094b0f2cb2bea315e4040cbebc7babd.bindTooltip(\n",
       "                `&lt;div&gt;\n",
       "                     JIJEL\n",
       "                 &lt;/div&gt;`,\n",
       "                {&quot;sticky&quot;: true}\n",
       "            );\n",
       "        \n",
       "    \n",
       "            var marker_32981d9df2b9dcd7cafd655022814673 = L.marker(\n",
       "                [34.913345500000005, 6.905943093880865],\n",
       "                {}\n",
       "            ).addTo(map_9939f789a7c7cd7600d06daf240f4ab4);\n",
       "        \n",
       "    \n",
       "            var icon_84814a6b6b358d436bddc28e97881601 = L.AwesomeMarkers.icon(\n",
       "                {&quot;extraClasses&quot;: &quot;fa-rotate-0&quot;, &quot;icon&quot;: &quot;info-sign&quot;, &quot;iconColor&quot;: &quot;white&quot;, &quot;markerColor&quot;: &quot;green&quot;, &quot;prefix&quot;: &quot;glyphicon&quot;}\n",
       "            );\n",
       "            marker_32981d9df2b9dcd7cafd655022814673.setIcon(icon_84814a6b6b358d436bddc28e97881601);\n",
       "        \n",
       "    \n",
       "        var popup_5761bc8c02930ef73d290b850ff62dda = L.popup({&quot;maxWidth&quot;: 300});\n",
       "\n",
       "        \n",
       "            \n",
       "                var html_a17d8395a3f3635d65405e0e8b63ddd7 = $(`&lt;div id=&quot;html_a17d8395a3f3635d65405e0e8b63ddd7&quot; style=&quot;width: 100.0%; height: 100.0%;&quot;&gt; &lt;div style=&quot;text-align: center;&quot;&gt; &lt;h2&gt;Infos sur la Wilaya&lt;/h2&gt;   &lt;div style=&quot;text-align: center; font-family: Arial, sans-serif;&quot;&gt; &lt;h2 style=&quot;color: blue; font-size: 18px;&quot;&gt;KHENCHELA&lt;/h2&gt; &lt;p style=&quot;color: green; font-size: 14px;&quot;&gt;Nombre de Personnes Identifiés : 342.0&lt;/p&gt; &lt;p style=&quot;color: red; font-size: 14px;&quot;&gt;Nombre de Personnes Non Identifiés : 30.0&lt;/p&gt; &lt;strong&gt;&lt;p&gt;% Points de Vente : 43.33%&lt;/p&gt;&lt;/strong&gt; &lt;strong&gt;&lt;p&gt;% Boutiques : 30.00%&lt;/p&gt;&lt;/strong&gt;&lt;strong&gt; &lt;p&gt;% Boutique B2B : nan%&lt;/p&gt;&lt;/strong&gt; &lt;strong&gt; &lt;p&gt;%N/A : 26.67%&lt;/p&gt;&lt;/strong&gt; &lt;/div&gt;  &lt;/div&gt; &lt;/div&gt;`)[0];\n",
       "                popup_5761bc8c02930ef73d290b850ff62dda.setContent(html_a17d8395a3f3635d65405e0e8b63ddd7);\n",
       "            \n",
       "        \n",
       "\n",
       "        marker_32981d9df2b9dcd7cafd655022814673.bindPopup(popup_5761bc8c02930ef73d290b850ff62dda)\n",
       "        ;\n",
       "\n",
       "        \n",
       "    \n",
       "    \n",
       "            marker_32981d9df2b9dcd7cafd655022814673.bindTooltip(\n",
       "                `&lt;div&gt;\n",
       "                     KHENCHELA\n",
       "                 &lt;/div&gt;`,\n",
       "                {&quot;sticky&quot;: true}\n",
       "            );\n",
       "        \n",
       "    \n",
       "            var marker_8bf5ad460867ddbd87d80fb0ea53ed51 = L.marker(\n",
       "                [36.7324436, 3.0875358],\n",
       "                {}\n",
       "            ).addTo(map_9939f789a7c7cd7600d06daf240f4ab4);\n",
       "        \n",
       "    \n",
       "            var icon_5d27b6fe4c17832a70d8f3ebe50e31fc = L.AwesomeMarkers.icon(\n",
       "                {&quot;extraClasses&quot;: &quot;fa-rotate-0&quot;, &quot;icon&quot;: &quot;info-sign&quot;, &quot;iconColor&quot;: &quot;white&quot;, &quot;markerColor&quot;: &quot;green&quot;, &quot;prefix&quot;: &quot;glyphicon&quot;}\n",
       "            );\n",
       "            marker_8bf5ad460867ddbd87d80fb0ea53ed51.setIcon(icon_5d27b6fe4c17832a70d8f3ebe50e31fc);\n",
       "        \n",
       "    \n",
       "        var popup_544286802195f1b156aab3785f9f024e = L.popup({&quot;maxWidth&quot;: 300});\n",
       "\n",
       "        \n",
       "            \n",
       "                var html_a63a2989cdcf62303e14ce6d8e87c0a2 = $(`&lt;div id=&quot;html_a63a2989cdcf62303e14ce6d8e87c0a2&quot; style=&quot;width: 100.0%; height: 100.0%;&quot;&gt; &lt;div style=&quot;text-align: center;&quot;&gt; &lt;h2&gt;Infos sur la Wilaya&lt;/h2&gt;   &lt;div style=&quot;text-align: center; font-family: Arial, sans-serif;&quot;&gt; &lt;h2 style=&quot;color: blue; font-size: 18px;&quot;&gt;KOUBA&lt;/h2&gt; &lt;p style=&quot;color: green; font-size: 14px;&quot;&gt;Nombre de Personnes Identifiés : 1.0&lt;/p&gt; &lt;p style=&quot;color: red; font-size: 14px;&quot;&gt;Nombre de Personnes Non Identifiés : 1.0&lt;/p&gt; &lt;strong&gt;&lt;p&gt;% Points de Vente : nan%&lt;/p&gt;&lt;/strong&gt; &lt;strong&gt;&lt;p&gt;% Boutiques : nan%&lt;/p&gt;&lt;/strong&gt;&lt;strong&gt; &lt;p&gt;% Boutique B2B : 100.00%&lt;/p&gt;&lt;/strong&gt; &lt;strong&gt; &lt;p&gt;%N/A : nan%&lt;/p&gt;&lt;/strong&gt; &lt;/div&gt;  &lt;/div&gt; &lt;/div&gt;`)[0];\n",
       "                popup_544286802195f1b156aab3785f9f024e.setContent(html_a63a2989cdcf62303e14ce6d8e87c0a2);\n",
       "            \n",
       "        \n",
       "\n",
       "        marker_8bf5ad460867ddbd87d80fb0ea53ed51.bindPopup(popup_544286802195f1b156aab3785f9f024e)\n",
       "        ;\n",
       "\n",
       "        \n",
       "    \n",
       "    \n",
       "            marker_8bf5ad460867ddbd87d80fb0ea53ed51.bindTooltip(\n",
       "                `&lt;div&gt;\n",
       "                     KOUBA\n",
       "                 &lt;/div&gt;`,\n",
       "                {&quot;sticky&quot;: true}\n",
       "            );\n",
       "        \n",
       "    \n",
       "            var marker_428feb569a37410896d3f5bb2102c1b7 = L.marker(\n",
       "                [33.750440499999996, 2.6431093610595155],\n",
       "                {}\n",
       "            ).addTo(map_9939f789a7c7cd7600d06daf240f4ab4);\n",
       "        \n",
       "    \n",
       "            var icon_e8bbcbc9262ce0e07ad2603251d22828 = L.AwesomeMarkers.icon(\n",
       "                {&quot;extraClasses&quot;: &quot;fa-rotate-0&quot;, &quot;icon&quot;: &quot;info-sign&quot;, &quot;iconColor&quot;: &quot;white&quot;, &quot;markerColor&quot;: &quot;green&quot;, &quot;prefix&quot;: &quot;glyphicon&quot;}\n",
       "            );\n",
       "            marker_428feb569a37410896d3f5bb2102c1b7.setIcon(icon_e8bbcbc9262ce0e07ad2603251d22828);\n",
       "        \n",
       "    \n",
       "        var popup_8752d26e36e5f08924103a7de1341c9f = L.popup({&quot;maxWidth&quot;: 300});\n",
       "\n",
       "        \n",
       "            \n",
       "                var html_749bc9df124c1fa682625c4b2c394d88 = $(`&lt;div id=&quot;html_749bc9df124c1fa682625c4b2c394d88&quot; style=&quot;width: 100.0%; height: 100.0%;&quot;&gt; &lt;div style=&quot;text-align: center;&quot;&gt; &lt;h2&gt;Infos sur la Wilaya&lt;/h2&gt;   &lt;div style=&quot;text-align: center; font-family: Arial, sans-serif;&quot;&gt; &lt;h2 style=&quot;color: blue; font-size: 18px;&quot;&gt;LAGHOUAT&lt;/h2&gt; &lt;p style=&quot;color: green; font-size: 14px;&quot;&gt;Nombre de Personnes Identifiés : 382.0&lt;/p&gt; &lt;p style=&quot;color: red; font-size: 14px;&quot;&gt;Nombre de Personnes Non Identifiés : 34.0&lt;/p&gt; &lt;strong&gt;&lt;p&gt;% Points de Vente : 52.94%&lt;/p&gt;&lt;/strong&gt; &lt;strong&gt;&lt;p&gt;% Boutiques : 29.41%&lt;/p&gt;&lt;/strong&gt;&lt;strong&gt; &lt;p&gt;% Boutique B2B : nan%&lt;/p&gt;&lt;/strong&gt; &lt;strong&gt; &lt;p&gt;%N/A : 17.65%&lt;/p&gt;&lt;/strong&gt; &lt;/div&gt;  &lt;/div&gt; &lt;/div&gt;`)[0];\n",
       "                popup_8752d26e36e5f08924103a7de1341c9f.setContent(html_749bc9df124c1fa682625c4b2c394d88);\n",
       "            \n",
       "        \n",
       "\n",
       "        marker_428feb569a37410896d3f5bb2102c1b7.bindPopup(popup_8752d26e36e5f08924103a7de1341c9f)\n",
       "        ;\n",
       "\n",
       "        \n",
       "    \n",
       "    \n",
       "            marker_428feb569a37410896d3f5bb2102c1b7.bindTooltip(\n",
       "                `&lt;div&gt;\n",
       "                     LAGHOUAT\n",
       "                 &lt;/div&gt;`,\n",
       "                {&quot;sticky&quot;: true}\n",
       "            );\n",
       "        \n",
       "    \n",
       "            var marker_f00b8784a3a05be4d67750a96c6e2b7b = L.marker(\n",
       "                [35.397838500000006, 0.24301949927219488],\n",
       "                {}\n",
       "            ).addTo(map_9939f789a7c7cd7600d06daf240f4ab4);\n",
       "        \n",
       "    \n",
       "            var icon_1229cc52f4ac1324621e6fce5534584b = L.AwesomeMarkers.icon(\n",
       "                {&quot;extraClasses&quot;: &quot;fa-rotate-0&quot;, &quot;icon&quot;: &quot;info-sign&quot;, &quot;iconColor&quot;: &quot;white&quot;, &quot;markerColor&quot;: &quot;red&quot;, &quot;prefix&quot;: &quot;glyphicon&quot;}\n",
       "            );\n",
       "            marker_f00b8784a3a05be4d67750a96c6e2b7b.setIcon(icon_1229cc52f4ac1324621e6fce5534584b);\n",
       "        \n",
       "    \n",
       "        var popup_0ba92ba96d71b3deed623c2a16d8ad52 = L.popup({&quot;maxWidth&quot;: 300});\n",
       "\n",
       "        \n",
       "            \n",
       "                var html_32047a87ce77ddfd495e6bf6280096ce = $(`&lt;div id=&quot;html_32047a87ce77ddfd495e6bf6280096ce&quot; style=&quot;width: 100.0%; height: 100.0%;&quot;&gt; &lt;div style=&quot;text-align: center;&quot;&gt; &lt;h2&gt;Infos sur la Wilaya&lt;/h2&gt;   &lt;div style=&quot;text-align: center; font-family: Arial, sans-serif;&quot;&gt; &lt;h2 style=&quot;color: blue; font-size: 18px;&quot;&gt;MASCARA&lt;/h2&gt; &lt;p style=&quot;color: green; font-size: 14px;&quot;&gt;Nombre de Personnes Identifiés : 2538.0&lt;/p&gt; &lt;p style=&quot;color: red; font-size: 14px;&quot;&gt;Nombre de Personnes Non Identifiés : 213.0&lt;/p&gt; &lt;strong&gt;&lt;p&gt;% Points de Vente : 51.64%&lt;/p&gt;&lt;/strong&gt; &lt;strong&gt;&lt;p&gt;% Boutiques : 30.05%&lt;/p&gt;&lt;/strong&gt;&lt;strong&gt; &lt;p&gt;% Boutique B2B : 0.47%&lt;/p&gt;&lt;/strong&gt; &lt;strong&gt; &lt;p&gt;%N/A : 17.84%&lt;/p&gt;&lt;/strong&gt; &lt;/div&gt;  &lt;/div&gt; &lt;/div&gt;`)[0];\n",
       "                popup_0ba92ba96d71b3deed623c2a16d8ad52.setContent(html_32047a87ce77ddfd495e6bf6280096ce);\n",
       "            \n",
       "        \n",
       "\n",
       "        marker_f00b8784a3a05be4d67750a96c6e2b7b.bindPopup(popup_0ba92ba96d71b3deed623c2a16d8ad52)\n",
       "        ;\n",
       "\n",
       "        \n",
       "    \n",
       "    \n",
       "            marker_f00b8784a3a05be4d67750a96c6e2b7b.bindTooltip(\n",
       "                `&lt;div&gt;\n",
       "                     MASCARA\n",
       "                 &lt;/div&gt;`,\n",
       "                {&quot;sticky&quot;: true}\n",
       "            );\n",
       "        \n",
       "    \n",
       "            var marker_214ab47f6a85f70b9696a731109b0033 = L.marker(\n",
       "                [35.975204500000004, 3.012350405608216],\n",
       "                {}\n",
       "            ).addTo(map_9939f789a7c7cd7600d06daf240f4ab4);\n",
       "        \n",
       "    \n",
       "            var icon_76aee99e2ca49ded475123dded9710c2 = L.AwesomeMarkers.icon(\n",
       "                {&quot;extraClasses&quot;: &quot;fa-rotate-0&quot;, &quot;icon&quot;: &quot;info-sign&quot;, &quot;iconColor&quot;: &quot;white&quot;, &quot;markerColor&quot;: &quot;red&quot;, &quot;prefix&quot;: &quot;glyphicon&quot;}\n",
       "            );\n",
       "            marker_214ab47f6a85f70b9696a731109b0033.setIcon(icon_76aee99e2ca49ded475123dded9710c2);\n",
       "        \n",
       "    \n",
       "        var popup_a055d55833b7031a76dabec782b81dc1 = L.popup({&quot;maxWidth&quot;: 300});\n",
       "\n",
       "        \n",
       "            \n",
       "                var html_2c3a3f742eb85e3c8a8f8b9931dc353c = $(`&lt;div id=&quot;html_2c3a3f742eb85e3c8a8f8b9931dc353c&quot; style=&quot;width: 100.0%; height: 100.0%;&quot;&gt; &lt;div style=&quot;text-align: center;&quot;&gt; &lt;h2&gt;Infos sur la Wilaya&lt;/h2&gt;   &lt;div style=&quot;text-align: center; font-family: Arial, sans-serif;&quot;&gt; &lt;h2 style=&quot;color: blue; font-size: 18px;&quot;&gt;MEDEA&lt;/h2&gt; &lt;p style=&quot;color: green; font-size: 14px;&quot;&gt;Nombre de Personnes Identifiés : 2796.0&lt;/p&gt; &lt;p style=&quot;color: red; font-size: 14px;&quot;&gt;Nombre de Personnes Non Identifiés : 202.0&lt;/p&gt; &lt;strong&gt;&lt;p&gt;% Points de Vente : 66.83%&lt;/p&gt;&lt;/strong&gt; &lt;strong&gt;&lt;p&gt;% Boutiques : 10.89%&lt;/p&gt;&lt;/strong&gt;&lt;strong&gt; &lt;p&gt;% Boutique B2B : 6.44%&lt;/p&gt;&lt;/strong&gt; &lt;strong&gt; &lt;p&gt;%N/A : 15.84%&lt;/p&gt;&lt;/strong&gt; &lt;/div&gt;  &lt;/div&gt; &lt;/div&gt;`)[0];\n",
       "                popup_a055d55833b7031a76dabec782b81dc1.setContent(html_2c3a3f742eb85e3c8a8f8b9931dc353c);\n",
       "            \n",
       "        \n",
       "\n",
       "        marker_214ab47f6a85f70b9696a731109b0033.bindPopup(popup_a055d55833b7031a76dabec782b81dc1)\n",
       "        ;\n",
       "\n",
       "        \n",
       "    \n",
       "    \n",
       "            marker_214ab47f6a85f70b9696a731109b0033.bindTooltip(\n",
       "                `&lt;div&gt;\n",
       "                     MEDEA\n",
       "                 &lt;/div&gt;`,\n",
       "                {&quot;sticky&quot;: true}\n",
       "            );\n",
       "        \n",
       "    \n",
       "            var marker_83a6511f8b27580e5ee4fbd0c653ff06 = L.marker(\n",
       "                [36.6201923, 3.2228135],\n",
       "                {}\n",
       "            ).addTo(map_9939f789a7c7cd7600d06daf240f4ab4);\n",
       "        \n",
       "    \n",
       "            var icon_07634a4ae899cab8b32f7a37c11362b1 = L.AwesomeMarkers.icon(\n",
       "                {&quot;extraClasses&quot;: &quot;fa-rotate-0&quot;, &quot;icon&quot;: &quot;info-sign&quot;, &quot;iconColor&quot;: &quot;white&quot;, &quot;markerColor&quot;: &quot;green&quot;, &quot;prefix&quot;: &quot;glyphicon&quot;}\n",
       "            );\n",
       "            marker_83a6511f8b27580e5ee4fbd0c653ff06.setIcon(icon_07634a4ae899cab8b32f7a37c11362b1);\n",
       "        \n",
       "    \n",
       "        var popup_c4a0ac6a6cc31c8ab5c7f80c19fee142 = L.popup({&quot;maxWidth&quot;: 300});\n",
       "\n",
       "        \n",
       "            \n",
       "                var html_d20196ee2c4f232a93fd9ed3e75168e6 = $(`&lt;div id=&quot;html_d20196ee2c4f232a93fd9ed3e75168e6&quot; style=&quot;width: 100.0%; height: 100.0%;&quot;&gt; &lt;div style=&quot;text-align: center;&quot;&gt; &lt;h2&gt;Infos sur la Wilaya&lt;/h2&gt;   &lt;div style=&quot;text-align: center; font-family: Arial, sans-serif;&quot;&gt; &lt;h2 style=&quot;color: blue; font-size: 18px;&quot;&gt;MEFTAH&lt;/h2&gt; &lt;p style=&quot;color: green; font-size: 14px;&quot;&gt;Nombre de Personnes Identifiés : 1.0&lt;/p&gt; &lt;p style=&quot;color: red; font-size: 14px;&quot;&gt;Nombre de Personnes Non Identifiés : 1.0&lt;/p&gt; &lt;strong&gt;&lt;p&gt;% Points de Vente : nan%&lt;/p&gt;&lt;/strong&gt; &lt;strong&gt;&lt;p&gt;% Boutiques : nan%&lt;/p&gt;&lt;/strong&gt;&lt;strong&gt; &lt;p&gt;% Boutique B2B : 100.00%&lt;/p&gt;&lt;/strong&gt; &lt;strong&gt; &lt;p&gt;%N/A : nan%&lt;/p&gt;&lt;/strong&gt; &lt;/div&gt;  &lt;/div&gt; &lt;/div&gt;`)[0];\n",
       "                popup_c4a0ac6a6cc31c8ab5c7f80c19fee142.setContent(html_d20196ee2c4f232a93fd9ed3e75168e6);\n",
       "            \n",
       "        \n",
       "\n",
       "        marker_83a6511f8b27580e5ee4fbd0c653ff06.bindPopup(popup_c4a0ac6a6cc31c8ab5c7f80c19fee142)\n",
       "        ;\n",
       "\n",
       "        \n",
       "    \n",
       "    \n",
       "            marker_83a6511f8b27580e5ee4fbd0c653ff06.bindTooltip(\n",
       "                `&lt;div&gt;\n",
       "                     MEFTAH\n",
       "                 &lt;/div&gt;`,\n",
       "                {&quot;sticky&quot;: true}\n",
       "            );\n",
       "        \n",
       "    \n",
       "            var marker_5a5ce7d7fec01c4468af115a413238d6 = L.marker(\n",
       "                [36.2502135, 6.165216333385166],\n",
       "                {}\n",
       "            ).addTo(map_9939f789a7c7cd7600d06daf240f4ab4);\n",
       "        \n",
       "    \n",
       "            var icon_c1b9de9a6b59744d62cfdb66b3b37e0f = L.AwesomeMarkers.icon(\n",
       "                {&quot;extraClasses&quot;: &quot;fa-rotate-0&quot;, &quot;icon&quot;: &quot;info-sign&quot;, &quot;iconColor&quot;: &quot;white&quot;, &quot;markerColor&quot;: &quot;red&quot;, &quot;prefix&quot;: &quot;glyphicon&quot;}\n",
       "            );\n",
       "            marker_5a5ce7d7fec01c4468af115a413238d6.setIcon(icon_c1b9de9a6b59744d62cfdb66b3b37e0f);\n",
       "        \n",
       "    \n",
       "        var popup_406a700aba6c397b1dbb089017b1269e = L.popup({&quot;maxWidth&quot;: 300});\n",
       "\n",
       "        \n",
       "            \n",
       "                var html_791f8c1144f868516fa84b88a5e821dc = $(`&lt;div id=&quot;html_791f8c1144f868516fa84b88a5e821dc&quot; style=&quot;width: 100.0%; height: 100.0%;&quot;&gt; &lt;div style=&quot;text-align: center;&quot;&gt; &lt;h2&gt;Infos sur la Wilaya&lt;/h2&gt;   &lt;div style=&quot;text-align: center; font-family: Arial, sans-serif;&quot;&gt; &lt;h2 style=&quot;color: blue; font-size: 18px;&quot;&gt;MILA&lt;/h2&gt; &lt;p style=&quot;color: green; font-size: 14px;&quot;&gt;Nombre de Personnes Identifiés : 2132.0&lt;/p&gt; &lt;p style=&quot;color: red; font-size: 14px;&quot;&gt;Nombre de Personnes Non Identifiés : 143.0&lt;/p&gt; &lt;strong&gt;&lt;p&gt;% Points de Vente : 67.13%&lt;/p&gt;&lt;/strong&gt; &lt;strong&gt;&lt;p&gt;% Boutiques : 10.49%&lt;/p&gt;&lt;/strong&gt;&lt;strong&gt; &lt;p&gt;% Boutique B2B : 0.70%&lt;/p&gt;&lt;/strong&gt; &lt;strong&gt; &lt;p&gt;%N/A : 21.68%&lt;/p&gt;&lt;/strong&gt; &lt;/div&gt;  &lt;/div&gt; &lt;/div&gt;`)[0];\n",
       "                popup_406a700aba6c397b1dbb089017b1269e.setContent(html_791f8c1144f868516fa84b88a5e821dc);\n",
       "            \n",
       "        \n",
       "\n",
       "        marker_5a5ce7d7fec01c4468af115a413238d6.bindPopup(popup_406a700aba6c397b1dbb089017b1269e)\n",
       "        ;\n",
       "\n",
       "        \n",
       "    \n",
       "    \n",
       "            marker_5a5ce7d7fec01c4468af115a413238d6.bindTooltip(\n",
       "                `&lt;div&gt;\n",
       "                     MILA\n",
       "                 &lt;/div&gt;`,\n",
       "                {&quot;sticky&quot;: true}\n",
       "            );\n",
       "        \n",
       "    \n",
       "            var marker_628c54759f98b5500697a3130ae4418f = L.marker(\n",
       "                [36.2502135, 6.165216333385166],\n",
       "                {}\n",
       "            ).addTo(map_9939f789a7c7cd7600d06daf240f4ab4);\n",
       "        \n",
       "    \n",
       "            var icon_59de7af07f0048584b06e0e752f401fd = L.AwesomeMarkers.icon(\n",
       "                {&quot;extraClasses&quot;: &quot;fa-rotate-0&quot;, &quot;icon&quot;: &quot;info-sign&quot;, &quot;iconColor&quot;: &quot;white&quot;, &quot;markerColor&quot;: &quot;green&quot;, &quot;prefix&quot;: &quot;glyphicon&quot;}\n",
       "            );\n",
       "            marker_628c54759f98b5500697a3130ae4418f.setIcon(icon_59de7af07f0048584b06e0e752f401fd);\n",
       "        \n",
       "    \n",
       "        var popup_f4e0459794ba608e6a28f69cf6b52b84 = L.popup({&quot;maxWidth&quot;: 300});\n",
       "\n",
       "        \n",
       "            \n",
       "                var html_1f95f7ca4b5316a636b47ea4b13c763c = $(`&lt;div id=&quot;html_1f95f7ca4b5316a636b47ea4b13c763c&quot; style=&quot;width: 100.0%; height: 100.0%;&quot;&gt; &lt;div style=&quot;text-align: center;&quot;&gt; &lt;h2&gt;Infos sur la Wilaya&lt;/h2&gt;   &lt;div style=&quot;text-align: center; font-family: Arial, sans-serif;&quot;&gt; &lt;h2 style=&quot;color: blue; font-size: 18px;&quot;&gt;MILA &lt;/h2&gt; &lt;p style=&quot;color: green; font-size: 14px;&quot;&gt;Nombre de Personnes Identifiés : nan&lt;/p&gt; &lt;p style=&quot;color: red; font-size: 14px;&quot;&gt;Nombre de Personnes Non Identifiés : 1.0&lt;/p&gt; &lt;strong&gt;&lt;p&gt;% Points de Vente : nan%&lt;/p&gt;&lt;/strong&gt; &lt;strong&gt;&lt;p&gt;% Boutiques : 100.00%&lt;/p&gt;&lt;/strong&gt;&lt;strong&gt; &lt;p&gt;% Boutique B2B : nan%&lt;/p&gt;&lt;/strong&gt; &lt;strong&gt; &lt;p&gt;%N/A : nan%&lt;/p&gt;&lt;/strong&gt; &lt;/div&gt;  &lt;/div&gt; &lt;/div&gt;`)[0];\n",
       "                popup_f4e0459794ba608e6a28f69cf6b52b84.setContent(html_1f95f7ca4b5316a636b47ea4b13c763c);\n",
       "            \n",
       "        \n",
       "\n",
       "        marker_628c54759f98b5500697a3130ae4418f.bindPopup(popup_f4e0459794ba608e6a28f69cf6b52b84)\n",
       "        ;\n",
       "\n",
       "        \n",
       "    \n",
       "    \n",
       "            marker_628c54759f98b5500697a3130ae4418f.bindTooltip(\n",
       "                `&lt;div&gt;\n",
       "                     MILA \n",
       "                 &lt;/div&gt;`,\n",
       "                {&quot;sticky&quot;: true}\n",
       "            );\n",
       "        \n",
       "    \n",
       "            var marker_6d4a243e474f4ce88ac4c5ea95cc6a98 = L.marker(\n",
       "                [36.0026915, 0.3686866818796205],\n",
       "                {}\n",
       "            ).addTo(map_9939f789a7c7cd7600d06daf240f4ab4);\n",
       "        \n",
       "    \n",
       "            var icon_04a62169ba6bca7e6614e45fe90099c1 = L.AwesomeMarkers.icon(\n",
       "                {&quot;extraClasses&quot;: &quot;fa-rotate-0&quot;, &quot;icon&quot;: &quot;info-sign&quot;, &quot;iconColor&quot;: &quot;white&quot;, &quot;markerColor&quot;: &quot;red&quot;, &quot;prefix&quot;: &quot;glyphicon&quot;}\n",
       "            );\n",
       "            marker_6d4a243e474f4ce88ac4c5ea95cc6a98.setIcon(icon_04a62169ba6bca7e6614e45fe90099c1);\n",
       "        \n",
       "    \n",
       "        var popup_458e8b141fe4ac6d0aa12d0c2d80e115 = L.popup({&quot;maxWidth&quot;: 300});\n",
       "\n",
       "        \n",
       "            \n",
       "                var html_43c5e388e4c48dcdccff15e5ca0e8b21 = $(`&lt;div id=&quot;html_43c5e388e4c48dcdccff15e5ca0e8b21&quot; style=&quot;width: 100.0%; height: 100.0%;&quot;&gt; &lt;div style=&quot;text-align: center;&quot;&gt; &lt;h2&gt;Infos sur la Wilaya&lt;/h2&gt;   &lt;div style=&quot;text-align: center; font-family: Arial, sans-serif;&quot;&gt; &lt;h2 style=&quot;color: blue; font-size: 18px;&quot;&gt;MOSTAGANEM&lt;/h2&gt; &lt;p style=&quot;color: green; font-size: 14px;&quot;&gt;Nombre de Personnes Identifiés : 2669.0&lt;/p&gt; &lt;p style=&quot;color: red; font-size: 14px;&quot;&gt;Nombre de Personnes Non Identifiés : 185.0&lt;/p&gt; &lt;strong&gt;&lt;p&gt;% Points de Vente : 55.68%&lt;/p&gt;&lt;/strong&gt; &lt;strong&gt;&lt;p&gt;% Boutiques : 23.78%&lt;/p&gt;&lt;/strong&gt;&lt;strong&gt; &lt;p&gt;% Boutique B2B : 2.16%&lt;/p&gt;&lt;/strong&gt; &lt;strong&gt; &lt;p&gt;%N/A : 18.38%&lt;/p&gt;&lt;/strong&gt; &lt;/div&gt;  &lt;/div&gt; &lt;/div&gt;`)[0];\n",
       "                popup_458e8b141fe4ac6d0aa12d0c2d80e115.setContent(html_43c5e388e4c48dcdccff15e5ca0e8b21);\n",
       "            \n",
       "        \n",
       "\n",
       "        marker_6d4a243e474f4ce88ac4c5ea95cc6a98.bindPopup(popup_458e8b141fe4ac6d0aa12d0c2d80e115)\n",
       "        ;\n",
       "\n",
       "        \n",
       "    \n",
       "    \n",
       "            marker_6d4a243e474f4ce88ac4c5ea95cc6a98.bindTooltip(\n",
       "                `&lt;div&gt;\n",
       "                     MOSTAGANEM\n",
       "                 &lt;/div&gt;`,\n",
       "                {&quot;sticky&quot;: true}\n",
       "            );\n",
       "        \n",
       "    \n",
       "            var marker_6b724e89edad1be58cae2bd3ebc76967 = L.marker(\n",
       "                [35.1300205, 4.200310671358427],\n",
       "                {}\n",
       "            ).addTo(map_9939f789a7c7cd7600d06daf240f4ab4);\n",
       "        \n",
       "    \n",
       "            var icon_e228c04b38b9fc45b37207dc6392db69 = L.AwesomeMarkers.icon(\n",
       "                {&quot;extraClasses&quot;: &quot;fa-rotate-0&quot;, &quot;icon&quot;: &quot;info-sign&quot;, &quot;iconColor&quot;: &quot;white&quot;, &quot;markerColor&quot;: &quot;red&quot;, &quot;prefix&quot;: &quot;glyphicon&quot;}\n",
       "            );\n",
       "            marker_6b724e89edad1be58cae2bd3ebc76967.setIcon(icon_e228c04b38b9fc45b37207dc6392db69);\n",
       "        \n",
       "    \n",
       "        var popup_7b44b47ef0fd0939c806494c9de266f5 = L.popup({&quot;maxWidth&quot;: 300});\n",
       "\n",
       "        \n",
       "            \n",
       "                var html_b8a06146bbd2d981b2a7a6b10732af59 = $(`&lt;div id=&quot;html_b8a06146bbd2d981b2a7a6b10732af59&quot; style=&quot;width: 100.0%; height: 100.0%;&quot;&gt; &lt;div style=&quot;text-align: center;&quot;&gt; &lt;h2&gt;Infos sur la Wilaya&lt;/h2&gt;   &lt;div style=&quot;text-align: center; font-family: Arial, sans-serif;&quot;&gt; &lt;h2 style=&quot;color: blue; font-size: 18px;&quot;&gt;MSILA&lt;/h2&gt; &lt;p style=&quot;color: green; font-size: 14px;&quot;&gt;Nombre de Personnes Identifiés : 2165.0&lt;/p&gt; &lt;p style=&quot;color: red; font-size: 14px;&quot;&gt;Nombre de Personnes Non Identifiés : 172.0&lt;/p&gt; &lt;strong&gt;&lt;p&gt;% Points de Vente : 54.65%&lt;/p&gt;&lt;/strong&gt; &lt;strong&gt;&lt;p&gt;% Boutiques : 18.02%&lt;/p&gt;&lt;/strong&gt;&lt;strong&gt; &lt;p&gt;% Boutique B2B : 1.16%&lt;/p&gt;&lt;/strong&gt; &lt;strong&gt; &lt;p&gt;%N/A : 26.16%&lt;/p&gt;&lt;/strong&gt; &lt;/div&gt;  &lt;/div&gt; &lt;/div&gt;`)[0];\n",
       "                popup_7b44b47ef0fd0939c806494c9de266f5.setContent(html_b8a06146bbd2d981b2a7a6b10732af59);\n",
       "            \n",
       "        \n",
       "\n",
       "        marker_6b724e89edad1be58cae2bd3ebc76967.bindPopup(popup_7b44b47ef0fd0939c806494c9de266f5)\n",
       "        ;\n",
       "\n",
       "        \n",
       "    \n",
       "    \n",
       "            marker_6b724e89edad1be58cae2bd3ebc76967.bindTooltip(\n",
       "                `&lt;div&gt;\n",
       "                     MSILA\n",
       "                 &lt;/div&gt;`,\n",
       "                {&quot;sticky&quot;: true}\n",
       "            );\n",
       "        \n",
       "    \n",
       "            var marker_b618b93431079157036ad91401a036f6 = L.marker(\n",
       "                [33.2336851, -0.8151958390775952],\n",
       "                {}\n",
       "            ).addTo(map_9939f789a7c7cd7600d06daf240f4ab4);\n",
       "        \n",
       "    \n",
       "            var icon_ee3d3bb925230ca4ca557952f951ac5a = L.AwesomeMarkers.icon(\n",
       "                {&quot;extraClasses&quot;: &quot;fa-rotate-0&quot;, &quot;icon&quot;: &quot;info-sign&quot;, &quot;iconColor&quot;: &quot;white&quot;, &quot;markerColor&quot;: &quot;green&quot;, &quot;prefix&quot;: &quot;glyphicon&quot;}\n",
       "            );\n",
       "            marker_b618b93431079157036ad91401a036f6.setIcon(icon_ee3d3bb925230ca4ca557952f951ac5a);\n",
       "        \n",
       "    \n",
       "        var popup_91471aaa3cf0421f3a1c8f685ee31103 = L.popup({&quot;maxWidth&quot;: 300});\n",
       "\n",
       "        \n",
       "            \n",
       "                var html_a0a2fd3b1756599d114563bab37c5e3f = $(`&lt;div id=&quot;html_a0a2fd3b1756599d114563bab37c5e3f&quot; style=&quot;width: 100.0%; height: 100.0%;&quot;&gt; &lt;div style=&quot;text-align: center;&quot;&gt; &lt;h2&gt;Infos sur la Wilaya&lt;/h2&gt;   &lt;div style=&quot;text-align: center; font-family: Arial, sans-serif;&quot;&gt; &lt;h2 style=&quot;color: blue; font-size: 18px;&quot;&gt;NAAMA&lt;/h2&gt; &lt;p style=&quot;color: green; font-size: 14px;&quot;&gt;Nombre de Personnes Identifiés : 320.0&lt;/p&gt; &lt;p style=&quot;color: red; font-size: 14px;&quot;&gt;Nombre de Personnes Non Identifiés : 17.0&lt;/p&gt; &lt;strong&gt;&lt;p&gt;% Points de Vente : 52.94%&lt;/p&gt;&lt;/strong&gt; &lt;strong&gt;&lt;p&gt;% Boutiques : 11.76%&lt;/p&gt;&lt;/strong&gt;&lt;strong&gt; &lt;p&gt;% Boutique B2B : nan%&lt;/p&gt;&lt;/strong&gt; &lt;strong&gt; &lt;p&gt;%N/A : 35.29%&lt;/p&gt;&lt;/strong&gt; &lt;/div&gt;  &lt;/div&gt; &lt;/div&gt;`)[0];\n",
       "                popup_91471aaa3cf0421f3a1c8f685ee31103.setContent(html_a0a2fd3b1756599d114563bab37c5e3f);\n",
       "            \n",
       "        \n",
       "\n",
       "        marker_b618b93431079157036ad91401a036f6.bindPopup(popup_91471aaa3cf0421f3a1c8f685ee31103)\n",
       "        ;\n",
       "\n",
       "        \n",
       "    \n",
       "    \n",
       "            marker_b618b93431079157036ad91401a036f6.bindTooltip(\n",
       "                `&lt;div&gt;\n",
       "                     NAAMA\n",
       "                 &lt;/div&gt;`,\n",
       "                {&quot;sticky&quot;: true}\n",
       "            );\n",
       "        \n",
       "    \n",
       "            var marker_2c1b3db5e2b5a82382d0f23c645c0b03 = L.marker(\n",
       "                [33.2336851, -0.8151958390775952],\n",
       "                {}\n",
       "            ).addTo(map_9939f789a7c7cd7600d06daf240f4ab4);\n",
       "        \n",
       "    \n",
       "            var icon_6b02c3d76b1657f55e48476d33fc8a49 = L.AwesomeMarkers.icon(\n",
       "                {&quot;extraClasses&quot;: &quot;fa-rotate-0&quot;, &quot;icon&quot;: &quot;info-sign&quot;, &quot;iconColor&quot;: &quot;white&quot;, &quot;markerColor&quot;: &quot;green&quot;, &quot;prefix&quot;: &quot;glyphicon&quot;}\n",
       "            );\n",
       "            marker_2c1b3db5e2b5a82382d0f23c645c0b03.setIcon(icon_6b02c3d76b1657f55e48476d33fc8a49);\n",
       "        \n",
       "    \n",
       "        var popup_0efe061459e6b7960efd9850b48fe675 = L.popup({&quot;maxWidth&quot;: 300});\n",
       "\n",
       "        \n",
       "            \n",
       "                var html_f91d83e4a3ce7576ca8650d468bdd3e5 = $(`&lt;div id=&quot;html_f91d83e4a3ce7576ca8650d468bdd3e5&quot; style=&quot;width: 100.0%; height: 100.0%;&quot;&gt; &lt;div style=&quot;text-align: center;&quot;&gt; &lt;h2&gt;Infos sur la Wilaya&lt;/h2&gt;   &lt;div style=&quot;text-align: center; font-family: Arial, sans-serif;&quot;&gt; &lt;h2 style=&quot;color: blue; font-size: 18px;&quot;&gt;NAAMA &lt;/h2&gt; &lt;p style=&quot;color: green; font-size: 14px;&quot;&gt;Nombre de Personnes Identifiés : nan&lt;/p&gt; &lt;p style=&quot;color: red; font-size: 14px;&quot;&gt;Nombre de Personnes Non Identifiés : 1.0&lt;/p&gt; &lt;strong&gt;&lt;p&gt;% Points de Vente : nan%&lt;/p&gt;&lt;/strong&gt; &lt;strong&gt;&lt;p&gt;% Boutiques : nan%&lt;/p&gt;&lt;/strong&gt;&lt;strong&gt; &lt;p&gt;% Boutique B2B : nan%&lt;/p&gt;&lt;/strong&gt; &lt;strong&gt; &lt;p&gt;%N/A : 100.00%&lt;/p&gt;&lt;/strong&gt; &lt;/div&gt;  &lt;/div&gt; &lt;/div&gt;`)[0];\n",
       "                popup_0efe061459e6b7960efd9850b48fe675.setContent(html_f91d83e4a3ce7576ca8650d468bdd3e5);\n",
       "            \n",
       "        \n",
       "\n",
       "        marker_2c1b3db5e2b5a82382d0f23c645c0b03.bindPopup(popup_0efe061459e6b7960efd9850b48fe675)\n",
       "        ;\n",
       "\n",
       "        \n",
       "    \n",
       "    \n",
       "            marker_2c1b3db5e2b5a82382d0f23c645c0b03.bindTooltip(\n",
       "                `&lt;div&gt;\n",
       "                     NAAMA \n",
       "                 &lt;/div&gt;`,\n",
       "                {&quot;sticky&quot;: true}\n",
       "            );\n",
       "        \n",
       "    \n",
       "            var marker_4dc44309475e61f3526778757da70274 = L.marker(\n",
       "                [35.7044415, -0.6502981],\n",
       "                {}\n",
       "            ).addTo(map_9939f789a7c7cd7600d06daf240f4ab4);\n",
       "        \n",
       "    \n",
       "            var icon_1afff325dff8f7533b6a129de00ef049 = L.AwesomeMarkers.icon(\n",
       "                {&quot;extraClasses&quot;: &quot;fa-rotate-0&quot;, &quot;icon&quot;: &quot;info-sign&quot;, &quot;iconColor&quot;: &quot;white&quot;, &quot;markerColor&quot;: &quot;red&quot;, &quot;prefix&quot;: &quot;glyphicon&quot;}\n",
       "            );\n",
       "            marker_4dc44309475e61f3526778757da70274.setIcon(icon_1afff325dff8f7533b6a129de00ef049);\n",
       "        \n",
       "    \n",
       "        var popup_f567d4574e5be2c1cb2c81f5f4e978ce = L.popup({&quot;maxWidth&quot;: 300});\n",
       "\n",
       "        \n",
       "            \n",
       "                var html_46b80208558f6e54a50d6d0f6b59ec52 = $(`&lt;div id=&quot;html_46b80208558f6e54a50d6d0f6b59ec52&quot; style=&quot;width: 100.0%; height: 100.0%;&quot;&gt; &lt;div style=&quot;text-align: center;&quot;&gt; &lt;h2&gt;Infos sur la Wilaya&lt;/h2&gt;   &lt;div style=&quot;text-align: center; font-family: Arial, sans-serif;&quot;&gt; &lt;h2 style=&quot;color: blue; font-size: 18px;&quot;&gt;ORAN&lt;/h2&gt; &lt;p style=&quot;color: green; font-size: 14px;&quot;&gt;Nombre de Personnes Identifiés : 5898.0&lt;/p&gt; &lt;p style=&quot;color: red; font-size: 14px;&quot;&gt;Nombre de Personnes Non Identifiés : 433.0&lt;/p&gt; &lt;strong&gt;&lt;p&gt;% Points de Vente : 51.73%&lt;/p&gt;&lt;/strong&gt; &lt;strong&gt;&lt;p&gt;% Boutiques : 28.18%&lt;/p&gt;&lt;/strong&gt;&lt;strong&gt; &lt;p&gt;% Boutique B2B : 6.00%&lt;/p&gt;&lt;/strong&gt; &lt;strong&gt; &lt;p&gt;%N/A : 14.09%&lt;/p&gt;&lt;/strong&gt; &lt;/div&gt;  &lt;/div&gt; &lt;/div&gt;`)[0];\n",
       "                popup_f567d4574e5be2c1cb2c81f5f4e978ce.setContent(html_46b80208558f6e54a50d6d0f6b59ec52);\n",
       "            \n",
       "        \n",
       "\n",
       "        marker_4dc44309475e61f3526778757da70274.bindPopup(popup_f567d4574e5be2c1cb2c81f5f4e978ce)\n",
       "        ;\n",
       "\n",
       "        \n",
       "    \n",
       "    \n",
       "            marker_4dc44309475e61f3526778757da70274.bindTooltip(\n",
       "                `&lt;div&gt;\n",
       "                     ORAN\n",
       "                 &lt;/div&gt;`,\n",
       "                {&quot;sticky&quot;: true}\n",
       "            );\n",
       "        \n",
       "    \n",
       "            var marker_01c9c1e9fd0c55fe212f055ed95d3223 = L.marker(\n",
       "                [35.7044415, -0.6502981],\n",
       "                {}\n",
       "            ).addTo(map_9939f789a7c7cd7600d06daf240f4ab4);\n",
       "        \n",
       "    \n",
       "            var icon_efb57ac1b7cad1078e669a02390cb105 = L.AwesomeMarkers.icon(\n",
       "                {&quot;extraClasses&quot;: &quot;fa-rotate-0&quot;, &quot;icon&quot;: &quot;info-sign&quot;, &quot;iconColor&quot;: &quot;white&quot;, &quot;markerColor&quot;: &quot;green&quot;, &quot;prefix&quot;: &quot;glyphicon&quot;}\n",
       "            );\n",
       "            marker_01c9c1e9fd0c55fe212f055ed95d3223.setIcon(icon_efb57ac1b7cad1078e669a02390cb105);\n",
       "        \n",
       "    \n",
       "        var popup_80d287cd227885040bc2eebeb1be9b7a = L.popup({&quot;maxWidth&quot;: 300});\n",
       "\n",
       "        \n",
       "            \n",
       "                var html_4e95e8d2db5f9be1490ea591143aa8c0 = $(`&lt;div id=&quot;html_4e95e8d2db5f9be1490ea591143aa8c0&quot; style=&quot;width: 100.0%; height: 100.0%;&quot;&gt; &lt;div style=&quot;text-align: center;&quot;&gt; &lt;h2&gt;Infos sur la Wilaya&lt;/h2&gt;   &lt;div style=&quot;text-align: center; font-family: Arial, sans-serif;&quot;&gt; &lt;h2 style=&quot;color: blue; font-size: 18px;&quot;&gt;ORAN &lt;/h2&gt; &lt;p style=&quot;color: green; font-size: 14px;&quot;&gt;Nombre de Personnes Identifiés : 2.0&lt;/p&gt; &lt;p style=&quot;color: red; font-size: 14px;&quot;&gt;Nombre de Personnes Non Identifiés : 1.0&lt;/p&gt; &lt;strong&gt;&lt;p&gt;% Points de Vente : nan%&lt;/p&gt;&lt;/strong&gt; &lt;strong&gt;&lt;p&gt;% Boutiques : nan%&lt;/p&gt;&lt;/strong&gt;&lt;strong&gt; &lt;p&gt;% Boutique B2B : 100.00%&lt;/p&gt;&lt;/strong&gt; &lt;strong&gt; &lt;p&gt;%N/A : nan%&lt;/p&gt;&lt;/strong&gt; &lt;/div&gt;  &lt;/div&gt; &lt;/div&gt;`)[0];\n",
       "                popup_80d287cd227885040bc2eebeb1be9b7a.setContent(html_4e95e8d2db5f9be1490ea591143aa8c0);\n",
       "            \n",
       "        \n",
       "\n",
       "        marker_01c9c1e9fd0c55fe212f055ed95d3223.bindPopup(popup_80d287cd227885040bc2eebeb1be9b7a)\n",
       "        ;\n",
       "\n",
       "        \n",
       "    \n",
       "    \n",
       "            marker_01c9c1e9fd0c55fe212f055ed95d3223.bindTooltip(\n",
       "                `&lt;div&gt;\n",
       "                     ORAN \n",
       "                 &lt;/div&gt;`,\n",
       "                {&quot;sticky&quot;: true}\n",
       "            );\n",
       "        \n",
       "    \n",
       "            var marker_92d89691b93a49a08067d80462f40874 = L.marker(\n",
       "                [30.9980145, 6.766453639443059],\n",
       "                {}\n",
       "            ).addTo(map_9939f789a7c7cd7600d06daf240f4ab4);\n",
       "        \n",
       "    \n",
       "            var icon_a7024e3635d9aa5d32e3291edbc135ac = L.AwesomeMarkers.icon(\n",
       "                {&quot;extraClasses&quot;: &quot;fa-rotate-0&quot;, &quot;icon&quot;: &quot;info-sign&quot;, &quot;iconColor&quot;: &quot;white&quot;, &quot;markerColor&quot;: &quot;orange&quot;, &quot;prefix&quot;: &quot;glyphicon&quot;}\n",
       "            );\n",
       "            marker_92d89691b93a49a08067d80462f40874.setIcon(icon_a7024e3635d9aa5d32e3291edbc135ac);\n",
       "        \n",
       "    \n",
       "        var popup_3969425236fe3657b378c035c124d200 = L.popup({&quot;maxWidth&quot;: 300});\n",
       "\n",
       "        \n",
       "            \n",
       "                var html_f07851c3d50b17128241c251a95a89e9 = $(`&lt;div id=&quot;html_f07851c3d50b17128241c251a95a89e9&quot; style=&quot;width: 100.0%; height: 100.0%;&quot;&gt; &lt;div style=&quot;text-align: center;&quot;&gt; &lt;h2&gt;Infos sur la Wilaya&lt;/h2&gt;   &lt;div style=&quot;text-align: center; font-family: Arial, sans-serif;&quot;&gt; &lt;h2 style=&quot;color: blue; font-size: 18px;&quot;&gt;OUARGLA&lt;/h2&gt; &lt;p style=&quot;color: green; font-size: 14px;&quot;&gt;Nombre de Personnes Identifiés : 458.0&lt;/p&gt; &lt;p style=&quot;color: red; font-size: 14px;&quot;&gt;Nombre de Personnes Non Identifiés : 63.0&lt;/p&gt; &lt;strong&gt;&lt;p&gt;% Points de Vente : 47.62%&lt;/p&gt;&lt;/strong&gt; &lt;strong&gt;&lt;p&gt;% Boutiques : 31.75%&lt;/p&gt;&lt;/strong&gt;&lt;strong&gt; &lt;p&gt;% Boutique B2B : 3.17%&lt;/p&gt;&lt;/strong&gt; &lt;strong&gt; &lt;p&gt;%N/A : 17.46%&lt;/p&gt;&lt;/strong&gt; &lt;/div&gt;  &lt;/div&gt; &lt;/div&gt;`)[0];\n",
       "                popup_3969425236fe3657b378c035c124d200.setContent(html_f07851c3d50b17128241c251a95a89e9);\n",
       "            \n",
       "        \n",
       "\n",
       "        marker_92d89691b93a49a08067d80462f40874.bindPopup(popup_3969425236fe3657b378c035c124d200)\n",
       "        ;\n",
       "\n",
       "        \n",
       "    \n",
       "    \n",
       "            marker_92d89691b93a49a08067d80462f40874.bindTooltip(\n",
       "                `&lt;div&gt;\n",
       "                     OUARGLA\n",
       "                 &lt;/div&gt;`,\n",
       "                {&quot;sticky&quot;: true}\n",
       "            );\n",
       "        \n",
       "    \n",
       "            var marker_e9b8fe473d82cd6e1bf377fe56372d76 = L.marker(\n",
       "                [36.538760749999994, 2.8254572910571505],\n",
       "                {}\n",
       "            ).addTo(map_9939f789a7c7cd7600d06daf240f4ab4);\n",
       "        \n",
       "    \n",
       "            var icon_52ceb0061ef1bbdae26db100c6333446 = L.AwesomeMarkers.icon(\n",
       "                {&quot;extraClasses&quot;: &quot;fa-rotate-0&quot;, &quot;icon&quot;: &quot;info-sign&quot;, &quot;iconColor&quot;: &quot;white&quot;, &quot;markerColor&quot;: &quot;green&quot;, &quot;prefix&quot;: &quot;glyphicon&quot;}\n",
       "            );\n",
       "            marker_e9b8fe473d82cd6e1bf377fe56372d76.setIcon(icon_52ceb0061ef1bbdae26db100c6333446);\n",
       "        \n",
       "    \n",
       "        var popup_6d475e24b146a799e5299c99b6077562 = L.popup({&quot;maxWidth&quot;: 300});\n",
       "\n",
       "        \n",
       "            \n",
       "                var html_3d570236bef48734a45e71e6821ec77b = $(`&lt;div id=&quot;html_3d570236bef48734a45e71e6821ec77b&quot; style=&quot;width: 100.0%; height: 100.0%;&quot;&gt; &lt;div style=&quot;text-align: center;&quot;&gt; &lt;h2&gt;Infos sur la Wilaya&lt;/h2&gt;   &lt;div style=&quot;text-align: center; font-family: Arial, sans-serif;&quot;&gt; &lt;h2 style=&quot;color: blue; font-size: 18px;&quot;&gt;OUED ALLEUG&lt;/h2&gt; &lt;p style=&quot;color: green; font-size: 14px;&quot;&gt;Nombre de Personnes Identifiés : nan&lt;/p&gt; &lt;p style=&quot;color: red; font-size: 14px;&quot;&gt;Nombre de Personnes Non Identifiés : 1.0&lt;/p&gt; &lt;strong&gt;&lt;p&gt;% Points de Vente : nan%&lt;/p&gt;&lt;/strong&gt; &lt;strong&gt;&lt;p&gt;% Boutiques : nan%&lt;/p&gt;&lt;/strong&gt;&lt;strong&gt; &lt;p&gt;% Boutique B2B : 100.00%&lt;/p&gt;&lt;/strong&gt; &lt;strong&gt; &lt;p&gt;%N/A : nan%&lt;/p&gt;&lt;/strong&gt; &lt;/div&gt;  &lt;/div&gt; &lt;/div&gt;`)[0];\n",
       "                popup_6d475e24b146a799e5299c99b6077562.setContent(html_3d570236bef48734a45e71e6821ec77b);\n",
       "            \n",
       "        \n",
       "\n",
       "        marker_e9b8fe473d82cd6e1bf377fe56372d76.bindPopup(popup_6d475e24b146a799e5299c99b6077562)\n",
       "        ;\n",
       "\n",
       "        \n",
       "    \n",
       "    \n",
       "            marker_e9b8fe473d82cd6e1bf377fe56372d76.bindTooltip(\n",
       "                `&lt;div&gt;\n",
       "                     OUED ALLEUG\n",
       "                 &lt;/div&gt;`,\n",
       "                {&quot;sticky&quot;: true}\n",
       "            );\n",
       "        \n",
       "    \n",
       "            var marker_5568a5c542b91cf482b969e62eb0e982 = L.marker(\n",
       "                [35.9555271, 0.900899],\n",
       "                {}\n",
       "            ).addTo(map_9939f789a7c7cd7600d06daf240f4ab4);\n",
       "        \n",
       "    \n",
       "            var icon_b594aa2455a6026a0eca84f39620a413 = L.AwesomeMarkers.icon(\n",
       "                {&quot;extraClasses&quot;: &quot;fa-rotate-0&quot;, &quot;icon&quot;: &quot;info-sign&quot;, &quot;iconColor&quot;: &quot;white&quot;, &quot;markerColor&quot;: &quot;green&quot;, &quot;prefix&quot;: &quot;glyphicon&quot;}\n",
       "            );\n",
       "            marker_5568a5c542b91cf482b969e62eb0e982.setIcon(icon_b594aa2455a6026a0eca84f39620a413);\n",
       "        \n",
       "    \n",
       "        var popup_63a76526683e7fdae6376554b91ff352 = L.popup({&quot;maxWidth&quot;: 300});\n",
       "\n",
       "        \n",
       "            \n",
       "                var html_37cc167abfbb664a9714e26ae649ae2c = $(`&lt;div id=&quot;html_37cc167abfbb664a9714e26ae649ae2c&quot; style=&quot;width: 100.0%; height: 100.0%;&quot;&gt; &lt;div style=&quot;text-align: center;&quot;&gt; &lt;h2&gt;Infos sur la Wilaya&lt;/h2&gt;   &lt;div style=&quot;text-align: center; font-family: Arial, sans-serif;&quot;&gt; &lt;h2 style=&quot;color: blue; font-size: 18px;&quot;&gt;OUEDRHIOU&lt;/h2&gt; &lt;p style=&quot;color: green; font-size: 14px;&quot;&gt;Nombre de Personnes Identifiés : nan&lt;/p&gt; &lt;p style=&quot;color: red; font-size: 14px;&quot;&gt;Nombre de Personnes Non Identifiés : 1.0&lt;/p&gt; &lt;strong&gt;&lt;p&gt;% Points de Vente : nan%&lt;/p&gt;&lt;/strong&gt; &lt;strong&gt;&lt;p&gt;% Boutiques : 100.00%&lt;/p&gt;&lt;/strong&gt;&lt;strong&gt; &lt;p&gt;% Boutique B2B : nan%&lt;/p&gt;&lt;/strong&gt; &lt;strong&gt; &lt;p&gt;%N/A : nan%&lt;/p&gt;&lt;/strong&gt; &lt;/div&gt;  &lt;/div&gt; &lt;/div&gt;`)[0];\n",
       "                popup_63a76526683e7fdae6376554b91ff352.setContent(html_37cc167abfbb664a9714e26ae649ae2c);\n",
       "            \n",
       "        \n",
       "\n",
       "        marker_5568a5c542b91cf482b969e62eb0e982.bindPopup(popup_63a76526683e7fdae6376554b91ff352)\n",
       "        ;\n",
       "\n",
       "        \n",
       "    \n",
       "    \n",
       "            marker_5568a5c542b91cf482b969e62eb0e982.bindTooltip(\n",
       "                `&lt;div&gt;\n",
       "                     OUEDRHIOU\n",
       "                 &lt;/div&gt;`,\n",
       "                {&quot;sticky&quot;: true}\n",
       "            );\n",
       "        \n",
       "    \n",
       "            var marker_3f39bffddd220b6f67a7ac708ce0398e = L.marker(\n",
       "                [34.104904000000005, 4.820300902475401],\n",
       "                {}\n",
       "            ).addTo(map_9939f789a7c7cd7600d06daf240f4ab4);\n",
       "        \n",
       "    \n",
       "            var icon_f096046b4560f9cf03a07c29526c78fa = L.AwesomeMarkers.icon(\n",
       "                {&quot;extraClasses&quot;: &quot;fa-rotate-0&quot;, &quot;icon&quot;: &quot;info-sign&quot;, &quot;iconColor&quot;: &quot;white&quot;, &quot;markerColor&quot;: &quot;green&quot;, &quot;prefix&quot;: &quot;glyphicon&quot;}\n",
       "            );\n",
       "            marker_3f39bffddd220b6f67a7ac708ce0398e.setIcon(icon_f096046b4560f9cf03a07c29526c78fa);\n",
       "        \n",
       "    \n",
       "        var popup_095f703afe0d25b35445a6047cc74bb0 = L.popup({&quot;maxWidth&quot;: 300});\n",
       "\n",
       "        \n",
       "            \n",
       "                var html_277d30d22e050ba76ec6c35b1dd6d17d = $(`&lt;div id=&quot;html_277d30d22e050ba76ec6c35b1dd6d17d&quot; style=&quot;width: 100.0%; height: 100.0%;&quot;&gt; &lt;div style=&quot;text-align: center;&quot;&gt; &lt;h2&gt;Infos sur la Wilaya&lt;/h2&gt;   &lt;div style=&quot;text-align: center; font-family: Arial, sans-serif;&quot;&gt; &lt;h2 style=&quot;color: blue; font-size: 18px;&quot;&gt;OULED-DJELLAL&lt;/h2&gt; &lt;p style=&quot;color: green; font-size: 14px;&quot;&gt;Nombre de Personnes Identifiés : 75.0&lt;/p&gt; &lt;p style=&quot;color: red; font-size: 14px;&quot;&gt;Nombre de Personnes Non Identifiés : 1.0&lt;/p&gt; &lt;strong&gt;&lt;p&gt;% Points de Vente : 100.00%&lt;/p&gt;&lt;/strong&gt; &lt;strong&gt;&lt;p&gt;% Boutiques : nan%&lt;/p&gt;&lt;/strong&gt;&lt;strong&gt; &lt;p&gt;% Boutique B2B : nan%&lt;/p&gt;&lt;/strong&gt; &lt;strong&gt; &lt;p&gt;%N/A : nan%&lt;/p&gt;&lt;/strong&gt; &lt;/div&gt;  &lt;/div&gt; &lt;/div&gt;`)[0];\n",
       "                popup_095f703afe0d25b35445a6047cc74bb0.setContent(html_277d30d22e050ba76ec6c35b1dd6d17d);\n",
       "            \n",
       "        \n",
       "\n",
       "        marker_3f39bffddd220b6f67a7ac708ce0398e.bindPopup(popup_095f703afe0d25b35445a6047cc74bb0)\n",
       "        ;\n",
       "\n",
       "        \n",
       "    \n",
       "    \n",
       "            marker_3f39bffddd220b6f67a7ac708ce0398e.bindTooltip(\n",
       "                `&lt;div&gt;\n",
       "                     OULED-DJELLAL\n",
       "                 &lt;/div&gt;`,\n",
       "                {&quot;sticky&quot;: true}\n",
       "            );\n",
       "        \n",
       "    \n",
       "            var marker_4f68557438cb14fc5fc61afd8c834336 = L.marker(\n",
       "                [35.8105805, 7.018417796577514],\n",
       "                {}\n",
       "            ).addTo(map_9939f789a7c7cd7600d06daf240f4ab4);\n",
       "        \n",
       "    \n",
       "            var icon_3cc048c6d94cce7180f8c197ae7c082b = L.AwesomeMarkers.icon(\n",
       "                {&quot;extraClasses&quot;: &quot;fa-rotate-0&quot;, &quot;icon&quot;: &quot;info-sign&quot;, &quot;iconColor&quot;: &quot;white&quot;, &quot;markerColor&quot;: &quot;green&quot;, &quot;prefix&quot;: &quot;glyphicon&quot;}\n",
       "            );\n",
       "            marker_4f68557438cb14fc5fc61afd8c834336.setIcon(icon_3cc048c6d94cce7180f8c197ae7c082b);\n",
       "        \n",
       "    \n",
       "        var popup_4ad15a6fc6d048268b3c5298b58964ab = L.popup({&quot;maxWidth&quot;: 300});\n",
       "\n",
       "        \n",
       "            \n",
       "                var html_263abce9c88b17915871b39472787cad = $(`&lt;div id=&quot;html_263abce9c88b17915871b39472787cad&quot; style=&quot;width: 100.0%; height: 100.0%;&quot;&gt; &lt;div style=&quot;text-align: center;&quot;&gt; &lt;h2&gt;Infos sur la Wilaya&lt;/h2&gt;   &lt;div style=&quot;text-align: center; font-family: Arial, sans-serif;&quot;&gt; &lt;h2 style=&quot;color: blue; font-size: 18px;&quot;&gt;OUM EL BOUAGHI&lt;/h2&gt; &lt;p style=&quot;color: green; font-size: 14px;&quot;&gt;Nombre de Personnes Identifiés : nan&lt;/p&gt; &lt;p style=&quot;color: red; font-size: 14px;&quot;&gt;Nombre de Personnes Non Identifiés : 2.0&lt;/p&gt; &lt;strong&gt;&lt;p&gt;% Points de Vente : nan%&lt;/p&gt;&lt;/strong&gt; &lt;strong&gt;&lt;p&gt;% Boutiques : 100.00%&lt;/p&gt;&lt;/strong&gt;&lt;strong&gt; &lt;p&gt;% Boutique B2B : nan%&lt;/p&gt;&lt;/strong&gt; &lt;strong&gt; &lt;p&gt;%N/A : nan%&lt;/p&gt;&lt;/strong&gt; &lt;/div&gt;  &lt;/div&gt; &lt;/div&gt;`)[0];\n",
       "                popup_4ad15a6fc6d048268b3c5298b58964ab.setContent(html_263abce9c88b17915871b39472787cad);\n",
       "            \n",
       "        \n",
       "\n",
       "        marker_4f68557438cb14fc5fc61afd8c834336.bindPopup(popup_4ad15a6fc6d048268b3c5298b58964ab)\n",
       "        ;\n",
       "\n",
       "        \n",
       "    \n",
       "    \n",
       "            marker_4f68557438cb14fc5fc61afd8c834336.bindTooltip(\n",
       "                `&lt;div&gt;\n",
       "                     OUM EL BOUAGHI\n",
       "                 &lt;/div&gt;`,\n",
       "                {&quot;sticky&quot;: true}\n",
       "            );\n",
       "        \n",
       "    \n",
       "            var marker_032d850ffa8ebdd7405804c6b1670aa2 = L.marker(\n",
       "                [35.8105805, 7.018417796577514],\n",
       "                {}\n",
       "            ).addTo(map_9939f789a7c7cd7600d06daf240f4ab4);\n",
       "        \n",
       "    \n",
       "            var icon_35052205cea9d58ed59294623c2db75b = L.AwesomeMarkers.icon(\n",
       "                {&quot;extraClasses&quot;: &quot;fa-rotate-0&quot;, &quot;icon&quot;: &quot;info-sign&quot;, &quot;iconColor&quot;: &quot;white&quot;, &quot;markerColor&quot;: &quot;red&quot;, &quot;prefix&quot;: &quot;glyphicon&quot;}\n",
       "            );\n",
       "            marker_032d850ffa8ebdd7405804c6b1670aa2.setIcon(icon_35052205cea9d58ed59294623c2db75b);\n",
       "        \n",
       "    \n",
       "        var popup_0da637a334b1e7568dfb3aa1014dcfa5 = L.popup({&quot;maxWidth&quot;: 300});\n",
       "\n",
       "        \n",
       "            \n",
       "                var html_e22ac91f3ab20c7d382da0b9ac1e454a = $(`&lt;div id=&quot;html_e22ac91f3ab20c7d382da0b9ac1e454a&quot; style=&quot;width: 100.0%; height: 100.0%;&quot;&gt; &lt;div style=&quot;text-align: center;&quot;&gt; &lt;h2&gt;Infos sur la Wilaya&lt;/h2&gt;   &lt;div style=&quot;text-align: center; font-family: Arial, sans-serif;&quot;&gt; &lt;h2 style=&quot;color: blue; font-size: 18px;&quot;&gt;OUM EL-BOUAGHI&lt;/h2&gt; &lt;p style=&quot;color: green; font-size: 14px;&quot;&gt;Nombre de Personnes Identifiés : 1492.0&lt;/p&gt; &lt;p style=&quot;color: red; font-size: 14px;&quot;&gt;Nombre de Personnes Non Identifiés : 116.0&lt;/p&gt; &lt;strong&gt;&lt;p&gt;% Points de Vente : 67.24%&lt;/p&gt;&lt;/strong&gt; &lt;strong&gt;&lt;p&gt;% Boutiques : 14.66%&lt;/p&gt;&lt;/strong&gt;&lt;strong&gt; &lt;p&gt;% Boutique B2B : nan%&lt;/p&gt;&lt;/strong&gt; &lt;strong&gt; &lt;p&gt;%N/A : 18.10%&lt;/p&gt;&lt;/strong&gt; &lt;/div&gt;  &lt;/div&gt; &lt;/div&gt;`)[0];\n",
       "                popup_0da637a334b1e7568dfb3aa1014dcfa5.setContent(html_e22ac91f3ab20c7d382da0b9ac1e454a);\n",
       "            \n",
       "        \n",
       "\n",
       "        marker_032d850ffa8ebdd7405804c6b1670aa2.bindPopup(popup_0da637a334b1e7568dfb3aa1014dcfa5)\n",
       "        ;\n",
       "\n",
       "        \n",
       "    \n",
       "    \n",
       "            marker_032d850ffa8ebdd7405804c6b1670aa2.bindTooltip(\n",
       "                `&lt;div&gt;\n",
       "                     OUM EL-BOUAGHI\n",
       "                 &lt;/div&gt;`,\n",
       "                {&quot;sticky&quot;: true}\n",
       "            );\n",
       "        \n",
       "    \n",
       "            var marker_cc0e78a4217289eacec6621a1402288d = L.marker(\n",
       "                [35.8105805, 7.018417796577514],\n",
       "                {}\n",
       "            ).addTo(map_9939f789a7c7cd7600d06daf240f4ab4);\n",
       "        \n",
       "    \n",
       "            var icon_5916e1f943d35879d348757399b1a73e = L.AwesomeMarkers.icon(\n",
       "                {&quot;extraClasses&quot;: &quot;fa-rotate-0&quot;, &quot;icon&quot;: &quot;info-sign&quot;, &quot;iconColor&quot;: &quot;white&quot;, &quot;markerColor&quot;: &quot;green&quot;, &quot;prefix&quot;: &quot;glyphicon&quot;}\n",
       "            );\n",
       "            marker_cc0e78a4217289eacec6621a1402288d.setIcon(icon_5916e1f943d35879d348757399b1a73e);\n",
       "        \n",
       "    \n",
       "        var popup_d6aa6a3ef964ac3bd8d989c5f0a07474 = L.popup({&quot;maxWidth&quot;: 300});\n",
       "\n",
       "        \n",
       "            \n",
       "                var html_845bfae9362566d7083c0dcc71b8e415 = $(`&lt;div id=&quot;html_845bfae9362566d7083c0dcc71b8e415&quot; style=&quot;width: 100.0%; height: 100.0%;&quot;&gt; &lt;div style=&quot;text-align: center;&quot;&gt; &lt;h2&gt;Infos sur la Wilaya&lt;/h2&gt;   &lt;div style=&quot;text-align: center; font-family: Arial, sans-serif;&quot;&gt; &lt;h2 style=&quot;color: blue; font-size: 18px;&quot;&gt;OUM-EL-BOUAGHI&lt;/h2&gt; &lt;p style=&quot;color: green; font-size: 14px;&quot;&gt;Nombre de Personnes Identifiés : 1.0&lt;/p&gt; &lt;p style=&quot;color: red; font-size: 14px;&quot;&gt;Nombre de Personnes Non Identifiés : 1.0&lt;/p&gt; &lt;strong&gt;&lt;p&gt;% Points de Vente : nan%&lt;/p&gt;&lt;/strong&gt; &lt;strong&gt;&lt;p&gt;% Boutiques : 100.00%&lt;/p&gt;&lt;/strong&gt;&lt;strong&gt; &lt;p&gt;% Boutique B2B : nan%&lt;/p&gt;&lt;/strong&gt; &lt;strong&gt; &lt;p&gt;%N/A : nan%&lt;/p&gt;&lt;/strong&gt; &lt;/div&gt;  &lt;/div&gt; &lt;/div&gt;`)[0];\n",
       "                popup_d6aa6a3ef964ac3bd8d989c5f0a07474.setContent(html_845bfae9362566d7083c0dcc71b8e415);\n",
       "            \n",
       "        \n",
       "\n",
       "        marker_cc0e78a4217289eacec6621a1402288d.bindPopup(popup_d6aa6a3ef964ac3bd8d989c5f0a07474)\n",
       "        ;\n",
       "\n",
       "        \n",
       "    \n",
       "    \n",
       "            marker_cc0e78a4217289eacec6621a1402288d.bindTooltip(\n",
       "                `&lt;div&gt;\n",
       "                     OUM-EL-BOUAGHI\n",
       "                 &lt;/div&gt;`,\n",
       "                {&quot;sticky&quot;: true}\n",
       "            );\n",
       "        \n",
       "    \n",
       "            var marker_d347b7324c9fa103ec3f98a9e42301c0 = L.marker(\n",
       "                [35.836318500000004, 0.9118537366540664],\n",
       "                {}\n",
       "            ).addTo(map_9939f789a7c7cd7600d06daf240f4ab4);\n",
       "        \n",
       "    \n",
       "            var icon_c3c11d03ed77cdbb1655216db7e05366 = L.AwesomeMarkers.icon(\n",
       "                {&quot;extraClasses&quot;: &quot;fa-rotate-0&quot;, &quot;icon&quot;: &quot;info-sign&quot;, &quot;iconColor&quot;: &quot;white&quot;, &quot;markerColor&quot;: &quot;red&quot;, &quot;prefix&quot;: &quot;glyphicon&quot;}\n",
       "            );\n",
       "            marker_d347b7324c9fa103ec3f98a9e42301c0.setIcon(icon_c3c11d03ed77cdbb1655216db7e05366);\n",
       "        \n",
       "    \n",
       "        var popup_76510d7cd7123b3c00d92fb94d6490da = L.popup({&quot;maxWidth&quot;: 300});\n",
       "\n",
       "        \n",
       "            \n",
       "                var html_d65e447f16d1d302b1cfa71d1f1f064a = $(`&lt;div id=&quot;html_d65e447f16d1d302b1cfa71d1f1f064a&quot; style=&quot;width: 100.0%; height: 100.0%;&quot;&gt; &lt;div style=&quot;text-align: center;&quot;&gt; &lt;h2&gt;Infos sur la Wilaya&lt;/h2&gt;   &lt;div style=&quot;text-align: center; font-family: Arial, sans-serif;&quot;&gt; &lt;h2 style=&quot;color: blue; font-size: 18px;&quot;&gt;RELIZANE&lt;/h2&gt; &lt;p style=&quot;color: green; font-size: 14px;&quot;&gt;Nombre de Personnes Identifiés : 2376.0&lt;/p&gt; &lt;p style=&quot;color: red; font-size: 14px;&quot;&gt;Nombre de Personnes Non Identifiés : 185.0&lt;/p&gt; &lt;strong&gt;&lt;p&gt;% Points de Vente : 55.68%&lt;/p&gt;&lt;/strong&gt; &lt;strong&gt;&lt;p&gt;% Boutiques : 18.92%&lt;/p&gt;&lt;/strong&gt;&lt;strong&gt; &lt;p&gt;% Boutique B2B : nan%&lt;/p&gt;&lt;/strong&gt; &lt;strong&gt; &lt;p&gt;%N/A : 25.41%&lt;/p&gt;&lt;/strong&gt; &lt;/div&gt;  &lt;/div&gt; &lt;/div&gt;`)[0];\n",
       "                popup_76510d7cd7123b3c00d92fb94d6490da.setContent(html_d65e447f16d1d302b1cfa71d1f1f064a);\n",
       "            \n",
       "        \n",
       "\n",
       "        marker_d347b7324c9fa103ec3f98a9e42301c0.bindPopup(popup_76510d7cd7123b3c00d92fb94d6490da)\n",
       "        ;\n",
       "\n",
       "        \n",
       "    \n",
       "    \n",
       "            marker_d347b7324c9fa103ec3f98a9e42301c0.bindTooltip(\n",
       "                `&lt;div&gt;\n",
       "                     RELIZANE\n",
       "                 &lt;/div&gt;`,\n",
       "                {&quot;sticky&quot;: true}\n",
       "            );\n",
       "        \n",
       "    \n",
       "            var marker_3e44694faf53e2ade203d97f22b16f8b = L.marker(\n",
       "                [34.743349, 0.2440763627808458],\n",
       "                {}\n",
       "            ).addTo(map_9939f789a7c7cd7600d06daf240f4ab4);\n",
       "        \n",
       "    \n",
       "            var icon_2629adda5d67c2fe67ea378dcb42d204 = L.AwesomeMarkers.icon(\n",
       "                {&quot;extraClasses&quot;: &quot;fa-rotate-0&quot;, &quot;icon&quot;: &quot;info-sign&quot;, &quot;iconColor&quot;: &quot;white&quot;, &quot;markerColor&quot;: &quot;orange&quot;, &quot;prefix&quot;: &quot;glyphicon&quot;}\n",
       "            );\n",
       "            marker_3e44694faf53e2ade203d97f22b16f8b.setIcon(icon_2629adda5d67c2fe67ea378dcb42d204);\n",
       "        \n",
       "    \n",
       "        var popup_bda22947029cbc434c515646df6ff05b = L.popup({&quot;maxWidth&quot;: 300});\n",
       "\n",
       "        \n",
       "            \n",
       "                var html_477630ed6034f51e341adf2cacb2b427 = $(`&lt;div id=&quot;html_477630ed6034f51e341adf2cacb2b427&quot; style=&quot;width: 100.0%; height: 100.0%;&quot;&gt; &lt;div style=&quot;text-align: center;&quot;&gt; &lt;h2&gt;Infos sur la Wilaya&lt;/h2&gt;   &lt;div style=&quot;text-align: center; font-family: Arial, sans-serif;&quot;&gt; &lt;h2 style=&quot;color: blue; font-size: 18px;&quot;&gt;SAIDA&lt;/h2&gt; &lt;p style=&quot;color: green; font-size: 14px;&quot;&gt;Nombre de Personnes Identifiés : 1142.0&lt;/p&gt; &lt;p style=&quot;color: red; font-size: 14px;&quot;&gt;Nombre de Personnes Non Identifiés : 77.0&lt;/p&gt; &lt;strong&gt;&lt;p&gt;% Points de Vente : 67.53%&lt;/p&gt;&lt;/strong&gt; &lt;strong&gt;&lt;p&gt;% Boutiques : 19.48%&lt;/p&gt;&lt;/strong&gt;&lt;strong&gt; &lt;p&gt;% Boutique B2B : 1.30%&lt;/p&gt;&lt;/strong&gt; &lt;strong&gt; &lt;p&gt;%N/A : 11.69%&lt;/p&gt;&lt;/strong&gt; &lt;/div&gt;  &lt;/div&gt; &lt;/div&gt;`)[0];\n",
       "                popup_bda22947029cbc434c515646df6ff05b.setContent(html_477630ed6034f51e341adf2cacb2b427);\n",
       "            \n",
       "        \n",
       "\n",
       "        marker_3e44694faf53e2ade203d97f22b16f8b.bindPopup(popup_bda22947029cbc434c515646df6ff05b)\n",
       "        ;\n",
       "\n",
       "        \n",
       "    \n",
       "    \n",
       "            marker_3e44694faf53e2ade203d97f22b16f8b.bindTooltip(\n",
       "                `&lt;div&gt;\n",
       "                     SAIDA\n",
       "                 &lt;/div&gt;`,\n",
       "                {&quot;sticky&quot;: true}\n",
       "            );\n",
       "        \n",
       "    \n",
       "            var marker_3fce0f80d4b4dd3b72a6bb3e82e60b2b = L.marker(\n",
       "                [36.1895852, 5.4024656],\n",
       "                {}\n",
       "            ).addTo(map_9939f789a7c7cd7600d06daf240f4ab4);\n",
       "        \n",
       "    \n",
       "            var icon_c1cef2ac5db778238d2421942369c493 = L.AwesomeMarkers.icon(\n",
       "                {&quot;extraClasses&quot;: &quot;fa-rotate-0&quot;, &quot;icon&quot;: &quot;info-sign&quot;, &quot;iconColor&quot;: &quot;white&quot;, &quot;markerColor&quot;: &quot;red&quot;, &quot;prefix&quot;: &quot;glyphicon&quot;}\n",
       "            );\n",
       "            marker_3fce0f80d4b4dd3b72a6bb3e82e60b2b.setIcon(icon_c1cef2ac5db778238d2421942369c493);\n",
       "        \n",
       "    \n",
       "        var popup_b7a4cf1c3483c0bd2ecf6ee43bb8efef = L.popup({&quot;maxWidth&quot;: 300});\n",
       "\n",
       "        \n",
       "            \n",
       "                var html_0721cf851a8f38aeec05b669e7447a19 = $(`&lt;div id=&quot;html_0721cf851a8f38aeec05b669e7447a19&quot; style=&quot;width: 100.0%; height: 100.0%;&quot;&gt; &lt;div style=&quot;text-align: center;&quot;&gt; &lt;h2&gt;Infos sur la Wilaya&lt;/h2&gt;   &lt;div style=&quot;text-align: center; font-family: Arial, sans-serif;&quot;&gt; &lt;h2 style=&quot;color: blue; font-size: 18px;&quot;&gt;SETIF&lt;/h2&gt; &lt;p style=&quot;color: green; font-size: 14px;&quot;&gt;Nombre de Personnes Identifiés : 4255.0&lt;/p&gt; &lt;p style=&quot;color: red; font-size: 14px;&quot;&gt;Nombre de Personnes Non Identifiés : 284.0&lt;/p&gt; &lt;strong&gt;&lt;p&gt;% Points de Vente : 56.34%&lt;/p&gt;&lt;/strong&gt; &lt;strong&gt;&lt;p&gt;% Boutiques : 15.14%&lt;/p&gt;&lt;/strong&gt;&lt;strong&gt; &lt;p&gt;% Boutique B2B : 4.58%&lt;/p&gt;&lt;/strong&gt; &lt;strong&gt; &lt;p&gt;%N/A : 23.94%&lt;/p&gt;&lt;/strong&gt; &lt;/div&gt;  &lt;/div&gt; &lt;/div&gt;`)[0];\n",
       "                popup_b7a4cf1c3483c0bd2ecf6ee43bb8efef.setContent(html_0721cf851a8f38aeec05b669e7447a19);\n",
       "            \n",
       "        \n",
       "\n",
       "        marker_3fce0f80d4b4dd3b72a6bb3e82e60b2b.bindPopup(popup_b7a4cf1c3483c0bd2ecf6ee43bb8efef)\n",
       "        ;\n",
       "\n",
       "        \n",
       "    \n",
       "    \n",
       "            marker_3fce0f80d4b4dd3b72a6bb3e82e60b2b.bindTooltip(\n",
       "                `&lt;div&gt;\n",
       "                     SETIF\n",
       "                 &lt;/div&gt;`,\n",
       "                {&quot;sticky&quot;: true}\n",
       "            );\n",
       "        \n",
       "    \n",
       "            var marker_4b36a3f66fa56a505e603bc04217deac = L.marker(\n",
       "                [36.1895852, 5.4024656],\n",
       "                {}\n",
       "            ).addTo(map_9939f789a7c7cd7600d06daf240f4ab4);\n",
       "        \n",
       "    \n",
       "            var icon_5dd9be3fcbbe0a945d5db43074c5a26b = L.AwesomeMarkers.icon(\n",
       "                {&quot;extraClasses&quot;: &quot;fa-rotate-0&quot;, &quot;icon&quot;: &quot;info-sign&quot;, &quot;iconColor&quot;: &quot;white&quot;, &quot;markerColor&quot;: &quot;green&quot;, &quot;prefix&quot;: &quot;glyphicon&quot;}\n",
       "            );\n",
       "            marker_4b36a3f66fa56a505e603bc04217deac.setIcon(icon_5dd9be3fcbbe0a945d5db43074c5a26b);\n",
       "        \n",
       "    \n",
       "        var popup_fb8301819dd22f7ad2d63a45391c6b90 = L.popup({&quot;maxWidth&quot;: 300});\n",
       "\n",
       "        \n",
       "            \n",
       "                var html_a98f0eb67e149c9caa73a972941cf6da = $(`&lt;div id=&quot;html_a98f0eb67e149c9caa73a972941cf6da&quot; style=&quot;width: 100.0%; height: 100.0%;&quot;&gt; &lt;div style=&quot;text-align: center;&quot;&gt; &lt;h2&gt;Infos sur la Wilaya&lt;/h2&gt;   &lt;div style=&quot;text-align: center; font-family: Arial, sans-serif;&quot;&gt; &lt;h2 style=&quot;color: blue; font-size: 18px;&quot;&gt;SETIF &lt;/h2&gt; &lt;p style=&quot;color: green; font-size: 14px;&quot;&gt;Nombre de Personnes Identifiés : 1.0&lt;/p&gt; &lt;p style=&quot;color: red; font-size: 14px;&quot;&gt;Nombre de Personnes Non Identifiés : 1.0&lt;/p&gt; &lt;strong&gt;&lt;p&gt;% Points de Vente : nan%&lt;/p&gt;&lt;/strong&gt; &lt;strong&gt;&lt;p&gt;% Boutiques : 100.00%&lt;/p&gt;&lt;/strong&gt;&lt;strong&gt; &lt;p&gt;% Boutique B2B : nan%&lt;/p&gt;&lt;/strong&gt; &lt;strong&gt; &lt;p&gt;%N/A : nan%&lt;/p&gt;&lt;/strong&gt; &lt;/div&gt;  &lt;/div&gt; &lt;/div&gt;`)[0];\n",
       "                popup_fb8301819dd22f7ad2d63a45391c6b90.setContent(html_a98f0eb67e149c9caa73a972941cf6da);\n",
       "            \n",
       "        \n",
       "\n",
       "        marker_4b36a3f66fa56a505e603bc04217deac.bindPopup(popup_fb8301819dd22f7ad2d63a45391c6b90)\n",
       "        ;\n",
       "\n",
       "        \n",
       "    \n",
       "    \n",
       "            marker_4b36a3f66fa56a505e603bc04217deac.bindTooltip(\n",
       "                `&lt;div&gt;\n",
       "                     SETIF \n",
       "                 &lt;/div&gt;`,\n",
       "                {&quot;sticky&quot;: true}\n",
       "            );\n",
       "        \n",
       "    \n",
       "            var marker_7b11c8772972bfe86bb21a97641ae0b1 = L.marker(\n",
       "                [35.18436805, -0.585071650000003],\n",
       "                {}\n",
       "            ).addTo(map_9939f789a7c7cd7600d06daf240f4ab4);\n",
       "        \n",
       "    \n",
       "            var icon_de200049aa4904388aa6f683a96a377c = L.AwesomeMarkers.icon(\n",
       "                {&quot;extraClasses&quot;: &quot;fa-rotate-0&quot;, &quot;icon&quot;: &quot;info-sign&quot;, &quot;iconColor&quot;: &quot;white&quot;, &quot;markerColor&quot;: &quot;green&quot;, &quot;prefix&quot;: &quot;glyphicon&quot;}\n",
       "            );\n",
       "            marker_7b11c8772972bfe86bb21a97641ae0b1.setIcon(icon_de200049aa4904388aa6f683a96a377c);\n",
       "        \n",
       "    \n",
       "        var popup_6c83d078ad1a2674a25d2f8781cc062d = L.popup({&quot;maxWidth&quot;: 300});\n",
       "\n",
       "        \n",
       "            \n",
       "                var html_c5b78efb0134e9a0af2a72c0ad395aae = $(`&lt;div id=&quot;html_c5b78efb0134e9a0af2a72c0ad395aae&quot; style=&quot;width: 100.0%; height: 100.0%;&quot;&gt; &lt;div style=&quot;text-align: center;&quot;&gt; &lt;h2&gt;Infos sur la Wilaya&lt;/h2&gt;   &lt;div style=&quot;text-align: center; font-family: Arial, sans-serif;&quot;&gt; &lt;h2 style=&quot;color: blue; font-size: 18px;&quot;&gt;SIDI BELABBES&lt;/h2&gt; &lt;p style=&quot;color: green; font-size: 14px;&quot;&gt;Nombre de Personnes Identifiés : 4.0&lt;/p&gt; &lt;p style=&quot;color: red; font-size: 14px;&quot;&gt;Nombre de Personnes Non Identifiés : 8.0&lt;/p&gt; &lt;strong&gt;&lt;p&gt;% Points de Vente : nan%&lt;/p&gt;&lt;/strong&gt; &lt;strong&gt;&lt;p&gt;% Boutiques : 100.00%&lt;/p&gt;&lt;/strong&gt;&lt;strong&gt; &lt;p&gt;% Boutique B2B : nan%&lt;/p&gt;&lt;/strong&gt; &lt;strong&gt; &lt;p&gt;%N/A : nan%&lt;/p&gt;&lt;/strong&gt; &lt;/div&gt;  &lt;/div&gt; &lt;/div&gt;`)[0];\n",
       "                popup_6c83d078ad1a2674a25d2f8781cc062d.setContent(html_c5b78efb0134e9a0af2a72c0ad395aae);\n",
       "            \n",
       "        \n",
       "\n",
       "        marker_7b11c8772972bfe86bb21a97641ae0b1.bindPopup(popup_6c83d078ad1a2674a25d2f8781cc062d)\n",
       "        ;\n",
       "\n",
       "        \n",
       "    \n",
       "    \n",
       "            marker_7b11c8772972bfe86bb21a97641ae0b1.bindTooltip(\n",
       "                `&lt;div&gt;\n",
       "                     SIDI BELABBES\n",
       "                 &lt;/div&gt;`,\n",
       "                {&quot;sticky&quot;: true}\n",
       "            );\n",
       "        \n",
       "    \n",
       "            var marker_5c810c2cb9b8f0e9d6bb45b3b48b3e31 = L.marker(\n",
       "                [35.18436805, -0.585071650000003],\n",
       "                {}\n",
       "            ).addTo(map_9939f789a7c7cd7600d06daf240f4ab4);\n",
       "        \n",
       "    \n",
       "            var icon_10bc72abb6f6a4e2b14666db09217fbc = L.AwesomeMarkers.icon(\n",
       "                {&quot;extraClasses&quot;: &quot;fa-rotate-0&quot;, &quot;icon&quot;: &quot;info-sign&quot;, &quot;iconColor&quot;: &quot;white&quot;, &quot;markerColor&quot;: &quot;red&quot;, &quot;prefix&quot;: &quot;glyphicon&quot;}\n",
       "            );\n",
       "            marker_5c810c2cb9b8f0e9d6bb45b3b48b3e31.setIcon(icon_10bc72abb6f6a4e2b14666db09217fbc);\n",
       "        \n",
       "    \n",
       "        var popup_9b2e13d70f3aaab4acad04a4c399c51c = L.popup({&quot;maxWidth&quot;: 300});\n",
       "\n",
       "        \n",
       "            \n",
       "                var html_09762fb56b499cb632d8f4d17b698dea = $(`&lt;div id=&quot;html_09762fb56b499cb632d8f4d17b698dea&quot; style=&quot;width: 100.0%; height: 100.0%;&quot;&gt; &lt;div style=&quot;text-align: center;&quot;&gt; &lt;h2&gt;Infos sur la Wilaya&lt;/h2&gt;   &lt;div style=&quot;text-align: center; font-family: Arial, sans-serif;&quot;&gt; &lt;h2 style=&quot;color: blue; font-size: 18px;&quot;&gt;SIDI-BELABBES&lt;/h2&gt; &lt;p style=&quot;color: green; font-size: 14px;&quot;&gt;Nombre de Personnes Identifiés : 1357.0&lt;/p&gt; &lt;p style=&quot;color: red; font-size: 14px;&quot;&gt;Nombre de Personnes Non Identifiés : 146.0&lt;/p&gt; &lt;strong&gt;&lt;p&gt;% Points de Vente : 47.95%&lt;/p&gt;&lt;/strong&gt; &lt;strong&gt;&lt;p&gt;% Boutiques : 26.03%&lt;/p&gt;&lt;/strong&gt;&lt;strong&gt; &lt;p&gt;% Boutique B2B : 0.68%&lt;/p&gt;&lt;/strong&gt; &lt;strong&gt; &lt;p&gt;%N/A : 25.34%&lt;/p&gt;&lt;/strong&gt; &lt;/div&gt;  &lt;/div&gt; &lt;/div&gt;`)[0];\n",
       "                popup_9b2e13d70f3aaab4acad04a4c399c51c.setContent(html_09762fb56b499cb632d8f4d17b698dea);\n",
       "            \n",
       "        \n",
       "\n",
       "        marker_5c810c2cb9b8f0e9d6bb45b3b48b3e31.bindPopup(popup_9b2e13d70f3aaab4acad04a4c399c51c)\n",
       "        ;\n",
       "\n",
       "        \n",
       "    \n",
       "    \n",
       "            marker_5c810c2cb9b8f0e9d6bb45b3b48b3e31.bindTooltip(\n",
       "                `&lt;div&gt;\n",
       "                     SIDI-BELABBES\n",
       "                 &lt;/div&gt;`,\n",
       "                {&quot;sticky&quot;: true}\n",
       "            );\n",
       "        \n",
       "    \n",
       "            var marker_c97e1d0b66dfccb37c5881a432f5f316 = L.marker(\n",
       "                [36.75451150000001, 6.885625492591183],\n",
       "                {}\n",
       "            ).addTo(map_9939f789a7c7cd7600d06daf240f4ab4);\n",
       "        \n",
       "    \n",
       "            var icon_f5a78654286b3c3818f02ad943f744a5 = L.AwesomeMarkers.icon(\n",
       "                {&quot;extraClasses&quot;: &quot;fa-rotate-0&quot;, &quot;icon&quot;: &quot;info-sign&quot;, &quot;iconColor&quot;: &quot;white&quot;, &quot;markerColor&quot;: &quot;red&quot;, &quot;prefix&quot;: &quot;glyphicon&quot;}\n",
       "            );\n",
       "            marker_c97e1d0b66dfccb37c5881a432f5f316.setIcon(icon_f5a78654286b3c3818f02ad943f744a5);\n",
       "        \n",
       "    \n",
       "        var popup_1b415b071324516b9849c3f9b8151141 = L.popup({&quot;maxWidth&quot;: 300});\n",
       "\n",
       "        \n",
       "            \n",
       "                var html_404fc091a571ead790036ea4b907cbb6 = $(`&lt;div id=&quot;html_404fc091a571ead790036ea4b907cbb6&quot; style=&quot;width: 100.0%; height: 100.0%;&quot;&gt; &lt;div style=&quot;text-align: center;&quot;&gt; &lt;h2&gt;Infos sur la Wilaya&lt;/h2&gt;   &lt;div style=&quot;text-align: center; font-family: Arial, sans-serif;&quot;&gt; &lt;h2 style=&quot;color: blue; font-size: 18px;&quot;&gt;SKIKDA&lt;/h2&gt; &lt;p style=&quot;color: green; font-size: 14px;&quot;&gt;Nombre de Personnes Identifiés : 2141.0&lt;/p&gt; &lt;p style=&quot;color: red; font-size: 14px;&quot;&gt;Nombre de Personnes Non Identifiés : 171.0&lt;/p&gt; &lt;strong&gt;&lt;p&gt;% Points de Vente : 50.88%&lt;/p&gt;&lt;/strong&gt; &lt;strong&gt;&lt;p&gt;% Boutiques : 21.05%&lt;/p&gt;&lt;/strong&gt;&lt;strong&gt; &lt;p&gt;% Boutique B2B : 2.34%&lt;/p&gt;&lt;/strong&gt; &lt;strong&gt; &lt;p&gt;%N/A : 25.73%&lt;/p&gt;&lt;/strong&gt; &lt;/div&gt;  &lt;/div&gt; &lt;/div&gt;`)[0];\n",
       "                popup_1b415b071324516b9849c3f9b8151141.setContent(html_404fc091a571ead790036ea4b907cbb6);\n",
       "            \n",
       "        \n",
       "\n",
       "        marker_c97e1d0b66dfccb37c5881a432f5f316.bindPopup(popup_1b415b071324516b9849c3f9b8151141)\n",
       "        ;\n",
       "\n",
       "        \n",
       "    \n",
       "    \n",
       "            marker_c97e1d0b66dfccb37c5881a432f5f316.bindTooltip(\n",
       "                `&lt;div&gt;\n",
       "                     SKIKDA\n",
       "                 &lt;/div&gt;`,\n",
       "                {&quot;sticky&quot;: true}\n",
       "            );\n",
       "        \n",
       "    \n",
       "            var marker_ed3131c251c7793e8cbf70a42552de91 = L.marker(\n",
       "                [36.1378681, 7.826242640053763],\n",
       "                {}\n",
       "            ).addTo(map_9939f789a7c7cd7600d06daf240f4ab4);\n",
       "        \n",
       "    \n",
       "            var icon_7f7ecfd6c2497db0ff9f62e8466dddc9 = L.AwesomeMarkers.icon(\n",
       "                {&quot;extraClasses&quot;: &quot;fa-rotate-0&quot;, &quot;icon&quot;: &quot;info-sign&quot;, &quot;iconColor&quot;: &quot;white&quot;, &quot;markerColor&quot;: &quot;green&quot;, &quot;prefix&quot;: &quot;glyphicon&quot;}\n",
       "            );\n",
       "            marker_ed3131c251c7793e8cbf70a42552de91.setIcon(icon_7f7ecfd6c2497db0ff9f62e8466dddc9);\n",
       "        \n",
       "    \n",
       "        var popup_2a40c6b520950ac4846d2dfd3aebbda3 = L.popup({&quot;maxWidth&quot;: 300});\n",
       "\n",
       "        \n",
       "            \n",
       "                var html_bf4785d800f627577d6abce3cdc481e8 = $(`&lt;div id=&quot;html_bf4785d800f627577d6abce3cdc481e8&quot; style=&quot;width: 100.0%; height: 100.0%;&quot;&gt; &lt;div style=&quot;text-align: center;&quot;&gt; &lt;h2&gt;Infos sur la Wilaya&lt;/h2&gt;   &lt;div style=&quot;text-align: center; font-family: Arial, sans-serif;&quot;&gt; &lt;h2 style=&quot;color: blue; font-size: 18px;&quot;&gt;SOUK-AHRAS&lt;/h2&gt; &lt;p style=&quot;color: green; font-size: 14px;&quot;&gt;Nombre de Personnes Identifiés : 378.0&lt;/p&gt; &lt;p style=&quot;color: red; font-size: 14px;&quot;&gt;Nombre de Personnes Non Identifiés : 43.0&lt;/p&gt; &lt;strong&gt;&lt;p&gt;% Points de Vente : 37.21%&lt;/p&gt;&lt;/strong&gt; &lt;strong&gt;&lt;p&gt;% Boutiques : 32.56%&lt;/p&gt;&lt;/strong&gt;&lt;strong&gt; &lt;p&gt;% Boutique B2B : 2.33%&lt;/p&gt;&lt;/strong&gt; &lt;strong&gt; &lt;p&gt;%N/A : 27.91%&lt;/p&gt;&lt;/strong&gt; &lt;/div&gt;  &lt;/div&gt; &lt;/div&gt;`)[0];\n",
       "                popup_2a40c6b520950ac4846d2dfd3aebbda3.setContent(html_bf4785d800f627577d6abce3cdc481e8);\n",
       "            \n",
       "        \n",
       "\n",
       "        marker_ed3131c251c7793e8cbf70a42552de91.bindPopup(popup_2a40c6b520950ac4846d2dfd3aebbda3)\n",
       "        ;\n",
       "\n",
       "        \n",
       "    \n",
       "    \n",
       "            marker_ed3131c251c7793e8cbf70a42552de91.bindTooltip(\n",
       "                `&lt;div&gt;\n",
       "                     SOUK-AHRAS\n",
       "                 &lt;/div&gt;`,\n",
       "                {&quot;sticky&quot;: true}\n",
       "            );\n",
       "        \n",
       "    \n",
       "            var marker_2d968bc90dec15b2646e6fa046e0d92b = L.marker(\n",
       "                [36.4543155, 5.117495255411906],\n",
       "                {}\n",
       "            ).addTo(map_9939f789a7c7cd7600d06daf240f4ab4);\n",
       "        \n",
       "    \n",
       "            var icon_763a550887cc5c8f030562a4e468bbcc = L.AwesomeMarkers.icon(\n",
       "                {&quot;extraClasses&quot;: &quot;fa-rotate-0&quot;, &quot;icon&quot;: &quot;info-sign&quot;, &quot;iconColor&quot;: &quot;white&quot;, &quot;markerColor&quot;: &quot;green&quot;, &quot;prefix&quot;: &quot;glyphicon&quot;}\n",
       "            );\n",
       "            marker_2d968bc90dec15b2646e6fa046e0d92b.setIcon(icon_763a550887cc5c8f030562a4e468bbcc);\n",
       "        \n",
       "    \n",
       "        var popup_df62fa9349d0fcb8ca023a7325413ed9 = L.popup({&quot;maxWidth&quot;: 300});\n",
       "\n",
       "        \n",
       "            \n",
       "                var html_765e9207cf79639d622b5e2e43a67166 = $(`&lt;div id=&quot;html_765e9207cf79639d622b5e2e43a67166&quot; style=&quot;width: 100.0%; height: 100.0%;&quot;&gt; &lt;div style=&quot;text-align: center;&quot;&gt; &lt;h2&gt;Infos sur la Wilaya&lt;/h2&gt;   &lt;div style=&quot;text-align: center; font-family: Arial, sans-serif;&quot;&gt; &lt;h2 style=&quot;color: blue; font-size: 18px;&quot;&gt;TALA IFASSEN&lt;/h2&gt; &lt;p style=&quot;color: green; font-size: 14px;&quot;&gt;Nombre de Personnes Identifiés : nan&lt;/p&gt; &lt;p style=&quot;color: red; font-size: 14px;&quot;&gt;Nombre de Personnes Non Identifiés : 1.0&lt;/p&gt; &lt;strong&gt;&lt;p&gt;% Points de Vente : nan%&lt;/p&gt;&lt;/strong&gt; &lt;strong&gt;&lt;p&gt;% Boutiques : 100.00%&lt;/p&gt;&lt;/strong&gt;&lt;strong&gt; &lt;p&gt;% Boutique B2B : nan%&lt;/p&gt;&lt;/strong&gt; &lt;strong&gt; &lt;p&gt;%N/A : nan%&lt;/p&gt;&lt;/strong&gt; &lt;/div&gt;  &lt;/div&gt; &lt;/div&gt;`)[0];\n",
       "                popup_df62fa9349d0fcb8ca023a7325413ed9.setContent(html_765e9207cf79639d622b5e2e43a67166);\n",
       "            \n",
       "        \n",
       "\n",
       "        marker_2d968bc90dec15b2646e6fa046e0d92b.bindPopup(popup_df62fa9349d0fcb8ca023a7325413ed9)\n",
       "        ;\n",
       "\n",
       "        \n",
       "    \n",
       "    \n",
       "            marker_2d968bc90dec15b2646e6fa046e0d92b.bindTooltip(\n",
       "                `&lt;div&gt;\n",
       "                     TALA IFASSEN\n",
       "                 &lt;/div&gt;`,\n",
       "                {&quot;sticky&quot;: true}\n",
       "            );\n",
       "        \n",
       "    \n",
       "            var marker_6b83c0c4e8ad8cfbf469aac5b5d2d682 = L.marker(\n",
       "                [24.3753438, 4.3208436],\n",
       "                {}\n",
       "            ).addTo(map_9939f789a7c7cd7600d06daf240f4ab4);\n",
       "        \n",
       "    \n",
       "            var icon_2b253736777eacca7ee74d0052517139 = L.AwesomeMarkers.icon(\n",
       "                {&quot;extraClasses&quot;: &quot;fa-rotate-0&quot;, &quot;icon&quot;: &quot;info-sign&quot;, &quot;iconColor&quot;: &quot;white&quot;, &quot;markerColor&quot;: &quot;green&quot;, &quot;prefix&quot;: &quot;glyphicon&quot;}\n",
       "            );\n",
       "            marker_6b83c0c4e8ad8cfbf469aac5b5d2d682.setIcon(icon_2b253736777eacca7ee74d0052517139);\n",
       "        \n",
       "    \n",
       "        var popup_08fe7f5d4aa97598d8cfe6a67542668e = L.popup({&quot;maxWidth&quot;: 300});\n",
       "\n",
       "        \n",
       "            \n",
       "                var html_e23f63363bf9f8e872612b3612bc90d0 = $(`&lt;div id=&quot;html_e23f63363bf9f8e872612b3612bc90d0&quot; style=&quot;width: 100.0%; height: 100.0%;&quot;&gt; &lt;div style=&quot;text-align: center;&quot;&gt; &lt;h2&gt;Infos sur la Wilaya&lt;/h2&gt;   &lt;div style=&quot;text-align: center; font-family: Arial, sans-serif;&quot;&gt; &lt;h2 style=&quot;color: blue; font-size: 18px;&quot;&gt;TAMANRASSET&lt;/h2&gt; &lt;p style=&quot;color: green; font-size: 14px;&quot;&gt;Nombre de Personnes Identifiés : 154.0&lt;/p&gt; &lt;p style=&quot;color: red; font-size: 14px;&quot;&gt;Nombre de Personnes Non Identifiés : 28.0&lt;/p&gt; &lt;strong&gt;&lt;p&gt;% Points de Vente : 75.00%&lt;/p&gt;&lt;/strong&gt; &lt;strong&gt;&lt;p&gt;% Boutiques : 7.14%&lt;/p&gt;&lt;/strong&gt;&lt;strong&gt; &lt;p&gt;% Boutique B2B : nan%&lt;/p&gt;&lt;/strong&gt; &lt;strong&gt; &lt;p&gt;%N/A : 17.86%&lt;/p&gt;&lt;/strong&gt; &lt;/div&gt;  &lt;/div&gt; &lt;/div&gt;`)[0];\n",
       "                popup_08fe7f5d4aa97598d8cfe6a67542668e.setContent(html_e23f63363bf9f8e872612b3612bc90d0);\n",
       "            \n",
       "        \n",
       "\n",
       "        marker_6b83c0c4e8ad8cfbf469aac5b5d2d682.bindPopup(popup_08fe7f5d4aa97598d8cfe6a67542668e)\n",
       "        ;\n",
       "\n",
       "        \n",
       "    \n",
       "    \n",
       "            marker_6b83c0c4e8ad8cfbf469aac5b5d2d682.bindTooltip(\n",
       "                `&lt;div&gt;\n",
       "                     TAMANRASSET\n",
       "                 &lt;/div&gt;`,\n",
       "                {&quot;sticky&quot;: true}\n",
       "            );\n",
       "        \n",
       "    \n",
       "            var marker_6c9f9257494680af9942e791ad865662 = L.marker(\n",
       "                [33.115308, 6.0818339],\n",
       "                {}\n",
       "            ).addTo(map_9939f789a7c7cd7600d06daf240f4ab4);\n",
       "        \n",
       "    \n",
       "            var icon_20ad5689f4ff91bc08edc24d9ccdb611 = L.AwesomeMarkers.icon(\n",
       "                {&quot;extraClasses&quot;: &quot;fa-rotate-0&quot;, &quot;icon&quot;: &quot;info-sign&quot;, &quot;iconColor&quot;: &quot;white&quot;, &quot;markerColor&quot;: &quot;green&quot;, &quot;prefix&quot;: &quot;glyphicon&quot;}\n",
       "            );\n",
       "            marker_6c9f9257494680af9942e791ad865662.setIcon(icon_20ad5689f4ff91bc08edc24d9ccdb611);\n",
       "        \n",
       "    \n",
       "        var popup_8a8c58ba4a8761484cf409da761f46ee = L.popup({&quot;maxWidth&quot;: 300});\n",
       "\n",
       "        \n",
       "            \n",
       "                var html_170006a4b35da4dd52daf30ff9ee07ab = $(`&lt;div id=&quot;html_170006a4b35da4dd52daf30ff9ee07ab&quot; style=&quot;width: 100.0%; height: 100.0%;&quot;&gt; &lt;div style=&quot;text-align: center;&quot;&gt; &lt;h2&gt;Infos sur la Wilaya&lt;/h2&gt;   &lt;div style=&quot;text-align: center; font-family: Arial, sans-serif;&quot;&gt; &lt;h2 style=&quot;color: blue; font-size: 18px;&quot;&gt;TEBESBEST&lt;/h2&gt; &lt;p style=&quot;color: green; font-size: 14px;&quot;&gt;Nombre de Personnes Identifiés : 17.0&lt;/p&gt; &lt;p style=&quot;color: red; font-size: 14px;&quot;&gt;Nombre de Personnes Non Identifiés : 1.0&lt;/p&gt; &lt;strong&gt;&lt;p&gt;% Points de Vente : nan%&lt;/p&gt;&lt;/strong&gt; &lt;strong&gt;&lt;p&gt;% Boutiques : nan%&lt;/p&gt;&lt;/strong&gt;&lt;strong&gt; &lt;p&gt;% Boutique B2B : 100.00%&lt;/p&gt;&lt;/strong&gt; &lt;strong&gt; &lt;p&gt;%N/A : nan%&lt;/p&gt;&lt;/strong&gt; &lt;/div&gt;  &lt;/div&gt; &lt;/div&gt;`)[0];\n",
       "                popup_8a8c58ba4a8761484cf409da761f46ee.setContent(html_170006a4b35da4dd52daf30ff9ee07ab);\n",
       "            \n",
       "        \n",
       "\n",
       "        marker_6c9f9257494680af9942e791ad865662.bindPopup(popup_8a8c58ba4a8761484cf409da761f46ee)\n",
       "        ;\n",
       "\n",
       "        \n",
       "    \n",
       "    \n",
       "            marker_6c9f9257494680af9942e791ad865662.bindTooltip(\n",
       "                `&lt;div&gt;\n",
       "                     TEBESBEST\n",
       "                 &lt;/div&gt;`,\n",
       "                {&quot;sticky&quot;: true}\n",
       "            );\n",
       "        \n",
       "    \n",
       "            var marker_a1b513a5ac33c98c3747c46cd5fff6ea = L.marker(\n",
       "                [35.4035956, 8.1212322],\n",
       "                {}\n",
       "            ).addTo(map_9939f789a7c7cd7600d06daf240f4ab4);\n",
       "        \n",
       "    \n",
       "            var icon_ecf1b204b2bf2c7e62e0bbd614e4a346 = L.AwesomeMarkers.icon(\n",
       "                {&quot;extraClasses&quot;: &quot;fa-rotate-0&quot;, &quot;icon&quot;: &quot;info-sign&quot;, &quot;iconColor&quot;: &quot;white&quot;, &quot;markerColor&quot;: &quot;orange&quot;, &quot;prefix&quot;: &quot;glyphicon&quot;}\n",
       "            );\n",
       "            marker_a1b513a5ac33c98c3747c46cd5fff6ea.setIcon(icon_ecf1b204b2bf2c7e62e0bbd614e4a346);\n",
       "        \n",
       "    \n",
       "        var popup_be00dad54582e65018e87afff9d0ae15 = L.popup({&quot;maxWidth&quot;: 300});\n",
       "\n",
       "        \n",
       "            \n",
       "                var html_50e186f249d695b6061a814f1488d785 = $(`&lt;div id=&quot;html_50e186f249d695b6061a814f1488d785&quot; style=&quot;width: 100.0%; height: 100.0%;&quot;&gt; &lt;div style=&quot;text-align: center;&quot;&gt; &lt;h2&gt;Infos sur la Wilaya&lt;/h2&gt;   &lt;div style=&quot;text-align: center; font-family: Arial, sans-serif;&quot;&gt; &lt;h2 style=&quot;color: blue; font-size: 18px;&quot;&gt;TEBESSA&lt;/h2&gt; &lt;p style=&quot;color: green; font-size: 14px;&quot;&gt;Nombre de Personnes Identifiés : 729.0&lt;/p&gt; &lt;p style=&quot;color: red; font-size: 14px;&quot;&gt;Nombre de Personnes Non Identifiés : 74.0&lt;/p&gt; &lt;strong&gt;&lt;p&gt;% Points de Vente : 55.41%&lt;/p&gt;&lt;/strong&gt; &lt;strong&gt;&lt;p&gt;% Boutiques : 29.73%&lt;/p&gt;&lt;/strong&gt;&lt;strong&gt; &lt;p&gt;% Boutique B2B : nan%&lt;/p&gt;&lt;/strong&gt; &lt;strong&gt; &lt;p&gt;%N/A : 14.86%&lt;/p&gt;&lt;/strong&gt; &lt;/div&gt;  &lt;/div&gt; &lt;/div&gt;`)[0];\n",
       "                popup_be00dad54582e65018e87afff9d0ae15.setContent(html_50e186f249d695b6061a814f1488d785);\n",
       "            \n",
       "        \n",
       "\n",
       "        marker_a1b513a5ac33c98c3747c46cd5fff6ea.bindPopup(popup_be00dad54582e65018e87afff9d0ae15)\n",
       "        ;\n",
       "\n",
       "        \n",
       "    \n",
       "    \n",
       "            marker_a1b513a5ac33c98c3747c46cd5fff6ea.bindTooltip(\n",
       "                `&lt;div&gt;\n",
       "                     TEBESSA\n",
       "                 &lt;/div&gt;`,\n",
       "                {&quot;sticky&quot;: true}\n",
       "            );\n",
       "        \n",
       "    \n",
       "            var marker_9ac896257110e7d59f60ef1ce3a9cc3f = L.marker(\n",
       "                [34.8947575, 1.594579173136212],\n",
       "                {}\n",
       "            ).addTo(map_9939f789a7c7cd7600d06daf240f4ab4);\n",
       "        \n",
       "    \n",
       "            var icon_08b5e0fdc3429134ec384805aef4f6c5 = L.AwesomeMarkers.icon(\n",
       "                {&quot;extraClasses&quot;: &quot;fa-rotate-0&quot;, &quot;icon&quot;: &quot;info-sign&quot;, &quot;iconColor&quot;: &quot;white&quot;, &quot;markerColor&quot;: &quot;red&quot;, &quot;prefix&quot;: &quot;glyphicon&quot;}\n",
       "            );\n",
       "            marker_9ac896257110e7d59f60ef1ce3a9cc3f.setIcon(icon_08b5e0fdc3429134ec384805aef4f6c5);\n",
       "        \n",
       "    \n",
       "        var popup_590962bcd6b2acc2fb1f28b5a1f37c58 = L.popup({&quot;maxWidth&quot;: 300});\n",
       "\n",
       "        \n",
       "            \n",
       "                var html_71818bab611652834cec37894ff71d09 = $(`&lt;div id=&quot;html_71818bab611652834cec37894ff71d09&quot; style=&quot;width: 100.0%; height: 100.0%;&quot;&gt; &lt;div style=&quot;text-align: center;&quot;&gt; &lt;h2&gt;Infos sur la Wilaya&lt;/h2&gt;   &lt;div style=&quot;text-align: center; font-family: Arial, sans-serif;&quot;&gt; &lt;h2 style=&quot;color: blue; font-size: 18px;&quot;&gt;TIARET&lt;/h2&gt; &lt;p style=&quot;color: green; font-size: 14px;&quot;&gt;Nombre de Personnes Identifiés : 2526.0&lt;/p&gt; &lt;p style=&quot;color: red; font-size: 14px;&quot;&gt;Nombre de Personnes Non Identifiés : 207.0&lt;/p&gt; &lt;strong&gt;&lt;p&gt;% Points de Vente : 44.93%&lt;/p&gt;&lt;/strong&gt; &lt;strong&gt;&lt;p&gt;% Boutiques : 27.05%&lt;/p&gt;&lt;/strong&gt;&lt;strong&gt; &lt;p&gt;% Boutique B2B : 7.25%&lt;/p&gt;&lt;/strong&gt; &lt;strong&gt; &lt;p&gt;%N/A : 20.77%&lt;/p&gt;&lt;/strong&gt; &lt;/div&gt;  &lt;/div&gt; &lt;/div&gt;`)[0];\n",
       "                popup_590962bcd6b2acc2fb1f28b5a1f37c58.setContent(html_71818bab611652834cec37894ff71d09);\n",
       "            \n",
       "        \n",
       "\n",
       "        marker_9ac896257110e7d59f60ef1ce3a9cc3f.bindPopup(popup_590962bcd6b2acc2fb1f28b5a1f37c58)\n",
       "        ;\n",
       "\n",
       "        \n",
       "    \n",
       "    \n",
       "            marker_9ac896257110e7d59f60ef1ce3a9cc3f.bindTooltip(\n",
       "                `&lt;div&gt;\n",
       "                     TIARET\n",
       "                 &lt;/div&gt;`,\n",
       "                {&quot;sticky&quot;: true}\n",
       "            );\n",
       "        \n",
       "    \n",
       "            var marker_d7d8d6c3ce43fb7e04065fec485e2b2c = L.marker(\n",
       "                [34.8947575, 1.594579173136212],\n",
       "                {}\n",
       "            ).addTo(map_9939f789a7c7cd7600d06daf240f4ab4);\n",
       "        \n",
       "    \n",
       "            var icon_988e0678773090519c3d04f473928d73 = L.AwesomeMarkers.icon(\n",
       "                {&quot;extraClasses&quot;: &quot;fa-rotate-0&quot;, &quot;icon&quot;: &quot;info-sign&quot;, &quot;iconColor&quot;: &quot;white&quot;, &quot;markerColor&quot;: &quot;green&quot;, &quot;prefix&quot;: &quot;glyphicon&quot;}\n",
       "            );\n",
       "            marker_d7d8d6c3ce43fb7e04065fec485e2b2c.setIcon(icon_988e0678773090519c3d04f473928d73);\n",
       "        \n",
       "    \n",
       "        var popup_9024f94adddb4891723209b05ec78730 = L.popup({&quot;maxWidth&quot;: 300});\n",
       "\n",
       "        \n",
       "            \n",
       "                var html_a84e966c056ebc9533d9cb2dee5fcd76 = $(`&lt;div id=&quot;html_a84e966c056ebc9533d9cb2dee5fcd76&quot; style=&quot;width: 100.0%; height: 100.0%;&quot;&gt; &lt;div style=&quot;text-align: center;&quot;&gt; &lt;h2&gt;Infos sur la Wilaya&lt;/h2&gt;   &lt;div style=&quot;text-align: center; font-family: Arial, sans-serif;&quot;&gt; &lt;h2 style=&quot;color: blue; font-size: 18px;&quot;&gt;TIARET &lt;/h2&gt; &lt;p style=&quot;color: green; font-size: 14px;&quot;&gt;Nombre de Personnes Identifiés : nan&lt;/p&gt; &lt;p style=&quot;color: red; font-size: 14px;&quot;&gt;Nombre de Personnes Non Identifiés : 1.0&lt;/p&gt; &lt;strong&gt;&lt;p&gt;% Points de Vente : nan%&lt;/p&gt;&lt;/strong&gt; &lt;strong&gt;&lt;p&gt;% Boutiques : 100.00%&lt;/p&gt;&lt;/strong&gt;&lt;strong&gt; &lt;p&gt;% Boutique B2B : nan%&lt;/p&gt;&lt;/strong&gt; &lt;strong&gt; &lt;p&gt;%N/A : nan%&lt;/p&gt;&lt;/strong&gt; &lt;/div&gt;  &lt;/div&gt; &lt;/div&gt;`)[0];\n",
       "                popup_9024f94adddb4891723209b05ec78730.setContent(html_a84e966c056ebc9533d9cb2dee5fcd76);\n",
       "            \n",
       "        \n",
       "\n",
       "        marker_d7d8d6c3ce43fb7e04065fec485e2b2c.bindPopup(popup_9024f94adddb4891723209b05ec78730)\n",
       "        ;\n",
       "\n",
       "        \n",
       "    \n",
       "    \n",
       "            marker_d7d8d6c3ce43fb7e04065fec485e2b2c.bindTooltip(\n",
       "                `&lt;div&gt;\n",
       "                     TIARET \n",
       "                 &lt;/div&gt;`,\n",
       "                {&quot;sticky&quot;: true}\n",
       "            );\n",
       "        \n",
       "    \n",
       "            var marker_96fea0b2f2d084eb43a0351f1bff2c36 = L.marker(\n",
       "                [27.54390695, -6.239925131375032],\n",
       "                {}\n",
       "            ).addTo(map_9939f789a7c7cd7600d06daf240f4ab4);\n",
       "        \n",
       "    \n",
       "            var icon_61c6797f1f6e31b3fdff4e2b9001a02a = L.AwesomeMarkers.icon(\n",
       "                {&quot;extraClasses&quot;: &quot;fa-rotate-0&quot;, &quot;icon&quot;: &quot;info-sign&quot;, &quot;iconColor&quot;: &quot;white&quot;, &quot;markerColor&quot;: &quot;green&quot;, &quot;prefix&quot;: &quot;glyphicon&quot;}\n",
       "            );\n",
       "            marker_96fea0b2f2d084eb43a0351f1bff2c36.setIcon(icon_61c6797f1f6e31b3fdff4e2b9001a02a);\n",
       "        \n",
       "    \n",
       "        var popup_e79983a03a3fec530ebc4240b3ca7949 = L.popup({&quot;maxWidth&quot;: 300});\n",
       "\n",
       "        \n",
       "            \n",
       "                var html_4c94f3193ce1f68c142df51860da5812 = $(`&lt;div id=&quot;html_4c94f3193ce1f68c142df51860da5812&quot; style=&quot;width: 100.0%; height: 100.0%;&quot;&gt; &lt;div style=&quot;text-align: center;&quot;&gt; &lt;h2&gt;Infos sur la Wilaya&lt;/h2&gt;   &lt;div style=&quot;text-align: center; font-family: Arial, sans-serif;&quot;&gt; &lt;h2 style=&quot;color: blue; font-size: 18px;&quot;&gt;TINDOUF&lt;/h2&gt; &lt;p style=&quot;color: green; font-size: 14px;&quot;&gt;Nombre de Personnes Identifiés : 41.0&lt;/p&gt; &lt;p style=&quot;color: red; font-size: 14px;&quot;&gt;Nombre de Personnes Non Identifiés : 2.0&lt;/p&gt; &lt;strong&gt;&lt;p&gt;% Points de Vente : 50.00%&lt;/p&gt;&lt;/strong&gt; &lt;strong&gt;&lt;p&gt;% Boutiques : 50.00%&lt;/p&gt;&lt;/strong&gt;&lt;strong&gt; &lt;p&gt;% Boutique B2B : nan%&lt;/p&gt;&lt;/strong&gt; &lt;strong&gt; &lt;p&gt;%N/A : nan%&lt;/p&gt;&lt;/strong&gt; &lt;/div&gt;  &lt;/div&gt; &lt;/div&gt;`)[0];\n",
       "                popup_e79983a03a3fec530ebc4240b3ca7949.setContent(html_4c94f3193ce1f68c142df51860da5812);\n",
       "            \n",
       "        \n",
       "\n",
       "        marker_96fea0b2f2d084eb43a0351f1bff2c36.bindPopup(popup_e79983a03a3fec530ebc4240b3ca7949)\n",
       "        ;\n",
       "\n",
       "        \n",
       "    \n",
       "    \n",
       "            marker_96fea0b2f2d084eb43a0351f1bff2c36.bindTooltip(\n",
       "                `&lt;div&gt;\n",
       "                     TINDOUF\n",
       "                 &lt;/div&gt;`,\n",
       "                {&quot;sticky&quot;: true}\n",
       "            );\n",
       "        \n",
       "    \n",
       "            var marker_928382cc874748e473d5734c61c4cec9 = L.marker(\n",
       "                [36.527157, 2.1672011802712086],\n",
       "                {}\n",
       "            ).addTo(map_9939f789a7c7cd7600d06daf240f4ab4);\n",
       "        \n",
       "    \n",
       "            var icon_a4c6313a7605fb088b58ebb8187ac9b8 = L.AwesomeMarkers.icon(\n",
       "                {&quot;extraClasses&quot;: &quot;fa-rotate-0&quot;, &quot;icon&quot;: &quot;info-sign&quot;, &quot;iconColor&quot;: &quot;white&quot;, &quot;markerColor&quot;: &quot;orange&quot;, &quot;prefix&quot;: &quot;glyphicon&quot;}\n",
       "            );\n",
       "            marker_928382cc874748e473d5734c61c4cec9.setIcon(icon_a4c6313a7605fb088b58ebb8187ac9b8);\n",
       "        \n",
       "    \n",
       "        var popup_fb93c693673aceb8b5311f7923d229ef = L.popup({&quot;maxWidth&quot;: 300});\n",
       "\n",
       "        \n",
       "            \n",
       "                var html_c28f629f760121aec9bed1000399a15c = $(`&lt;div id=&quot;html_c28f629f760121aec9bed1000399a15c&quot; style=&quot;width: 100.0%; height: 100.0%;&quot;&gt; &lt;div style=&quot;text-align: center;&quot;&gt; &lt;h2&gt;Infos sur la Wilaya&lt;/h2&gt;   &lt;div style=&quot;text-align: center; font-family: Arial, sans-serif;&quot;&gt; &lt;h2 style=&quot;color: blue; font-size: 18px;&quot;&gt;TIPAZA&lt;/h2&gt; &lt;p style=&quot;color: green; font-size: 14px;&quot;&gt;Nombre de Personnes Identifiés : 829.0&lt;/p&gt; &lt;p style=&quot;color: red; font-size: 14px;&quot;&gt;Nombre de Personnes Non Identifiés : 82.0&lt;/p&gt; &lt;strong&gt;&lt;p&gt;% Points de Vente : 34.15%&lt;/p&gt;&lt;/strong&gt; &lt;strong&gt;&lt;p&gt;% Boutiques : 24.39%&lt;/p&gt;&lt;/strong&gt;&lt;strong&gt; &lt;p&gt;% Boutique B2B : 7.32%&lt;/p&gt;&lt;/strong&gt; &lt;strong&gt; &lt;p&gt;%N/A : 34.15%&lt;/p&gt;&lt;/strong&gt; &lt;/div&gt;  &lt;/div&gt; &lt;/div&gt;`)[0];\n",
       "                popup_fb93c693673aceb8b5311f7923d229ef.setContent(html_c28f629f760121aec9bed1000399a15c);\n",
       "            \n",
       "        \n",
       "\n",
       "        marker_928382cc874748e473d5734c61c4cec9.bindPopup(popup_fb93c693673aceb8b5311f7923d229ef)\n",
       "        ;\n",
       "\n",
       "        \n",
       "    \n",
       "    \n",
       "            marker_928382cc874748e473d5734c61c4cec9.bindTooltip(\n",
       "                `&lt;div&gt;\n",
       "                     TIPAZA\n",
       "                 &lt;/div&gt;`,\n",
       "                {&quot;sticky&quot;: true}\n",
       "            );\n",
       "        \n",
       "    \n",
       "            var marker_c624bfa8cff6b4f3c2fc19c68edda048 = L.marker(\n",
       "                [35.785897500000004, 1.8340956752427218],\n",
       "                {}\n",
       "            ).addTo(map_9939f789a7c7cd7600d06daf240f4ab4);\n",
       "        \n",
       "    \n",
       "            var icon_5324b668717d6bd663bda12149b25867 = L.AwesomeMarkers.icon(\n",
       "                {&quot;extraClasses&quot;: &quot;fa-rotate-0&quot;, &quot;icon&quot;: &quot;info-sign&quot;, &quot;iconColor&quot;: &quot;white&quot;, &quot;markerColor&quot;: &quot;orange&quot;, &quot;prefix&quot;: &quot;glyphicon&quot;}\n",
       "            );\n",
       "            marker_c624bfa8cff6b4f3c2fc19c68edda048.setIcon(icon_5324b668717d6bd663bda12149b25867);\n",
       "        \n",
       "    \n",
       "        var popup_682261c4ebb88cf13d9f00c3a6cc3c3b = L.popup({&quot;maxWidth&quot;: 300});\n",
       "\n",
       "        \n",
       "            \n",
       "                var html_58b3f6220836afe125f8c761ee096697 = $(`&lt;div id=&quot;html_58b3f6220836afe125f8c761ee096697&quot; style=&quot;width: 100.0%; height: 100.0%;&quot;&gt; &lt;div style=&quot;text-align: center;&quot;&gt; &lt;h2&gt;Infos sur la Wilaya&lt;/h2&gt;   &lt;div style=&quot;text-align: center; font-family: Arial, sans-serif;&quot;&gt; &lt;h2 style=&quot;color: blue; font-size: 18px;&quot;&gt;TISSEMSILT&lt;/h2&gt; &lt;p style=&quot;color: green; font-size: 14px;&quot;&gt;Nombre de Personnes Identifiés : 954.0&lt;/p&gt; &lt;p style=&quot;color: red; font-size: 14px;&quot;&gt;Nombre de Personnes Non Identifiés : 77.0&lt;/p&gt; &lt;strong&gt;&lt;p&gt;% Points de Vente : 37.66%&lt;/p&gt;&lt;/strong&gt; &lt;strong&gt;&lt;p&gt;% Boutiques : 41.56%&lt;/p&gt;&lt;/strong&gt;&lt;strong&gt; &lt;p&gt;% Boutique B2B : 3.90%&lt;/p&gt;&lt;/strong&gt; &lt;strong&gt; &lt;p&gt;%N/A : 16.88%&lt;/p&gt;&lt;/strong&gt; &lt;/div&gt;  &lt;/div&gt; &lt;/div&gt;`)[0];\n",
       "                popup_682261c4ebb88cf13d9f00c3a6cc3c3b.setContent(html_58b3f6220836afe125f8c761ee096697);\n",
       "            \n",
       "        \n",
       "\n",
       "        marker_c624bfa8cff6b4f3c2fc19c68edda048.bindPopup(popup_682261c4ebb88cf13d9f00c3a6cc3c3b)\n",
       "        ;\n",
       "\n",
       "        \n",
       "    \n",
       "    \n",
       "            marker_c624bfa8cff6b4f3c2fc19c68edda048.bindTooltip(\n",
       "                `&lt;div&gt;\n",
       "                     TISSEMSILT\n",
       "                 &lt;/div&gt;`,\n",
       "                {&quot;sticky&quot;: true}\n",
       "            );\n",
       "        \n",
       "    \n",
       "            var marker_578600033c3595a6948b4af3e69494c8 = L.marker(\n",
       "                [36.5872274, 3.7742759],\n",
       "                {}\n",
       "            ).addTo(map_9939f789a7c7cd7600d06daf240f4ab4);\n",
       "        \n",
       "    \n",
       "            var icon_3e22c7f5473a77f8541743e14ae4d628 = L.AwesomeMarkers.icon(\n",
       "                {&quot;extraClasses&quot;: &quot;fa-rotate-0&quot;, &quot;icon&quot;: &quot;info-sign&quot;, &quot;iconColor&quot;: &quot;white&quot;, &quot;markerColor&quot;: &quot;green&quot;, &quot;prefix&quot;: &quot;glyphicon&quot;}\n",
       "            );\n",
       "            marker_578600033c3595a6948b4af3e69494c8.setIcon(icon_3e22c7f5473a77f8541743e14ae4d628);\n",
       "        \n",
       "    \n",
       "        var popup_a6351cfcd76bbe0d231c9fe8fb98e40f = L.popup({&quot;maxWidth&quot;: 300});\n",
       "\n",
       "        \n",
       "            \n",
       "                var html_a1d2daf7d37320e01c7ea9e085622c36 = $(`&lt;div id=&quot;html_a1d2daf7d37320e01c7ea9e085622c36&quot; style=&quot;width: 100.0%; height: 100.0%;&quot;&gt; &lt;div style=&quot;text-align: center;&quot;&gt; &lt;h2&gt;Infos sur la Wilaya&lt;/h2&gt;   &lt;div style=&quot;text-align: center; font-family: Arial, sans-serif;&quot;&gt; &lt;h2 style=&quot;color: blue; font-size: 18px;&quot;&gt;TIZI GHENIF&lt;/h2&gt; &lt;p style=&quot;color: green; font-size: 14px;&quot;&gt;Nombre de Personnes Identifiés : nan&lt;/p&gt; &lt;p style=&quot;color: red; font-size: 14px;&quot;&gt;Nombre de Personnes Non Identifiés : 1.0&lt;/p&gt; &lt;strong&gt;&lt;p&gt;% Points de Vente : nan%&lt;/p&gt;&lt;/strong&gt; &lt;strong&gt;&lt;p&gt;% Boutiques : 100.00%&lt;/p&gt;&lt;/strong&gt;&lt;strong&gt; &lt;p&gt;% Boutique B2B : nan%&lt;/p&gt;&lt;/strong&gt; &lt;strong&gt; &lt;p&gt;%N/A : nan%&lt;/p&gt;&lt;/strong&gt; &lt;/div&gt;  &lt;/div&gt; &lt;/div&gt;`)[0];\n",
       "                popup_a6351cfcd76bbe0d231c9fe8fb98e40f.setContent(html_a1d2daf7d37320e01c7ea9e085622c36);\n",
       "            \n",
       "        \n",
       "\n",
       "        marker_578600033c3595a6948b4af3e69494c8.bindPopup(popup_a6351cfcd76bbe0d231c9fe8fb98e40f)\n",
       "        ;\n",
       "\n",
       "        \n",
       "    \n",
       "    \n",
       "            marker_578600033c3595a6948b4af3e69494c8.bindTooltip(\n",
       "                `&lt;div&gt;\n",
       "                     TIZI GHENIF\n",
       "                 &lt;/div&gt;`,\n",
       "                {&quot;sticky&quot;: true}\n",
       "            );\n",
       "        \n",
       "    \n",
       "            var marker_3bab6629f2cea98db92ee5a83abd429a = L.marker(\n",
       "                [36.6816175, 4.237186047040007],\n",
       "                {}\n",
       "            ).addTo(map_9939f789a7c7cd7600d06daf240f4ab4);\n",
       "        \n",
       "    \n",
       "            var icon_a6edb7c7aff8495f355cc59dad4c17e1 = L.AwesomeMarkers.icon(\n",
       "                {&quot;extraClasses&quot;: &quot;fa-rotate-0&quot;, &quot;icon&quot;: &quot;info-sign&quot;, &quot;iconColor&quot;: &quot;white&quot;, &quot;markerColor&quot;: &quot;green&quot;, &quot;prefix&quot;: &quot;glyphicon&quot;}\n",
       "            );\n",
       "            marker_3bab6629f2cea98db92ee5a83abd429a.setIcon(icon_a6edb7c7aff8495f355cc59dad4c17e1);\n",
       "        \n",
       "    \n",
       "        var popup_5a284f268294e532a2b10751cf508c17 = L.popup({&quot;maxWidth&quot;: 300});\n",
       "\n",
       "        \n",
       "            \n",
       "                var html_cf18d9f4d03be18968507ae588f753b2 = $(`&lt;div id=&quot;html_cf18d9f4d03be18968507ae588f753b2&quot; style=&quot;width: 100.0%; height: 100.0%;&quot;&gt; &lt;div style=&quot;text-align: center;&quot;&gt; &lt;h2&gt;Infos sur la Wilaya&lt;/h2&gt;   &lt;div style=&quot;text-align: center; font-family: Arial, sans-serif;&quot;&gt; &lt;h2 style=&quot;color: blue; font-size: 18px;&quot;&gt;TIZI OUZOU&lt;/h2&gt; &lt;p style=&quot;color: green; font-size: 14px;&quot;&gt;Nombre de Personnes Identifiés : 2.0&lt;/p&gt; &lt;p style=&quot;color: red; font-size: 14px;&quot;&gt;Nombre de Personnes Non Identifiés : 6.0&lt;/p&gt; &lt;strong&gt;&lt;p&gt;% Points de Vente : nan%&lt;/p&gt;&lt;/strong&gt; &lt;strong&gt;&lt;p&gt;% Boutiques : 83.33%&lt;/p&gt;&lt;/strong&gt;&lt;strong&gt; &lt;p&gt;% Boutique B2B : nan%&lt;/p&gt;&lt;/strong&gt; &lt;strong&gt; &lt;p&gt;%N/A : 16.67%&lt;/p&gt;&lt;/strong&gt; &lt;/div&gt;  &lt;/div&gt; &lt;/div&gt;`)[0];\n",
       "                popup_5a284f268294e532a2b10751cf508c17.setContent(html_cf18d9f4d03be18968507ae588f753b2);\n",
       "            \n",
       "        \n",
       "\n",
       "        marker_3bab6629f2cea98db92ee5a83abd429a.bindPopup(popup_5a284f268294e532a2b10751cf508c17)\n",
       "        ;\n",
       "\n",
       "        \n",
       "    \n",
       "    \n",
       "            marker_3bab6629f2cea98db92ee5a83abd429a.bindTooltip(\n",
       "                `&lt;div&gt;\n",
       "                     TIZI OUZOU\n",
       "                 &lt;/div&gt;`,\n",
       "                {&quot;sticky&quot;: true}\n",
       "            );\n",
       "        \n",
       "    \n",
       "            var marker_42ae654068d150acebb81f1b4cb39082 = L.marker(\n",
       "                [36.6816175, 4.237186047040007],\n",
       "                {}\n",
       "            ).addTo(map_9939f789a7c7cd7600d06daf240f4ab4);\n",
       "        \n",
       "    \n",
       "            var icon_8605f5ff3337debadf35d55a289cac07 = L.AwesomeMarkers.icon(\n",
       "                {&quot;extraClasses&quot;: &quot;fa-rotate-0&quot;, &quot;icon&quot;: &quot;info-sign&quot;, &quot;iconColor&quot;: &quot;white&quot;, &quot;markerColor&quot;: &quot;red&quot;, &quot;prefix&quot;: &quot;glyphicon&quot;}\n",
       "            );\n",
       "            marker_42ae654068d150acebb81f1b4cb39082.setIcon(icon_8605f5ff3337debadf35d55a289cac07);\n",
       "        \n",
       "    \n",
       "        var popup_be371287590b295552b7f36b8af10fde = L.popup({&quot;maxWidth&quot;: 300});\n",
       "\n",
       "        \n",
       "            \n",
       "                var html_c4a31b5c9cf8e7d9f2fb748bb051b7a3 = $(`&lt;div id=&quot;html_c4a31b5c9cf8e7d9f2fb748bb051b7a3&quot; style=&quot;width: 100.0%; height: 100.0%;&quot;&gt; &lt;div style=&quot;text-align: center;&quot;&gt; &lt;h2&gt;Infos sur la Wilaya&lt;/h2&gt;   &lt;div style=&quot;text-align: center; font-family: Arial, sans-serif;&quot;&gt; &lt;h2 style=&quot;color: blue; font-size: 18px;&quot;&gt;TIZI-OUZOU&lt;/h2&gt; &lt;p style=&quot;color: green; font-size: 14px;&quot;&gt;Nombre de Personnes Identifiés : 1993.0&lt;/p&gt; &lt;p style=&quot;color: red; font-size: 14px;&quot;&gt;Nombre de Personnes Non Identifiés : 194.0&lt;/p&gt; &lt;strong&gt;&lt;p&gt;% Points de Vente : 47.94%&lt;/p&gt;&lt;/strong&gt; &lt;strong&gt;&lt;p&gt;% Boutiques : 11.86%&lt;/p&gt;&lt;/strong&gt;&lt;strong&gt; &lt;p&gt;% Boutique B2B : 1.03%&lt;/p&gt;&lt;/strong&gt; &lt;strong&gt; &lt;p&gt;%N/A : 39.18%&lt;/p&gt;&lt;/strong&gt; &lt;/div&gt;  &lt;/div&gt; &lt;/div&gt;`)[0];\n",
       "                popup_be371287590b295552b7f36b8af10fde.setContent(html_c4a31b5c9cf8e7d9f2fb748bb051b7a3);\n",
       "            \n",
       "        \n",
       "\n",
       "        marker_42ae654068d150acebb81f1b4cb39082.bindPopup(popup_be371287590b295552b7f36b8af10fde)\n",
       "        ;\n",
       "\n",
       "        \n",
       "    \n",
       "    \n",
       "            marker_42ae654068d150acebb81f1b4cb39082.bindTooltip(\n",
       "                `&lt;div&gt;\n",
       "                     TIZI-OUZOU\n",
       "                 &lt;/div&gt;`,\n",
       "                {&quot;sticky&quot;: true}\n",
       "            );\n",
       "        \n",
       "    \n",
       "            var marker_5c4085954a64398d4a27c19e6f603d17 = L.marker(\n",
       "                [34.881789, -1.316699],\n",
       "                {}\n",
       "            ).addTo(map_9939f789a7c7cd7600d06daf240f4ab4);\n",
       "        \n",
       "    \n",
       "            var icon_7bf69477416d6af077b756e5cf911127 = L.AwesomeMarkers.icon(\n",
       "                {&quot;extraClasses&quot;: &quot;fa-rotate-0&quot;, &quot;icon&quot;: &quot;info-sign&quot;, &quot;iconColor&quot;: &quot;white&quot;, &quot;markerColor&quot;: &quot;red&quot;, &quot;prefix&quot;: &quot;glyphicon&quot;}\n",
       "            );\n",
       "            marker_5c4085954a64398d4a27c19e6f603d17.setIcon(icon_7bf69477416d6af077b756e5cf911127);\n",
       "        \n",
       "    \n",
       "        var popup_bbfdf87729509255f9826543b726c2cf = L.popup({&quot;maxWidth&quot;: 300});\n",
       "\n",
       "        \n",
       "            \n",
       "                var html_bddb35b36da25db281ade6be810f5209 = $(`&lt;div id=&quot;html_bddb35b36da25db281ade6be810f5209&quot; style=&quot;width: 100.0%; height: 100.0%;&quot;&gt; &lt;div style=&quot;text-align: center;&quot;&gt; &lt;h2&gt;Infos sur la Wilaya&lt;/h2&gt;   &lt;div style=&quot;text-align: center; font-family: Arial, sans-serif;&quot;&gt; &lt;h2 style=&quot;color: blue; font-size: 18px;&quot;&gt;TLEMCEN&lt;/h2&gt; &lt;p style=&quot;color: green; font-size: 14px;&quot;&gt;Nombre de Personnes Identifiés : 2329.0&lt;/p&gt; &lt;p style=&quot;color: red; font-size: 14px;&quot;&gt;Nombre de Personnes Non Identifiés : 180.0&lt;/p&gt; &lt;strong&gt;&lt;p&gt;% Points de Vente : 52.78%&lt;/p&gt;&lt;/strong&gt; &lt;strong&gt;&lt;p&gt;% Boutiques : 26.67%&lt;/p&gt;&lt;/strong&gt;&lt;strong&gt; &lt;p&gt;% Boutique B2B : 1.11%&lt;/p&gt;&lt;/strong&gt; &lt;strong&gt; &lt;p&gt;%N/A : 19.44%&lt;/p&gt;&lt;/strong&gt; &lt;/div&gt;  &lt;/div&gt; &lt;/div&gt;`)[0];\n",
       "                popup_bbfdf87729509255f9826543b726c2cf.setContent(html_bddb35b36da25db281ade6be810f5209);\n",
       "            \n",
       "        \n",
       "\n",
       "        marker_5c4085954a64398d4a27c19e6f603d17.bindPopup(popup_bbfdf87729509255f9826543b726c2cf)\n",
       "        ;\n",
       "\n",
       "        \n",
       "    \n",
       "    \n",
       "            marker_5c4085954a64398d4a27c19e6f603d17.bindTooltip(\n",
       "                `&lt;div&gt;\n",
       "                     TLEMCEN\n",
       "                 &lt;/div&gt;`,\n",
       "                {&quot;sticky&quot;: true}\n",
       "            );\n",
       "        \n",
       "    \n",
       "            var marker_b6e34bda98ea00b2af0d5e751d7acc82 = L.marker(\n",
       "                [32.98251965, 6.235443156542997],\n",
       "                {}\n",
       "            ).addTo(map_9939f789a7c7cd7600d06daf240f4ab4);\n",
       "        \n",
       "    \n",
       "            var icon_d32575a7250f86aff068f31c816f5bb2 = L.AwesomeMarkers.icon(\n",
       "                {&quot;extraClasses&quot;: &quot;fa-rotate-0&quot;, &quot;icon&quot;: &quot;info-sign&quot;, &quot;iconColor&quot;: &quot;white&quot;, &quot;markerColor&quot;: &quot;green&quot;, &quot;prefix&quot;: &quot;glyphicon&quot;}\n",
       "            );\n",
       "            marker_b6e34bda98ea00b2af0d5e751d7acc82.setIcon(icon_d32575a7250f86aff068f31c816f5bb2);\n",
       "        \n",
       "    \n",
       "        var popup_d8d7a2f65eda78446ba882d0a9f3f0eb = L.popup({&quot;maxWidth&quot;: 300});\n",
       "\n",
       "        \n",
       "            \n",
       "                var html_f01cd3cc1ac0f7a0e10d2c33f3a41b68 = $(`&lt;div id=&quot;html_f01cd3cc1ac0f7a0e10d2c33f3a41b68&quot; style=&quot;width: 100.0%; height: 100.0%;&quot;&gt; &lt;div style=&quot;text-align: center;&quot;&gt; &lt;h2&gt;Infos sur la Wilaya&lt;/h2&gt;   &lt;div style=&quot;text-align: center; font-family: Arial, sans-serif;&quot;&gt; &lt;h2 style=&quot;color: blue; font-size: 18px;&quot;&gt;TOUGGOURT&lt;/h2&gt; &lt;p style=&quot;color: green; font-size: 14px;&quot;&gt;Nombre de Personnes Identifiés : 52.0&lt;/p&gt; &lt;p style=&quot;color: red; font-size: 14px;&quot;&gt;Nombre de Personnes Non Identifiés : 2.0&lt;/p&gt; &lt;strong&gt;&lt;p&gt;% Points de Vente : nan%&lt;/p&gt;&lt;/strong&gt; &lt;strong&gt;&lt;p&gt;% Boutiques : nan%&lt;/p&gt;&lt;/strong&gt;&lt;strong&gt; &lt;p&gt;% Boutique B2B : nan%&lt;/p&gt;&lt;/strong&gt; &lt;strong&gt; &lt;p&gt;%N/A : 100.00%&lt;/p&gt;&lt;/strong&gt; &lt;/div&gt;  &lt;/div&gt; &lt;/div&gt;`)[0];\n",
       "                popup_d8d7a2f65eda78446ba882d0a9f3f0eb.setContent(html_f01cd3cc1ac0f7a0e10d2c33f3a41b68);\n",
       "            \n",
       "        \n",
       "\n",
       "        marker_b6e34bda98ea00b2af0d5e751d7acc82.bindPopup(popup_d8d7a2f65eda78446ba882d0a9f3f0eb)\n",
       "        ;\n",
       "\n",
       "        \n",
       "    \n",
       "    \n",
       "            marker_b6e34bda98ea00b2af0d5e751d7acc82.bindTooltip(\n",
       "                `&lt;div&gt;\n",
       "                     TOUGGOURT\n",
       "                 &lt;/div&gt;`,\n",
       "                {&quot;sticky&quot;: true}\n",
       "            );\n",
       "        \n",
       "    \n",
       "            var marker_85852610357d15ee7de9ad53b5b130c0 = L.marker(\n",
       "                [36.7753606, 3.0601882],\n",
       "                {}\n",
       "            ).addTo(map_9939f789a7c7cd7600d06daf240f4ab4);\n",
       "        \n",
       "    \n",
       "            var icon_f888eec54be5f7669891202717851d89 = L.AwesomeMarkers.icon(\n",
       "                {&quot;extraClasses&quot;: &quot;fa-rotate-0&quot;, &quot;icon&quot;: &quot;info-sign&quot;, &quot;iconColor&quot;: &quot;white&quot;, &quot;markerColor&quot;: &quot;green&quot;, &quot;prefix&quot;: &quot;glyphicon&quot;}\n",
       "            );\n",
       "            marker_85852610357d15ee7de9ad53b5b130c0.setIcon(icon_f888eec54be5f7669891202717851d89);\n",
       "        \n",
       "    \n",
       "        var popup_023dad2adc7e559cd65d6487541b54e5 = L.popup({&quot;maxWidth&quot;: 300});\n",
       "\n",
       "        \n",
       "            \n",
       "                var html_0bf7f257ee309aeff83da7b38c9b548a = $(`&lt;div id=&quot;html_0bf7f257ee309aeff83da7b38c9b548a&quot; style=&quot;width: 100.0%; height: 100.0%;&quot;&gt; &lt;div style=&quot;text-align: center;&quot;&gt; &lt;h2&gt;Infos sur la Wilaya&lt;/h2&gt;   &lt;div style=&quot;text-align: center; font-family: Arial, sans-serif;&quot;&gt; &lt;h2 style=&quot;color: blue; font-size: 18px;&quot;&gt;ALGER &lt;/h2&gt; &lt;p style=&quot;color: green; font-size: 14px;&quot;&gt;Nombre de Personnes Identifiés : 1.0&lt;/p&gt; &lt;p style=&quot;color: red; font-size: 14px;&quot;&gt;Nombre de Personnes Non Identifiés : nan&lt;/p&gt; &lt;strong&gt;&lt;p&gt;% Points de Vente : nan%&lt;/p&gt;&lt;/strong&gt; &lt;strong&gt;&lt;p&gt;% Boutiques : nan%&lt;/p&gt;&lt;/strong&gt;&lt;strong&gt; &lt;p&gt;% Boutique B2B : nan%&lt;/p&gt;&lt;/strong&gt; &lt;strong&gt; &lt;p&gt;%N/A : nan%&lt;/p&gt;&lt;/strong&gt; &lt;/div&gt;  &lt;/div&gt; &lt;/div&gt;`)[0];\n",
       "                popup_023dad2adc7e559cd65d6487541b54e5.setContent(html_0bf7f257ee309aeff83da7b38c9b548a);\n",
       "            \n",
       "        \n",
       "\n",
       "        marker_85852610357d15ee7de9ad53b5b130c0.bindPopup(popup_023dad2adc7e559cd65d6487541b54e5)\n",
       "        ;\n",
       "\n",
       "        \n",
       "    \n",
       "    \n",
       "            marker_85852610357d15ee7de9ad53b5b130c0.bindTooltip(\n",
       "                `&lt;div&gt;\n",
       "                     ALGER \n",
       "                 &lt;/div&gt;`,\n",
       "                {&quot;sticky&quot;: true}\n",
       "            );\n",
       "        \n",
       "    \n",
       "            var marker_b75f02c6883baf162bc7feae19c520a7 = L.marker(\n",
       "                [36.7511783, 5.0643687],\n",
       "                {}\n",
       "            ).addTo(map_9939f789a7c7cd7600d06daf240f4ab4);\n",
       "        \n",
       "    \n",
       "            var icon_a3d2543a4de512066d796398b9dd931f = L.AwesomeMarkers.icon(\n",
       "                {&quot;extraClasses&quot;: &quot;fa-rotate-0&quot;, &quot;icon&quot;: &quot;info-sign&quot;, &quot;iconColor&quot;: &quot;white&quot;, &quot;markerColor&quot;: &quot;green&quot;, &quot;prefix&quot;: &quot;glyphicon&quot;}\n",
       "            );\n",
       "            marker_b75f02c6883baf162bc7feae19c520a7.setIcon(icon_a3d2543a4de512066d796398b9dd931f);\n",
       "        \n",
       "    \n",
       "        var popup_f73db39a3a009ef2beeea1797924b26e = L.popup({&quot;maxWidth&quot;: 300});\n",
       "\n",
       "        \n",
       "            \n",
       "                var html_2ecd63fe90bf78f80c0ae1a43e152acc = $(`&lt;div id=&quot;html_2ecd63fe90bf78f80c0ae1a43e152acc&quot; style=&quot;width: 100.0%; height: 100.0%;&quot;&gt; &lt;div style=&quot;text-align: center;&quot;&gt; &lt;h2&gt;Infos sur la Wilaya&lt;/h2&gt;   &lt;div style=&quot;text-align: center; font-family: Arial, sans-serif;&quot;&gt; &lt;h2 style=&quot;color: blue; font-size: 18px;&quot;&gt;BEJAIA &lt;/h2&gt; &lt;p style=&quot;color: green; font-size: 14px;&quot;&gt;Nombre de Personnes Identifiés : 1.0&lt;/p&gt; &lt;p style=&quot;color: red; font-size: 14px;&quot;&gt;Nombre de Personnes Non Identifiés : nan&lt;/p&gt; &lt;strong&gt;&lt;p&gt;% Points de Vente : nan%&lt;/p&gt;&lt;/strong&gt; &lt;strong&gt;&lt;p&gt;% Boutiques : nan%&lt;/p&gt;&lt;/strong&gt;&lt;strong&gt; &lt;p&gt;% Boutique B2B : nan%&lt;/p&gt;&lt;/strong&gt; &lt;strong&gt; &lt;p&gt;%N/A : nan%&lt;/p&gt;&lt;/strong&gt; &lt;/div&gt;  &lt;/div&gt; &lt;/div&gt;`)[0];\n",
       "                popup_f73db39a3a009ef2beeea1797924b26e.setContent(html_2ecd63fe90bf78f80c0ae1a43e152acc);\n",
       "            \n",
       "        \n",
       "\n",
       "        marker_b75f02c6883baf162bc7feae19c520a7.bindPopup(popup_f73db39a3a009ef2beeea1797924b26e)\n",
       "        ;\n",
       "\n",
       "        \n",
       "    \n",
       "    \n",
       "            marker_b75f02c6883baf162bc7feae19c520a7.bindTooltip(\n",
       "                `&lt;div&gt;\n",
       "                     BEJAIA \n",
       "                 &lt;/div&gt;`,\n",
       "                {&quot;sticky&quot;: true}\n",
       "            );\n",
       "        \n",
       "    \n",
       "            var marker_d4fed20dfaee2b71960167cd8b238fb2 = L.marker(\n",
       "                [29.083202, -2.65900601043017],\n",
       "                {}\n",
       "            ).addTo(map_9939f789a7c7cd7600d06daf240f4ab4);\n",
       "        \n",
       "    \n",
       "            var icon_a3b949693d413cb18335fe987aa1259a = L.AwesomeMarkers.icon(\n",
       "                {&quot;extraClasses&quot;: &quot;fa-rotate-0&quot;, &quot;icon&quot;: &quot;info-sign&quot;, &quot;iconColor&quot;: &quot;white&quot;, &quot;markerColor&quot;: &quot;green&quot;, &quot;prefix&quot;: &quot;glyphicon&quot;}\n",
       "            );\n",
       "            marker_d4fed20dfaee2b71960167cd8b238fb2.setIcon(icon_a3b949693d413cb18335fe987aa1259a);\n",
       "        \n",
       "    \n",
       "        var popup_541b16755ae892d38f442c2e73f01f03 = L.popup({&quot;maxWidth&quot;: 300});\n",
       "\n",
       "        \n",
       "            \n",
       "                var html_88275e1c905cafdb70d593e6f9ef726c = $(`&lt;div id=&quot;html_88275e1c905cafdb70d593e6f9ef726c&quot; style=&quot;width: 100.0%; height: 100.0%;&quot;&gt; &lt;div style=&quot;text-align: center;&quot;&gt; &lt;h2&gt;Infos sur la Wilaya&lt;/h2&gt;   &lt;div style=&quot;text-align: center; font-family: Arial, sans-serif;&quot;&gt; &lt;h2 style=&quot;color: blue; font-size: 18px;&quot;&gt;BENI ABBES&lt;/h2&gt; &lt;p style=&quot;color: green; font-size: 14px;&quot;&gt;Nombre de Personnes Identifiés : 1.0&lt;/p&gt; &lt;p style=&quot;color: red; font-size: 14px;&quot;&gt;Nombre de Personnes Non Identifiés : nan&lt;/p&gt; &lt;strong&gt;&lt;p&gt;% Points de Vente : nan%&lt;/p&gt;&lt;/strong&gt; &lt;strong&gt;&lt;p&gt;% Boutiques : nan%&lt;/p&gt;&lt;/strong&gt;&lt;strong&gt; &lt;p&gt;% Boutique B2B : nan%&lt;/p&gt;&lt;/strong&gt; &lt;strong&gt; &lt;p&gt;%N/A : nan%&lt;/p&gt;&lt;/strong&gt; &lt;/div&gt;  &lt;/div&gt; &lt;/div&gt;`)[0];\n",
       "                popup_541b16755ae892d38f442c2e73f01f03.setContent(html_88275e1c905cafdb70d593e6f9ef726c);\n",
       "            \n",
       "        \n",
       "\n",
       "        marker_d4fed20dfaee2b71960167cd8b238fb2.bindPopup(popup_541b16755ae892d38f442c2e73f01f03)\n",
       "        ;\n",
       "\n",
       "        \n",
       "    \n",
       "    \n",
       "            marker_d4fed20dfaee2b71960167cd8b238fb2.bindTooltip(\n",
       "                `&lt;div&gt;\n",
       "                     BENI ABBES\n",
       "                 &lt;/div&gt;`,\n",
       "                {&quot;sticky&quot;: true}\n",
       "            );\n",
       "        \n",
       "    \n",
       "            var marker_7842200f74e24a7f330f7408fdc29597 = L.marker(\n",
       "                [29.083202, -2.65900601043017],\n",
       "                {}\n",
       "            ).addTo(map_9939f789a7c7cd7600d06daf240f4ab4);\n",
       "        \n",
       "    \n",
       "            var icon_192e168ab1fe7ff389fae2eb0037cc5b = L.AwesomeMarkers.icon(\n",
       "                {&quot;extraClasses&quot;: &quot;fa-rotate-0&quot;, &quot;icon&quot;: &quot;info-sign&quot;, &quot;iconColor&quot;: &quot;white&quot;, &quot;markerColor&quot;: &quot;green&quot;, &quot;prefix&quot;: &quot;glyphicon&quot;}\n",
       "            );\n",
       "            marker_7842200f74e24a7f330f7408fdc29597.setIcon(icon_192e168ab1fe7ff389fae2eb0037cc5b);\n",
       "        \n",
       "    \n",
       "        var popup_2e16947c161a317969da64fd106a3873 = L.popup({&quot;maxWidth&quot;: 300});\n",
       "\n",
       "        \n",
       "            \n",
       "                var html_1eaff4c7beb3105101f20e776de5eb63 = $(`&lt;div id=&quot;html_1eaff4c7beb3105101f20e776de5eb63&quot; style=&quot;width: 100.0%; height: 100.0%;&quot;&gt; &lt;div style=&quot;text-align: center;&quot;&gt; &lt;h2&gt;Infos sur la Wilaya&lt;/h2&gt;   &lt;div style=&quot;text-align: center; font-family: Arial, sans-serif;&quot;&gt; &lt;h2 style=&quot;color: blue; font-size: 18px;&quot;&gt;BENI-ABBES&lt;/h2&gt; &lt;p style=&quot;color: green; font-size: 14px;&quot;&gt;Nombre de Personnes Identifiés : 2.0&lt;/p&gt; &lt;p style=&quot;color: red; font-size: 14px;&quot;&gt;Nombre de Personnes Non Identifiés : nan&lt;/p&gt; &lt;strong&gt;&lt;p&gt;% Points de Vente : nan%&lt;/p&gt;&lt;/strong&gt; &lt;strong&gt;&lt;p&gt;% Boutiques : nan%&lt;/p&gt;&lt;/strong&gt;&lt;strong&gt; &lt;p&gt;% Boutique B2B : nan%&lt;/p&gt;&lt;/strong&gt; &lt;strong&gt; &lt;p&gt;%N/A : nan%&lt;/p&gt;&lt;/strong&gt; &lt;/div&gt;  &lt;/div&gt; &lt;/div&gt;`)[0];\n",
       "                popup_2e16947c161a317969da64fd106a3873.setContent(html_1eaff4c7beb3105101f20e776de5eb63);\n",
       "            \n",
       "        \n",
       "\n",
       "        marker_7842200f74e24a7f330f7408fdc29597.bindPopup(popup_2e16947c161a317969da64fd106a3873)\n",
       "        ;\n",
       "\n",
       "        \n",
       "    \n",
       "    \n",
       "            marker_7842200f74e24a7f330f7408fdc29597.bindTooltip(\n",
       "                `&lt;div&gt;\n",
       "                     BENI-ABBES\n",
       "                 &lt;/div&gt;`,\n",
       "                {&quot;sticky&quot;: true}\n",
       "            );\n",
       "        \n",
       "    \n",
       "            var marker_a277caef9683ffbc94f01589337b9c3d = L.marker(\n",
       "                [36.1352805, 2.9172738],\n",
       "                {}\n",
       "            ).addTo(map_9939f789a7c7cd7600d06daf240f4ab4);\n",
       "        \n",
       "    \n",
       "            var icon_1086e0ab9f490377461b56aa0a36e4d0 = L.AwesomeMarkers.icon(\n",
       "                {&quot;extraClasses&quot;: &quot;fa-rotate-0&quot;, &quot;icon&quot;: &quot;info-sign&quot;, &quot;iconColor&quot;: &quot;white&quot;, &quot;markerColor&quot;: &quot;green&quot;, &quot;prefix&quot;: &quot;glyphicon&quot;}\n",
       "            );\n",
       "            marker_a277caef9683ffbc94f01589337b9c3d.setIcon(icon_1086e0ab9f490377461b56aa0a36e4d0);\n",
       "        \n",
       "    \n",
       "        var popup_7ff4886bb19141643a698082682caf40 = L.popup({&quot;maxWidth&quot;: 300});\n",
       "\n",
       "        \n",
       "            \n",
       "                var html_66bd811514cfa202b1c0c9bb9f8a24bd = $(`&lt;div id=&quot;html_66bd811514cfa202b1c0c9bb9f8a24bd&quot; style=&quot;width: 100.0%; height: 100.0%;&quot;&gt; &lt;div style=&quot;text-align: center;&quot;&gt; &lt;h2&gt;Infos sur la Wilaya&lt;/h2&gt;   &lt;div style=&quot;text-align: center; font-family: Arial, sans-serif;&quot;&gt; &lt;h2 style=&quot;color: blue; font-size: 18px;&quot;&gt;BERROUAGHIA&lt;/h2&gt; &lt;p style=&quot;color: green; font-size: 14px;&quot;&gt;Nombre de Personnes Identifiés : 1.0&lt;/p&gt; &lt;p style=&quot;color: red; font-size: 14px;&quot;&gt;Nombre de Personnes Non Identifiés : nan&lt;/p&gt; &lt;strong&gt;&lt;p&gt;% Points de Vente : nan%&lt;/p&gt;&lt;/strong&gt; &lt;strong&gt;&lt;p&gt;% Boutiques : nan%&lt;/p&gt;&lt;/strong&gt;&lt;strong&gt; &lt;p&gt;% Boutique B2B : nan%&lt;/p&gt;&lt;/strong&gt; &lt;strong&gt; &lt;p&gt;%N/A : nan%&lt;/p&gt;&lt;/strong&gt; &lt;/div&gt;  &lt;/div&gt; &lt;/div&gt;`)[0];\n",
       "                popup_7ff4886bb19141643a698082682caf40.setContent(html_66bd811514cfa202b1c0c9bb9f8a24bd);\n",
       "            \n",
       "        \n",
       "\n",
       "        marker_a277caef9683ffbc94f01589337b9c3d.bindPopup(popup_7ff4886bb19141643a698082682caf40)\n",
       "        ;\n",
       "\n",
       "        \n",
       "    \n",
       "    \n",
       "            marker_a277caef9683ffbc94f01589337b9c3d.bindTooltip(\n",
       "                `&lt;div&gt;\n",
       "                     BERROUAGHIA\n",
       "                 &lt;/div&gt;`,\n",
       "                {&quot;sticky&quot;: true}\n",
       "            );\n",
       "        \n",
       "    \n",
       "            var marker_fe63ce3dcb63cb3944563940d8579589 = L.marker(\n",
       "                [35.719874, -0.5675118],\n",
       "                {}\n",
       "            ).addTo(map_9939f789a7c7cd7600d06daf240f4ab4);\n",
       "        \n",
       "    \n",
       "            var icon_0e5ef5fb3e252c549f1ad2983c5701d3 = L.AwesomeMarkers.icon(\n",
       "                {&quot;extraClasses&quot;: &quot;fa-rotate-0&quot;, &quot;icon&quot;: &quot;info-sign&quot;, &quot;iconColor&quot;: &quot;white&quot;, &quot;markerColor&quot;: &quot;green&quot;, &quot;prefix&quot;: &quot;glyphicon&quot;}\n",
       "            );\n",
       "            marker_fe63ce3dcb63cb3944563940d8579589.setIcon(icon_0e5ef5fb3e252c549f1ad2983c5701d3);\n",
       "        \n",
       "    \n",
       "        var popup_8abe4c9671ebe339b78db988591a55e5 = L.popup({&quot;maxWidth&quot;: 300});\n",
       "\n",
       "        \n",
       "            \n",
       "                var html_595cdad162dde48d23a878ed60c7c14c = $(`&lt;div id=&quot;html_595cdad162dde48d23a878ed60c7c14c&quot; style=&quot;width: 100.0%; height: 100.0%;&quot;&gt; &lt;div style=&quot;text-align: center;&quot;&gt; &lt;h2&gt;Infos sur la Wilaya&lt;/h2&gt;   &lt;div style=&quot;text-align: center; font-family: Arial, sans-serif;&quot;&gt; &lt;h2 style=&quot;color: blue; font-size: 18px;&quot;&gt;BIR EL DJIR&lt;/h2&gt; &lt;p style=&quot;color: green; font-size: 14px;&quot;&gt;Nombre de Personnes Identifiés : 1.0&lt;/p&gt; &lt;p style=&quot;color: red; font-size: 14px;&quot;&gt;Nombre de Personnes Non Identifiés : nan&lt;/p&gt; &lt;strong&gt;&lt;p&gt;% Points de Vente : nan%&lt;/p&gt;&lt;/strong&gt; &lt;strong&gt;&lt;p&gt;% Boutiques : nan%&lt;/p&gt;&lt;/strong&gt;&lt;strong&gt; &lt;p&gt;% Boutique B2B : nan%&lt;/p&gt;&lt;/strong&gt; &lt;strong&gt; &lt;p&gt;%N/A : nan%&lt;/p&gt;&lt;/strong&gt; &lt;/div&gt;  &lt;/div&gt; &lt;/div&gt;`)[0];\n",
       "                popup_8abe4c9671ebe339b78db988591a55e5.setContent(html_595cdad162dde48d23a878ed60c7c14c);\n",
       "            \n",
       "        \n",
       "\n",
       "        marker_fe63ce3dcb63cb3944563940d8579589.bindPopup(popup_8abe4c9671ebe339b78db988591a55e5)\n",
       "        ;\n",
       "\n",
       "        \n",
       "    \n",
       "    \n",
       "            marker_fe63ce3dcb63cb3944563940d8579589.bindTooltip(\n",
       "                `&lt;div&gt;\n",
       "                     BIR EL DJIR\n",
       "                 &lt;/div&gt;`,\n",
       "                {&quot;sticky&quot;: true}\n",
       "            );\n",
       "        \n",
       "    \n",
       "            var marker_2bcb1b602e4bd61c8cccc5c38114771d = L.marker(\n",
       "                [36.747273, 3.1908953],\n",
       "                {}\n",
       "            ).addTo(map_9939f789a7c7cd7600d06daf240f4ab4);\n",
       "        \n",
       "    \n",
       "            var icon_82af8ff2b294c62b8f8c35d10a23697d = L.AwesomeMarkers.icon(\n",
       "                {&quot;extraClasses&quot;: &quot;fa-rotate-0&quot;, &quot;icon&quot;: &quot;info-sign&quot;, &quot;iconColor&quot;: &quot;white&quot;, &quot;markerColor&quot;: &quot;green&quot;, &quot;prefix&quot;: &quot;glyphicon&quot;}\n",
       "            );\n",
       "            marker_2bcb1b602e4bd61c8cccc5c38114771d.setIcon(icon_82af8ff2b294c62b8f8c35d10a23697d);\n",
       "        \n",
       "    \n",
       "        var popup_94ce941e93cb3f6acedd5b3acb1b7103 = L.popup({&quot;maxWidth&quot;: 300});\n",
       "\n",
       "        \n",
       "            \n",
       "                var html_0528928c1cc210c1052e547513ef5186 = $(`&lt;div id=&quot;html_0528928c1cc210c1052e547513ef5186&quot; style=&quot;width: 100.0%; height: 100.0%;&quot;&gt; &lt;div style=&quot;text-align: center;&quot;&gt; &lt;h2&gt;Infos sur la Wilaya&lt;/h2&gt;   &lt;div style=&quot;text-align: center; font-family: Arial, sans-serif;&quot;&gt; &lt;h2 style=&quot;color: blue; font-size: 18px;&quot;&gt;BORDJ EL KIFFAN&lt;/h2&gt; &lt;p style=&quot;color: green; font-size: 14px;&quot;&gt;Nombre de Personnes Identifiés : 1.0&lt;/p&gt; &lt;p style=&quot;color: red; font-size: 14px;&quot;&gt;Nombre de Personnes Non Identifiés : nan&lt;/p&gt; &lt;strong&gt;&lt;p&gt;% Points de Vente : nan%&lt;/p&gt;&lt;/strong&gt; &lt;strong&gt;&lt;p&gt;% Boutiques : nan%&lt;/p&gt;&lt;/strong&gt;&lt;strong&gt; &lt;p&gt;% Boutique B2B : nan%&lt;/p&gt;&lt;/strong&gt; &lt;strong&gt; &lt;p&gt;%N/A : nan%&lt;/p&gt;&lt;/strong&gt; &lt;/div&gt;  &lt;/div&gt; &lt;/div&gt;`)[0];\n",
       "                popup_94ce941e93cb3f6acedd5b3acb1b7103.setContent(html_0528928c1cc210c1052e547513ef5186);\n",
       "            \n",
       "        \n",
       "\n",
       "        marker_2bcb1b602e4bd61c8cccc5c38114771d.bindPopup(popup_94ce941e93cb3f6acedd5b3acb1b7103)\n",
       "        ;\n",
       "\n",
       "        \n",
       "    \n",
       "    \n",
       "            marker_2bcb1b602e4bd61c8cccc5c38114771d.bindTooltip(\n",
       "                `&lt;div&gt;\n",
       "                     BORDJ EL KIFFAN\n",
       "                 &lt;/div&gt;`,\n",
       "                {&quot;sticky&quot;: true}\n",
       "            );\n",
       "        \n",
       "    \n",
       "            var marker_5399577461aa4d2aa3c285efd11a44c0 = L.marker(\n",
       "                [22.626146050000003, 0.12758168507861467],\n",
       "                {}\n",
       "            ).addTo(map_9939f789a7c7cd7600d06daf240f4ab4);\n",
       "        \n",
       "    \n",
       "            var icon_3bbf5eef92d0fd10d4040704eaaa6d7d = L.AwesomeMarkers.icon(\n",
       "                {&quot;extraClasses&quot;: &quot;fa-rotate-0&quot;, &quot;icon&quot;: &quot;info-sign&quot;, &quot;iconColor&quot;: &quot;white&quot;, &quot;markerColor&quot;: &quot;green&quot;, &quot;prefix&quot;: &quot;glyphicon&quot;}\n",
       "            );\n",
       "            marker_5399577461aa4d2aa3c285efd11a44c0.setIcon(icon_3bbf5eef92d0fd10d4040704eaaa6d7d);\n",
       "        \n",
       "    \n",
       "        var popup_23313c9bfaa8ed253a66b422db38cf47 = L.popup({&quot;maxWidth&quot;: 300});\n",
       "\n",
       "        \n",
       "            \n",
       "                var html_ba158f382d941a9afe88a6adb430fcf5 = $(`&lt;div id=&quot;html_ba158f382d941a9afe88a6adb430fcf5&quot; style=&quot;width: 100.0%; height: 100.0%;&quot;&gt; &lt;div style=&quot;text-align: center;&quot;&gt; &lt;h2&gt;Infos sur la Wilaya&lt;/h2&gt;   &lt;div style=&quot;text-align: center; font-family: Arial, sans-serif;&quot;&gt; &lt;h2 style=&quot;color: blue; font-size: 18px;&quot;&gt;BORDJ-BADJI-MOKHTAR&lt;/h2&gt; &lt;p style=&quot;color: green; font-size: 14px;&quot;&gt;Nombre de Personnes Identifiés : 4.0&lt;/p&gt; &lt;p style=&quot;color: red; font-size: 14px;&quot;&gt;Nombre de Personnes Non Identifiés : nan&lt;/p&gt; &lt;strong&gt;&lt;p&gt;% Points de Vente : nan%&lt;/p&gt;&lt;/strong&gt; &lt;strong&gt;&lt;p&gt;% Boutiques : nan%&lt;/p&gt;&lt;/strong&gt;&lt;strong&gt; &lt;p&gt;% Boutique B2B : nan%&lt;/p&gt;&lt;/strong&gt; &lt;strong&gt; &lt;p&gt;%N/A : nan%&lt;/p&gt;&lt;/strong&gt; &lt;/div&gt;  &lt;/div&gt; &lt;/div&gt;`)[0];\n",
       "                popup_23313c9bfaa8ed253a66b422db38cf47.setContent(html_ba158f382d941a9afe88a6adb430fcf5);\n",
       "            \n",
       "        \n",
       "\n",
       "        marker_5399577461aa4d2aa3c285efd11a44c0.bindPopup(popup_23313c9bfaa8ed253a66b422db38cf47)\n",
       "        ;\n",
       "\n",
       "        \n",
       "    \n",
       "    \n",
       "            marker_5399577461aa4d2aa3c285efd11a44c0.bindTooltip(\n",
       "                `&lt;div&gt;\n",
       "                     BORDJ-BADJI-MOKHTAR\n",
       "                 &lt;/div&gt;`,\n",
       "                {&quot;sticky&quot;: true}\n",
       "            );\n",
       "        \n",
       "    \n",
       "            var marker_16707f41563244e1688d3c1579fe6086 = L.marker(\n",
       "                [36.0638679, 4.6258366],\n",
       "                {}\n",
       "            ).addTo(map_9939f789a7c7cd7600d06daf240f4ab4);\n",
       "        \n",
       "    \n",
       "            var icon_c0ee8ae41fcc5c604a3b07327fdbd077 = L.AwesomeMarkers.icon(\n",
       "                {&quot;extraClasses&quot;: &quot;fa-rotate-0&quot;, &quot;icon&quot;: &quot;info-sign&quot;, &quot;iconColor&quot;: &quot;white&quot;, &quot;markerColor&quot;: &quot;green&quot;, &quot;prefix&quot;: &quot;glyphicon&quot;}\n",
       "            );\n",
       "            marker_16707f41563244e1688d3c1579fe6086.setIcon(icon_c0ee8ae41fcc5c604a3b07327fdbd077);\n",
       "        \n",
       "    \n",
       "        var popup_eb6f395148cdfbde749c6ade233f2cf9 = L.popup({&quot;maxWidth&quot;: 300});\n",
       "\n",
       "        \n",
       "            \n",
       "                var html_0ad8794bec1230f30780ba75f05897ce = $(`&lt;div id=&quot;html_0ad8794bec1230f30780ba75f05897ce&quot; style=&quot;width: 100.0%; height: 100.0%;&quot;&gt; &lt;div style=&quot;text-align: center;&quot;&gt; &lt;h2&gt;Infos sur la Wilaya&lt;/h2&gt;   &lt;div style=&quot;text-align: center; font-family: Arial, sans-serif;&quot;&gt; &lt;h2 style=&quot;color: blue; font-size: 18px;&quot;&gt;CHINE&lt;/h2&gt; &lt;p style=&quot;color: green; font-size: 14px;&quot;&gt;Nombre de Personnes Identifiés : 1.0&lt;/p&gt; &lt;p style=&quot;color: red; font-size: 14px;&quot;&gt;Nombre de Personnes Non Identifiés : nan&lt;/p&gt; &lt;strong&gt;&lt;p&gt;% Points de Vente : nan%&lt;/p&gt;&lt;/strong&gt; &lt;strong&gt;&lt;p&gt;% Boutiques : nan%&lt;/p&gt;&lt;/strong&gt;&lt;strong&gt; &lt;p&gt;% Boutique B2B : nan%&lt;/p&gt;&lt;/strong&gt; &lt;strong&gt; &lt;p&gt;%N/A : nan%&lt;/p&gt;&lt;/strong&gt; &lt;/div&gt;  &lt;/div&gt; &lt;/div&gt;`)[0];\n",
       "                popup_eb6f395148cdfbde749c6ade233f2cf9.setContent(html_0ad8794bec1230f30780ba75f05897ce);\n",
       "            \n",
       "        \n",
       "\n",
       "        marker_16707f41563244e1688d3c1579fe6086.bindPopup(popup_eb6f395148cdfbde749c6ade233f2cf9)\n",
       "        ;\n",
       "\n",
       "        \n",
       "    \n",
       "    \n",
       "            marker_16707f41563244e1688d3c1579fe6086.bindTooltip(\n",
       "                `&lt;div&gt;\n",
       "                     CHINE\n",
       "                 &lt;/div&gt;`,\n",
       "                {&quot;sticky&quot;: true}\n",
       "            );\n",
       "        \n",
       "    \n",
       "            var marker_f47988cfa48eb9600bf19e294d8e65b0 = L.marker(\n",
       "                [36.5337921, 6.710948193378714],\n",
       "                {}\n",
       "            ).addTo(map_9939f789a7c7cd7600d06daf240f4ab4);\n",
       "        \n",
       "    \n",
       "            var icon_3bc0df2d2117175a1ecf65a33bacadc7 = L.AwesomeMarkers.icon(\n",
       "                {&quot;extraClasses&quot;: &quot;fa-rotate-0&quot;, &quot;icon&quot;: &quot;info-sign&quot;, &quot;iconColor&quot;: &quot;white&quot;, &quot;markerColor&quot;: &quot;green&quot;, &quot;prefix&quot;: &quot;glyphicon&quot;}\n",
       "            );\n",
       "            marker_f47988cfa48eb9600bf19e294d8e65b0.setIcon(icon_3bc0df2d2117175a1ecf65a33bacadc7);\n",
       "        \n",
       "    \n",
       "        var popup_833b20bd9159fdc7677cf5def6d28dc1 = L.popup({&quot;maxWidth&quot;: 300});\n",
       "\n",
       "        \n",
       "            \n",
       "                var html_c37f214f2cbdb4586a7744867800cea0 = $(`&lt;div id=&quot;html_c37f214f2cbdb4586a7744867800cea0&quot; style=&quot;width: 100.0%; height: 100.0%;&quot;&gt; &lt;div style=&quot;text-align: center;&quot;&gt; &lt;h2&gt;Infos sur la Wilaya&lt;/h2&gt;   &lt;div style=&quot;text-align: center; font-family: Arial, sans-serif;&quot;&gt; &lt;h2 style=&quot;color: blue; font-size: 18px;&quot;&gt;CONSTANTINE WILAYA&lt;/h2&gt; &lt;p style=&quot;color: green; font-size: 14px;&quot;&gt;Nombre de Personnes Identifiés : 2.0&lt;/p&gt; &lt;p style=&quot;color: red; font-size: 14px;&quot;&gt;Nombre de Personnes Non Identifiés : nan&lt;/p&gt; &lt;strong&gt;&lt;p&gt;% Points de Vente : nan%&lt;/p&gt;&lt;/strong&gt; &lt;strong&gt;&lt;p&gt;% Boutiques : nan%&lt;/p&gt;&lt;/strong&gt;&lt;strong&gt; &lt;p&gt;% Boutique B2B : nan%&lt;/p&gt;&lt;/strong&gt; &lt;strong&gt; &lt;p&gt;%N/A : nan%&lt;/p&gt;&lt;/strong&gt; &lt;/div&gt;  &lt;/div&gt; &lt;/div&gt;`)[0];\n",
       "                popup_833b20bd9159fdc7677cf5def6d28dc1.setContent(html_c37f214f2cbdb4586a7744867800cea0);\n",
       "            \n",
       "        \n",
       "\n",
       "        marker_f47988cfa48eb9600bf19e294d8e65b0.bindPopup(popup_833b20bd9159fdc7677cf5def6d28dc1)\n",
       "        ;\n",
       "\n",
       "        \n",
       "    \n",
       "    \n",
       "            marker_f47988cfa48eb9600bf19e294d8e65b0.bindTooltip(\n",
       "                `&lt;div&gt;\n",
       "                     CONSTANTINE WILAYA\n",
       "                 &lt;/div&gt;`,\n",
       "                {&quot;sticky&quot;: true}\n",
       "            );\n",
       "        \n",
       "    \n",
       "            var marker_f4aa224e2d37dbfa5307b8e73658538a = L.marker(\n",
       "                [24.071521, 9.615584725366856],\n",
       "                {}\n",
       "            ).addTo(map_9939f789a7c7cd7600d06daf240f4ab4);\n",
       "        \n",
       "    \n",
       "            var icon_b9ec95cab997f56e3f69ba3636d08ab1 = L.AwesomeMarkers.icon(\n",
       "                {&quot;extraClasses&quot;: &quot;fa-rotate-0&quot;, &quot;icon&quot;: &quot;info-sign&quot;, &quot;iconColor&quot;: &quot;white&quot;, &quot;markerColor&quot;: &quot;green&quot;, &quot;prefix&quot;: &quot;glyphicon&quot;}\n",
       "            );\n",
       "            marker_f4aa224e2d37dbfa5307b8e73658538a.setIcon(icon_b9ec95cab997f56e3f69ba3636d08ab1);\n",
       "        \n",
       "    \n",
       "        var popup_e3261167bddab7f0a368b8f62fab3a5a = L.popup({&quot;maxWidth&quot;: 300});\n",
       "\n",
       "        \n",
       "            \n",
       "                var html_676f3c515860034ad7e949e9754de698 = $(`&lt;div id=&quot;html_676f3c515860034ad7e949e9754de698&quot; style=&quot;width: 100.0%; height: 100.0%;&quot;&gt; &lt;div style=&quot;text-align: center;&quot;&gt; &lt;h2&gt;Infos sur la Wilaya&lt;/h2&gt;   &lt;div style=&quot;text-align: center; font-family: Arial, sans-serif;&quot;&gt; &lt;h2 style=&quot;color: blue; font-size: 18px;&quot;&gt;DJANET&lt;/h2&gt; &lt;p style=&quot;color: green; font-size: 14px;&quot;&gt;Nombre de Personnes Identifiés : 1.0&lt;/p&gt; &lt;p style=&quot;color: red; font-size: 14px;&quot;&gt;Nombre de Personnes Non Identifiés : nan&lt;/p&gt; &lt;strong&gt;&lt;p&gt;% Points de Vente : nan%&lt;/p&gt;&lt;/strong&gt; &lt;strong&gt;&lt;p&gt;% Boutiques : nan%&lt;/p&gt;&lt;/strong&gt;&lt;strong&gt; &lt;p&gt;% Boutique B2B : nan%&lt;/p&gt;&lt;/strong&gt; &lt;strong&gt; &lt;p&gt;%N/A : nan%&lt;/p&gt;&lt;/strong&gt; &lt;/div&gt;  &lt;/div&gt; &lt;/div&gt;`)[0];\n",
       "                popup_e3261167bddab7f0a368b8f62fab3a5a.setContent(html_676f3c515860034ad7e949e9754de698);\n",
       "            \n",
       "        \n",
       "\n",
       "        marker_f4aa224e2d37dbfa5307b8e73658538a.bindPopup(popup_e3261167bddab7f0a368b8f62fab3a5a)\n",
       "        ;\n",
       "\n",
       "        \n",
       "    \n",
       "    \n",
       "            marker_f4aa224e2d37dbfa5307b8e73658538a.bindTooltip(\n",
       "                `&lt;div&gt;\n",
       "                     DJANET\n",
       "                 &lt;/div&gt;`,\n",
       "                {&quot;sticky&quot;: true}\n",
       "            );\n",
       "        \n",
       "    \n",
       "            var marker_bc750908a7f6edf99836227553515095 = L.marker(\n",
       "                [36.7686442, 3.031772559261716],\n",
       "                {}\n",
       "            ).addTo(map_9939f789a7c7cd7600d06daf240f4ab4);\n",
       "        \n",
       "    \n",
       "            var icon_96767d72e89556204047fb838a67ba89 = L.AwesomeMarkers.icon(\n",
       "                {&quot;extraClasses&quot;: &quot;fa-rotate-0&quot;, &quot;icon&quot;: &quot;info-sign&quot;, &quot;iconColor&quot;: &quot;white&quot;, &quot;markerColor&quot;: &quot;green&quot;, &quot;prefix&quot;: &quot;glyphicon&quot;}\n",
       "            );\n",
       "            marker_bc750908a7f6edf99836227553515095.setIcon(icon_96767d72e89556204047fb838a67ba89);\n",
       "        \n",
       "    \n",
       "        var popup_dc5b399cf6525c32b37e6ccbad54c5b7 = L.popup({&quot;maxWidth&quot;: 300});\n",
       "\n",
       "        \n",
       "            \n",
       "                var html_bfeb9ce7edf88fc5c55eefc236a7ef6d = $(`&lt;div id=&quot;html_bfeb9ce7edf88fc5c55eefc236a7ef6d&quot; style=&quot;width: 100.0%; height: 100.0%;&quot;&gt; &lt;div style=&quot;text-align: center;&quot;&gt; &lt;h2&gt;Infos sur la Wilaya&lt;/h2&gt;   &lt;div style=&quot;text-align: center; font-family: Arial, sans-serif;&quot;&gt; &lt;h2 style=&quot;color: blue; font-size: 18px;&quot;&gt;EL BIAR-BOUGARA&lt;/h2&gt; &lt;p style=&quot;color: green; font-size: 14px;&quot;&gt;Nombre de Personnes Identifiés : 1.0&lt;/p&gt; &lt;p style=&quot;color: red; font-size: 14px;&quot;&gt;Nombre de Personnes Non Identifiés : nan&lt;/p&gt; &lt;strong&gt;&lt;p&gt;% Points de Vente : nan%&lt;/p&gt;&lt;/strong&gt; &lt;strong&gt;&lt;p&gt;% Boutiques : nan%&lt;/p&gt;&lt;/strong&gt;&lt;strong&gt; &lt;p&gt;% Boutique B2B : nan%&lt;/p&gt;&lt;/strong&gt; &lt;strong&gt; &lt;p&gt;%N/A : nan%&lt;/p&gt;&lt;/strong&gt; &lt;/div&gt;  &lt;/div&gt; &lt;/div&gt;`)[0];\n",
       "                popup_dc5b399cf6525c32b37e6ccbad54c5b7.setContent(html_bfeb9ce7edf88fc5c55eefc236a7ef6d);\n",
       "            \n",
       "        \n",
       "\n",
       "        marker_bc750908a7f6edf99836227553515095.bindPopup(popup_dc5b399cf6525c32b37e6ccbad54c5b7)\n",
       "        ;\n",
       "\n",
       "        \n",
       "    \n",
       "    \n",
       "            marker_bc750908a7f6edf99836227553515095.bindTooltip(\n",
       "                `&lt;div&gt;\n",
       "                     EL BIAR-BOUGARA\n",
       "                 &lt;/div&gt;`,\n",
       "                {&quot;sticky&quot;: true}\n",
       "            );\n",
       "        \n",
       "    \n",
       "            var marker_166610da8074e465b24209371dc98897 = L.marker(\n",
       "                [48.689756, 6.199237000000005],\n",
       "                {}\n",
       "            ).addTo(map_9939f789a7c7cd7600d06daf240f4ab4);\n",
       "        \n",
       "    \n",
       "            var icon_8638c58f3674428e45d47002c7b80721 = L.AwesomeMarkers.icon(\n",
       "                {&quot;extraClasses&quot;: &quot;fa-rotate-0&quot;, &quot;icon&quot;: &quot;info-sign&quot;, &quot;iconColor&quot;: &quot;white&quot;, &quot;markerColor&quot;: &quot;green&quot;, &quot;prefix&quot;: &quot;glyphicon&quot;}\n",
       "            );\n",
       "            marker_166610da8074e465b24209371dc98897.setIcon(icon_8638c58f3674428e45d47002c7b80721);\n",
       "        \n",
       "    \n",
       "        var popup_b4bfd76e2851274188d5e23ea82999b7 = L.popup({&quot;maxWidth&quot;: 300});\n",
       "\n",
       "        \n",
       "            \n",
       "                var html_3bf7ec21de3e4019391fa64813ddb86a = $(`&lt;div id=&quot;html_3bf7ec21de3e4019391fa64813ddb86a&quot; style=&quot;width: 100.0%; height: 100.0%;&quot;&gt; &lt;div style=&quot;text-align: center;&quot;&gt; &lt;h2&gt;Infos sur la Wilaya&lt;/h2&gt;   &lt;div style=&quot;text-align: center; font-family: Arial, sans-serif;&quot;&gt; &lt;h2 style=&quot;color: blue; font-size: 18px;&quot;&gt;FRANCE&lt;/h2&gt; &lt;p style=&quot;color: green; font-size: 14px;&quot;&gt;Nombre de Personnes Identifiés : 1.0&lt;/p&gt; &lt;p style=&quot;color: red; font-size: 14px;&quot;&gt;Nombre de Personnes Non Identifiés : nan&lt;/p&gt; &lt;strong&gt;&lt;p&gt;% Points de Vente : nan%&lt;/p&gt;&lt;/strong&gt; &lt;strong&gt;&lt;p&gt;% Boutiques : nan%&lt;/p&gt;&lt;/strong&gt;&lt;strong&gt; &lt;p&gt;% Boutique B2B : nan%&lt;/p&gt;&lt;/strong&gt; &lt;strong&gt; &lt;p&gt;%N/A : nan%&lt;/p&gt;&lt;/strong&gt; &lt;/div&gt;  &lt;/div&gt; &lt;/div&gt;`)[0];\n",
       "                popup_b4bfd76e2851274188d5e23ea82999b7.setContent(html_3bf7ec21de3e4019391fa64813ddb86a);\n",
       "            \n",
       "        \n",
       "\n",
       "        marker_166610da8074e465b24209371dc98897.bindPopup(popup_b4bfd76e2851274188d5e23ea82999b7)\n",
       "        ;\n",
       "\n",
       "        \n",
       "    \n",
       "    \n",
       "            marker_166610da8074e465b24209371dc98897.bindTooltip(\n",
       "                `&lt;div&gt;\n",
       "                     FRANCE\n",
       "                 &lt;/div&gt;`,\n",
       "                {&quot;sticky&quot;: true}\n",
       "            );\n",
       "        \n",
       "    \n",
       "            var marker_02eee240b6ecd0ac5c860c6f38b9e28d = L.marker(\n",
       "                [20.427529999999997, 4.6766309838048326],\n",
       "                {}\n",
       "            ).addTo(map_9939f789a7c7cd7600d06daf240f4ab4);\n",
       "        \n",
       "    \n",
       "            var icon_86427ff17dc112ae48e5ac15b235ccf8 = L.AwesomeMarkers.icon(\n",
       "                {&quot;extraClasses&quot;: &quot;fa-rotate-0&quot;, &quot;icon&quot;: &quot;info-sign&quot;, &quot;iconColor&quot;: &quot;white&quot;, &quot;markerColor&quot;: &quot;green&quot;, &quot;prefix&quot;: &quot;glyphicon&quot;}\n",
       "            );\n",
       "            marker_02eee240b6ecd0ac5c860c6f38b9e28d.setIcon(icon_86427ff17dc112ae48e5ac15b235ccf8);\n",
       "        \n",
       "    \n",
       "        var popup_09e1848869fc6b814e85aa57a176a87a = L.popup({&quot;maxWidth&quot;: 300});\n",
       "\n",
       "        \n",
       "            \n",
       "                var html_19b9a06b99451ee183dea850921e2e67 = $(`&lt;div id=&quot;html_19b9a06b99451ee183dea850921e2e67&quot; style=&quot;width: 100.0%; height: 100.0%;&quot;&gt; &lt;div style=&quot;text-align: center;&quot;&gt; &lt;h2&gt;Infos sur la Wilaya&lt;/h2&gt;   &lt;div style=&quot;text-align: center; font-family: Arial, sans-serif;&quot;&gt; &lt;h2 style=&quot;color: blue; font-size: 18px;&quot;&gt;IN GUEZZAM&lt;/h2&gt; &lt;p style=&quot;color: green; font-size: 14px;&quot;&gt;Nombre de Personnes Identifiés : 2.0&lt;/p&gt; &lt;p style=&quot;color: red; font-size: 14px;&quot;&gt;Nombre de Personnes Non Identifiés : nan&lt;/p&gt; &lt;strong&gt;&lt;p&gt;% Points de Vente : nan%&lt;/p&gt;&lt;/strong&gt; &lt;strong&gt;&lt;p&gt;% Boutiques : nan%&lt;/p&gt;&lt;/strong&gt;&lt;strong&gt; &lt;p&gt;% Boutique B2B : nan%&lt;/p&gt;&lt;/strong&gt; &lt;strong&gt; &lt;p&gt;%N/A : nan%&lt;/p&gt;&lt;/strong&gt; &lt;/div&gt;  &lt;/div&gt; &lt;/div&gt;`)[0];\n",
       "                popup_09e1848869fc6b814e85aa57a176a87a.setContent(html_19b9a06b99451ee183dea850921e2e67);\n",
       "            \n",
       "        \n",
       "\n",
       "        marker_02eee240b6ecd0ac5c860c6f38b9e28d.bindPopup(popup_09e1848869fc6b814e85aa57a176a87a)\n",
       "        ;\n",
       "\n",
       "        \n",
       "    \n",
       "    \n",
       "            marker_02eee240b6ecd0ac5c860c6f38b9e28d.bindTooltip(\n",
       "                `&lt;div&gt;\n",
       "                     IN GUEZZAM\n",
       "                 &lt;/div&gt;`,\n",
       "                {&quot;sticky&quot;: true}\n",
       "            );\n",
       "        \n",
       "    \n",
       "            var marker_876c68b81d58ded6e5f822d728c82672 = L.marker(\n",
       "                [27.197705499999998, 3.5212375793144277],\n",
       "                {}\n",
       "            ).addTo(map_9939f789a7c7cd7600d06daf240f4ab4);\n",
       "        \n",
       "    \n",
       "            var icon_3509fca7566455bdedc9ff4405b2139c = L.AwesomeMarkers.icon(\n",
       "                {&quot;extraClasses&quot;: &quot;fa-rotate-0&quot;, &quot;icon&quot;: &quot;info-sign&quot;, &quot;iconColor&quot;: &quot;white&quot;, &quot;markerColor&quot;: &quot;green&quot;, &quot;prefix&quot;: &quot;glyphicon&quot;}\n",
       "            );\n",
       "            marker_876c68b81d58ded6e5f822d728c82672.setIcon(icon_3509fca7566455bdedc9ff4405b2139c);\n",
       "        \n",
       "    \n",
       "        var popup_585f91b7178cf84858963d648c812a46 = L.popup({&quot;maxWidth&quot;: 300});\n",
       "\n",
       "        \n",
       "            \n",
       "                var html_2ee7d4d3c15944a8c693895ba50e2383 = $(`&lt;div id=&quot;html_2ee7d4d3c15944a8c693895ba50e2383&quot; style=&quot;width: 100.0%; height: 100.0%;&quot;&gt; &lt;div style=&quot;text-align: center;&quot;&gt; &lt;h2&gt;Infos sur la Wilaya&lt;/h2&gt;   &lt;div style=&quot;text-align: center; font-family: Arial, sans-serif;&quot;&gt; &lt;h2 style=&quot;color: blue; font-size: 18px;&quot;&gt;IN SALAH&lt;/h2&gt; &lt;p style=&quot;color: green; font-size: 14px;&quot;&gt;Nombre de Personnes Identifiés : 2.0&lt;/p&gt; &lt;p style=&quot;color: red; font-size: 14px;&quot;&gt;Nombre de Personnes Non Identifiés : nan&lt;/p&gt; &lt;strong&gt;&lt;p&gt;% Points de Vente : nan%&lt;/p&gt;&lt;/strong&gt; &lt;strong&gt;&lt;p&gt;% Boutiques : nan%&lt;/p&gt;&lt;/strong&gt;&lt;strong&gt; &lt;p&gt;% Boutique B2B : nan%&lt;/p&gt;&lt;/strong&gt; &lt;strong&gt; &lt;p&gt;%N/A : nan%&lt;/p&gt;&lt;/strong&gt; &lt;/div&gt;  &lt;/div&gt; &lt;/div&gt;`)[0];\n",
       "                popup_585f91b7178cf84858963d648c812a46.setContent(html_2ee7d4d3c15944a8c693895ba50e2383);\n",
       "            \n",
       "        \n",
       "\n",
       "        marker_876c68b81d58ded6e5f822d728c82672.bindPopup(popup_585f91b7178cf84858963d648c812a46)\n",
       "        ;\n",
       "\n",
       "        \n",
       "    \n",
       "    \n",
       "            marker_876c68b81d58ded6e5f822d728c82672.bindTooltip(\n",
       "                `&lt;div&gt;\n",
       "                     IN SALAH\n",
       "                 &lt;/div&gt;`,\n",
       "                {&quot;sticky&quot;: true}\n",
       "            );\n",
       "        \n",
       "    \n",
       "            var marker_187ae2769e5c062c5f4cab38feb7c080 = L.marker(\n",
       "                [20.427529999999997, 4.6766309838048326],\n",
       "                {}\n",
       "            ).addTo(map_9939f789a7c7cd7600d06daf240f4ab4);\n",
       "        \n",
       "    \n",
       "            var icon_427c36873f372611cbd85842ec2a7c52 = L.AwesomeMarkers.icon(\n",
       "                {&quot;extraClasses&quot;: &quot;fa-rotate-0&quot;, &quot;icon&quot;: &quot;info-sign&quot;, &quot;iconColor&quot;: &quot;white&quot;, &quot;markerColor&quot;: &quot;green&quot;, &quot;prefix&quot;: &quot;glyphicon&quot;}\n",
       "            );\n",
       "            marker_187ae2769e5c062c5f4cab38feb7c080.setIcon(icon_427c36873f372611cbd85842ec2a7c52);\n",
       "        \n",
       "    \n",
       "        var popup_8c82ffb919e83f3e526267c71ac0ca60 = L.popup({&quot;maxWidth&quot;: 300});\n",
       "\n",
       "        \n",
       "            \n",
       "                var html_7be7cc8285280da67b34e57ed4501e87 = $(`&lt;div id=&quot;html_7be7cc8285280da67b34e57ed4501e87&quot; style=&quot;width: 100.0%; height: 100.0%;&quot;&gt; &lt;div style=&quot;text-align: center;&quot;&gt; &lt;h2&gt;Infos sur la Wilaya&lt;/h2&gt;   &lt;div style=&quot;text-align: center; font-family: Arial, sans-serif;&quot;&gt; &lt;h2 style=&quot;color: blue; font-size: 18px;&quot;&gt;IN-GUEZZAM&lt;/h2&gt; &lt;p style=&quot;color: green; font-size: 14px;&quot;&gt;Nombre de Personnes Identifiés : 5.0&lt;/p&gt; &lt;p style=&quot;color: red; font-size: 14px;&quot;&gt;Nombre de Personnes Non Identifiés : nan&lt;/p&gt; &lt;strong&gt;&lt;p&gt;% Points de Vente : nan%&lt;/p&gt;&lt;/strong&gt; &lt;strong&gt;&lt;p&gt;% Boutiques : nan%&lt;/p&gt;&lt;/strong&gt;&lt;strong&gt; &lt;p&gt;% Boutique B2B : nan%&lt;/p&gt;&lt;/strong&gt; &lt;strong&gt; &lt;p&gt;%N/A : nan%&lt;/p&gt;&lt;/strong&gt; &lt;/div&gt;  &lt;/div&gt; &lt;/div&gt;`)[0];\n",
       "                popup_8c82ffb919e83f3e526267c71ac0ca60.setContent(html_7be7cc8285280da67b34e57ed4501e87);\n",
       "            \n",
       "        \n",
       "\n",
       "        marker_187ae2769e5c062c5f4cab38feb7c080.bindPopup(popup_8c82ffb919e83f3e526267c71ac0ca60)\n",
       "        ;\n",
       "\n",
       "        \n",
       "    \n",
       "    \n",
       "            marker_187ae2769e5c062c5f4cab38feb7c080.bindTooltip(\n",
       "                `&lt;div&gt;\n",
       "                     IN-GUEZZAM\n",
       "                 &lt;/div&gt;`,\n",
       "                {&quot;sticky&quot;: true}\n",
       "            );\n",
       "        \n",
       "    \n",
       "            var marker_4e4b71536d2bc5e53daf1d4698f8004c = L.marker(\n",
       "                [27.197705499999998, 3.5212375793144277],\n",
       "                {}\n",
       "            ).addTo(map_9939f789a7c7cd7600d06daf240f4ab4);\n",
       "        \n",
       "    \n",
       "            var icon_e142e2903b912c9b9c7e5a5c55e369f6 = L.AwesomeMarkers.icon(\n",
       "                {&quot;extraClasses&quot;: &quot;fa-rotate-0&quot;, &quot;icon&quot;: &quot;info-sign&quot;, &quot;iconColor&quot;: &quot;white&quot;, &quot;markerColor&quot;: &quot;green&quot;, &quot;prefix&quot;: &quot;glyphicon&quot;}\n",
       "            );\n",
       "            marker_4e4b71536d2bc5e53daf1d4698f8004c.setIcon(icon_e142e2903b912c9b9c7e5a5c55e369f6);\n",
       "        \n",
       "    \n",
       "        var popup_428629f746fc827d444d3833782e0a07 = L.popup({&quot;maxWidth&quot;: 300});\n",
       "\n",
       "        \n",
       "            \n",
       "                var html_ba7d7406d3e675b3fcd3e86d02853788 = $(`&lt;div id=&quot;html_ba7d7406d3e675b3fcd3e86d02853788&quot; style=&quot;width: 100.0%; height: 100.0%;&quot;&gt; &lt;div style=&quot;text-align: center;&quot;&gt; &lt;h2&gt;Infos sur la Wilaya&lt;/h2&gt;   &lt;div style=&quot;text-align: center; font-family: Arial, sans-serif;&quot;&gt; &lt;h2 style=&quot;color: blue; font-size: 18px;&quot;&gt;IN-SALAH&lt;/h2&gt; &lt;p style=&quot;color: green; font-size: 14px;&quot;&gt;Nombre de Personnes Identifiés : 2.0&lt;/p&gt; &lt;p style=&quot;color: red; font-size: 14px;&quot;&gt;Nombre de Personnes Non Identifiés : nan&lt;/p&gt; &lt;strong&gt;&lt;p&gt;% Points de Vente : nan%&lt;/p&gt;&lt;/strong&gt; &lt;strong&gt;&lt;p&gt;% Boutiques : nan%&lt;/p&gt;&lt;/strong&gt;&lt;strong&gt; &lt;p&gt;% Boutique B2B : nan%&lt;/p&gt;&lt;/strong&gt; &lt;strong&gt; &lt;p&gt;%N/A : nan%&lt;/p&gt;&lt;/strong&gt; &lt;/div&gt;  &lt;/div&gt; &lt;/div&gt;`)[0];\n",
       "                popup_428629f746fc827d444d3833782e0a07.setContent(html_ba7d7406d3e675b3fcd3e86d02853788);\n",
       "            \n",
       "        \n",
       "\n",
       "        marker_4e4b71536d2bc5e53daf1d4698f8004c.bindPopup(popup_428629f746fc827d444d3833782e0a07)\n",
       "        ;\n",
       "\n",
       "        \n",
       "    \n",
       "    \n",
       "            marker_4e4b71536d2bc5e53daf1d4698f8004c.bindTooltip(\n",
       "                `&lt;div&gt;\n",
       "                     IN-SALAH\n",
       "                 &lt;/div&gt;`,\n",
       "                {&quot;sticky&quot;: true}\n",
       "            );\n",
       "        \n",
       "    \n",
       "            var marker_da33f00d7ee38c7a996b65e45263c82b = L.marker(\n",
       "                [34.104904000000005, 4.820300902475401],\n",
       "                {}\n",
       "            ).addTo(map_9939f789a7c7cd7600d06daf240f4ab4);\n",
       "        \n",
       "    \n",
       "            var icon_ef8894e1d2d034ff1b777b295f4a1a6f = L.AwesomeMarkers.icon(\n",
       "                {&quot;extraClasses&quot;: &quot;fa-rotate-0&quot;, &quot;icon&quot;: &quot;info-sign&quot;, &quot;iconColor&quot;: &quot;white&quot;, &quot;markerColor&quot;: &quot;green&quot;, &quot;prefix&quot;: &quot;glyphicon&quot;}\n",
       "            );\n",
       "            marker_da33f00d7ee38c7a996b65e45263c82b.setIcon(icon_ef8894e1d2d034ff1b777b295f4a1a6f);\n",
       "        \n",
       "    \n",
       "        var popup_07eb682759b59f719d31a883bd5a889d = L.popup({&quot;maxWidth&quot;: 300});\n",
       "\n",
       "        \n",
       "            \n",
       "                var html_b3901f5d3800035ec6460a8a09d6d113 = $(`&lt;div id=&quot;html_b3901f5d3800035ec6460a8a09d6d113&quot; style=&quot;width: 100.0%; height: 100.0%;&quot;&gt; &lt;div style=&quot;text-align: center;&quot;&gt; &lt;h2&gt;Infos sur la Wilaya&lt;/h2&gt;   &lt;div style=&quot;text-align: center; font-family: Arial, sans-serif;&quot;&gt; &lt;h2 style=&quot;color: blue; font-size: 18px;&quot;&gt;OULED DJELLAL&lt;/h2&gt; &lt;p style=&quot;color: green; font-size: 14px;&quot;&gt;Nombre de Personnes Identifiés : 27.0&lt;/p&gt; &lt;p style=&quot;color: red; font-size: 14px;&quot;&gt;Nombre de Personnes Non Identifiés : nan&lt;/p&gt; &lt;strong&gt;&lt;p&gt;% Points de Vente : nan%&lt;/p&gt;&lt;/strong&gt; &lt;strong&gt;&lt;p&gt;% Boutiques : nan%&lt;/p&gt;&lt;/strong&gt;&lt;strong&gt; &lt;p&gt;% Boutique B2B : nan%&lt;/p&gt;&lt;/strong&gt; &lt;strong&gt; &lt;p&gt;%N/A : nan%&lt;/p&gt;&lt;/strong&gt; &lt;/div&gt;  &lt;/div&gt; &lt;/div&gt;`)[0];\n",
       "                popup_07eb682759b59f719d31a883bd5a889d.setContent(html_b3901f5d3800035ec6460a8a09d6d113);\n",
       "            \n",
       "        \n",
       "\n",
       "        marker_da33f00d7ee38c7a996b65e45263c82b.bindPopup(popup_07eb682759b59f719d31a883bd5a889d)\n",
       "        ;\n",
       "\n",
       "        \n",
       "    \n",
       "    \n",
       "            marker_da33f00d7ee38c7a996b65e45263c82b.bindTooltip(\n",
       "                `&lt;div&gt;\n",
       "                     OULED DJELLAL\n",
       "                 &lt;/div&gt;`,\n",
       "                {&quot;sticky&quot;: true}\n",
       "            );\n",
       "        \n",
       "    \n",
       "            var marker_fd9d5182d932c00d9c1a5544271fe1c4 = L.marker(\n",
       "                [30.0244725, 0.8485978976216642],\n",
       "                {}\n",
       "            ).addTo(map_9939f789a7c7cd7600d06daf240f4ab4);\n",
       "        \n",
       "    \n",
       "            var icon_b8aec48d2e123c808dd613023d26f38e = L.AwesomeMarkers.icon(\n",
       "                {&quot;extraClasses&quot;: &quot;fa-rotate-0&quot;, &quot;icon&quot;: &quot;info-sign&quot;, &quot;iconColor&quot;: &quot;white&quot;, &quot;markerColor&quot;: &quot;green&quot;, &quot;prefix&quot;: &quot;glyphicon&quot;}\n",
       "            );\n",
       "            marker_fd9d5182d932c00d9c1a5544271fe1c4.setIcon(icon_b8aec48d2e123c808dd613023d26f38e);\n",
       "        \n",
       "    \n",
       "        var popup_9c4e34a482b97e95aa9ad402d3e935f5 = L.popup({&quot;maxWidth&quot;: 300});\n",
       "\n",
       "        \n",
       "            \n",
       "                var html_dc7862a12f8ab7fc3fc8bcaae24b34d5 = $(`&lt;div id=&quot;html_dc7862a12f8ab7fc3fc8bcaae24b34d5&quot; style=&quot;width: 100.0%; height: 100.0%;&quot;&gt; &lt;div style=&quot;text-align: center;&quot;&gt; &lt;h2&gt;Infos sur la Wilaya&lt;/h2&gt;   &lt;div style=&quot;text-align: center; font-family: Arial, sans-serif;&quot;&gt; &lt;h2 style=&quot;color: blue; font-size: 18px;&quot;&gt;TIMIMOUN&lt;/h2&gt; &lt;p style=&quot;color: green; font-size: 14px;&quot;&gt;Nombre de Personnes Identifiés : 6.0&lt;/p&gt; &lt;p style=&quot;color: red; font-size: 14px;&quot;&gt;Nombre de Personnes Non Identifiés : nan&lt;/p&gt; &lt;strong&gt;&lt;p&gt;% Points de Vente : nan%&lt;/p&gt;&lt;/strong&gt; &lt;strong&gt;&lt;p&gt;% Boutiques : nan%&lt;/p&gt;&lt;/strong&gt;&lt;strong&gt; &lt;p&gt;% Boutique B2B : nan%&lt;/p&gt;&lt;/strong&gt; &lt;strong&gt; &lt;p&gt;%N/A : nan%&lt;/p&gt;&lt;/strong&gt; &lt;/div&gt;  &lt;/div&gt; &lt;/div&gt;`)[0];\n",
       "                popup_9c4e34a482b97e95aa9ad402d3e935f5.setContent(html_dc7862a12f8ab7fc3fc8bcaae24b34d5);\n",
       "            \n",
       "        \n",
       "\n",
       "        marker_fd9d5182d932c00d9c1a5544271fe1c4.bindPopup(popup_9c4e34a482b97e95aa9ad402d3e935f5)\n",
       "        ;\n",
       "\n",
       "        \n",
       "    \n",
       "    \n",
       "            marker_fd9d5182d932c00d9c1a5544271fe1c4.bindTooltip(\n",
       "                `&lt;div&gt;\n",
       "                     TIMIMOUN\n",
       "                 &lt;/div&gt;`,\n",
       "                {&quot;sticky&quot;: true}\n",
       "            );\n",
       "        \n",
       "&lt;/script&gt;\n",
       "&lt;/html&gt;\" style=\"position:absolute;width:100%;height:100%;left:0;top:0;border:none !important;\" allowfullscreen webkitallowfullscreen mozallowfullscreen></iframe></div></div>"
      ],
      "text/plain": [
       "<folium.folium.Map at 0x230d16cf650>"
      ]
     },
     "execution_count": 2,
     "metadata": {},
     "output_type": "execute_result"
    }
   ],
   "source": [
    "import folium\n",
    "from geopy.geocoders import Nominatim\n",
    "import pandas as pd\n",
    "from folium.plugins import MiniMap\n",
    "\n",
    "\n",
    "def get_marker_color(non_identifies):\n",
    "    if non_identifies >= 100:\n",
    "        return \"red\"  # Marqueurs verts pour un faible nombre de clients non identifiés\n",
    "    elif (non_identifies >= 50) and (non_identifies <= 100):\n",
    "        return \"orange\"    # Marqueurs rouges pour un nombre élevé de clients non identifiés\n",
    "    else :\n",
    "        return \"green\"  # Marqueurs verts pour un faible nombre de clients non identifiés\n",
    "\n",
    "\n",
    "# Lisez le fichier Excel contenant les données des abonnés\n",
    "df = pd.read_excel('POS_IDENTIFCIATION_CAMPAGNE_STAT.xlsx', nrows=100000)\n",
    "conditionIdent = (df['DOC_SCN_DT'].isna()==True) | (df['DOC_VAL_DT'].isna()==True) | ((df['DOC_VAL_2G']=='NO') & (df['DOC_VAL_3G']=='NO') & (df['DOC_VAL_4G']=='NO')) \n",
    "\n",
    "nonIdentif = df[conditionIdent].shape[0]\n",
    "print(f\"Le nombre de personnes non identifiés est : {nonIdentif}\")\n",
    "\n",
    "# Filtrage\n",
    "#clients_non_identifies = (df[df['DOC_SCN_DT'].isna()==True]) | (df[df['DOC_VAL_DT'].isna()==True]) | ((df[df['DOC_VAL_2G']=='NO']) & (df[df['DOC_VAL_3G']=='NO']) & (df[df['DOC_VAL_4G']=='NO']))\n",
    "conditionIdent = (df['DOC_SCN_DT'].isna()==True) | (df['DOC_VAL_DT'].isna()==True) | ((df['DOC_VAL_2G']=='NO') & (df['DOC_VAL_3G']=='NO') & (df['DOC_VAL_4G']=='NO')) \n",
    "clients_non_identifies = df[conditionIdent]\n",
    "clients_identifies = df[df['DOC_SCN_DT'].isna()==False]\n",
    "clients_points_vente = clients_non_identifies[(clients_non_identifies['CHNL'] == 'SNOC') | (clients_non_identifies['CHNL'] == 'SMS888')]\n",
    "clients_boutiques = clients_non_identifies[clients_non_identifies['CHNL'] == 'POS']\n",
    "#Par_SMS = clients_non_identifies[clients_non_identifies['CHNL'] == 'SMS888'] ##################################################\n",
    "clients_boutiquesB2B = clients_non_identifies[clients_non_identifies['CHNL'] == 'SFA']\n",
    "clients_NA = clients_non_identifies[clients_non_identifies['CHNL'].isna()]\n",
    "\n",
    "\n",
    "# Comptez les clients non identifiés par wilaya\n",
    "non_identifies_par_wilaya = clients_non_identifies.groupby('PRVC').size().reset_index(name='Non_Identifies')\n",
    "identifies_par_wilaya = clients_identifies.groupby('PRVC').size().reset_index(name='Identifies')\n",
    "\n",
    "# Comptez les clients dans des points de vente agréés par wilaya\n",
    "points_vente_agrees_par_wilaya = clients_points_vente.groupby('PRVC').size().reset_index(name='Points_Vente_Agres')\n",
    "B2B_par_wilaya = clients_boutiquesB2B.groupby('PRVC').size().reset_index(name='B2B')\n",
    "#SMS_par_wilaya = Par_SMS.groupby('PRVC').size().reset_index(name='SMS')\n",
    "boutiques_par_wilaya = clients_boutiques.groupby('PRVC').size().reset_index(name='Boutiques')\n",
    "NA_wilaya = clients_NA.groupby('PRVC').size().reset_index(name='NA')\n",
    "\n",
    "# Comptez le total de clients par wilaya\n",
    "total_clients_par_wilaya = clients_non_identifies.groupby('PRVC').size().reset_index(name='Total_Clients')\n",
    "\n",
    "# Fusionnez les données par wilaya\n",
    "wilaya_data = non_identifies_par_wilaya.merge(points_vente_agrees_par_wilaya, on='PRVC', how='outer')\n",
    "wilaya_data = wilaya_data.merge(identifies_par_wilaya, on='PRVC', how='outer')\n",
    "wilaya_data = wilaya_data.merge(boutiques_par_wilaya, on='PRVC', how='outer')\n",
    "#wilaya_data = wilaya_data.merge(SMS_par_wilaya, on='PRVC', how='outer')\n",
    "wilaya_data = wilaya_data.merge(B2B_par_wilaya, on='PRVC', how='outer')\n",
    "wilaya_data = wilaya_data.merge(NA_wilaya, on='PRVC', how='outer')\n",
    "wilaya_data = wilaya_data.merge(total_clients_par_wilaya, on='PRVC', how='outer')\n",
    "\n",
    "# Calculez les pourcentages\n",
    "wilaya_data['Pourcentage_Non_Identifies'] = (wilaya_data['Non_Identifies'] / wilaya_data['Total_Clients']) * 100\n",
    "wilaya_data['Pourcentage_Points_Vente_Agres'] = (wilaya_data['Points_Vente_Agres'] / wilaya_data['Total_Clients']) * 100\n",
    "wilaya_data['Pourcentage_Boutiques'] = (wilaya_data['Boutiques'] / wilaya_data['Total_Clients']) * 100\n",
    "wilaya_data['Pourcentage_B2B'] = (wilaya_data['B2B'] / wilaya_data['Total_Clients']) * 100\n",
    "#wilaya_data['Pourcentage_SMS'] = (wilaya_data['SMS'] / wilaya_data['Total_Clients']) * 100\n",
    "wilaya_data['Pourcentage_NA'] = (wilaya_data['NA'] / wilaya_data['Total_Clients']) * 100\n",
    "\n",
    "# Géolocalisation\n",
    "geolocator = Nominatim(user_agent=\"mon_geocodeur\")\n",
    "\n",
    "# Créez la carte Folium\n",
    "ma_carte1 = folium.Map(location=[28.0339, 1.6596], zoom_start=6)\n",
    "\n",
    "geo_json_data = 'dza.geojson'\n",
    "folium.GeoJson(geo_json_data).add_to(ma_carte1)\n",
    "# Ajoutez des marqueurs pour chaque wilaya avec les informations\n",
    "for index, row in wilaya_data.iterrows():\n",
    "    wilaya = row['PRVC']\n",
    "    location = geolocator.geocode(f\"{wilaya}, Algérie\")\n",
    "    if location:\n",
    "        lat = location.latitude\n",
    "        lon = location.longitude\n",
    "        non_identifies = row['Non_Identifies']\n",
    "        colorr = get_marker_color(non_identifies)\n",
    "        identifies = row['Identifies']\n",
    "        pourcentage_points_vente_agres = row['Pourcentage_Points_Vente_Agres']\n",
    "        pourcentage_boutiques = row['Pourcentage_Boutiques']\n",
    "        #pourcentage_SMS = row['Pourcentage_SMS']\n",
    "        pourcentage_B2B = row['Pourcentage_B2B']\n",
    "        pourcentage_NA = row['Pourcentage_NA']\n",
    "        #pourcentage_NA = 100-pourcentage_points_vente_agres - pourcentage_boutiques - pourcentage_SMS - pourcentage_B2B\n",
    "        #popup_text = f'{wilaya}<br> Identifiés : {identifies}<br>Non Identifiés : {non_identifies}<br>% Points de Vente Agréés : {pourcentage_points_vente_agres:.2f}%<br>% Boutiques : {pourcentage_boutiques:.2f}%<br>% Boutique B2B : {pourcentage_B2B:.2f}%<br>%N/A : {pourcentage_NA:.2f}%'\n",
    "        popup_text = f\"\"\" <div style=\"text-align: center; font-family: Arial, sans-serif;\"> <h2 style=\"color: blue; font-size: 18px;\">{wilaya}</h2> <p style=\"color: green; font-size: 14px;\">Nombre de Personnes Identifiés : {identifies}</p> <p style=\"color: red; font-size: 14px;\">Nombre de Personnes Non Identifiés : {non_identifies}</p> <strong><p>% Points de Vente : {pourcentage_points_vente_agres:.2f}%</p></strong> <strong><p>% Boutiques : {pourcentage_boutiques:.2f}%</p></strong><strong> <p>% Boutique B2B : {pourcentage_B2B:.2f}%</p></strong> <strong> <p>%N/A : {pourcentage_NA:.2f}%</p></strong> </div> \"\"\"\n",
    "\n",
    "        popup_content = f\"\"\" <div style=\"text-align: center;\"> <h2>Infos sur la Wilaya</h2>  { popup_text } </div> \"\"\"\n",
    "\n",
    "        folium.Marker([lat, lon], tooltip=wilaya, popup=folium.Popup(popup_content, max_width=300),icon =folium.Icon(color=colorr)  ).add_to(ma_carte1)\n",
    "       \n",
    "        \n",
    "\n",
    "# Ajouter des marqueurs de localisation à la carte avec des couleurs basées sur le seuil\n",
    "\n",
    "\n",
    "\n",
    "ma_carte1\n"
   ]
  },
  {
   "cell_type": "code",
   "execution_count": null,
   "id": "2d515479-35ae-4ba5-88ac-55bf2c5c6a2e",
   "metadata": {},
   "outputs": [],
   "source": []
  },
  {
   "cell_type": "code",
   "execution_count": null,
   "id": "c880c403-948a-48dc-8cdc-3dd3958cfe25",
   "metadata": {},
   "outputs": [
    {
     "ename": "NameError",
     "evalue": "name 'bar_fig' is not defined",
     "output_type": "error",
     "traceback": [
      "\u001b[1;31m---------------------------------------------------------------------------\u001b[0m",
      "\u001b[1;31mNameError\u001b[0m                                 Traceback (most recent call last)",
      "Cell \u001b[1;32mIn[3], line 15\u001b[0m\n\u001b[0;32m     10\u001b[0m \u001b[38;5;28;01mwith\u001b[39;00m \u001b[38;5;28mopen\u001b[39m(\u001b[38;5;124m'\u001b[39m\u001b[38;5;124mmap.html\u001b[39m\u001b[38;5;124m'\u001b[39m, \u001b[38;5;124m'\u001b[39m\u001b[38;5;124mr\u001b[39m\u001b[38;5;124m'\u001b[39m) \u001b[38;5;28;01mas\u001b[39;00m f:\n\u001b[0;32m     11\u001b[0m     maphtml \u001b[38;5;241m=\u001b[39mf\u001b[38;5;241m.\u001b[39mread()\n\u001b[0;32m     12\u001b[0m app\u001b[38;5;241m.\u001b[39mlayout \u001b[38;5;241m=\u001b[39m html\u001b[38;5;241m.\u001b[39mDiv(\n\u001b[0;32m     13\u001b[0m children \u001b[38;5;241m=\u001b[39m [\n\u001b[0;32m     14\u001b[0m     html\u001b[38;5;241m.\u001b[39mH1(\u001b[38;5;124m\"\u001b[39m\u001b[38;5;124mTotal des revenue par region\u001b[39m\u001b[38;5;124m\"\u001b[39m),\n\u001b[1;32m---> 15\u001b[0m     html\u001b[38;5;241m.\u001b[39mDiv( dcc\u001b[38;5;241m.\u001b[39mGraph(figure\u001b[38;5;241m=\u001b[39m\u001b[43mbar_fig\u001b[49m)),\n\u001b[0;32m     16\u001b[0m \n\u001b[0;32m     17\u001b[0m     html\u001b[38;5;241m.\u001b[39mH2(\u001b[38;5;124m\"\u001b[39m\u001b[38;5;124mNombre de clients identifiés par année\u001b[39m\u001b[38;5;124m\"\u001b[39m),\n\u001b[0;32m     18\u001b[0m     html\u001b[38;5;241m.\u001b[39mDiv(dcc\u001b[38;5;241m.\u001b[39mGraph(figure\u001b[38;5;241m=\u001b[39mbar_fig2)),\n\u001b[0;32m     19\u001b[0m \n\u001b[0;32m     20\u001b[0m     html\u001b[38;5;241m.\u001b[39mH3(\u001b[38;5;124m\"\u001b[39m\u001b[38;5;124mLA carte avec les infos\u001b[39m\u001b[38;5;124m\"\u001b[39m),\n\u001b[0;32m     21\u001b[0m     html\u001b[38;5;241m.\u001b[39mDiv(dcc\u001b[38;5;241m.\u001b[39mGraph(\u001b[38;5;28mid\u001b[39m\u001b[38;5;241m=\u001b[39m\u001b[38;5;124m'\u001b[39m\u001b[38;5;124mma_carte1\u001b[39m\u001b[38;5;124m'\u001b[39m)),\n\u001b[0;32m     22\u001b[0m     html\u001b[38;5;241m.\u001b[39mDiv(dcc\u001b[38;5;241m.\u001b[39mMarkdown(maphtml, dangerously_allow_html\u001b[38;5;241m=\u001b[39m\u001b[38;5;28;01mTrue\u001b[39;00m)),\n\u001b[0;32m     23\u001b[0m     \n\u001b[0;32m     24\u001b[0m     \n\u001b[0;32m     25\u001b[0m ]\n\u001b[0;32m     26\u001b[0m )\n\u001b[0;32m     27\u001b[0m \u001b[38;5;28;01mif\u001b[39;00m \u001b[38;5;18m__name__\u001b[39m \u001b[38;5;241m==\u001b[39m \u001b[38;5;124m'\u001b[39m\u001b[38;5;124m__main__\u001b[39m\u001b[38;5;124m'\u001b[39m:\n\u001b[0;32m     28\u001b[0m     app\u001b[38;5;241m.\u001b[39mrun_server(debug\u001b[38;5;241m=\u001b[39m\u001b[38;5;28;01mTrue\u001b[39;00m, mode\u001b[38;5;241m=\u001b[39m\u001b[38;5;124m'\u001b[39m\u001b[38;5;124mexternal\u001b[39m\u001b[38;5;124m'\u001b[39m, port\u001b[38;5;241m=\u001b[39m\u001b[38;5;241m8080\u001b[39m)\n",
      "\u001b[1;31mNameError\u001b[0m: name 'bar_fig' is not defined"
     ]
    }
   ],
   "source": [
    "import webbrowser\n",
    "webbrowser.open_new('http://127.0.0.1:8080/')\n",
    "\n",
    "import dash\n",
    "from dash import dcc\n",
    "from dash import html\n",
    "from folium import IFrame\n",
    "app = dash.Dash(__name__)\n",
    "ma_carte1.save('map.html')\n",
    "with open('map.html', 'r') as f:\n",
    "    maphtml =f.read()\n",
    "app.layout = html.Div(\n",
    "children = [\n",
    "    html.H1(\"Total des revenue par region\"),\n",
    "    html.Div( dcc.Graph(figure=bar_fig)),\n",
    "\n",
    "    html.H2(\"Nombre de clients identifiés par année\"),\n",
    "    html.Div(dcc.Graph(figure=bar_fig2)),\n",
    "\n",
    "    html.H3(\"LA carte avec les infos\"),\n",
    "    html.Div(dcc.Graph(id='ma_carte1')),\n",
    "    html.Div(dcc.Markdown(maphtml, dangerously_allow_html=True)),\n",
    "    \n",
    "    \n",
    "]\n",
    ")\n",
    "if __name__ == '__main__':\n",
    "    app.run_server(debug=True, mode='external', port=8080)"
   ]
  },
  {
   "cell_type": "code",
   "execution_count": 10,
   "id": "ee2b5b3c",
   "metadata": {},
   "outputs": [
    {
     "data": {
      "application/vnd.plotly.v1+json": {
       "config": {
        "plotlyServerURL": "https://plot.ly"
       },
       "data": [
        {
         "alignmentgroup": "True",
         "hovertemplate": "BU=%{y}<br>Nombre d'utilisations=%{x}<extra></extra>",
         "legendgroup": "ALGER",
         "marker": {
          "color": "#636efa",
          "pattern": {
           "shape": ""
          }
         },
         "name": "ALGER",
         "offsetgroup": "ALGER",
         "orientation": "h",
         "showlegend": true,
         "textposition": "auto",
         "type": "bar",
         "x": [
          6498
         ],
         "xaxis": "x",
         "y": [
          "ALGER"
         ],
         "yaxis": "y"
        },
        {
         "alignmentgroup": "True",
         "hovertemplate": "BU=%{y}<br>Nombre d'utilisations=%{x}<extra></extra>",
         "legendgroup": "CENTRE",
         "marker": {
          "color": "#EF553B",
          "pattern": {
           "shape": ""
          }
         },
         "name": "CENTRE",
         "offsetgroup": "CENTRE",
         "orientation": "h",
         "showlegend": true,
         "textposition": "auto",
         "type": "bar",
         "x": [
          5892
         ],
         "xaxis": "x",
         "y": [
          "CENTRE"
         ],
         "yaxis": "y"
        },
        {
         "alignmentgroup": "True",
         "hovertemplate": "BU=%{y}<br>Nombre d'utilisations=%{x}<extra></extra>",
         "legendgroup": "CONSTANTINE",
         "marker": {
          "color": "#00cc96",
          "pattern": {
           "shape": ""
          }
         },
         "name": "CONSTANTINE",
         "offsetgroup": "CONSTANTINE",
         "orientation": "h",
         "showlegend": true,
         "textposition": "auto",
         "type": "bar",
         "x": [
          3936
         ],
         "xaxis": "x",
         "y": [
          "CONSTANTINE"
         ],
         "yaxis": "y"
        },
        {
         "alignmentgroup": "True",
         "hovertemplate": "BU=%{y}<br>Nombre d'utilisations=%{x}<extra></extra>",
         "legendgroup": "ORAN",
         "marker": {
          "color": "#ab63fa",
          "pattern": {
           "shape": ""
          }
         },
         "name": "ORAN",
         "offsetgroup": "ORAN",
         "orientation": "h",
         "showlegend": true,
         "textposition": "auto",
         "type": "bar",
         "x": [
          5370
         ],
         "xaxis": "x",
         "y": [
          "ORAN"
         ],
         "yaxis": "y"
        },
        {
         "alignmentgroup": "True",
         "hovertemplate": "BU=%{y}<br>Nombre d'utilisations=%{x}<extra></extra>",
         "legendgroup": "SETIF",
         "marker": {
          "color": "#FFA15A",
          "pattern": {
           "shape": ""
          }
         },
         "name": "SETIF",
         "offsetgroup": "SETIF",
         "orientation": "h",
         "showlegend": true,
         "textposition": "auto",
         "type": "bar",
         "x": [
          4686
         ],
         "xaxis": "x",
         "y": [
          "SETIF"
         ],
         "yaxis": "y"
        },
        {
         "alignmentgroup": "True",
         "hovertemplate": "BU=%{y}<br>Nombre d'utilisations=%{x}<extra></extra>",
         "legendgroup": "SUD",
         "marker": {
          "color": "#19d3f3",
          "pattern": {
           "shape": ""
          }
         },
         "name": "SUD",
         "offsetgroup": "SUD",
         "orientation": "h",
         "showlegend": true,
         "textposition": "auto",
         "type": "bar",
         "x": [
          1965
         ],
         "xaxis": "x",
         "y": [
          "SUD"
         ],
         "yaxis": "y"
        },
        {
         "alignmentgroup": "True",
         "hovertemplate": "BU=%{y}<br>Nombre d'utilisations=%{x}<extra></extra>",
         "legendgroup": "TLEMCEN",
         "marker": {
          "color": "#FF6692",
          "pattern": {
           "shape": ""
          }
         },
         "name": "TLEMCEN",
         "offsetgroup": "TLEMCEN",
         "orientation": "h",
         "showlegend": true,
         "textposition": "auto",
         "type": "bar",
         "x": [
          1480
         ],
         "xaxis": "x",
         "y": [
          "TLEMCEN"
         ],
         "yaxis": "y"
        }
       ],
       "layout": {
        "autosize": true,
        "barmode": "relative",
        "legend": {
         "title": {
          "text": "BU"
         },
         "tracegroupgap": 0
        },
        "template": {
         "data": {
          "bar": [
           {
            "error_x": {
             "color": "#2a3f5f"
            },
            "error_y": {
             "color": "#2a3f5f"
            },
            "marker": {
             "line": {
              "color": "#E5ECF6",
              "width": 0.5
             },
             "pattern": {
              "fillmode": "overlay",
              "size": 10,
              "solidity": 0.2
             }
            },
            "type": "bar"
           }
          ],
          "barpolar": [
           {
            "marker": {
             "line": {
              "color": "#E5ECF6",
              "width": 0.5
             },
             "pattern": {
              "fillmode": "overlay",
              "size": 10,
              "solidity": 0.2
             }
            },
            "type": "barpolar"
           }
          ],
          "carpet": [
           {
            "aaxis": {
             "endlinecolor": "#2a3f5f",
             "gridcolor": "white",
             "linecolor": "white",
             "minorgridcolor": "white",
             "startlinecolor": "#2a3f5f"
            },
            "baxis": {
             "endlinecolor": "#2a3f5f",
             "gridcolor": "white",
             "linecolor": "white",
             "minorgridcolor": "white",
             "startlinecolor": "#2a3f5f"
            },
            "type": "carpet"
           }
          ],
          "choropleth": [
           {
            "colorbar": {
             "outlinewidth": 0,
             "ticks": ""
            },
            "type": "choropleth"
           }
          ],
          "contour": [
           {
            "colorbar": {
             "outlinewidth": 0,
             "ticks": ""
            },
            "colorscale": [
             [
              0,
              "#0d0887"
             ],
             [
              0.1111111111111111,
              "#46039f"
             ],
             [
              0.2222222222222222,
              "#7201a8"
             ],
             [
              0.3333333333333333,
              "#9c179e"
             ],
             [
              0.4444444444444444,
              "#bd3786"
             ],
             [
              0.5555555555555556,
              "#d8576b"
             ],
             [
              0.6666666666666666,
              "#ed7953"
             ],
             [
              0.7777777777777778,
              "#fb9f3a"
             ],
             [
              0.8888888888888888,
              "#fdca26"
             ],
             [
              1,
              "#f0f921"
             ]
            ],
            "type": "contour"
           }
          ],
          "contourcarpet": [
           {
            "colorbar": {
             "outlinewidth": 0,
             "ticks": ""
            },
            "type": "contourcarpet"
           }
          ],
          "heatmap": [
           {
            "colorbar": {
             "outlinewidth": 0,
             "ticks": ""
            },
            "colorscale": [
             [
              0,
              "#0d0887"
             ],
             [
              0.1111111111111111,
              "#46039f"
             ],
             [
              0.2222222222222222,
              "#7201a8"
             ],
             [
              0.3333333333333333,
              "#9c179e"
             ],
             [
              0.4444444444444444,
              "#bd3786"
             ],
             [
              0.5555555555555556,
              "#d8576b"
             ],
             [
              0.6666666666666666,
              "#ed7953"
             ],
             [
              0.7777777777777778,
              "#fb9f3a"
             ],
             [
              0.8888888888888888,
              "#fdca26"
             ],
             [
              1,
              "#f0f921"
             ]
            ],
            "type": "heatmap"
           }
          ],
          "heatmapgl": [
           {
            "colorbar": {
             "outlinewidth": 0,
             "ticks": ""
            },
            "colorscale": [
             [
              0,
              "#0d0887"
             ],
             [
              0.1111111111111111,
              "#46039f"
             ],
             [
              0.2222222222222222,
              "#7201a8"
             ],
             [
              0.3333333333333333,
              "#9c179e"
             ],
             [
              0.4444444444444444,
              "#bd3786"
             ],
             [
              0.5555555555555556,
              "#d8576b"
             ],
             [
              0.6666666666666666,
              "#ed7953"
             ],
             [
              0.7777777777777778,
              "#fb9f3a"
             ],
             [
              0.8888888888888888,
              "#fdca26"
             ],
             [
              1,
              "#f0f921"
             ]
            ],
            "type": "heatmapgl"
           }
          ],
          "histogram": [
           {
            "marker": {
             "pattern": {
              "fillmode": "overlay",
              "size": 10,
              "solidity": 0.2
             }
            },
            "type": "histogram"
           }
          ],
          "histogram2d": [
           {
            "colorbar": {
             "outlinewidth": 0,
             "ticks": ""
            },
            "colorscale": [
             [
              0,
              "#0d0887"
             ],
             [
              0.1111111111111111,
              "#46039f"
             ],
             [
              0.2222222222222222,
              "#7201a8"
             ],
             [
              0.3333333333333333,
              "#9c179e"
             ],
             [
              0.4444444444444444,
              "#bd3786"
             ],
             [
              0.5555555555555556,
              "#d8576b"
             ],
             [
              0.6666666666666666,
              "#ed7953"
             ],
             [
              0.7777777777777778,
              "#fb9f3a"
             ],
             [
              0.8888888888888888,
              "#fdca26"
             ],
             [
              1,
              "#f0f921"
             ]
            ],
            "type": "histogram2d"
           }
          ],
          "histogram2dcontour": [
           {
            "colorbar": {
             "outlinewidth": 0,
             "ticks": ""
            },
            "colorscale": [
             [
              0,
              "#0d0887"
             ],
             [
              0.1111111111111111,
              "#46039f"
             ],
             [
              0.2222222222222222,
              "#7201a8"
             ],
             [
              0.3333333333333333,
              "#9c179e"
             ],
             [
              0.4444444444444444,
              "#bd3786"
             ],
             [
              0.5555555555555556,
              "#d8576b"
             ],
             [
              0.6666666666666666,
              "#ed7953"
             ],
             [
              0.7777777777777778,
              "#fb9f3a"
             ],
             [
              0.8888888888888888,
              "#fdca26"
             ],
             [
              1,
              "#f0f921"
             ]
            ],
            "type": "histogram2dcontour"
           }
          ],
          "mesh3d": [
           {
            "colorbar": {
             "outlinewidth": 0,
             "ticks": ""
            },
            "type": "mesh3d"
           }
          ],
          "parcoords": [
           {
            "line": {
             "colorbar": {
              "outlinewidth": 0,
              "ticks": ""
             }
            },
            "type": "parcoords"
           }
          ],
          "pie": [
           {
            "automargin": true,
            "type": "pie"
           }
          ],
          "scatter": [
           {
            "fillpattern": {
             "fillmode": "overlay",
             "size": 10,
             "solidity": 0.2
            },
            "type": "scatter"
           }
          ],
          "scatter3d": [
           {
            "line": {
             "colorbar": {
              "outlinewidth": 0,
              "ticks": ""
             }
            },
            "marker": {
             "colorbar": {
              "outlinewidth": 0,
              "ticks": ""
             }
            },
            "type": "scatter3d"
           }
          ],
          "scattercarpet": [
           {
            "marker": {
             "colorbar": {
              "outlinewidth": 0,
              "ticks": ""
             }
            },
            "type": "scattercarpet"
           }
          ],
          "scattergeo": [
           {
            "marker": {
             "colorbar": {
              "outlinewidth": 0,
              "ticks": ""
             }
            },
            "type": "scattergeo"
           }
          ],
          "scattergl": [
           {
            "marker": {
             "colorbar": {
              "outlinewidth": 0,
              "ticks": ""
             }
            },
            "type": "scattergl"
           }
          ],
          "scattermapbox": [
           {
            "marker": {
             "colorbar": {
              "outlinewidth": 0,
              "ticks": ""
             }
            },
            "type": "scattermapbox"
           }
          ],
          "scatterpolar": [
           {
            "marker": {
             "colorbar": {
              "outlinewidth": 0,
              "ticks": ""
             }
            },
            "type": "scatterpolar"
           }
          ],
          "scatterpolargl": [
           {
            "marker": {
             "colorbar": {
              "outlinewidth": 0,
              "ticks": ""
             }
            },
            "type": "scatterpolargl"
           }
          ],
          "scatterternary": [
           {
            "marker": {
             "colorbar": {
              "outlinewidth": 0,
              "ticks": ""
             }
            },
            "type": "scatterternary"
           }
          ],
          "surface": [
           {
            "colorbar": {
             "outlinewidth": 0,
             "ticks": ""
            },
            "colorscale": [
             [
              0,
              "#0d0887"
             ],
             [
              0.1111111111111111,
              "#46039f"
             ],
             [
              0.2222222222222222,
              "#7201a8"
             ],
             [
              0.3333333333333333,
              "#9c179e"
             ],
             [
              0.4444444444444444,
              "#bd3786"
             ],
             [
              0.5555555555555556,
              "#d8576b"
             ],
             [
              0.6666666666666666,
              "#ed7953"
             ],
             [
              0.7777777777777778,
              "#fb9f3a"
             ],
             [
              0.8888888888888888,
              "#fdca26"
             ],
             [
              1,
              "#f0f921"
             ]
            ],
            "type": "surface"
           }
          ],
          "table": [
           {
            "cells": {
             "fill": {
              "color": "#EBF0F8"
             },
             "line": {
              "color": "white"
             }
            },
            "header": {
             "fill": {
              "color": "#C8D4E3"
             },
             "line": {
              "color": "white"
             }
            },
            "type": "table"
           }
          ]
         },
         "layout": {
          "annotationdefaults": {
           "arrowcolor": "#2a3f5f",
           "arrowhead": 0,
           "arrowwidth": 1
          },
          "autotypenumbers": "strict",
          "coloraxis": {
           "colorbar": {
            "outlinewidth": 0,
            "ticks": ""
           }
          },
          "colorscale": {
           "diverging": [
            [
             0,
             "#8e0152"
            ],
            [
             0.1,
             "#c51b7d"
            ],
            [
             0.2,
             "#de77ae"
            ],
            [
             0.3,
             "#f1b6da"
            ],
            [
             0.4,
             "#fde0ef"
            ],
            [
             0.5,
             "#f7f7f7"
            ],
            [
             0.6,
             "#e6f5d0"
            ],
            [
             0.7,
             "#b8e186"
            ],
            [
             0.8,
             "#7fbc41"
            ],
            [
             0.9,
             "#4d9221"
            ],
            [
             1,
             "#276419"
            ]
           ],
           "sequential": [
            [
             0,
             "#0d0887"
            ],
            [
             0.1111111111111111,
             "#46039f"
            ],
            [
             0.2222222222222222,
             "#7201a8"
            ],
            [
             0.3333333333333333,
             "#9c179e"
            ],
            [
             0.4444444444444444,
             "#bd3786"
            ],
            [
             0.5555555555555556,
             "#d8576b"
            ],
            [
             0.6666666666666666,
             "#ed7953"
            ],
            [
             0.7777777777777778,
             "#fb9f3a"
            ],
            [
             0.8888888888888888,
             "#fdca26"
            ],
            [
             1,
             "#f0f921"
            ]
           ],
           "sequentialminus": [
            [
             0,
             "#0d0887"
            ],
            [
             0.1111111111111111,
             "#46039f"
            ],
            [
             0.2222222222222222,
             "#7201a8"
            ],
            [
             0.3333333333333333,
             "#9c179e"
            ],
            [
             0.4444444444444444,
             "#bd3786"
            ],
            [
             0.5555555555555556,
             "#d8576b"
            ],
            [
             0.6666666666666666,
             "#ed7953"
            ],
            [
             0.7777777777777778,
             "#fb9f3a"
            ],
            [
             0.8888888888888888,
             "#fdca26"
            ],
            [
             1,
             "#f0f921"
            ]
           ]
          },
          "colorway": [
           "#636efa",
           "#EF553B",
           "#00cc96",
           "#ab63fa",
           "#FFA15A",
           "#19d3f3",
           "#FF6692",
           "#B6E880",
           "#FF97FF",
           "#FECB52"
          ],
          "font": {
           "color": "#2a3f5f"
          },
          "geo": {
           "bgcolor": "white",
           "lakecolor": "white",
           "landcolor": "#E5ECF6",
           "showlakes": true,
           "showland": true,
           "subunitcolor": "white"
          },
          "hoverlabel": {
           "align": "left"
          },
          "hovermode": "closest",
          "mapbox": {
           "style": "light"
          },
          "paper_bgcolor": "white",
          "plot_bgcolor": "#E5ECF6",
          "polar": {
           "angularaxis": {
            "gridcolor": "white",
            "linecolor": "white",
            "ticks": ""
           },
           "bgcolor": "#E5ECF6",
           "radialaxis": {
            "gridcolor": "white",
            "linecolor": "white",
            "ticks": ""
           }
          },
          "scene": {
           "xaxis": {
            "backgroundcolor": "#E5ECF6",
            "gridcolor": "white",
            "gridwidth": 2,
            "linecolor": "white",
            "showbackground": true,
            "ticks": "",
            "zerolinecolor": "white"
           },
           "yaxis": {
            "backgroundcolor": "#E5ECF6",
            "gridcolor": "white",
            "gridwidth": 2,
            "linecolor": "white",
            "showbackground": true,
            "ticks": "",
            "zerolinecolor": "white"
           },
           "zaxis": {
            "backgroundcolor": "#E5ECF6",
            "gridcolor": "white",
            "gridwidth": 2,
            "linecolor": "white",
            "showbackground": true,
            "ticks": "",
            "zerolinecolor": "white"
           }
          },
          "shapedefaults": {
           "line": {
            "color": "#2a3f5f"
           }
          },
          "ternary": {
           "aaxis": {
            "gridcolor": "white",
            "linecolor": "white",
            "ticks": ""
           },
           "baxis": {
            "gridcolor": "white",
            "linecolor": "white",
            "ticks": ""
           },
           "bgcolor": "#E5ECF6",
           "caxis": {
            "gridcolor": "white",
            "linecolor": "white",
            "ticks": ""
           }
          },
          "title": {
           "x": 0.05
          },
          "xaxis": {
           "automargin": true,
           "gridcolor": "white",
           "linecolor": "white",
           "ticks": "",
           "title": {
            "standoff": 15
           },
           "zerolinecolor": "white",
           "zerolinewidth": 2
          },
          "yaxis": {
           "automargin": true,
           "gridcolor": "white",
           "linecolor": "white",
           "ticks": "",
           "title": {
            "standoff": 15
           },
           "zerolinecolor": "white",
           "zerolinewidth": 2
          }
         }
        },
        "title": {
         "text": "Nombre d'utilisations de l'offre \"HAYLA BEZZEF\" par région"
        },
        "xaxis": {
         "anchor": "y",
         "autorange": true,
         "domain": [
          0,
          1
         ],
         "range": [
          0,
          6840
         ],
         "title": {
          "text": "Nombre d'utilisations"
         },
         "type": "linear"
        },
        "yaxis": {
         "anchor": "x",
         "autorange": true,
         "categoryarray": [
          "TLEMCEN",
          "SUD",
          "SETIF",
          "ORAN",
          "CONSTANTINE",
          "CENTRE",
          "ALGER"
         ],
         "categoryorder": "array",
         "domain": [
          0,
          1
         ],
         "range": [
          -0.5,
          6.5
         ],
         "title": {
          "text": "BU"
         },
         "type": "category"
        }
       }
      },
      "image/png": "[encoded data removed]"
     },
     "metadata": {},
     "output_type": "display_data"
    }
   ],
   "source": [
    "# Filtrer le DataFrame pour inclure uniquement l'offre \"HAYLA BZEF\"\n",
    "offre_hayla_bzef = df[df['OFFNG_TRF_PRFL'].str.contains('HAYLA BEZZEF')]\n",
    "\n",
    "# Créez un DataFrame avec le nombre d'utilisations de l'offre \"HAYLA BZEF\" par région\n",
    "usage_offre_hayla_bzef_par_region = offre_hayla_bzef.groupby(['BU']).size().reset_index(name='Nombre d\\'utilisations')\n",
    "\n",
    "# Créez le graphique à barres\n",
    "bar_fig_offre_hayla_bzef = px.bar(\n",
    "    data_frame=usage_offre_hayla_bzef_par_region,\n",
    "    x='Nombre d\\'utilisations',\n",
    "    y='BU',\n",
    "    title='Nombre d\\'utilisations de l\\'offre \"HAYLA BEZZEF\" par région',\n",
    "    color='BU'\n",
    ")\n",
    "\n",
    "bar_fig_offre_hayla_bzef.show()"
   ]
  },
  {
   "cell_type": "code",
   "execution_count": 11,
   "id": "ab7a2352",
   "metadata": {},
   "outputs": [
    {
     "data": {
      "application/vnd.plotly.v1+json": {
       "config": {
        "plotlyServerURL": "https://plot.ly"
       },
       "data": [
        {
         "alignmentgroup": "True",
         "hovertemplate": "BU=%{y}<br>Nombre d'utilisations=%{x}<extra></extra>",
         "legendgroup": "ALGER",
         "marker": {
          "color": "#636efa",
          "pattern": {
           "shape": ""
          }
         },
         "name": "ALGER",
         "offsetgroup": "ALGER",
         "orientation": "h",
         "showlegend": true,
         "textposition": "auto",
         "type": "bar",
         "x": [
          1685
         ],
         "xaxis": "x",
         "y": [
          "ALGER"
         ],
         "yaxis": "y"
        },
        {
         "alignmentgroup": "True",
         "hovertemplate": "BU=%{y}<br>Nombre d'utilisations=%{x}<extra></extra>",
         "legendgroup": "CENTRE",
         "marker": {
          "color": "#EF553B",
          "pattern": {
           "shape": ""
          }
         },
         "name": "CENTRE",
         "offsetgroup": "CENTRE",
         "orientation": "h",
         "showlegend": true,
         "textposition": "auto",
         "type": "bar",
         "x": [
          1952
         ],
         "xaxis": "x",
         "y": [
          "CENTRE"
         ],
         "yaxis": "y"
        },
        {
         "alignmentgroup": "True",
         "hovertemplate": "BU=%{y}<br>Nombre d'utilisations=%{x}<extra></extra>",
         "legendgroup": "CONSTANTINE",
         "marker": {
          "color": "#00cc96",
          "pattern": {
           "shape": ""
          }
         },
         "name": "CONSTANTINE",
         "offsetgroup": "CONSTANTINE",
         "orientation": "h",
         "showlegend": true,
         "textposition": "auto",
         "type": "bar",
         "x": [
          1589
         ],
         "xaxis": "x",
         "y": [
          "CONSTANTINE"
         ],
         "yaxis": "y"
        },
        {
         "alignmentgroup": "True",
         "hovertemplate": "BU=%{y}<br>Nombre d'utilisations=%{x}<extra></extra>",
         "legendgroup": "ORAN",
         "marker": {
          "color": "#ab63fa",
          "pattern": {
           "shape": ""
          }
         },
         "name": "ORAN",
         "offsetgroup": "ORAN",
         "orientation": "h",
         "showlegend": true,
         "textposition": "auto",
         "type": "bar",
         "x": [
          2065
         ],
         "xaxis": "x",
         "y": [
          "ORAN"
         ],
         "yaxis": "y"
        },
        {
         "alignmentgroup": "True",
         "hovertemplate": "BU=%{y}<br>Nombre d'utilisations=%{x}<extra></extra>",
         "legendgroup": "SETIF",
         "marker": {
          "color": "#FFA15A",
          "pattern": {
           "shape": ""
          }
         },
         "name": "SETIF",
         "offsetgroup": "SETIF",
         "orientation": "h",
         "showlegend": true,
         "textposition": "auto",
         "type": "bar",
         "x": [
          1614
         ],
         "xaxis": "x",
         "y": [
          "SETIF"
         ],
         "yaxis": "y"
        },
        {
         "alignmentgroup": "True",
         "hovertemplate": "BU=%{y}<br>Nombre d'utilisations=%{x}<extra></extra>",
         "legendgroup": "SUD",
         "marker": {
          "color": "#19d3f3",
          "pattern": {
           "shape": ""
          }
         },
         "name": "SUD",
         "offsetgroup": "SUD",
         "orientation": "h",
         "showlegend": true,
         "textposition": "auto",
         "type": "bar",
         "x": [
          783
         ],
         "xaxis": "x",
         "y": [
          "SUD"
         ],
         "yaxis": "y"
        },
        {
         "alignmentgroup": "True",
         "hovertemplate": "BU=%{y}<br>Nombre d'utilisations=%{x}<extra></extra>",
         "legendgroup": "TLEMCEN",
         "marker": {
          "color": "#FF6692",
          "pattern": {
           "shape": ""
          }
         },
         "name": "TLEMCEN",
         "offsetgroup": "TLEMCEN",
         "orientation": "h",
         "showlegend": true,
         "textposition": "auto",
         "type": "bar",
         "x": [
          564
         ],
         "xaxis": "x",
         "y": [
          "TLEMCEN"
         ],
         "yaxis": "y"
        }
       ],
       "layout": {
        "autosize": true,
        "barmode": "relative",
        "legend": {
         "title": {
          "text": "BU"
         },
         "tracegroupgap": 0
        },
        "template": {
         "data": {
          "bar": [
           {
            "error_x": {
             "color": "#2a3f5f"
            },
            "error_y": {
             "color": "#2a3f5f"
            },
            "marker": {
             "line": {
              "color": "#E5ECF6",
              "width": 0.5
             },
             "pattern": {
              "fillmode": "overlay",
              "size": 10,
              "solidity": 0.2
             }
            },
            "type": "bar"
           }
          ],
          "barpolar": [
           {
            "marker": {
             "line": {
              "color": "#E5ECF6",
              "width": 0.5
             },
             "pattern": {
              "fillmode": "overlay",
              "size": 10,
              "solidity": 0.2
             }
            },
            "type": "barpolar"
           }
          ],
          "carpet": [
           {
            "aaxis": {
             "endlinecolor": "#2a3f5f",
             "gridcolor": "white",
             "linecolor": "white",
             "minorgridcolor": "white",
             "startlinecolor": "#2a3f5f"
            },
            "baxis": {
             "endlinecolor": "#2a3f5f",
             "gridcolor": "white",
             "linecolor": "white",
             "minorgridcolor": "white",
             "startlinecolor": "#2a3f5f"
            },
            "type": "carpet"
           }
          ],
          "choropleth": [
           {
            "colorbar": {
             "outlinewidth": 0,
             "ticks": ""
            },
            "type": "choropleth"
           }
          ],
          "contour": [
           {
            "colorbar": {
             "outlinewidth": 0,
             "ticks": ""
            },
            "colorscale": [
             [
              0,
              "#0d0887"
             ],
             [
              0.1111111111111111,
              "#46039f"
             ],
             [
              0.2222222222222222,
              "#7201a8"
             ],
             [
              0.3333333333333333,
              "#9c179e"
             ],
             [
              0.4444444444444444,
              "#bd3786"
             ],
             [
              0.5555555555555556,
              "#d8576b"
             ],
             [
              0.6666666666666666,
              "#ed7953"
             ],
             [
              0.7777777777777778,
              "#fb9f3a"
             ],
             [
              0.8888888888888888,
              "#fdca26"
             ],
             [
              1,
              "#f0f921"
             ]
            ],
            "type": "contour"
           }
          ],
          "contourcarpet": [
           {
            "colorbar": {
             "outlinewidth": 0,
             "ticks": ""
            },
            "type": "contourcarpet"
           }
          ],
          "heatmap": [
           {
            "colorbar": {
             "outlinewidth": 0,
             "ticks": ""
            },
            "colorscale": [
             [
              0,
              "#0d0887"
             ],
             [
              0.1111111111111111,
              "#46039f"
             ],
             [
              0.2222222222222222,
              "#7201a8"
             ],
             [
              0.3333333333333333,
              "#9c179e"
             ],
             [
              0.4444444444444444,
              "#bd3786"
             ],
             [
              0.5555555555555556,
              "#d8576b"
             ],
             [
              0.6666666666666666,
              "#ed7953"
             ],
             [
              0.7777777777777778,
              "#fb9f3a"
             ],
             [
              0.8888888888888888,
              "#fdca26"
             ],
             [
              1,
              "#f0f921"
             ]
            ],
            "type": "heatmap"
           }
          ],
          "heatmapgl": [
           {
            "colorbar": {
             "outlinewidth": 0,
             "ticks": ""
            },
            "colorscale": [
             [
              0,
              "#0d0887"
             ],
             [
              0.1111111111111111,
              "#46039f"
             ],
             [
              0.2222222222222222,
              "#7201a8"
             ],
             [
              0.3333333333333333,
              "#9c179e"
             ],
             [
              0.4444444444444444,
              "#bd3786"
             ],
             [
              0.5555555555555556,
              "#d8576b"
             ],
             [
              0.6666666666666666,
              "#ed7953"
             ],
             [
              0.7777777777777778,
              "#fb9f3a"
             ],
             [
              0.8888888888888888,
              "#fdca26"
             ],
             [
              1,
              "#f0f921"
             ]
            ],
            "type": "heatmapgl"
           }
          ],
          "histogram": [
           {
            "marker": {
             "pattern": {
              "fillmode": "overlay",
              "size": 10,
              "solidity": 0.2
             }
            },
            "type": "histogram"
           }
          ],
          "histogram2d": [
           {
            "colorbar": {
             "outlinewidth": 0,
             "ticks": ""
            },
            "colorscale": [
             [
              0,
              "#0d0887"
             ],
             [
              0.1111111111111111,
              "#46039f"
             ],
             [
              0.2222222222222222,
              "#7201a8"
             ],
             [
              0.3333333333333333,
              "#9c179e"
             ],
             [
              0.4444444444444444,
              "#bd3786"
             ],
             [
              0.5555555555555556,
              "#d8576b"
             ],
             [
              0.6666666666666666,
              "#ed7953"
             ],
             [
              0.7777777777777778,
              "#fb9f3a"
             ],
             [
              0.8888888888888888,
              "#fdca26"
             ],
             [
              1,
              "#f0f921"
             ]
            ],
            "type": "histogram2d"
           }
          ],
          "histogram2dcontour": [
           {
            "colorbar": {
             "outlinewidth": 0,
             "ticks": ""
            },
            "colorscale": [
             [
              0,
              "#0d0887"
             ],
             [
              0.1111111111111111,
              "#46039f"
             ],
             [
              0.2222222222222222,
              "#7201a8"
             ],
             [
              0.3333333333333333,
              "#9c179e"
             ],
             [
              0.4444444444444444,
              "#bd3786"
             ],
             [
              0.5555555555555556,
              "#d8576b"
             ],
             [
              0.6666666666666666,
              "#ed7953"
             ],
             [
              0.7777777777777778,
              "#fb9f3a"
             ],
             [
              0.8888888888888888,
              "#fdca26"
             ],
             [
              1,
              "#f0f921"
             ]
            ],
            "type": "histogram2dcontour"
           }
          ],
          "mesh3d": [
           {
            "colorbar": {
             "outlinewidth": 0,
             "ticks": ""
            },
            "type": "mesh3d"
           }
          ],
          "parcoords": [
           {
            "line": {
             "colorbar": {
              "outlinewidth": 0,
              "ticks": ""
             }
            },
            "type": "parcoords"
           }
          ],
          "pie": [
           {
            "automargin": true,
            "type": "pie"
           }
          ],
          "scatter": [
           {
            "fillpattern": {
             "fillmode": "overlay",
             "size": 10,
             "solidity": 0.2
            },
            "type": "scatter"
           }
          ],
          "scatter3d": [
           {
            "line": {
             "colorbar": {
              "outlinewidth": 0,
              "ticks": ""
             }
            },
            "marker": {
             "colorbar": {
              "outlinewidth": 0,
              "ticks": ""
             }
            },
            "type": "scatter3d"
           }
          ],
          "scattercarpet": [
           {
            "marker": {
             "colorbar": {
              "outlinewidth": 0,
              "ticks": ""
             }
            },
            "type": "scattercarpet"
           }
          ],
          "scattergeo": [
           {
            "marker": {
             "colorbar": {
              "outlinewidth": 0,
              "ticks": ""
             }
            },
            "type": "scattergeo"
           }
          ],
          "scattergl": [
           {
            "marker": {
             "colorbar": {
              "outlinewidth": 0,
              "ticks": ""
             }
            },
            "type": "scattergl"
           }
          ],
          "scattermapbox": [
           {
            "marker": {
             "colorbar": {
              "outlinewidth": 0,
              "ticks": ""
             }
            },
            "type": "scattermapbox"
           }
          ],
          "scatterpolar": [
           {
            "marker": {
             "colorbar": {
              "outlinewidth": 0,
              "ticks": ""
             }
            },
            "type": "scatterpolar"
           }
          ],
          "scatterpolargl": [
           {
            "marker": {
             "colorbar": {
              "outlinewidth": 0,
              "ticks": ""
             }
            },
            "type": "scatterpolargl"
           }
          ],
          "scatterternary": [
           {
            "marker": {
             "colorbar": {
              "outlinewidth": 0,
              "ticks": ""
             }
            },
            "type": "scatterternary"
           }
          ],
          "surface": [
           {
            "colorbar": {
             "outlinewidth": 0,
             "ticks": ""
            },
            "colorscale": [
             [
              0,
              "#0d0887"
             ],
             [
              0.1111111111111111,
              "#46039f"
             ],
             [
              0.2222222222222222,
              "#7201a8"
             ],
             [
              0.3333333333333333,
              "#9c179e"
             ],
             [
              0.4444444444444444,
              "#bd3786"
             ],
             [
              0.5555555555555556,
              "#d8576b"
             ],
             [
              0.6666666666666666,
              "#ed7953"
             ],
             [
              0.7777777777777778,
              "#fb9f3a"
             ],
             [
              0.8888888888888888,
              "#fdca26"
             ],
             [
              1,
              "#f0f921"
             ]
            ],
            "type": "surface"
           }
          ],
          "table": [
           {
            "cells": {
             "fill": {
              "color": "#EBF0F8"
             },
             "line": {
              "color": "white"
             }
            },
            "header": {
             "fill": {
              "color": "#C8D4E3"
             },
             "line": {
              "color": "white"
             }
            },
            "type": "table"
           }
          ]
         },
         "layout": {
          "annotationdefaults": {
           "arrowcolor": "#2a3f5f",
           "arrowhead": 0,
           "arrowwidth": 1
          },
          "autotypenumbers": "strict",
          "coloraxis": {
           "colorbar": {
            "outlinewidth": 0,
            "ticks": ""
           }
          },
          "colorscale": {
           "diverging": [
            [
             0,
             "#8e0152"
            ],
            [
             0.1,
             "#c51b7d"
            ],
            [
             0.2,
             "#de77ae"
            ],
            [
             0.3,
             "#f1b6da"
            ],
            [
             0.4,
             "#fde0ef"
            ],
            [
             0.5,
             "#f7f7f7"
            ],
            [
             0.6,
             "#e6f5d0"
            ],
            [
             0.7,
             "#b8e186"
            ],
            [
             0.8,
             "#7fbc41"
            ],
            [
             0.9,
             "#4d9221"
            ],
            [
             1,
             "#276419"
            ]
           ],
           "sequential": [
            [
             0,
             "#0d0887"
            ],
            [
             0.1111111111111111,
             "#46039f"
            ],
            [
             0.2222222222222222,
             "#7201a8"
            ],
            [
             0.3333333333333333,
             "#9c179e"
            ],
            [
             0.4444444444444444,
             "#bd3786"
            ],
            [
             0.5555555555555556,
             "#d8576b"
            ],
            [
             0.6666666666666666,
             "#ed7953"
            ],
            [
             0.7777777777777778,
             "#fb9f3a"
            ],
            [
             0.8888888888888888,
             "#fdca26"
            ],
            [
             1,
             "#f0f921"
            ]
           ],
           "sequentialminus": [
            [
             0,
             "#0d0887"
            ],
            [
             0.1111111111111111,
             "#46039f"
            ],
            [
             0.2222222222222222,
             "#7201a8"
            ],
            [
             0.3333333333333333,
             "#9c179e"
            ],
            [
             0.4444444444444444,
             "#bd3786"
            ],
            [
             0.5555555555555556,
             "#d8576b"
            ],
            [
             0.6666666666666666,
             "#ed7953"
            ],
            [
             0.7777777777777778,
             "#fb9f3a"
            ],
            [
             0.8888888888888888,
             "#fdca26"
            ],
            [
             1,
             "#f0f921"
            ]
           ]
          },
          "colorway": [
           "#636efa",
           "#EF553B",
           "#00cc96",
           "#ab63fa",
           "#FFA15A",
           "#19d3f3",
           "#FF6692",
           "#B6E880",
           "#FF97FF",
           "#FECB52"
          ],
          "font": {
           "color": "#2a3f5f"
          },
          "geo": {
           "bgcolor": "white",
           "lakecolor": "white",
           "landcolor": "#E5ECF6",
           "showlakes": true,
           "showland": true,
           "subunitcolor": "white"
          },
          "hoverlabel": {
           "align": "left"
          },
          "hovermode": "closest",
          "mapbox": {
           "style": "light"
          },
          "paper_bgcolor": "white",
          "plot_bgcolor": "#E5ECF6",
          "polar": {
           "angularaxis": {
            "gridcolor": "white",
            "linecolor": "white",
            "ticks": ""
           },
           "bgcolor": "#E5ECF6",
           "radialaxis": {
            "gridcolor": "white",
            "linecolor": "white",
            "ticks": ""
           }
          },
          "scene": {
           "xaxis": {
            "backgroundcolor": "#E5ECF6",
            "gridcolor": "white",
            "gridwidth": 2,
            "linecolor": "white",
            "showbackground": true,
            "ticks": "",
            "zerolinecolor": "white"
           },
           "yaxis": {
            "backgroundcolor": "#E5ECF6",
            "gridcolor": "white",
            "gridwidth": 2,
            "linecolor": "white",
            "showbackground": true,
            "ticks": "",
            "zerolinecolor": "white"
           },
           "zaxis": {
            "backgroundcolor": "#E5ECF6",
            "gridcolor": "white",
            "gridwidth": 2,
            "linecolor": "white",
            "showbackground": true,
            "ticks": "",
            "zerolinecolor": "white"
           }
          },
          "shapedefaults": {
           "line": {
            "color": "#2a3f5f"
           }
          },
          "ternary": {
           "aaxis": {
            "gridcolor": "white",
            "linecolor": "white",
            "ticks": ""
           },
           "baxis": {
            "gridcolor": "white",
            "linecolor": "white",
            "ticks": ""
           },
           "bgcolor": "#E5ECF6",
           "caxis": {
            "gridcolor": "white",
            "linecolor": "white",
            "ticks": ""
           }
          },
          "title": {
           "x": 0.05
          },
          "xaxis": {
           "automargin": true,
           "gridcolor": "white",
           "linecolor": "white",
           "ticks": "",
           "title": {
            "standoff": 15
           },
           "zerolinecolor": "white",
           "zerolinewidth": 2
          },
          "yaxis": {
           "automargin": true,
           "gridcolor": "white",
           "linecolor": "white",
           "ticks": "",
           "title": {
            "standoff": 15
           },
           "zerolinecolor": "white",
           "zerolinewidth": 2
          }
         }
        },
        "title": {
         "text": "Nombre d'utilisations de l'offre \"HAYLA MAXI\" par région"
        },
        "xaxis": {
         "anchor": "y",
         "autorange": true,
         "domain": [
          0,
          1
         ],
         "range": [
          0,
          2173.684210526316
         ],
         "title": {
          "text": "Nombre d'utilisations"
         },
         "type": "linear"
        },
        "yaxis": {
         "anchor": "x",
         "autorange": true,
         "categoryarray": [
          "TLEMCEN",
          "SUD",
          "SETIF",
          "ORAN",
          "CONSTANTINE",
          "CENTRE",
          "ALGER"
         ],
         "categoryorder": "array",
         "domain": [
          0,
          1
         ],
         "range": [
          -0.5,
          6.5
         ],
         "title": {
          "text": "BU"
         },
         "type": "category"
        }
       }
      },
      "image/png": "[encoded data removed]"
     },
     "metadata": {},
     "output_type": "display_data"
    }
   ],
   "source": [
    "# Filtrer le DataFrame pour inclure uniquement l'offre \"HAYLA maxi\"\n",
    "offre_hayla_maxi = df[df['OFFNG_TRF_PRFL'].str.contains('HAYLA MAXI')]\n",
    "\n",
    "# Créez un DataFrame avec le nombre d'utilisations de l'offre \"HAYLA maxi\" par région\n",
    "usage_offre_hayla_maxi_par_region = offre_hayla_maxi.groupby(['BU']).size().reset_index(name='Nombre d\\'utilisations')\n",
    "\n",
    "# Créez le graphique à barres\n",
    "bar_fig_offre_hayla_maxi = px.bar(\n",
    "    data_frame=usage_offre_hayla_maxi_par_region,\n",
    "    x='Nombre d\\'utilisations',\n",
    "    y='BU',\n",
    "    title='Nombre d\\'utilisations de l\\'offre \"HAYLA MAXI\" par région',\n",
    "    color='BU'\n",
    ")\n",
    "\n",
    "bar_fig_offre_hayla_maxi.show()"
   ]
  }
 ],
 "metadata": {
  "kernelspec": {
   "display_name": "Python 3 (ipykernel)",
   "language": "python",
   "name": "python3"
  },
  "language_info": {
   "codemirror_mode": {
    "name": "ipython",
    "version": 3
   },
   "file_extension": ".py",
   "mimetype": "text/x-python",
   "name": "python",
   "nbconvert_exporter": "python",
   "pygments_lexer": "ipython3",
   "version": "3.11.5"
  }
 },
 "nbformat": 4,
 "nbformat_minor": 5
}
